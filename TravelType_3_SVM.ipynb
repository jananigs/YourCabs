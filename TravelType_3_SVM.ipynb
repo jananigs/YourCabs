{
 "cells": [
  {
   "cell_type": "code",
   "execution_count": 1,
   "id": "4913a275",
   "metadata": {
    "executionInfo": {
     "elapsed": 414,
     "status": "ok",
     "timestamp": 1703156855026,
     "user": {
      "displayName": "Gowrishankar R",
      "userId": "12173064338158270855"
     },
     "user_tz": -330
    },
    "id": "4913a275"
   },
   "outputs": [],
   "source": [
    "%matplotlib inline\n",
    "#!pip install imblearn  ## UNCOMMENT when running for the first time\n",
    "import time\n",
    "import numpy as np\n",
    "import pandas as pd\n",
    "import matplotlib.pyplot as plt\n",
    "from datetime import datetime\n",
    "import seaborn as sns\n",
    "from sklearn.model_selection import train_test_split, GridSearchCV, cross_val_score\n",
    "from sklearn.metrics import confusion_matrix, classification_report\n",
    "from sklearn.metrics import accuracy_score\n",
    "from sklearn.metrics import roc_curve, roc_auc_score, f1_score, auc, make_scorer\n",
    "\n",
    "pd.set_option('display.max_columns',25)  # to show all the columns while printing the df\n",
    "pd.set_option('display.max_rows',25)  # to show all the rows while printing the df"
   ]
  },
  {
   "cell_type": "markdown",
   "id": "0399b40b",
   "metadata": {
    "id": "0399b40b"
   },
   "source": [
    "### Load the data"
   ]
  },
  {
   "cell_type": "code",
   "execution_count": 2,
   "id": "2ac6c884",
   "metadata": {
    "colab": {
     "base_uri": "https://localhost:8080/",
     "height": 455
    },
    "executionInfo": {
     "elapsed": 92413,
     "status": "ok",
     "timestamp": 1703156948700,
     "user": {
      "displayName": "Gowrishankar R",
      "userId": "12173064338158270855"
     },
     "user_tz": -330
    },
    "id": "2ac6c884",
    "outputId": "2a9b7711-ff9b-4333-f98f-2a0b7cdf8f6c"
   },
   "outputs": [
    {
     "data": {
      "text/html": [
       "<div>\n",
       "<style scoped>\n",
       "    .dataframe tbody tr th:only-of-type {\n",
       "        vertical-align: middle;\n",
       "    }\n",
       "\n",
       "    .dataframe tbody tr th {\n",
       "        vertical-align: top;\n",
       "    }\n",
       "\n",
       "    .dataframe thead th {\n",
       "        text-align: right;\n",
       "    }\n",
       "</style>\n",
       "<table border=\"1\" class=\"dataframe\">\n",
       "  <thead>\n",
       "    <tr style=\"text-align: right;\">\n",
       "      <th></th>\n",
       "      <th>id</th>\n",
       "      <th>user_id</th>\n",
       "      <th>vehicle_model_id</th>\n",
       "      <th>package_id</th>\n",
       "      <th>travel_type_id</th>\n",
       "      <th>from_area_id</th>\n",
       "      <th>to_area_id</th>\n",
       "      <th>from_city_id</th>\n",
       "      <th>to_city_id</th>\n",
       "      <th>from_date</th>\n",
       "      <th>online_booking</th>\n",
       "      <th>mobile_site_booking</th>\n",
       "      <th>booking_created</th>\n",
       "      <th>from_lat</th>\n",
       "      <th>from_long</th>\n",
       "      <th>to_lat</th>\n",
       "      <th>to_long</th>\n",
       "      <th>Car_Cancellation</th>\n",
       "    </tr>\n",
       "  </thead>\n",
       "  <tbody>\n",
       "    <tr>\n",
       "      <th>0</th>\n",
       "      <td>132512</td>\n",
       "      <td>22177</td>\n",
       "      <td>28</td>\n",
       "      <td>NaN</td>\n",
       "      <td>2</td>\n",
       "      <td>83.0</td>\n",
       "      <td>448.0</td>\n",
       "      <td>NaN</td>\n",
       "      <td>NaN</td>\n",
       "      <td>01-01-2013 02:00</td>\n",
       "      <td>0</td>\n",
       "      <td>0</td>\n",
       "      <td>01-01-2013 01:39</td>\n",
       "      <td>12.924150</td>\n",
       "      <td>77.672290</td>\n",
       "      <td>12.927320</td>\n",
       "      <td>77.635750</td>\n",
       "      <td>0</td>\n",
       "    </tr>\n",
       "    <tr>\n",
       "      <th>1</th>\n",
       "      <td>132513</td>\n",
       "      <td>21413</td>\n",
       "      <td>12</td>\n",
       "      <td>NaN</td>\n",
       "      <td>2</td>\n",
       "      <td>1010.0</td>\n",
       "      <td>540.0</td>\n",
       "      <td>NaN</td>\n",
       "      <td>NaN</td>\n",
       "      <td>01-01-2013 09:00</td>\n",
       "      <td>0</td>\n",
       "      <td>0</td>\n",
       "      <td>01-01-2013 02:25</td>\n",
       "      <td>12.966910</td>\n",
       "      <td>77.749350</td>\n",
       "      <td>12.927680</td>\n",
       "      <td>77.626640</td>\n",
       "      <td>0</td>\n",
       "    </tr>\n",
       "    <tr>\n",
       "      <th>2</th>\n",
       "      <td>132514</td>\n",
       "      <td>22178</td>\n",
       "      <td>12</td>\n",
       "      <td>NaN</td>\n",
       "      <td>2</td>\n",
       "      <td>1301.0</td>\n",
       "      <td>1034.0</td>\n",
       "      <td>NaN</td>\n",
       "      <td>NaN</td>\n",
       "      <td>01-01-2013 03:30</td>\n",
       "      <td>0</td>\n",
       "      <td>0</td>\n",
       "      <td>01-01-2013 03:08</td>\n",
       "      <td>12.937222</td>\n",
       "      <td>77.626915</td>\n",
       "      <td>13.047926</td>\n",
       "      <td>77.597766</td>\n",
       "      <td>0</td>\n",
       "    </tr>\n",
       "    <tr>\n",
       "      <th>3</th>\n",
       "      <td>132515</td>\n",
       "      <td>13034</td>\n",
       "      <td>12</td>\n",
       "      <td>NaN</td>\n",
       "      <td>2</td>\n",
       "      <td>768.0</td>\n",
       "      <td>398.0</td>\n",
       "      <td>NaN</td>\n",
       "      <td>NaN</td>\n",
       "      <td>01-01-2013 05:45</td>\n",
       "      <td>0</td>\n",
       "      <td>0</td>\n",
       "      <td>01-01-2013 04:39</td>\n",
       "      <td>12.989990</td>\n",
       "      <td>77.553320</td>\n",
       "      <td>12.971430</td>\n",
       "      <td>77.639140</td>\n",
       "      <td>0</td>\n",
       "    </tr>\n",
       "    <tr>\n",
       "      <th>4</th>\n",
       "      <td>132517</td>\n",
       "      <td>22180</td>\n",
       "      <td>12</td>\n",
       "      <td>NaN</td>\n",
       "      <td>2</td>\n",
       "      <td>1365.0</td>\n",
       "      <td>849.0</td>\n",
       "      <td>NaN</td>\n",
       "      <td>NaN</td>\n",
       "      <td>01-01-2013 09:00</td>\n",
       "      <td>0</td>\n",
       "      <td>0</td>\n",
       "      <td>01-01-2013 07:53</td>\n",
       "      <td>12.845653</td>\n",
       "      <td>77.677925</td>\n",
       "      <td>12.954340</td>\n",
       "      <td>77.600720</td>\n",
       "      <td>0</td>\n",
       "    </tr>\n",
       "  </tbody>\n",
       "</table>\n",
       "</div>"
      ],
      "text/plain": [
       "       id  user_id  vehicle_model_id  package_id  travel_type_id  \\\n",
       "0  132512    22177                28         NaN               2   \n",
       "1  132513    21413                12         NaN               2   \n",
       "2  132514    22178                12         NaN               2   \n",
       "3  132515    13034                12         NaN               2   \n",
       "4  132517    22180                12         NaN               2   \n",
       "\n",
       "   from_area_id  to_area_id  from_city_id  to_city_id         from_date  \\\n",
       "0          83.0       448.0           NaN         NaN  01-01-2013 02:00   \n",
       "1        1010.0       540.0           NaN         NaN  01-01-2013 09:00   \n",
       "2        1301.0      1034.0           NaN         NaN  01-01-2013 03:30   \n",
       "3         768.0       398.0           NaN         NaN  01-01-2013 05:45   \n",
       "4        1365.0       849.0           NaN         NaN  01-01-2013 09:00   \n",
       "\n",
       "   online_booking  mobile_site_booking   booking_created   from_lat  \\\n",
       "0               0                    0  01-01-2013 01:39  12.924150   \n",
       "1               0                    0  01-01-2013 02:25  12.966910   \n",
       "2               0                    0  01-01-2013 03:08  12.937222   \n",
       "3               0                    0  01-01-2013 04:39  12.989990   \n",
       "4               0                    0  01-01-2013 07:53  12.845653   \n",
       "\n",
       "   from_long     to_lat    to_long  Car_Cancellation  \n",
       "0  77.672290  12.927320  77.635750                 0  \n",
       "1  77.749350  12.927680  77.626640                 0  \n",
       "2  77.626915  13.047926  77.597766                 0  \n",
       "3  77.553320  12.971430  77.639140                 0  \n",
       "4  77.677925  12.954340  77.600720                 0  "
      ]
     },
     "execution_count": 2,
     "metadata": {},
     "output_type": "execute_result"
    }
   ],
   "source": [
    "data = pd.read_csv(\"YourCabs.csv\")\n",
    "data.head()"
   ]
  },
  {
   "cell_type": "markdown",
   "id": "6d264ebd",
   "metadata": {
    "id": "6d264ebd"
   },
   "source": [
    "### Verify the data"
   ]
  },
  {
   "cell_type": "code",
   "execution_count": 3,
   "id": "a8e56c4e",
   "metadata": {
    "colab": {
     "base_uri": "https://localhost:8080/"
    },
    "executionInfo": {
     "elapsed": 43,
     "status": "ok",
     "timestamp": 1703156948701,
     "user": {
      "displayName": "Gowrishankar R",
      "userId": "12173064338158270855"
     },
     "user_tz": -330
    },
    "id": "a8e56c4e",
    "outputId": "224f0765-f625-4987-f77c-3007d9f77bf9"
   },
   "outputs": [
    {
     "name": "stdout",
     "output_type": "stream",
     "text": [
      "<class 'pandas.core.frame.DataFrame'>\n",
      "RangeIndex: 43431 entries, 0 to 43430\n",
      "Data columns (total 18 columns):\n",
      " #   Column               Non-Null Count  Dtype  \n",
      "---  ------               --------------  -----  \n",
      " 0   id                   43431 non-null  int64  \n",
      " 1   user_id              43431 non-null  int64  \n",
      " 2   vehicle_model_id     43431 non-null  int64  \n",
      " 3   package_id           7550 non-null   float64\n",
      " 4   travel_type_id       43431 non-null  int64  \n",
      " 5   from_area_id         43343 non-null  float64\n",
      " 6   to_area_id           34293 non-null  float64\n",
      " 7   from_city_id         16345 non-null  float64\n",
      " 8   to_city_id           1588 non-null   float64\n",
      " 9   from_date            43431 non-null  object \n",
      " 10  online_booking       43431 non-null  int64  \n",
      " 11  mobile_site_booking  43431 non-null  int64  \n",
      " 12  booking_created      43431 non-null  object \n",
      " 13  from_lat             43338 non-null  float64\n",
      " 14  from_long            43338 non-null  float64\n",
      " 15  to_lat               34293 non-null  float64\n",
      " 16  to_long              34293 non-null  float64\n",
      " 17  Car_Cancellation     43431 non-null  int64  \n",
      "dtypes: float64(9), int64(7), object(2)\n",
      "memory usage: 6.0+ MB\n"
     ]
    }
   ],
   "source": [
    "data.info()"
   ]
  },
  {
   "cell_type": "markdown",
   "id": "1c4511e9",
   "metadata": {
    "id": "1c4511e9"
   },
   "source": [
    "### Dropping columns having unique values and PII"
   ]
  },
  {
   "cell_type": "code",
   "execution_count": 4,
   "id": "ee32f3e7",
   "metadata": {
    "executionInfo": {
     "elapsed": 36,
     "status": "ok",
     "timestamp": 1703156948701,
     "user": {
      "displayName": "Gowrishankar R",
      "userId": "12173064338158270855"
     },
     "user_tz": -330
    },
    "id": "ee32f3e7"
   },
   "outputs": [],
   "source": [
    "data=data.drop(['id','user_id'],axis=1)"
   ]
  },
  {
   "cell_type": "markdown",
   "id": "82071c6b",
   "metadata": {
    "id": "82071c6b"
   },
   "source": [
    "### Filtering out travel_type_id=3"
   ]
  },
  {
   "cell_type": "code",
   "execution_count": 5,
   "id": "5bccd040",
   "metadata": {
    "colab": {
     "base_uri": "https://localhost:8080/",
     "height": 399
    },
    "executionInfo": {
     "elapsed": 36,
     "status": "ok",
     "timestamp": 1703156948701,
     "user": {
      "displayName": "Gowrishankar R",
      "userId": "12173064338158270855"
     },
     "user_tz": -330
    },
    "id": "5bccd040",
    "outputId": "950c3236-19d0-4d2b-9242-1a73cf217d2d"
   },
   "outputs": [
    {
     "data": {
      "text/html": [
       "<div>\n",
       "<style scoped>\n",
       "    .dataframe tbody tr th:only-of-type {\n",
       "        vertical-align: middle;\n",
       "    }\n",
       "\n",
       "    .dataframe tbody tr th {\n",
       "        vertical-align: top;\n",
       "    }\n",
       "\n",
       "    .dataframe thead th {\n",
       "        text-align: right;\n",
       "    }\n",
       "</style>\n",
       "<table border=\"1\" class=\"dataframe\">\n",
       "  <thead>\n",
       "    <tr style=\"text-align: right;\">\n",
       "      <th></th>\n",
       "      <th>vehicle_model_id</th>\n",
       "      <th>package_id</th>\n",
       "      <th>travel_type_id</th>\n",
       "      <th>from_area_id</th>\n",
       "      <th>to_area_id</th>\n",
       "      <th>from_city_id</th>\n",
       "      <th>to_city_id</th>\n",
       "      <th>from_date</th>\n",
       "      <th>online_booking</th>\n",
       "      <th>mobile_site_booking</th>\n",
       "      <th>booking_created</th>\n",
       "      <th>from_lat</th>\n",
       "      <th>from_long</th>\n",
       "      <th>to_lat</th>\n",
       "      <th>to_long</th>\n",
       "      <th>Car_Cancellation</th>\n",
       "    </tr>\n",
       "  </thead>\n",
       "  <tbody>\n",
       "    <tr>\n",
       "      <th>8</th>\n",
       "      <td>65</td>\n",
       "      <td>2.0</td>\n",
       "      <td>3</td>\n",
       "      <td>448.0</td>\n",
       "      <td>NaN</td>\n",
       "      <td>NaN</td>\n",
       "      <td>NaN</td>\n",
       "      <td>01-01-2013 16:00</td>\n",
       "      <td>0</td>\n",
       "      <td>0</td>\n",
       "      <td>01-01-2013 09:44</td>\n",
       "      <td>12.927320</td>\n",
       "      <td>77.635750</td>\n",
       "      <td>NaN</td>\n",
       "      <td>NaN</td>\n",
       "      <td>0</td>\n",
       "    </tr>\n",
       "    <tr>\n",
       "      <th>20</th>\n",
       "      <td>87</td>\n",
       "      <td>2.0</td>\n",
       "      <td>3</td>\n",
       "      <td>471.0</td>\n",
       "      <td>NaN</td>\n",
       "      <td>NaN</td>\n",
       "      <td>NaN</td>\n",
       "      <td>01-01-2013 14:30</td>\n",
       "      <td>0</td>\n",
       "      <td>0</td>\n",
       "      <td>01-01-2013 12:52</td>\n",
       "      <td>13.018540</td>\n",
       "      <td>77.635240</td>\n",
       "      <td>NaN</td>\n",
       "      <td>NaN</td>\n",
       "      <td>0</td>\n",
       "    </tr>\n",
       "    <tr>\n",
       "      <th>23</th>\n",
       "      <td>12</td>\n",
       "      <td>1.0</td>\n",
       "      <td>3</td>\n",
       "      <td>1286.0</td>\n",
       "      <td>NaN</td>\n",
       "      <td>NaN</td>\n",
       "      <td>NaN</td>\n",
       "      <td>01-01-2013 16:30</td>\n",
       "      <td>0</td>\n",
       "      <td>0</td>\n",
       "      <td>01-01-2013 14:39</td>\n",
       "      <td>12.973448</td>\n",
       "      <td>77.620320</td>\n",
       "      <td>NaN</td>\n",
       "      <td>NaN</td>\n",
       "      <td>0</td>\n",
       "    </tr>\n",
       "    <tr>\n",
       "      <th>34</th>\n",
       "      <td>12</td>\n",
       "      <td>1.0</td>\n",
       "      <td>3</td>\n",
       "      <td>1323.0</td>\n",
       "      <td>NaN</td>\n",
       "      <td>NaN</td>\n",
       "      <td>NaN</td>\n",
       "      <td>01-01-2013 20:00</td>\n",
       "      <td>1</td>\n",
       "      <td>0</td>\n",
       "      <td>01-01-2013 17:25</td>\n",
       "      <td>12.869805</td>\n",
       "      <td>77.653211</td>\n",
       "      <td>NaN</td>\n",
       "      <td>NaN</td>\n",
       "      <td>0</td>\n",
       "    </tr>\n",
       "    <tr>\n",
       "      <th>47</th>\n",
       "      <td>12</td>\n",
       "      <td>2.0</td>\n",
       "      <td>3</td>\n",
       "      <td>142.0</td>\n",
       "      <td>NaN</td>\n",
       "      <td>NaN</td>\n",
       "      <td>NaN</td>\n",
       "      <td>01-02-2013 03:00</td>\n",
       "      <td>0</td>\n",
       "      <td>0</td>\n",
       "      <td>01-01-2013 19:37</td>\n",
       "      <td>12.912810</td>\n",
       "      <td>77.609230</td>\n",
       "      <td>NaN</td>\n",
       "      <td>NaN</td>\n",
       "      <td>0</td>\n",
       "    </tr>\n",
       "  </tbody>\n",
       "</table>\n",
       "</div>"
      ],
      "text/plain": [
       "    vehicle_model_id  package_id  travel_type_id  from_area_id  to_area_id  \\\n",
       "8                 65         2.0               3         448.0         NaN   \n",
       "20                87         2.0               3         471.0         NaN   \n",
       "23                12         1.0               3        1286.0         NaN   \n",
       "34                12         1.0               3        1323.0         NaN   \n",
       "47                12         2.0               3         142.0         NaN   \n",
       "\n",
       "    from_city_id  to_city_id         from_date  online_booking  \\\n",
       "8            NaN         NaN  01-01-2013 16:00               0   \n",
       "20           NaN         NaN  01-01-2013 14:30               0   \n",
       "23           NaN         NaN  01-01-2013 16:30               0   \n",
       "34           NaN         NaN  01-01-2013 20:00               1   \n",
       "47           NaN         NaN  01-02-2013 03:00               0   \n",
       "\n",
       "    mobile_site_booking   booking_created   from_lat  from_long  to_lat  \\\n",
       "8                     0  01-01-2013 09:44  12.927320  77.635750     NaN   \n",
       "20                    0  01-01-2013 12:52  13.018540  77.635240     NaN   \n",
       "23                    0  01-01-2013 14:39  12.973448  77.620320     NaN   \n",
       "34                    0  01-01-2013 17:25  12.869805  77.653211     NaN   \n",
       "47                    0  01-01-2013 19:37  12.912810  77.609230     NaN   \n",
       "\n",
       "    to_long  Car_Cancellation  \n",
       "8       NaN                 0  \n",
       "20      NaN                 0  \n",
       "23      NaN                 0  \n",
       "34      NaN                 0  \n",
       "47      NaN                 0  "
      ]
     },
     "execution_count": 5,
     "metadata": {},
     "output_type": "execute_result"
    }
   ],
   "source": [
    "data_tt3 = data[data['travel_type_id'] == 3] # filtering the data having travel_type_id 3\n",
    "data_tt3.head()"
   ]
  },
  {
   "cell_type": "markdown",
   "id": "3f3f94aa",
   "metadata": {
    "id": "3f3f94aa"
   },
   "source": [
    "### Dropping travel_type_id which is no more required"
   ]
  },
  {
   "cell_type": "code",
   "execution_count": 6,
   "id": "86d7cd3d",
   "metadata": {
    "executionInfo": {
     "elapsed": 35,
     "status": "ok",
     "timestamp": 1703156948701,
     "user": {
      "displayName": "Gowrishankar R",
      "userId": "12173064338158270855"
     },
     "user_tz": -330
    },
    "id": "86d7cd3d"
   },
   "outputs": [],
   "source": [
    "data_tt2 = data_tt3.drop(['travel_type_id'],axis=1)"
   ]
  },
  {
   "cell_type": "markdown",
   "id": "1e250c72",
   "metadata": {
    "id": "1e250c72"
   },
   "source": [
    "### Checking missing values"
   ]
  },
  {
   "cell_type": "code",
   "execution_count": 7,
   "id": "2b52d4fe",
   "metadata": {
    "colab": {
     "base_uri": "https://localhost:8080/"
    },
    "executionInfo": {
     "elapsed": 34,
     "status": "ok",
     "timestamp": 1703156948701,
     "user": {
      "displayName": "Gowrishankar R",
      "userId": "12173064338158270855"
     },
     "user_tz": -330
    },
    "id": "2b52d4fe",
    "outputId": "b9a95bf6-c210-444c-fa77-9d14ae758fad"
   },
   "outputs": [
    {
     "data": {
      "text/plain": [
       "(7550, 16)"
      ]
     },
     "execution_count": 7,
     "metadata": {},
     "output_type": "execute_result"
    }
   ],
   "source": [
    "data_tt3.shape"
   ]
  },
  {
   "cell_type": "code",
   "execution_count": 8,
   "id": "59e57cb7",
   "metadata": {
    "colab": {
     "base_uri": "https://localhost:8080/"
    },
    "executionInfo": {
     "elapsed": 31,
     "status": "ok",
     "timestamp": 1703156948701,
     "user": {
      "displayName": "Gowrishankar R",
      "userId": "12173064338158270855"
     },
     "user_tz": -330
    },
    "id": "59e57cb7",
    "outputId": "192eac2d-46d2-494e-d763-73d85332d89b"
   },
   "outputs": [
    {
     "data": {
      "text/plain": [
       "vehicle_model_id          0\n",
       "package_id                0\n",
       "travel_type_id            0\n",
       "from_area_id              0\n",
       "to_area_id             7550\n",
       "from_city_id           7102\n",
       "to_city_id             7550\n",
       "from_date                 0\n",
       "online_booking            0\n",
       "mobile_site_booking       0\n",
       "booking_created           0\n",
       "from_lat                  0\n",
       "from_long                 0\n",
       "to_lat                 7550\n",
       "to_long                7550\n",
       "Car_Cancellation          0\n",
       "dtype: int64"
      ]
     },
     "execution_count": 8,
     "metadata": {},
     "output_type": "execute_result"
    }
   ],
   "source": [
    "data_tt3.isnull().sum()"
   ]
  },
  {
   "cell_type": "markdown",
   "id": "3cf4d2ab",
   "metadata": {
    "id": "3cf4d2ab"
   },
   "source": [
    "### Analysing data proportion in categorical variables"
   ]
  },
  {
   "cell_type": "code",
   "execution_count": 9,
   "id": "a6cf5ee8",
   "metadata": {
    "colab": {
     "base_uri": "https://localhost:8080/"
    },
    "executionInfo": {
     "elapsed": 28,
     "status": "ok",
     "timestamp": 1703156948701,
     "user": {
      "displayName": "Gowrishankar R",
      "userId": "12173064338158270855"
     },
     "user_tz": -330
    },
    "id": "a6cf5ee8",
    "outputId": "829d2d52-406b-4a6d-c8d4-6bb073684ad5"
   },
   "outputs": [
    {
     "data": {
      "text/plain": [
       "12    72.794702\n",
       "65     8.794702\n",
       "89     4.397351\n",
       "85     4.079470\n",
       "87     3.284768\n",
       "28     2.980132\n",
       "24     1.933775\n",
       "23     0.463576\n",
       "86     0.251656\n",
       "90     0.238411\n",
       "10     0.185430\n",
       "17     0.172185\n",
       "30     0.172185\n",
       "36     0.079470\n",
       "64     0.079470\n",
       "43     0.026490\n",
       "72     0.026490\n",
       "76     0.013245\n",
       "75     0.013245\n",
       "39     0.013245\n",
       "Name: vehicle_model_id, dtype: float64"
      ]
     },
     "execution_count": 9,
     "metadata": {},
     "output_type": "execute_result"
    }
   ],
   "source": [
    "data_tt3['vehicle_model_id'].value_counts(normalize=True)*100"
   ]
  },
  {
   "cell_type": "code",
   "execution_count": 10,
   "id": "b0c39e6c",
   "metadata": {
    "colab": {
     "base_uri": "https://localhost:8080/"
    },
    "executionInfo": {
     "elapsed": 27,
     "status": "ok",
     "timestamp": 1703156948702,
     "user": {
      "displayName": "Gowrishankar R",
      "userId": "12173064338158270855"
     },
     "user_tz": -330
    },
    "id": "b0c39e6c",
    "outputId": "0b908fcd-ec60-424f-f979-41974d289cc2"
   },
   "outputs": [
    {
     "data": {
      "text/plain": [
       "1.0    46.397351\n",
       "2.0    35.112583\n",
       "6.0     6.649007\n",
       "4.0     5.456954\n",
       "3.0     4.966887\n",
       "7.0     1.337748\n",
       "5.0     0.079470\n",
       "Name: package_id, dtype: float64"
      ]
     },
     "execution_count": 10,
     "metadata": {},
     "output_type": "execute_result"
    }
   ],
   "source": [
    "data_tt3['package_id'].value_counts(normalize=True)*100"
   ]
  },
  {
   "cell_type": "code",
   "execution_count": 11,
   "id": "e8e4b2e1",
   "metadata": {
    "colab": {
     "base_uri": "https://localhost:8080/"
    },
    "executionInfo": {
     "elapsed": 25,
     "status": "ok",
     "timestamp": 1703156948702,
     "user": {
      "displayName": "Gowrishankar R",
      "userId": "12173064338158270855"
     },
     "user_tz": -330
    },
    "id": "e8e4b2e1",
    "outputId": "509a7fdf-0e4f-4001-80e1-e3fbb5e68ae6"
   },
   "outputs": [
    {
     "data": {
      "text/plain": [
       "571.0     4.437086\n",
       "293.0     3.443709\n",
       "393.0     2.993377\n",
       "1010.0    2.516556\n",
       "58.0      1.801325\n",
       "            ...   \n",
       "802.0     0.013245\n",
       "1370.0    0.013245\n",
       "1117.0    0.013245\n",
       "1080.0    0.013245\n",
       "328.0     0.013245\n",
       "Name: from_area_id, Length: 482, dtype: float64"
      ]
     },
     "execution_count": 11,
     "metadata": {},
     "output_type": "execute_result"
    }
   ],
   "source": [
    "data_tt3['from_area_id'].value_counts(normalize=True)*100"
   ]
  },
  {
   "cell_type": "code",
   "execution_count": 12,
   "id": "0c8e237d",
   "metadata": {
    "colab": {
     "base_uri": "https://localhost:8080/"
    },
    "executionInfo": {
     "elapsed": 23,
     "status": "ok",
     "timestamp": 1703156948702,
     "user": {
      "displayName": "Gowrishankar R",
      "userId": "12173064338158270855"
     },
     "user_tz": -330
    },
    "id": "0c8e237d",
    "outputId": "a482c1ad-bdf5-4ccc-e39c-d1cf458bae6f"
   },
   "outputs": [
    {
     "data": {
      "text/plain": [
       "Series([], Name: to_area_id, dtype: float64)"
      ]
     },
     "execution_count": 12,
     "metadata": {},
     "output_type": "execute_result"
    }
   ],
   "source": [
    "data_tt3['to_area_id'].value_counts(normalize=True)*100"
   ]
  },
  {
   "cell_type": "code",
   "execution_count": 13,
   "id": "0c7913f2",
   "metadata": {
    "colab": {
     "base_uri": "https://localhost:8080/"
    },
    "executionInfo": {
     "elapsed": 19,
     "status": "ok",
     "timestamp": 1703156948702,
     "user": {
      "displayName": "Gowrishankar R",
      "userId": "12173064338158270855"
     },
     "user_tz": -330
    },
    "id": "0c7913f2",
    "outputId": "c44459ea-997e-4eca-a1cd-eab464e86ba1"
   },
   "outputs": [
    {
     "data": {
      "text/plain": [
       "15.0    100.0\n",
       "Name: from_city_id, dtype: float64"
      ]
     },
     "execution_count": 13,
     "metadata": {},
     "output_type": "execute_result"
    }
   ],
   "source": [
    "data_tt3['from_city_id'].value_counts(normalize=True)*100"
   ]
  },
  {
   "cell_type": "code",
   "execution_count": 14,
   "id": "20e697d5",
   "metadata": {
    "colab": {
     "base_uri": "https://localhost:8080/"
    },
    "executionInfo": {
     "elapsed": 17,
     "status": "ok",
     "timestamp": 1703156948702,
     "user": {
      "displayName": "Gowrishankar R",
      "userId": "12173064338158270855"
     },
     "user_tz": -330
    },
    "id": "20e697d5",
    "outputId": "4db299a9-0c4d-4d43-ec35-e5cf892457c3"
   },
   "outputs": [
    {
     "data": {
      "text/plain": [
       "Series([], Name: to_city_id, dtype: float64)"
      ]
     },
     "execution_count": 14,
     "metadata": {},
     "output_type": "execute_result"
    }
   ],
   "source": [
    "data_tt3['to_city_id'].value_counts(normalize=True)*100"
   ]
  },
  {
   "cell_type": "code",
   "execution_count": 15,
   "id": "b79c1b2b",
   "metadata": {
    "colab": {
     "base_uri": "https://localhost:8080/"
    },
    "executionInfo": {
     "elapsed": 14,
     "status": "ok",
     "timestamp": 1703156948702,
     "user": {
      "displayName": "Gowrishankar R",
      "userId": "12173064338158270855"
     },
     "user_tz": -330
    },
    "id": "b79c1b2b",
    "outputId": "b6d6b629-6092-4c29-ee4c-44c9b49de8c8"
   },
   "outputs": [
    {
     "data": {
      "text/plain": [
       "0    71.642384\n",
       "1    28.357616\n",
       "Name: online_booking, dtype: float64"
      ]
     },
     "execution_count": 15,
     "metadata": {},
     "output_type": "execute_result"
    }
   ],
   "source": [
    "data_tt3['online_booking'].value_counts(normalize=True)*100"
   ]
  },
  {
   "cell_type": "code",
   "execution_count": 16,
   "id": "abc9854e",
   "metadata": {
    "colab": {
     "base_uri": "https://localhost:8080/"
    },
    "executionInfo": {
     "elapsed": 11,
     "status": "ok",
     "timestamp": 1703156948702,
     "user": {
      "displayName": "Gowrishankar R",
      "userId": "12173064338158270855"
     },
     "user_tz": -330
    },
    "id": "abc9854e",
    "outputId": "c2a770dc-a0cf-488c-a5b9-ebb6512b2e14"
   },
   "outputs": [
    {
     "data": {
      "text/plain": [
       "0    97.364238\n",
       "1     2.635762\n",
       "Name: mobile_site_booking, dtype: float64"
      ]
     },
     "execution_count": 16,
     "metadata": {},
     "output_type": "execute_result"
    }
   ],
   "source": [
    "data_tt3['mobile_site_booking'].value_counts(normalize=True)*100"
   ]
  },
  {
   "cell_type": "markdown",
   "id": "81e0fa50",
   "metadata": {
    "id": "81e0fa50"
   },
   "source": [
    "#### Deleting vehicle_model_id, package_id, mobile_site_booking, from_city_id,to_city_id columns"
   ]
  },
  {
   "cell_type": "code",
   "execution_count": 17,
   "id": "3850bd3a",
   "metadata": {
    "colab": {
     "base_uri": "https://localhost:8080/",
     "height": 206
    },
    "executionInfo": {
     "elapsed": 9,
     "status": "ok",
     "timestamp": 1703156948702,
     "user": {
      "displayName": "Gowrishankar R",
      "userId": "12173064338158270855"
     },
     "user_tz": -330
    },
    "id": "3850bd3a",
    "outputId": "529c2c8f-39ba-4666-a201-15975b14e416"
   },
   "outputs": [
    {
     "data": {
      "text/html": [
       "<div>\n",
       "<style scoped>\n",
       "    .dataframe tbody tr th:only-of-type {\n",
       "        vertical-align: middle;\n",
       "    }\n",
       "\n",
       "    .dataframe tbody tr th {\n",
       "        vertical-align: top;\n",
       "    }\n",
       "\n",
       "    .dataframe thead th {\n",
       "        text-align: right;\n",
       "    }\n",
       "</style>\n",
       "<table border=\"1\" class=\"dataframe\">\n",
       "  <thead>\n",
       "    <tr style=\"text-align: right;\">\n",
       "      <th></th>\n",
       "      <th>package_id</th>\n",
       "      <th>travel_type_id</th>\n",
       "      <th>from_area_id</th>\n",
       "      <th>from_date</th>\n",
       "      <th>online_booking</th>\n",
       "      <th>booking_created</th>\n",
       "      <th>Car_Cancellation</th>\n",
       "    </tr>\n",
       "  </thead>\n",
       "  <tbody>\n",
       "    <tr>\n",
       "      <th>8</th>\n",
       "      <td>2.0</td>\n",
       "      <td>3</td>\n",
       "      <td>448.0</td>\n",
       "      <td>01-01-2013 16:00</td>\n",
       "      <td>0</td>\n",
       "      <td>01-01-2013 09:44</td>\n",
       "      <td>0</td>\n",
       "    </tr>\n",
       "    <tr>\n",
       "      <th>20</th>\n",
       "      <td>2.0</td>\n",
       "      <td>3</td>\n",
       "      <td>471.0</td>\n",
       "      <td>01-01-2013 14:30</td>\n",
       "      <td>0</td>\n",
       "      <td>01-01-2013 12:52</td>\n",
       "      <td>0</td>\n",
       "    </tr>\n",
       "    <tr>\n",
       "      <th>23</th>\n",
       "      <td>1.0</td>\n",
       "      <td>3</td>\n",
       "      <td>1286.0</td>\n",
       "      <td>01-01-2013 16:30</td>\n",
       "      <td>0</td>\n",
       "      <td>01-01-2013 14:39</td>\n",
       "      <td>0</td>\n",
       "    </tr>\n",
       "    <tr>\n",
       "      <th>34</th>\n",
       "      <td>1.0</td>\n",
       "      <td>3</td>\n",
       "      <td>1323.0</td>\n",
       "      <td>01-01-2013 20:00</td>\n",
       "      <td>1</td>\n",
       "      <td>01-01-2013 17:25</td>\n",
       "      <td>0</td>\n",
       "    </tr>\n",
       "    <tr>\n",
       "      <th>47</th>\n",
       "      <td>2.0</td>\n",
       "      <td>3</td>\n",
       "      <td>142.0</td>\n",
       "      <td>01-02-2013 03:00</td>\n",
       "      <td>0</td>\n",
       "      <td>01-01-2013 19:37</td>\n",
       "      <td>0</td>\n",
       "    </tr>\n",
       "  </tbody>\n",
       "</table>\n",
       "</div>"
      ],
      "text/plain": [
       "    package_id  travel_type_id  from_area_id         from_date  \\\n",
       "8          2.0               3         448.0  01-01-2013 16:00   \n",
       "20         2.0               3         471.0  01-01-2013 14:30   \n",
       "23         1.0               3        1286.0  01-01-2013 16:30   \n",
       "34         1.0               3        1323.0  01-01-2013 20:00   \n",
       "47         2.0               3         142.0  01-02-2013 03:00   \n",
       "\n",
       "    online_booking   booking_created  Car_Cancellation  \n",
       "8                0  01-01-2013 09:44                 0  \n",
       "20               0  01-01-2013 12:52                 0  \n",
       "23               0  01-01-2013 14:39                 0  \n",
       "34               1  01-01-2013 17:25                 0  \n",
       "47               0  01-01-2013 19:37                 0  "
      ]
     },
     "execution_count": 17,
     "metadata": {},
     "output_type": "execute_result"
    }
   ],
   "source": [
    "### Delete the below columns due to:\n",
    "### vehicle_model_id - improportionate data, leads to bias\n",
    "### to_area_id - not required for travel_type_id = 3\n",
    "### from_city_id- improportionate data, leads to bias\n",
    "### to_city_id - not required for travel_type_id = 3\n",
    "### mobile_site_booking - improportionate data, leads to bias\n",
    "### from_lat, from_long - same information as in from_area_id\n",
    "### to_lat, to_long - null values and also not mandatory for travel_type_id = 3\n",
    "\n",
    "data_tt3 = data_tt3.drop(['vehicle_model_id','to_area_id','from_city_id','to_city_id','from_lat','from_long','to_lat','to_long','mobile_site_booking'],axis=1)\n",
    "data_tt3.head()"
   ]
  },
  {
   "cell_type": "markdown",
   "id": "24bb8a76",
   "metadata": {
    "id": "24bb8a76"
   },
   "source": [
    "### Treating and extracting info from Date columns"
   ]
  },
  {
   "cell_type": "code",
   "execution_count": 18,
   "id": "d2562948",
   "metadata": {
    "colab": {
     "base_uri": "https://localhost:8080/",
     "height": 206
    },
    "executionInfo": {
     "elapsed": 1803,
     "status": "ok",
     "timestamp": 1703156950497,
     "user": {
      "displayName": "Gowrishankar R",
      "userId": "12173064338158270855"
     },
     "user_tz": -330
    },
    "id": "d2562948",
    "outputId": "82c9213b-a079-45ed-d6b6-d6c93b2e21c1"
   },
   "outputs": [
    {
     "data": {
      "text/html": [
       "<div>\n",
       "<style scoped>\n",
       "    .dataframe tbody tr th:only-of-type {\n",
       "        vertical-align: middle;\n",
       "    }\n",
       "\n",
       "    .dataframe tbody tr th {\n",
       "        vertical-align: top;\n",
       "    }\n",
       "\n",
       "    .dataframe thead th {\n",
       "        text-align: right;\n",
       "    }\n",
       "</style>\n",
       "<table border=\"1\" class=\"dataframe\">\n",
       "  <thead>\n",
       "    <tr style=\"text-align: right;\">\n",
       "      <th></th>\n",
       "      <th>package_id</th>\n",
       "      <th>travel_type_id</th>\n",
       "      <th>from_area_id</th>\n",
       "      <th>from_date</th>\n",
       "      <th>online_booking</th>\n",
       "      <th>booking_created</th>\n",
       "      <th>Car_Cancellation</th>\n",
       "      <th>from_date_treated</th>\n",
       "      <th>booking_date_treated</th>\n",
       "    </tr>\n",
       "  </thead>\n",
       "  <tbody>\n",
       "    <tr>\n",
       "      <th>8</th>\n",
       "      <td>2.0</td>\n",
       "      <td>3</td>\n",
       "      <td>448.0</td>\n",
       "      <td>01-01-2013 16:00</td>\n",
       "      <td>0</td>\n",
       "      <td>01-01-2013 09:44</td>\n",
       "      <td>0</td>\n",
       "      <td>2013-01-01 16:00:00</td>\n",
       "      <td>2013-01-01 09:44:00</td>\n",
       "    </tr>\n",
       "    <tr>\n",
       "      <th>20</th>\n",
       "      <td>2.0</td>\n",
       "      <td>3</td>\n",
       "      <td>471.0</td>\n",
       "      <td>01-01-2013 14:30</td>\n",
       "      <td>0</td>\n",
       "      <td>01-01-2013 12:52</td>\n",
       "      <td>0</td>\n",
       "      <td>2013-01-01 14:30:00</td>\n",
       "      <td>2013-01-01 12:52:00</td>\n",
       "    </tr>\n",
       "    <tr>\n",
       "      <th>23</th>\n",
       "      <td>1.0</td>\n",
       "      <td>3</td>\n",
       "      <td>1286.0</td>\n",
       "      <td>01-01-2013 16:30</td>\n",
       "      <td>0</td>\n",
       "      <td>01-01-2013 14:39</td>\n",
       "      <td>0</td>\n",
       "      <td>2013-01-01 16:30:00</td>\n",
       "      <td>2013-01-01 14:39:00</td>\n",
       "    </tr>\n",
       "    <tr>\n",
       "      <th>34</th>\n",
       "      <td>1.0</td>\n",
       "      <td>3</td>\n",
       "      <td>1323.0</td>\n",
       "      <td>01-01-2013 20:00</td>\n",
       "      <td>1</td>\n",
       "      <td>01-01-2013 17:25</td>\n",
       "      <td>0</td>\n",
       "      <td>2013-01-01 20:00:00</td>\n",
       "      <td>2013-01-01 17:25:00</td>\n",
       "    </tr>\n",
       "    <tr>\n",
       "      <th>47</th>\n",
       "      <td>2.0</td>\n",
       "      <td>3</td>\n",
       "      <td>142.0</td>\n",
       "      <td>01-02-2013 03:00</td>\n",
       "      <td>0</td>\n",
       "      <td>01-01-2013 19:37</td>\n",
       "      <td>0</td>\n",
       "      <td>2013-01-02 03:00:00</td>\n",
       "      <td>2013-01-01 19:37:00</td>\n",
       "    </tr>\n",
       "  </tbody>\n",
       "</table>\n",
       "</div>"
      ],
      "text/plain": [
       "    package_id  travel_type_id  from_area_id         from_date  \\\n",
       "8          2.0               3         448.0  01-01-2013 16:00   \n",
       "20         2.0               3         471.0  01-01-2013 14:30   \n",
       "23         1.0               3        1286.0  01-01-2013 16:30   \n",
       "34         1.0               3        1323.0  01-01-2013 20:00   \n",
       "47         2.0               3         142.0  01-02-2013 03:00   \n",
       "\n",
       "    online_booking   booking_created  Car_Cancellation   from_date_treated  \\\n",
       "8                0  01-01-2013 09:44                 0 2013-01-01 16:00:00   \n",
       "20               0  01-01-2013 12:52                 0 2013-01-01 14:30:00   \n",
       "23               0  01-01-2013 14:39                 0 2013-01-01 16:30:00   \n",
       "34               1  01-01-2013 17:25                 0 2013-01-01 20:00:00   \n",
       "47               0  01-01-2013 19:37                 0 2013-01-02 03:00:00   \n",
       "\n",
       "   booking_date_treated  \n",
       "8   2013-01-01 09:44:00  \n",
       "20  2013-01-01 12:52:00  \n",
       "23  2013-01-01 14:39:00  \n",
       "34  2013-01-01 17:25:00  \n",
       "47  2013-01-01 19:37:00  "
      ]
     },
     "execution_count": 18,
     "metadata": {},
     "output_type": "execute_result"
    }
   ],
   "source": [
    "data_tt3['from_date_treated'] = pd.to_datetime(data_tt3['from_date'])\n",
    "data_tt3['booking_date_treated'] = pd.to_datetime(data_tt3['booking_created'])\n",
    "data_tt3.head()"
   ]
  },
  {
   "cell_type": "code",
   "execution_count": 19,
   "id": "626c8786",
   "metadata": {
    "executionInfo": {
     "elapsed": 36,
     "status": "ok",
     "timestamp": 1703156950497,
     "user": {
      "displayName": "Gowrishankar R",
      "userId": "12173064338158270855"
     },
     "user_tz": -330
    },
    "id": "626c8786"
   },
   "outputs": [],
   "source": [
    "# After extracting required info in required format from date columns dropping the actual date columns in the data\n",
    "data_tt3 = data_tt3.drop(['from_date','booking_created'],axis=1)"
   ]
  },
  {
   "cell_type": "markdown",
   "id": "68ef37a4",
   "metadata": {
    "id": "68ef37a4"
   },
   "source": [
    "#### Creating new columns from given date columns"
   ]
  },
  {
   "cell_type": "code",
   "execution_count": 20,
   "id": "f8854a10",
   "metadata": {
    "colab": {
     "base_uri": "https://localhost:8080/",
     "height": 226
    },
    "executionInfo": {
     "elapsed": 36,
     "status": "ok",
     "timestamp": 1703156950498,
     "user": {
      "displayName": "Gowrishankar R",
      "userId": "12173064338158270855"
     },
     "user_tz": -330
    },
    "id": "f8854a10",
    "outputId": "86ef8cb8-a0d1-4ea5-caaa-729b39222a51"
   },
   "outputs": [
    {
     "data": {
      "text/html": [
       "<div>\n",
       "<style scoped>\n",
       "    .dataframe tbody tr th:only-of-type {\n",
       "        vertical-align: middle;\n",
       "    }\n",
       "\n",
       "    .dataframe tbody tr th {\n",
       "        vertical-align: top;\n",
       "    }\n",
       "\n",
       "    .dataframe thead th {\n",
       "        text-align: right;\n",
       "    }\n",
       "</style>\n",
       "<table border=\"1\" class=\"dataframe\">\n",
       "  <thead>\n",
       "    <tr style=\"text-align: right;\">\n",
       "      <th></th>\n",
       "      <th>package_id</th>\n",
       "      <th>travel_type_id</th>\n",
       "      <th>from_area_id</th>\n",
       "      <th>online_booking</th>\n",
       "      <th>Car_Cancellation</th>\n",
       "      <th>from_date_treated</th>\n",
       "      <th>booking_date_treated</th>\n",
       "      <th>waiting_period_min</th>\n",
       "      <th>travel_day</th>\n",
       "      <th>travel_month</th>\n",
       "      <th>booked_day</th>\n",
       "      <th>booked_month</th>\n",
       "      <th>travel_hour</th>\n",
       "      <th>booked_hour</th>\n",
       "    </tr>\n",
       "  </thead>\n",
       "  <tbody>\n",
       "    <tr>\n",
       "      <th>8</th>\n",
       "      <td>2.0</td>\n",
       "      <td>3</td>\n",
       "      <td>448.0</td>\n",
       "      <td>0</td>\n",
       "      <td>0</td>\n",
       "      <td>2013-01-01 16:00:00</td>\n",
       "      <td>2013-01-01 09:44:00</td>\n",
       "      <td>376.0</td>\n",
       "      <td>1</td>\n",
       "      <td>1</td>\n",
       "      <td>1</td>\n",
       "      <td>1</td>\n",
       "      <td>Afternoon</td>\n",
       "      <td>Morning</td>\n",
       "    </tr>\n",
       "    <tr>\n",
       "      <th>20</th>\n",
       "      <td>2.0</td>\n",
       "      <td>3</td>\n",
       "      <td>471.0</td>\n",
       "      <td>0</td>\n",
       "      <td>0</td>\n",
       "      <td>2013-01-01 14:30:00</td>\n",
       "      <td>2013-01-01 12:52:00</td>\n",
       "      <td>98.0</td>\n",
       "      <td>1</td>\n",
       "      <td>1</td>\n",
       "      <td>1</td>\n",
       "      <td>1</td>\n",
       "      <td>Afternoon</td>\n",
       "      <td>Morning</td>\n",
       "    </tr>\n",
       "    <tr>\n",
       "      <th>23</th>\n",
       "      <td>1.0</td>\n",
       "      <td>3</td>\n",
       "      <td>1286.0</td>\n",
       "      <td>0</td>\n",
       "      <td>0</td>\n",
       "      <td>2013-01-01 16:30:00</td>\n",
       "      <td>2013-01-01 14:39:00</td>\n",
       "      <td>111.0</td>\n",
       "      <td>1</td>\n",
       "      <td>1</td>\n",
       "      <td>1</td>\n",
       "      <td>1</td>\n",
       "      <td>Afternoon</td>\n",
       "      <td>Afternoon</td>\n",
       "    </tr>\n",
       "    <tr>\n",
       "      <th>34</th>\n",
       "      <td>1.0</td>\n",
       "      <td>3</td>\n",
       "      <td>1323.0</td>\n",
       "      <td>1</td>\n",
       "      <td>0</td>\n",
       "      <td>2013-01-01 20:00:00</td>\n",
       "      <td>2013-01-01 17:25:00</td>\n",
       "      <td>155.0</td>\n",
       "      <td>1</td>\n",
       "      <td>1</td>\n",
       "      <td>1</td>\n",
       "      <td>1</td>\n",
       "      <td>Evening</td>\n",
       "      <td>Evening</td>\n",
       "    </tr>\n",
       "    <tr>\n",
       "      <th>47</th>\n",
       "      <td>2.0</td>\n",
       "      <td>3</td>\n",
       "      <td>142.0</td>\n",
       "      <td>0</td>\n",
       "      <td>0</td>\n",
       "      <td>2013-01-02 03:00:00</td>\n",
       "      <td>2013-01-01 19:37:00</td>\n",
       "      <td>443.0</td>\n",
       "      <td>2</td>\n",
       "      <td>1</td>\n",
       "      <td>1</td>\n",
       "      <td>1</td>\n",
       "      <td>Late Night</td>\n",
       "      <td>Evening</td>\n",
       "    </tr>\n",
       "  </tbody>\n",
       "</table>\n",
       "</div>"
      ],
      "text/plain": [
       "    package_id  travel_type_id  from_area_id  online_booking  \\\n",
       "8          2.0               3         448.0               0   \n",
       "20         2.0               3         471.0               0   \n",
       "23         1.0               3        1286.0               0   \n",
       "34         1.0               3        1323.0               1   \n",
       "47         2.0               3         142.0               0   \n",
       "\n",
       "    Car_Cancellation   from_date_treated booking_date_treated  \\\n",
       "8                  0 2013-01-01 16:00:00  2013-01-01 09:44:00   \n",
       "20                 0 2013-01-01 14:30:00  2013-01-01 12:52:00   \n",
       "23                 0 2013-01-01 16:30:00  2013-01-01 14:39:00   \n",
       "34                 0 2013-01-01 20:00:00  2013-01-01 17:25:00   \n",
       "47                 0 2013-01-02 03:00:00  2013-01-01 19:37:00   \n",
       "\n",
       "    waiting_period_min  travel_day  travel_month  booked_day  booked_month  \\\n",
       "8                376.0           1             1           1             1   \n",
       "20                98.0           1             1           1             1   \n",
       "23               111.0           1             1           1             1   \n",
       "34               155.0           1             1           1             1   \n",
       "47               443.0           2             1           1             1   \n",
       "\n",
       "   travel_hour booked_hour  \n",
       "8    Afternoon     Morning  \n",
       "20   Afternoon     Morning  \n",
       "23   Afternoon   Afternoon  \n",
       "34     Evening     Evening  \n",
       "47  Late Night     Evening  "
      ]
     },
     "execution_count": 20,
     "metadata": {},
     "output_type": "execute_result"
    }
   ],
   "source": [
    "data_tt3['waiting_period_min'] = (data_tt3['from_date_treated'] - data_tt3['booking_date_treated']).astype('timedelta64[m]') #new column waiting_period_min\n",
    "\n",
    "data_tt3['travel_day'] = pd.to_datetime(data_tt3['from_date_treated']).dt.dayofweek #new column travel_day\n",
    "data_tt3['travel_month'] = pd.to_datetime(data_tt3['from_date_treated']).dt.month #new column travel_month\n",
    "data_tt3['booked_day'] = pd.to_datetime(data_tt3['booking_date_treated']).dt.dayofweek #new column booked_day\n",
    "data_tt3['booked_month'] = pd.to_datetime(data_tt3['booking_date_treated']).dt.month #new column booked_month\n",
    "\n",
    "cond = [(pd.to_datetime(data_tt3['from_date_treated']).dt.hour.between(5, 8)),\n",
    "        (pd.to_datetime(data_tt3['from_date_treated']).dt.hour.between(9, 12)),\n",
    "        (pd.to_datetime(data_tt3['from_date_treated']).dt.hour.between(13, 16)),\n",
    "        (pd.to_datetime(data_tt3['from_date_treated']).dt.hour.between(17, 20)),\n",
    "        ((pd.to_datetime(data_tt3['from_date_treated']).dt.hour.between(21, 24)) | (pd.to_datetime(data_tt3['from_date_treated']).dt.hour==0)),\n",
    "        (pd.to_datetime(data_tt3['from_date_treated']).dt.hour.between(1, 4))]\n",
    "values = ['Early Morning','Morning','Afternoon','Evening','Night','Late Night']\n",
    "\n",
    "data_tt3['travel_hour'] = np.select(cond,values) #new column travel_hour\n",
    "\n",
    "\n",
    "cond = [(pd.to_datetime(data_tt3['booking_date_treated']).dt.hour.between(5, 8)),\n",
    "        (pd.to_datetime(data_tt3['booking_date_treated']).dt.hour.between(9, 12)),\n",
    "        (pd.to_datetime(data_tt3['booking_date_treated']).dt.hour.between(13, 16)),\n",
    "        (pd.to_datetime(data_tt3['booking_date_treated']).dt.hour.between(17, 20)),\n",
    "        ((pd.to_datetime(data_tt3['booking_date_treated']).dt.hour.between(21, 24)) | (pd.to_datetime(data_tt3['booking_date_treated']).dt.hour==0)),\n",
    "        (pd.to_datetime(data_tt3['booking_date_treated']).dt.hour.between(1, 4))]\n",
    "values = ['Early Morning','Morning','Afternoon','Evening','Night','Late Night']\n",
    "\n",
    "data_tt3['booked_hour'] = np.select(cond,values) #new column booked_hour\n",
    "\n",
    "data_tt3.head()"
   ]
  },
  {
   "cell_type": "markdown",
   "id": "0d048065",
   "metadata": {
    "id": "0d048065"
   },
   "source": [
    "### Checking missing values in the newly created columns"
   ]
  },
  {
   "cell_type": "code",
   "execution_count": 21,
   "id": "ac2cbd76",
   "metadata": {
    "colab": {
     "base_uri": "https://localhost:8080/"
    },
    "executionInfo": {
     "elapsed": 35,
     "status": "ok",
     "timestamp": 1703156950498,
     "user": {
      "displayName": "Gowrishankar R",
      "userId": "12173064338158270855"
     },
     "user_tz": -330
    },
    "id": "ac2cbd76",
    "outputId": "808d85f5-2fd9-4e8f-8d60-02396572b263"
   },
   "outputs": [
    {
     "data": {
      "text/plain": [
       "package_id              0\n",
       "travel_type_id          0\n",
       "from_area_id            0\n",
       "online_booking          0\n",
       "Car_Cancellation        0\n",
       "from_date_treated       0\n",
       "booking_date_treated    0\n",
       "waiting_period_min      0\n",
       "travel_day              0\n",
       "travel_month            0\n",
       "booked_day              0\n",
       "booked_month            0\n",
       "travel_hour             0\n",
       "booked_hour             0\n",
       "dtype: int64"
      ]
     },
     "execution_count": 21,
     "metadata": {},
     "output_type": "execute_result"
    }
   ],
   "source": [
    "data_tt3.isnull().sum()"
   ]
  },
  {
   "cell_type": "markdown",
   "id": "5ebbd1a7",
   "metadata": {
    "id": "5ebbd1a7"
   },
   "source": [
    "### Drop date cols"
   ]
  },
  {
   "cell_type": "code",
   "execution_count": 22,
   "id": "579d6fbe",
   "metadata": {
    "executionInfo": {
     "elapsed": 28,
     "status": "ok",
     "timestamp": 1703156950498,
     "user": {
      "displayName": "Gowrishankar R",
      "userId": "12173064338158270855"
     },
     "user_tz": -330
    },
    "id": "579d6fbe"
   },
   "outputs": [],
   "source": [
    "### Now that required info has been extracted from date, lat, long columns and new cols created, those cols can be deleted\n",
    "data_tt3=data_tt3.drop(['from_date_treated','booking_date_treated'],axis=1)"
   ]
  },
  {
   "cell_type": "markdown",
   "id": "904a6233",
   "metadata": {
    "id": "904a6233"
   },
   "source": [
    "### Analysing data proportion in newly created categorical variables"
   ]
  },
  {
   "cell_type": "code",
   "execution_count": 23,
   "id": "737662d3",
   "metadata": {
    "colab": {
     "base_uri": "https://localhost:8080/"
    },
    "executionInfo": {
     "elapsed": 30,
     "status": "ok",
     "timestamp": 1703156950500,
     "user": {
      "displayName": "Gowrishankar R",
      "userId": "12173064338158270855"
     },
     "user_tz": -330
    },
    "id": "737662d3",
    "outputId": "45e0f2b8-0e4e-41c0-ba6d-5aa726c39d18"
   },
   "outputs": [
    {
     "data": {
      "text/plain": [
       "9     12.264901\n",
       "10    11.470199\n",
       "8     11.311258\n",
       "5     10.741722\n",
       "6     10.582781\n",
       "7      9.841060\n",
       "11     7.390728\n",
       "4      7.125828\n",
       "3      7.019868\n",
       "2      6.158940\n",
       "1      6.092715\n",
       "Name: travel_month, dtype: float64"
      ]
     },
     "execution_count": 23,
     "metadata": {},
     "output_type": "execute_result"
    }
   ],
   "source": [
    "data_tt3['travel_month'].value_counts(normalize=True)*100"
   ]
  },
  {
   "cell_type": "code",
   "execution_count": 24,
   "id": "a988ea39",
   "metadata": {
    "colab": {
     "base_uri": "https://localhost:8080/"
    },
    "executionInfo": {
     "elapsed": 28,
     "status": "ok",
     "timestamp": 1703156950501,
     "user": {
      "displayName": "Gowrishankar R",
      "userId": "12173064338158270855"
     },
     "user_tz": -330
    },
    "id": "a988ea39",
    "outputId": "27ed7bda-94a3-48ef-e98a-58e9a03fa34a"
   },
   "outputs": [
    {
     "data": {
      "text/plain": [
       "9     12.172185\n",
       "8     11.576159\n",
       "10    11.483444\n",
       "5     10.701987\n",
       "6     10.476821\n",
       "7      9.880795\n",
       "4      7.245033\n",
       "11     7.059603\n",
       "3      7.006623\n",
       "1      6.211921\n",
       "2      6.185430\n",
       "Name: booked_month, dtype: float64"
      ]
     },
     "execution_count": 24,
     "metadata": {},
     "output_type": "execute_result"
    }
   ],
   "source": [
    "data_tt3['booked_month'].value_counts(normalize=True)*100"
   ]
  },
  {
   "cell_type": "code",
   "execution_count": 25,
   "id": "965788e3",
   "metadata": {
    "colab": {
     "base_uri": "https://localhost:8080/"
    },
    "executionInfo": {
     "elapsed": 25,
     "status": "ok",
     "timestamp": 1703156950501,
     "user": {
      "displayName": "Gowrishankar R",
      "userId": "12173064338158270855"
     },
     "user_tz": -330
    },
    "id": "965788e3",
    "outputId": "c1cb697c-327d-47e6-ecf6-53f7a756c15f"
   },
   "outputs": [
    {
     "data": {
      "text/plain": [
       "5    19.192053\n",
       "6    16.847682\n",
       "4    14.913907\n",
       "3    12.675497\n",
       "2    12.582781\n",
       "0    11.920530\n",
       "1    11.867550\n",
       "Name: booked_day, dtype: float64"
      ]
     },
     "execution_count": 25,
     "metadata": {},
     "output_type": "execute_result"
    }
   ],
   "source": [
    "data_tt3['booked_day'].value_counts(normalize=True)*100"
   ]
  },
  {
   "cell_type": "code",
   "execution_count": 26,
   "id": "0b7cf58f",
   "metadata": {
    "colab": {
     "base_uri": "https://localhost:8080/"
    },
    "executionInfo": {
     "elapsed": 22,
     "status": "ok",
     "timestamp": 1703156950501,
     "user": {
      "displayName": "Gowrishankar R",
      "userId": "12173064338158270855"
     },
     "user_tz": -330
    },
    "id": "0b7cf58f",
    "outputId": "aef13a48-d6f2-4113-ea9d-1c6985d25152"
   },
   "outputs": [
    {
     "data": {
      "text/plain": [
       "5    19.417219\n",
       "6    18.423841\n",
       "4    13.350993\n",
       "2    13.006623\n",
       "3    12.238411\n",
       "0    11.894040\n",
       "1    11.668874\n",
       "Name: travel_day, dtype: float64"
      ]
     },
     "execution_count": 26,
     "metadata": {},
     "output_type": "execute_result"
    }
   ],
   "source": [
    "data_tt3['travel_day'].value_counts(normalize=True)*100"
   ]
  },
  {
   "cell_type": "code",
   "execution_count": 27,
   "id": "d6a7b75d",
   "metadata": {
    "colab": {
     "base_uri": "https://localhost:8080/"
    },
    "executionInfo": {
     "elapsed": 19,
     "status": "ok",
     "timestamp": 1703156950501,
     "user": {
      "displayName": "Gowrishankar R",
      "userId": "12173064338158270855"
     },
     "user_tz": -330
    },
    "id": "d6a7b75d",
    "outputId": "8543fa6a-35ec-4166-ea58-868179beeb11"
   },
   "outputs": [
    {
     "data": {
      "text/plain": [
       "Morning          38.569536\n",
       "Afternoon        21.880795\n",
       "Early Morning    18.860927\n",
       "Evening          14.463576\n",
       "Late Night        3.364238\n",
       "Night             2.860927\n",
       "Name: travel_hour, dtype: float64"
      ]
     },
     "execution_count": 27,
     "metadata": {},
     "output_type": "execute_result"
    }
   ],
   "source": [
    "data_tt3['travel_hour'].value_counts(normalize=True)*100"
   ]
  },
  {
   "cell_type": "code",
   "execution_count": 28,
   "id": "d42b611f",
   "metadata": {
    "colab": {
     "base_uri": "https://localhost:8080/"
    },
    "executionInfo": {
     "elapsed": 18,
     "status": "ok",
     "timestamp": 1703156950502,
     "user": {
      "displayName": "Gowrishankar R",
      "userId": "12173064338158270855"
     },
     "user_tz": -330
    },
    "id": "d42b611f",
    "outputId": "860b9661-6108-4a54-aade-a263035b1cbc"
   },
   "outputs": [
    {
     "data": {
      "text/plain": [
       "Morning          30.238411\n",
       "Afternoon        21.933775\n",
       "Evening          18.622517\n",
       "Night            16.847682\n",
       "Early Morning    10.635762\n",
       "Late Night        1.721854\n",
       "Name: booked_hour, dtype: float64"
      ]
     },
     "execution_count": 28,
     "metadata": {},
     "output_type": "execute_result"
    }
   ],
   "source": [
    "data_tt3['booked_hour'].value_counts(normalize=True)*100"
   ]
  },
  {
   "cell_type": "markdown",
   "id": "b5b951e8",
   "metadata": {
    "id": "b5b951e8"
   },
   "source": [
    "### Looking for outliers if any in newly created conitnuous variable columns"
   ]
  },
  {
   "cell_type": "code",
   "execution_count": 29,
   "id": "35711a3c",
   "metadata": {
    "executionInfo": {
     "elapsed": 15,
     "status": "ok",
     "timestamp": 1703156950502,
     "user": {
      "displayName": "Gowrishankar R",
      "userId": "12173064338158270855"
     },
     "user_tz": -330
    },
    "id": "35711a3c"
   },
   "outputs": [],
   "source": [
    "def find_outliers_IQR(df):  ### function to find outliers using IQR method\n",
    "    LL,UL = find_LL_UL(df)\n",
    "    outliers = df[((df < LL) | (df > UL))]\n",
    "    return outliers\n",
    "\n",
    "def find_LL_UL(df):         ### function to find lower limit and upper limit values in the given data using IQR method\n",
    "    q1 = df.quantile(0.25)\n",
    "    q3 = df.quantile(0.75)\n",
    "    IQR = q3 - q1\n",
    "    LL = q1 - 1.5 * IQR\n",
    "    UL = q3 + 1.5 * IQR\n",
    "    return (LL,UL)"
   ]
  },
  {
   "cell_type": "markdown",
   "id": "3b7d5af7",
   "metadata": {
    "id": "3b7d5af7"
   },
   "source": [
    "##### outliers in waiting_period_min"
   ]
  },
  {
   "cell_type": "code",
   "execution_count": 30,
   "id": "6435b95b",
   "metadata": {
    "colab": {
     "base_uri": "https://localhost:8080/",
     "height": 467
    },
    "executionInfo": {
     "elapsed": 933,
     "status": "ok",
     "timestamp": 1703156951421,
     "user": {
      "displayName": "Gowrishankar R",
      "userId": "12173064338158270855"
     },
     "user_tz": -330
    },
    "id": "6435b95b",
    "outputId": "e87737ac-409c-4864-cd71-68476c0ce3f0"
   },
   "outputs": [
    {
     "data": {
      "text/plain": [
       "<Axes: xlabel='waiting_period_min'>"
      ]
     },
     "execution_count": 30,
     "metadata": {},
     "output_type": "execute_result"
    },
    {
     "data": {
      "image/png": "[encoded data removed]",
      "text/plain": [
       "<Figure size 640x480 with 1 Axes>"
      ]
     },
     "metadata": {},
     "output_type": "display_data"
    }
   ],
   "source": [
    "sns.boxplot(data=data_tt3, x='waiting_period_min') #Before treatment"
   ]
  },
  {
   "cell_type": "code",
   "execution_count": 31,
   "id": "df3ab628",
   "metadata": {
    "colab": {
     "base_uri": "https://localhost:8080/"
    },
    "executionInfo": {
     "elapsed": 20,
     "status": "ok",
     "timestamp": 1703156951421,
     "user": {
      "displayName": "Gowrishankar R",
      "userId": "12173064338158270855"
     },
     "user_tz": -330
    },
    "id": "df3ab628",
    "outputId": "b28258e7-596f-4309-8fb2-e28b9cd67fb7"
   },
   "outputs": [
    {
     "name": "stdout",
     "output_type": "stream",
     "text": [
      "Number of Outliers in Waiting Period :  612\n",
      "Percentage of outliers in Waiting Period :  8.105960264900663\n"
     ]
    }
   ],
   "source": [
    "### Find the percentage of outliers in waiting_period_min column\n",
    "outliers = find_outliers_IQR(data_tt3['waiting_period_min'])\n",
    "print(\"Number of Outliers in Waiting Period : \",outliers.shape[0])\n",
    "print(\"Percentage of outliers in Waiting Period : \", (outliers.shape[0]/data_tt3.shape[0])*100)"
   ]
  },
  {
   "cell_type": "code",
   "execution_count": 32,
   "id": "a00f5c32",
   "metadata": {
    "colab": {
     "base_uri": "https://localhost:8080/"
    },
    "executionInfo": {
     "elapsed": 15,
     "status": "ok",
     "timestamp": 1703156951421,
     "user": {
      "displayName": "Gowrishankar R",
      "userId": "12173064338158270855"
     },
     "user_tz": -330
    },
    "id": "a00f5c32",
    "outputId": "524c0058-4a08-464a-8c58-a1f13d80cde9"
   },
   "outputs": [
    {
     "name": "stdout",
     "output_type": "stream",
     "text": [
      "Negative values in waiting_period_min - Before treatment :  False    7536\n",
      "True       14\n",
      "Name: waiting_period_min, dtype: int64\n",
      "Negative values in waiting_period_min - After treatment :  False    7536\n",
      "Name: waiting_period_min, dtype: int64\n"
     ]
    }
   ],
   "source": [
    "### Negative values in waiting_period_min are due to wrong data in from_date and booked_date, so dropping the respective data\n",
    "print(\"Negative values in waiting_period_min - Before treatment : \",(data_tt3['waiting_period_min'] < 0).value_counts())\n",
    "\n",
    "data_tt3.drop(data_tt3[data_tt3['waiting_period_min']<0].index,axis=0,inplace=True)\n",
    "\n",
    "print(\"Negative values in waiting_period_min - After treatment : \",(data_tt3['waiting_period_min'] < 0).value_counts())"
   ]
  },
  {
   "cell_type": "code",
   "execution_count": 33,
   "id": "91d25042",
   "metadata": {
    "executionInfo": {
     "elapsed": 12,
     "status": "ok",
     "timestamp": 1703156951421,
     "user": {
      "displayName": "Gowrishankar R",
      "userId": "12173064338158270855"
     },
     "user_tz": -330
    },
    "id": "91d25042"
   },
   "outputs": [],
   "source": [
    "##### outlier treatment for waiting_period_min"
   ]
  },
  {
   "cell_type": "code",
   "execution_count": 34,
   "id": "9c74b91e",
   "metadata": {
    "executionInfo": {
     "elapsed": 12,
     "status": "ok",
     "timestamp": 1703156951421,
     "user": {
      "displayName": "Gowrishankar R",
      "userId": "12173064338158270855"
     },
     "user_tz": -330
    },
    "id": "9c74b91e"
   },
   "outputs": [],
   "source": [
    "### print(\"Outliers in waiting_period_min on the lower end before treatment: \",(data_tt3['waiting_period_min'] < 0).value_counts())\n",
    "\n",
    "### LL,UL = find_LL_UL(data_tt3['waiting_period_min'])\n",
    "### print(\"Outliers in waiting_period_min on the higher end before treatment: \",(data_tt3['waiting_period_min'] > UL).value_counts())"
   ]
  },
  {
   "cell_type": "code",
   "execution_count": 35,
   "id": "51e44f58",
   "metadata": {
    "executionInfo": {
     "elapsed": 12,
     "status": "ok",
     "timestamp": 1703156951421,
     "user": {
      "displayName": "Gowrishankar R",
      "userId": "12173064338158270855"
     },
     "user_tz": -330
    },
    "id": "51e44f58"
   },
   "outputs": [],
   "source": [
    "### Negative values in waiting_period_min are due to wrong data in from_date and booked_date, so dropping the respective data\n",
    "### data_tt3.drop(data_tt3[data_tt3['waiting_period_min']<0].index,axis=0,inplace=True)\n",
    "### print(\"Outliers in waiting_period_min on the lower end after treatment: \",(data_tt3['waiting_period_min'] < 0).value_counts()) ### Outliers on the lower end after treatment"
   ]
  },
  {
   "cell_type": "code",
   "execution_count": 36,
   "id": "93e9b42f",
   "metadata": {
    "executionInfo": {
     "elapsed": 13,
     "status": "ok",
     "timestamp": 1703156951422,
     "user": {
      "displayName": "Gowrishankar R",
      "userId": "12173064338158270855"
     },
     "user_tz": -330
    },
    "id": "93e9b42f"
   },
   "outputs": [],
   "source": [
    "### Outliers in waiting_period_min on the higher side more than 13%, so splitting data into with outliers and without outliers\n",
    "### to build 2 models\n",
    "### LL,UL = find_LL_UL(data_tt3['waiting_period_min'])\n",
    "### data_tt3_wpol = data_tt3[data_tt3['waiting_period_min'] > UL] ### Data with outliers in waiting_period_min\n",
    "### data_tt3 = data_tt3.drop(data_tt3[data_tt3['waiting_period_min']>UL].index,axis=0,inplace=True) ### Removing the outliers to get data without outliers in waiting_period_min"
   ]
  },
  {
   "cell_type": "code",
   "execution_count": 37,
   "id": "532844cc",
   "metadata": {
    "executionInfo": {
     "elapsed": 12,
     "status": "ok",
     "timestamp": 1703156951422,
     "user": {
      "displayName": "Gowrishankar R",
      "userId": "12173064338158270855"
     },
     "user_tz": -330
    },
    "id": "532844cc"
   },
   "outputs": [],
   "source": [
    "### sns.boxplot(data_tt3['waiting_period_min']) #After treatment"
   ]
  },
  {
   "cell_type": "markdown",
   "id": "9191abb9",
   "metadata": {
    "id": "9191abb9"
   },
   "source": [
    "###### NOTE : Outliers for the remaining data in waiting_period_min would appear iteratively, so transformation and normalisation of the data is required rather to treat outliers"
   ]
  },
  {
   "cell_type": "markdown",
   "id": "509d6be9",
   "metadata": {
    "id": "509d6be9"
   },
   "source": [
    "### Transformation of waiting_period_min using cbrt"
   ]
  },
  {
   "cell_type": "code",
   "execution_count": 38,
   "id": "139bb0a4",
   "metadata": {
    "colab": {
     "base_uri": "https://localhost:8080/",
     "height": 452
    },
    "executionInfo": {
     "elapsed": 12,
     "status": "ok",
     "timestamp": 1703156951422,
     "user": {
      "displayName": "Gowrishankar R",
      "userId": "12173064338158270855"
     },
     "user_tz": -330
    },
    "id": "139bb0a4",
    "outputId": "3986817f-eb0e-49df-f456-9a0be7b50d5a"
   },
   "outputs": [
    {
     "data": {
      "image/png": "[encoded data removed]",
      "text/plain": [
       "<Figure size 640x480 with 2 Axes>"
      ]
     },
     "metadata": {},
     "output_type": "display_data"
    }
   ],
   "source": [
    "data = data_tt3['waiting_period_min']\n",
    "\n",
    "# Perform cbrt transformation\n",
    "data_log = np.cbrt(data)\n",
    "\n",
    "# Create side-by-side histograms\n",
    "fig, axs = plt.subplots(nrows=1, ncols=2)\n",
    "axs[0].hist(data, edgecolor='black')\n",
    "axs[1].hist(data_log, edgecolor='black')\n",
    "axs[0].set_title('Original Data')\n",
    "axs[1].set_title('cbrt-Transformed Data')\n",
    "plt.show()"
   ]
  },
  {
   "cell_type": "code",
   "execution_count": 39,
   "id": "6771116b",
   "metadata": {
    "executionInfo": {
     "elapsed": 11,
     "status": "ok",
     "timestamp": 1703156951422,
     "user": {
      "displayName": "Gowrishankar R",
      "userId": "12173064338158270855"
     },
     "user_tz": -330
    },
    "id": "6771116b"
   },
   "outputs": [],
   "source": [
    "data_tt3['waiting_period_min'] = data_log ### replace actual data with transformed data"
   ]
  },
  {
   "cell_type": "code",
   "execution_count": 40,
   "id": "1df62f9b",
   "metadata": {
    "colab": {
     "base_uri": "https://localhost:8080/",
     "height": 467
    },
    "executionInfo": {
     "elapsed": 1006,
     "status": "ok",
     "timestamp": 1703156952417,
     "user": {
      "displayName": "Gowrishankar R",
      "userId": "12173064338158270855"
     },
     "user_tz": -330
    },
    "id": "1df62f9b",
    "outputId": "7997cec2-3e45-4d45-e441-d4f15c33e153"
   },
   "outputs": [
    {
     "data": {
      "text/plain": [
       "<Axes: xlabel='waiting_period_min'>"
      ]
     },
     "execution_count": 40,
     "metadata": {},
     "output_type": "execute_result"
    },
    {
     "data": {
      "image/png": "[encoded data removed]",
      "text/plain": [
       "<Figure size 640x480 with 1 Axes>"
      ]
     },
     "metadata": {},
     "output_type": "display_data"
    }
   ],
   "source": [
    "sns.boxplot(data=data_tt3, x='waiting_period_min') ### before treatment after transformation"
   ]
  },
  {
   "cell_type": "code",
   "execution_count": 41,
   "id": "ba9dd0c3",
   "metadata": {
    "colab": {
     "base_uri": "https://localhost:8080/"
    },
    "executionInfo": {
     "elapsed": 58,
     "status": "ok",
     "timestamp": 1703156952418,
     "user": {
      "displayName": "Gowrishankar R",
      "userId": "12173064338158270855"
     },
     "user_tz": -330
    },
    "id": "ba9dd0c3",
    "outputId": "62f8de7b-78da-4d64-f558-dc2e20b52edd"
   },
   "outputs": [
    {
     "name": "stdout",
     "output_type": "stream",
     "text": [
      "Number of Outliers in Waiting Period :  252\n",
      "Percentage of outliers in Waiting Period :  3.343949044585987\n"
     ]
    }
   ],
   "source": [
    "### Find the percentage of outliers in waiting_period_min column\n",
    "outliers = find_outliers_IQR(data_tt3['waiting_period_min'])\n",
    "print(\"Number of Outliers in Waiting Period : \",outliers.shape[0])\n",
    "print(\"Percentage of outliers in Waiting Period : \", (outliers.shape[0]/data_tt3.shape[0])*100)"
   ]
  },
  {
   "cell_type": "markdown",
   "id": "91f94f42",
   "metadata": {
    "id": "91f94f42"
   },
   "source": [
    "###### Outliers in waiting_period_min are >5% but <10%. So, replacing it with respective limit values"
   ]
  },
  {
   "cell_type": "code",
   "execution_count": 42,
   "id": "6aefd5a6",
   "metadata": {
    "colab": {
     "base_uri": "https://localhost:8080/"
    },
    "executionInfo": {
     "elapsed": 51,
     "status": "ok",
     "timestamp": 1703156952418,
     "user": {
      "displayName": "Gowrishankar R",
      "userId": "12173064338158270855"
     },
     "user_tz": -330
    },
    "id": "6aefd5a6",
    "outputId": "96791d9c-5cfc-4794-a398-146bb3a00b96"
   },
   "outputs": [
    {
     "name": "stdout",
     "output_type": "stream",
     "text": [
      "Lower limit and Upper limit values:  -1.8871926865913133 16.150651707181026\n"
     ]
    }
   ],
   "source": [
    "### Percentage of outliers in the data is  less than 5%\n",
    "### Outliers are only on the max side of the data, so replacing Outliers with Upper limit value\n",
    "\n",
    "LL,UL = find_LL_UL(data_tt3['waiting_period_min'])\n",
    "print(\"Lower limit and Upper limit values: \",LL,UL)\n",
    "\n",
    "data_tt3.loc[data_tt3['waiting_period_min'] > UL,'waiting_period_min'] = UL"
   ]
  },
  {
   "cell_type": "code",
   "execution_count": 43,
   "id": "ec0332a4",
   "metadata": {
    "colab": {
     "base_uri": "https://localhost:8080/",
     "height": 467
    },
    "executionInfo": {
     "elapsed": 48,
     "status": "ok",
     "timestamp": 1703156952419,
     "user": {
      "displayName": "Gowrishankar R",
      "userId": "12173064338158270855"
     },
     "user_tz": -330
    },
    "id": "ec0332a4",
    "outputId": "c2275df6-7493-4803-f320-f9add8937c67"
   },
   "outputs": [
    {
     "data": {
      "text/plain": [
       "<Axes: xlabel='waiting_period_min'>"
      ]
     },
     "execution_count": 43,
     "metadata": {},
     "output_type": "execute_result"
    },
    {
     "data": {
      "image/png": "[encoded data removed]",
      "text/plain": [
       "<Figure size 640x480 with 1 Axes>"
      ]
     },
     "metadata": {},
     "output_type": "display_data"
    }
   ],
   "source": [
    "sns.boxplot(data=data_tt3, x='waiting_period_min') # after treatment after transformation"
   ]
  },
  {
   "cell_type": "markdown",
   "id": "c1c970a0",
   "metadata": {
    "id": "c1c970a0"
   },
   "source": [
    "### Verify the pre processed data"
   ]
  },
  {
   "cell_type": "code",
   "execution_count": 44,
   "id": "0c0cc80d",
   "metadata": {
    "colab": {
     "base_uri": "https://localhost:8080/"
    },
    "executionInfo": {
     "elapsed": 43,
     "status": "ok",
     "timestamp": 1703156952419,
     "user": {
      "displayName": "Gowrishankar R",
      "userId": "12173064338158270855"
     },
     "user_tz": -330
    },
    "id": "0c0cc80d",
    "outputId": "1f4af3e9-7912-44b2-acc2-a7af92689df2"
   },
   "outputs": [
    {
     "data": {
      "text/plain": [
       "(7536, 12)"
      ]
     },
     "execution_count": 44,
     "metadata": {},
     "output_type": "execute_result"
    }
   ],
   "source": [
    "data_tt3.shape"
   ]
  },
  {
   "cell_type": "code",
   "execution_count": 45,
   "id": "71aa8fea",
   "metadata": {
    "colab": {
     "base_uri": "https://localhost:8080/"
    },
    "executionInfo": {
     "elapsed": 39,
     "status": "ok",
     "timestamp": 1703156952420,
     "user": {
      "displayName": "Gowrishankar R",
      "userId": "12173064338158270855"
     },
     "user_tz": -330
    },
    "id": "71aa8fea",
    "outputId": "95fcac18-9102-4458-df2c-837eb3e222e0"
   },
   "outputs": [
    {
     "name": "stdout",
     "output_type": "stream",
     "text": [
      "<class 'pandas.core.frame.DataFrame'>\n",
      "Int64Index: 7536 entries, 8 to 43428\n",
      "Data columns (total 12 columns):\n",
      " #   Column              Non-Null Count  Dtype  \n",
      "---  ------              --------------  -----  \n",
      " 0   package_id          7536 non-null   float64\n",
      " 1   travel_type_id      7536 non-null   int64  \n",
      " 2   from_area_id        7536 non-null   float64\n",
      " 3   online_booking      7536 non-null   int64  \n",
      " 4   Car_Cancellation    7536 non-null   int64  \n",
      " 5   waiting_period_min  7536 non-null   float64\n",
      " 6   travel_day          7536 non-null   int64  \n",
      " 7   travel_month        7536 non-null   int64  \n",
      " 8   booked_day          7536 non-null   int64  \n",
      " 9   booked_month        7536 non-null   int64  \n",
      " 10  travel_hour         7536 non-null   object \n",
      " 11  booked_hour         7536 non-null   object \n",
      "dtypes: float64(3), int64(7), object(2)\n",
      "memory usage: 765.4+ KB\n"
     ]
    }
   ],
   "source": [
    "data_tt3.info()"
   ]
  },
  {
   "cell_type": "code",
   "execution_count": 46,
   "id": "65a490db",
   "metadata": {
    "colab": {
     "base_uri": "https://localhost:8080/"
    },
    "executionInfo": {
     "elapsed": 35,
     "status": "ok",
     "timestamp": 1703156952420,
     "user": {
      "displayName": "Gowrishankar R",
      "userId": "12173064338158270855"
     },
     "user_tz": -330
    },
    "id": "65a490db",
    "outputId": "c2cc73f7-c703-4a5c-802d-de80d2c37b8f"
   },
   "outputs": [
    {
     "data": {
      "text/plain": [
       "package_id            0\n",
       "travel_type_id        0\n",
       "from_area_id          0\n",
       "online_booking        0\n",
       "Car_Cancellation      0\n",
       "waiting_period_min    0\n",
       "travel_day            0\n",
       "travel_month          0\n",
       "booked_day            0\n",
       "booked_month          0\n",
       "travel_hour           0\n",
       "booked_hour           0\n",
       "dtype: int64"
      ]
     },
     "execution_count": 46,
     "metadata": {},
     "output_type": "execute_result"
    }
   ],
   "source": [
    "data_tt3.isnull().sum()"
   ]
  },
  {
   "cell_type": "code",
   "execution_count": 47,
   "id": "19cb9fb7",
   "metadata": {
    "colab": {
     "base_uri": "https://localhost:8080/",
     "height": 206
    },
    "executionInfo": {
     "elapsed": 31,
     "status": "ok",
     "timestamp": 1703156952421,
     "user": {
      "displayName": "Gowrishankar R",
      "userId": "12173064338158270855"
     },
     "user_tz": -330
    },
    "id": "19cb9fb7",
    "outputId": "15d27db8-be23-455a-ff57-62f3fa203314"
   },
   "outputs": [
    {
     "data": {
      "text/html": [
       "<div>\n",
       "<style scoped>\n",
       "    .dataframe tbody tr th:only-of-type {\n",
       "        vertical-align: middle;\n",
       "    }\n",
       "\n",
       "    .dataframe tbody tr th {\n",
       "        vertical-align: top;\n",
       "    }\n",
       "\n",
       "    .dataframe thead th {\n",
       "        text-align: right;\n",
       "    }\n",
       "</style>\n",
       "<table border=\"1\" class=\"dataframe\">\n",
       "  <thead>\n",
       "    <tr style=\"text-align: right;\">\n",
       "      <th></th>\n",
       "      <th>package_id</th>\n",
       "      <th>travel_type_id</th>\n",
       "      <th>from_area_id</th>\n",
       "      <th>online_booking</th>\n",
       "      <th>Car_Cancellation</th>\n",
       "      <th>waiting_period_min</th>\n",
       "      <th>travel_day</th>\n",
       "      <th>travel_month</th>\n",
       "      <th>booked_day</th>\n",
       "      <th>booked_month</th>\n",
       "      <th>travel_hour</th>\n",
       "      <th>booked_hour</th>\n",
       "    </tr>\n",
       "  </thead>\n",
       "  <tbody>\n",
       "    <tr>\n",
       "      <th>8</th>\n",
       "      <td>2.0</td>\n",
       "      <td>3</td>\n",
       "      <td>448.0</td>\n",
       "      <td>0</td>\n",
       "      <td>0</td>\n",
       "      <td>7.217652</td>\n",
       "      <td>1</td>\n",
       "      <td>1</td>\n",
       "      <td>1</td>\n",
       "      <td>1</td>\n",
       "      <td>Afternoon</td>\n",
       "      <td>Morning</td>\n",
       "    </tr>\n",
       "    <tr>\n",
       "      <th>20</th>\n",
       "      <td>2.0</td>\n",
       "      <td>3</td>\n",
       "      <td>471.0</td>\n",
       "      <td>0</td>\n",
       "      <td>0</td>\n",
       "      <td>4.610436</td>\n",
       "      <td>1</td>\n",
       "      <td>1</td>\n",
       "      <td>1</td>\n",
       "      <td>1</td>\n",
       "      <td>Afternoon</td>\n",
       "      <td>Morning</td>\n",
       "    </tr>\n",
       "    <tr>\n",
       "      <th>23</th>\n",
       "      <td>1.0</td>\n",
       "      <td>3</td>\n",
       "      <td>1286.0</td>\n",
       "      <td>0</td>\n",
       "      <td>0</td>\n",
       "      <td>4.805896</td>\n",
       "      <td>1</td>\n",
       "      <td>1</td>\n",
       "      <td>1</td>\n",
       "      <td>1</td>\n",
       "      <td>Afternoon</td>\n",
       "      <td>Afternoon</td>\n",
       "    </tr>\n",
       "    <tr>\n",
       "      <th>34</th>\n",
       "      <td>1.0</td>\n",
       "      <td>3</td>\n",
       "      <td>1323.0</td>\n",
       "      <td>1</td>\n",
       "      <td>0</td>\n",
       "      <td>5.371685</td>\n",
       "      <td>1</td>\n",
       "      <td>1</td>\n",
       "      <td>1</td>\n",
       "      <td>1</td>\n",
       "      <td>Evening</td>\n",
       "      <td>Evening</td>\n",
       "    </tr>\n",
       "    <tr>\n",
       "      <th>47</th>\n",
       "      <td>2.0</td>\n",
       "      <td>3</td>\n",
       "      <td>142.0</td>\n",
       "      <td>0</td>\n",
       "      <td>0</td>\n",
       "      <td>7.623152</td>\n",
       "      <td>2</td>\n",
       "      <td>1</td>\n",
       "      <td>1</td>\n",
       "      <td>1</td>\n",
       "      <td>Late Night</td>\n",
       "      <td>Evening</td>\n",
       "    </tr>\n",
       "  </tbody>\n",
       "</table>\n",
       "</div>"
      ],
      "text/plain": [
       "    package_id  travel_type_id  from_area_id  online_booking  \\\n",
       "8          2.0               3         448.0               0   \n",
       "20         2.0               3         471.0               0   \n",
       "23         1.0               3        1286.0               0   \n",
       "34         1.0               3        1323.0               1   \n",
       "47         2.0               3         142.0               0   \n",
       "\n",
       "    Car_Cancellation  waiting_period_min  travel_day  travel_month  \\\n",
       "8                  0            7.217652           1             1   \n",
       "20                 0            4.610436           1             1   \n",
       "23                 0            4.805896           1             1   \n",
       "34                 0            5.371685           1             1   \n",
       "47                 0            7.623152           2             1   \n",
       "\n",
       "    booked_day  booked_month travel_hour booked_hour  \n",
       "8            1             1   Afternoon     Morning  \n",
       "20           1             1   Afternoon     Morning  \n",
       "23           1             1   Afternoon   Afternoon  \n",
       "34           1             1     Evening     Evening  \n",
       "47           1             1  Late Night     Evening  "
      ]
     },
     "execution_count": 47,
     "metadata": {},
     "output_type": "execute_result"
    }
   ],
   "source": [
    "data_tt3.head()"
   ]
  },
  {
   "cell_type": "code",
   "execution_count": 48,
   "id": "8af51555",
   "metadata": {
    "colab": {
     "base_uri": "https://localhost:8080/",
     "height": 175
    },
    "executionInfo": {
     "elapsed": 29,
     "status": "ok",
     "timestamp": 1703156952421,
     "user": {
      "displayName": "Gowrishankar R",
      "userId": "12173064338158270855"
     },
     "user_tz": -330
    },
    "id": "8af51555",
    "outputId": "d8ff6aab-6b84-44e4-fc06-27fc3a2ea653"
   },
   "outputs": [
    {
     "data": {
      "text/html": [
       "<div>\n",
       "<style scoped>\n",
       "    .dataframe tbody tr th:only-of-type {\n",
       "        vertical-align: middle;\n",
       "    }\n",
       "\n",
       "    .dataframe tbody tr th {\n",
       "        vertical-align: top;\n",
       "    }\n",
       "\n",
       "    .dataframe thead th {\n",
       "        text-align: right;\n",
       "    }\n",
       "</style>\n",
       "<table border=\"1\" class=\"dataframe\">\n",
       "  <thead>\n",
       "    <tr style=\"text-align: right;\">\n",
       "      <th></th>\n",
       "      <th>travel_hour</th>\n",
       "      <th>booked_hour</th>\n",
       "    </tr>\n",
       "  </thead>\n",
       "  <tbody>\n",
       "    <tr>\n",
       "      <th>count</th>\n",
       "      <td>7536</td>\n",
       "      <td>7536</td>\n",
       "    </tr>\n",
       "    <tr>\n",
       "      <th>unique</th>\n",
       "      <td>6</td>\n",
       "      <td>6</td>\n",
       "    </tr>\n",
       "    <tr>\n",
       "      <th>top</th>\n",
       "      <td>Morning</td>\n",
       "      <td>Morning</td>\n",
       "    </tr>\n",
       "    <tr>\n",
       "      <th>freq</th>\n",
       "      <td>2907</td>\n",
       "      <td>2280</td>\n",
       "    </tr>\n",
       "  </tbody>\n",
       "</table>\n",
       "</div>"
      ],
      "text/plain": [
       "       travel_hour booked_hour\n",
       "count         7536        7536\n",
       "unique           6           6\n",
       "top        Morning     Morning\n",
       "freq          2907        2280"
      ]
     },
     "execution_count": 48,
     "metadata": {},
     "output_type": "execute_result"
    }
   ],
   "source": [
    "data_tt3.describe(include='object')"
   ]
  },
  {
   "cell_type": "markdown",
   "id": "8d9c3620",
   "metadata": {
    "id": "8d9c3620"
   },
   "source": [
    "### Label encoding"
   ]
  },
  {
   "cell_type": "code",
   "execution_count": 49,
   "id": "1560d6e9",
   "metadata": {
    "colab": {
     "base_uri": "https://localhost:8080/",
     "height": 206
    },
    "executionInfo": {
     "elapsed": 27,
     "status": "ok",
     "timestamp": 1703156952421,
     "user": {
      "displayName": "Gowrishankar R",
      "userId": "12173064338158270855"
     },
     "user_tz": -330
    },
    "id": "1560d6e9",
    "outputId": "9e924253-4867-4ab3-a9c0-eb8c66e7399a"
   },
   "outputs": [
    {
     "data": {
      "text/html": [
       "<div>\n",
       "<style scoped>\n",
       "    .dataframe tbody tr th:only-of-type {\n",
       "        vertical-align: middle;\n",
       "    }\n",
       "\n",
       "    .dataframe tbody tr th {\n",
       "        vertical-align: top;\n",
       "    }\n",
       "\n",
       "    .dataframe thead th {\n",
       "        text-align: right;\n",
       "    }\n",
       "</style>\n",
       "<table border=\"1\" class=\"dataframe\">\n",
       "  <thead>\n",
       "    <tr style=\"text-align: right;\">\n",
       "      <th></th>\n",
       "      <th>package_id</th>\n",
       "      <th>travel_type_id</th>\n",
       "      <th>from_area_id</th>\n",
       "      <th>online_booking</th>\n",
       "      <th>Car_Cancellation</th>\n",
       "      <th>waiting_period_min</th>\n",
       "      <th>travel_day</th>\n",
       "      <th>travel_month</th>\n",
       "      <th>booked_day</th>\n",
       "      <th>booked_month</th>\n",
       "      <th>travel_hour</th>\n",
       "      <th>booked_hour</th>\n",
       "    </tr>\n",
       "  </thead>\n",
       "  <tbody>\n",
       "    <tr>\n",
       "      <th>8</th>\n",
       "      <td>2.0</td>\n",
       "      <td>3</td>\n",
       "      <td>448.0</td>\n",
       "      <td>0</td>\n",
       "      <td>0</td>\n",
       "      <td>7.217652</td>\n",
       "      <td>1</td>\n",
       "      <td>1</td>\n",
       "      <td>1</td>\n",
       "      <td>1</td>\n",
       "      <td>0</td>\n",
       "      <td>4</td>\n",
       "    </tr>\n",
       "    <tr>\n",
       "      <th>20</th>\n",
       "      <td>2.0</td>\n",
       "      <td>3</td>\n",
       "      <td>471.0</td>\n",
       "      <td>0</td>\n",
       "      <td>0</td>\n",
       "      <td>4.610436</td>\n",
       "      <td>1</td>\n",
       "      <td>1</td>\n",
       "      <td>1</td>\n",
       "      <td>1</td>\n",
       "      <td>0</td>\n",
       "      <td>4</td>\n",
       "    </tr>\n",
       "    <tr>\n",
       "      <th>23</th>\n",
       "      <td>1.0</td>\n",
       "      <td>3</td>\n",
       "      <td>1286.0</td>\n",
       "      <td>0</td>\n",
       "      <td>0</td>\n",
       "      <td>4.805896</td>\n",
       "      <td>1</td>\n",
       "      <td>1</td>\n",
       "      <td>1</td>\n",
       "      <td>1</td>\n",
       "      <td>0</td>\n",
       "      <td>0</td>\n",
       "    </tr>\n",
       "    <tr>\n",
       "      <th>34</th>\n",
       "      <td>1.0</td>\n",
       "      <td>3</td>\n",
       "      <td>1323.0</td>\n",
       "      <td>1</td>\n",
       "      <td>0</td>\n",
       "      <td>5.371685</td>\n",
       "      <td>1</td>\n",
       "      <td>1</td>\n",
       "      <td>1</td>\n",
       "      <td>1</td>\n",
       "      <td>2</td>\n",
       "      <td>2</td>\n",
       "    </tr>\n",
       "    <tr>\n",
       "      <th>47</th>\n",
       "      <td>2.0</td>\n",
       "      <td>3</td>\n",
       "      <td>142.0</td>\n",
       "      <td>0</td>\n",
       "      <td>0</td>\n",
       "      <td>7.623152</td>\n",
       "      <td>2</td>\n",
       "      <td>1</td>\n",
       "      <td>1</td>\n",
       "      <td>1</td>\n",
       "      <td>3</td>\n",
       "      <td>2</td>\n",
       "    </tr>\n",
       "  </tbody>\n",
       "</table>\n",
       "</div>"
      ],
      "text/plain": [
       "    package_id  travel_type_id  from_area_id  online_booking  \\\n",
       "8          2.0               3         448.0               0   \n",
       "20         2.0               3         471.0               0   \n",
       "23         1.0               3        1286.0               0   \n",
       "34         1.0               3        1323.0               1   \n",
       "47         2.0               3         142.0               0   \n",
       "\n",
       "    Car_Cancellation  waiting_period_min  travel_day  travel_month  \\\n",
       "8                  0            7.217652           1             1   \n",
       "20                 0            4.610436           1             1   \n",
       "23                 0            4.805896           1             1   \n",
       "34                 0            5.371685           1             1   \n",
       "47                 0            7.623152           2             1   \n",
       "\n",
       "    booked_day  booked_month  travel_hour  booked_hour  \n",
       "8            1             1            0            4  \n",
       "20           1             1            0            4  \n",
       "23           1             1            0            0  \n",
       "34           1             1            2            2  \n",
       "47           1             1            3            2  "
      ]
     },
     "execution_count": 49,
     "metadata": {},
     "output_type": "execute_result"
    }
   ],
   "source": [
    "from sklearn.preprocessing import LabelEncoder\n",
    "le = LabelEncoder()\n",
    "\n",
    "data_tt3['travel_hour'] = le.fit_transform(data_tt3['travel_hour'])\n",
    "data_tt3['booked_hour'] = le.fit_transform(data_tt3['booked_hour'])\n",
    "data_tt3.head()"
   ]
  },
  {
   "cell_type": "markdown",
   "id": "3ac431fd",
   "metadata": {
    "id": "3ac431fd"
   },
   "source": [
    "### Correlation Analysis"
   ]
  },
  {
   "cell_type": "code",
   "execution_count": 50,
   "id": "1a2f5992",
   "metadata": {
    "colab": {
     "base_uri": "https://localhost:8080/",
     "height": 613
    },
    "executionInfo": {
     "elapsed": 1563,
     "status": "ok",
     "timestamp": 1703156953961,
     "user": {
      "displayName": "Gowrishankar R",
      "userId": "12173064338158270855"
     },
     "user_tz": -330
    },
    "id": "1a2f5992",
    "outputId": "b41fa609-f888-4a1a-bcd9-ebf4282da79a"
   },
   "outputs": [
    {
     "data": {
      "image/png": "[encoded data removed]",
      "text/plain": [
       "<Figure size 640x480 with 2 Axes>"
      ]
     },
     "metadata": {},
     "output_type": "display_data"
    }
   ],
   "source": [
    "corrmat = data_tt3.corr()\n",
    "k = 10 #number of variables for heatmap\n",
    "cols = corrmat.nlargest(k, 'Car_Cancellation')['Car_Cancellation'].index\n",
    "cm = np.corrcoef(data_tt3[cols].values.T)\n",
    "sns.set(font_scale=1.25)\n",
    "hm = sns.heatmap(cm, cbar=True, annot=True, square=True, fmt='.2f', annot_kws={'size': 10}, yticklabels=cols.values, xticklabels=cols.values)\n",
    "plt.show()"
   ]
  },
  {
   "cell_type": "markdown",
   "id": "3eb2200b",
   "metadata": {
    "id": "3eb2200b"
   },
   "source": [
    "###### NOTE : booked_month and travel_month are highly correlated, so dropping one of it (booked_month)"
   ]
  },
  {
   "cell_type": "code",
   "execution_count": 51,
   "id": "6f920d99",
   "metadata": {
    "executionInfo": {
     "elapsed": 22,
     "status": "ok",
     "timestamp": 1703156953961,
     "user": {
      "displayName": "Gowrishankar R",
      "userId": "12173064338158270855"
     },
     "user_tz": -330
    },
    "id": "6f920d99"
   },
   "outputs": [],
   "source": [
    "data_tt3 = data_tt3.drop(['booked_month'],axis=1)"
   ]
  },
  {
   "cell_type": "markdown",
   "id": "deb9def9",
   "metadata": {
    "id": "deb9def9"
   },
   "source": [
    "### Extract features and target"
   ]
  },
  {
   "cell_type": "code",
   "execution_count": 52,
   "id": "7781fc1f",
   "metadata": {
    "executionInfo": {
     "elapsed": 21,
     "status": "ok",
     "timestamp": 1703156953962,
     "user": {
      "displayName": "Gowrishankar R",
      "userId": "12173064338158270855"
     },
     "user_tz": -330
    },
    "id": "7781fc1f"
   },
   "outputs": [],
   "source": [
    "x = data_tt3.iloc[:,data_tt3.columns != 'Car_Cancellation']\n",
    "y = data_tt3.iloc[:,data_tt3.columns == 'Car_Cancellation']"
   ]
  },
  {
   "cell_type": "markdown",
   "id": "c3220586",
   "metadata": {
    "id": "c3220586"
   },
   "source": [
    "### Scaling features before splitting"
   ]
  },
  {
   "cell_type": "code",
   "execution_count": 53,
   "id": "697a45e7",
   "metadata": {
    "executionInfo": {
     "elapsed": 21,
     "status": "ok",
     "timestamp": 1703156953962,
     "user": {
      "displayName": "Gowrishankar R",
      "userId": "12173064338158270855"
     },
     "user_tz": -330
    },
    "id": "697a45e7"
   },
   "outputs": [],
   "source": [
    "###Entire features scaling is required for some modelselections like KNN\n",
    "from sklearn.preprocessing import StandardScaler\n",
    "ss=StandardScaler()\n",
    "\n",
    "x_copy=x\n",
    "x_ss=ss.fit_transform(x_copy)\n",
    "\n",
    "y_copy=y.values.ravel()"
   ]
  },
  {
   "cell_type": "markdown",
   "id": "ff760aa0",
   "metadata": {
    "id": "ff760aa0"
   },
   "source": [
    "### Split data into training and test data"
   ]
  },
  {
   "cell_type": "code",
   "execution_count": 54,
   "id": "8e4138c7",
   "metadata": {
    "executionInfo": {
     "elapsed": 20,
     "status": "ok",
     "timestamp": 1703156953962,
     "user": {
      "displayName": "Gowrishankar R",
      "userId": "12173064338158270855"
     },
     "user_tz": -330
    },
    "id": "8e4138c7"
   },
   "outputs": [],
   "source": [
    "from sklearn.model_selection import train_test_split\n",
    "xtrain,xtest,ytrain,ytest=train_test_split(x,y,test_size=0.25)"
   ]
  },
  {
   "cell_type": "code",
   "execution_count": 55,
   "id": "2ce12593",
   "metadata": {
    "colab": {
     "base_uri": "https://localhost:8080/"
    },
    "executionInfo": {
     "elapsed": 20,
     "status": "ok",
     "timestamp": 1703156953962,
     "user": {
      "displayName": "Gowrishankar R",
      "userId": "12173064338158270855"
     },
     "user_tz": -330
    },
    "id": "2ce12593",
    "outputId": "03fe38ae-adbf-4075-c03d-8f1693dd0526"
   },
   "outputs": [
    {
     "data": {
      "text/plain": [
       "{0: 5401, 1: 251}"
      ]
     },
     "execution_count": 55,
     "metadata": {},
     "output_type": "execute_result"
    }
   ],
   "source": [
    "unique, counts = np.unique(ytrain, return_counts=True)\n",
    "result_dict = dict(zip(unique, counts))\n",
    "\n",
    "result_dict"
   ]
  },
  {
   "cell_type": "markdown",
   "id": "561cfdec",
   "metadata": {
    "id": "561cfdec"
   },
   "source": [
    "#### y_train has severe improportion in the data so using over sampling technique"
   ]
  },
  {
   "cell_type": "code",
   "execution_count": 56,
   "id": "c5f30b17",
   "metadata": {
    "executionInfo": {
     "elapsed": 15,
     "status": "ok",
     "timestamp": 1703156953962,
     "user": {
      "displayName": "Gowrishankar R",
      "userId": "12173064338158270855"
     },
     "user_tz": -330
    },
    "id": "c5f30b17"
   },
   "outputs": [],
   "source": [
    "np.random.seed(42)\n",
    "#from imblearn.over_sampling import RandomOverSampler\n",
    "#over=RandomOverSampler()\n",
    "#x_train_over, y_train_over = over.fit_resample(xtrain, ytrain)\n",
    "#ytrain=y_train_over\n",
    "\n",
    "from imblearn.over_sampling import SMOTE\n",
    "sm = SMOTE(random_state = 2)\n",
    "x_train_over, y_train_over = sm.fit_resample(xtrain, ytrain)\n",
    "ytrain=y_train_over"
   ]
  },
  {
   "cell_type": "code",
   "execution_count": 57,
   "id": "c0ea7eaa",
   "metadata": {
    "colab": {
     "base_uri": "https://localhost:8080/"
    },
    "executionInfo": {
     "elapsed": 14,
     "status": "ok",
     "timestamp": 1703156953962,
     "user": {
      "displayName": "Gowrishankar R",
      "userId": "12173064338158270855"
     },
     "user_tz": -330
    },
    "id": "c0ea7eaa",
    "outputId": "dedde71a-a5d9-426a-b888-38b240c9397c"
   },
   "outputs": [
    {
     "name": "stdout",
     "output_type": "stream",
     "text": [
      "Car_Cancellation\n",
      "0                   5401\n",
      "1                   5401\n",
      "dtype: int64\n",
      "(10802, 10)\n",
      "(10802, 1)\n"
     ]
    }
   ],
   "source": [
    "print(y_train_over.value_counts())\n",
    "\n",
    "print(x_train_over.shape)\n",
    "print(y_train_over.shape)"
   ]
  },
  {
   "cell_type": "markdown",
   "id": "d2b8f11b",
   "metadata": {
    "id": "d2b8f11b"
   },
   "source": [
    "### Feature Scaling"
   ]
  },
  {
   "cell_type": "markdown",
   "id": "d06d6deb",
   "metadata": {
    "id": "d06d6deb"
   },
   "source": [
    "#### Standard Scaler"
   ]
  },
  {
   "cell_type": "code",
   "execution_count": 58,
   "id": "b646a92b",
   "metadata": {
    "executionInfo": {
     "elapsed": 12,
     "status": "ok",
     "timestamp": 1703156953962,
     "user": {
      "displayName": "Gowrishankar R",
      "userId": "12173064338158270855"
     },
     "user_tz": -330
    },
    "id": "b646a92b"
   },
   "outputs": [],
   "source": [
    "from sklearn.preprocessing import StandardScaler\n",
    "standard_Scaler=StandardScaler()\n",
    "xtrain_ss = standard_Scaler.fit_transform(x_train_over)\n",
    "xtest_ss = standard_Scaler.transform(xtest)"
   ]
  },
  {
   "cell_type": "markdown",
   "id": "36af1921",
   "metadata": {
    "id": "36af1921"
   },
   "source": [
    "#### MinMax Scaler"
   ]
  },
  {
   "cell_type": "code",
   "execution_count": 59,
   "id": "f93df7ae",
   "metadata": {
    "executionInfo": {
     "elapsed": 13,
     "status": "ok",
     "timestamp": 1703156953963,
     "user": {
      "displayName": "Gowrishankar R",
      "userId": "12173064338158270855"
     },
     "user_tz": -330
    },
    "id": "f93df7ae"
   },
   "outputs": [],
   "source": [
    "from sklearn.preprocessing import MinMaxScaler\n",
    "minmax_Scaler=MinMaxScaler()\n",
    "xtrain_mm = minmax_Scaler.fit_transform(x_train_over)\n",
    "xtest_mm = minmax_Scaler.transform(xtest)"
   ]
  },
  {
   "cell_type": "code",
   "execution_count": 60,
   "id": "9bd1e45e",
   "metadata": {
    "executionInfo": {
     "elapsed": 12,
     "status": "ok",
     "timestamp": 1703156953963,
     "user": {
      "displayName": "Gowrishankar R",
      "userId": "12173064338158270855"
     },
     "user_tz": -330
    },
    "id": "9bd1e45e"
   },
   "outputs": [],
   "source": [
    "ytrain=ytrain.values.ravel()"
   ]
  },
  {
   "cell_type": "code",
   "execution_count": 61,
   "id": "5a29ef86",
   "metadata": {
    "executionInfo": {
     "elapsed": 12,
     "status": "ok",
     "timestamp": 1703156953963,
     "user": {
      "displayName": "Gowrishankar R",
      "userId": "12173064338158270855"
     },
     "user_tz": -330
    },
    "id": "5a29ef86"
   },
   "outputs": [],
   "source": [
    "models_res=[]"
   ]
  },
  {
   "cell_type": "code",
   "execution_count": 62,
   "id": "09958792",
   "metadata": {
    "executionInfo": {
     "elapsed": 11,
     "status": "ok",
     "timestamp": 1703156953963,
     "user": {
      "displayName": "Gowrishankar R",
      "userId": "12173064338158270855"
     },
     "user_tz": -330
    },
    "id": "09958792"
   },
   "outputs": [],
   "source": [
    "np.random.seed(30)"
   ]
  },
  {
   "cell_type": "markdown",
   "id": "RqljCdzske0v",
   "metadata": {
    "id": "RqljCdzske0v"
   },
   "source": [
    "### SVM Model"
   ]
  },
  {
   "cell_type": "code",
   "execution_count": 85,
   "id": "dc6c285e",
   "metadata": {
    "executionInfo": {
     "elapsed": 652,
     "status": "ok",
     "timestamp": 1703165776399,
     "user": {
      "displayName": "Gowrishankar R",
      "userId": "12173064338158270855"
     },
     "user_tz": -330
    },
    "id": "dc6c285e"
   },
   "outputs": [],
   "source": [
    "start=time.time()\n",
    "\n",
    "from sklearn.svm import SVC\n",
    "\n",
    "svm=SVC()\n",
    "\n",
    "## Hyper_parameter optimisation using Grid Search CV\n",
    "def svm_model_gridsearch(xtrain,ytrain):\n",
    "    # Define the hyperparameter grid\n",
    "    param_grid = {'C': [0.1, 1, 10, 100, 1000], 'gamma': [1, 0.1, 0.01, 0.001, 0.0001], 'kernel': ['rbf','poly','linear']}\n",
    "    # Perform grid search with cross-validation\n",
    "    grid_search = GridSearchCV(estimator=svm, param_grid=param_grid, scoring='accuracy', verbose=0,cv=5)\n",
    "    grid_search.fit(xtrain,ytrain)\n",
    "    return grid_search.best_params_\n",
    "\n",
    "def svm_model(xtrain,xtest,ytrain):\n",
    "    best_params = svm_model_gridsearch(xtrain,ytrain)\n",
    "    best_svm = SVC(**best_params, probability=True)\n",
    "    best_svm.fit(xtrain, ytrain)\n",
    "    y_predict=best_svm.predict(xtest)\n",
    "    y_predictproba=best_svm.predict_proba(xtest)[::,1]\n",
    "    return [y_predict,y_predictproba,best_params]\n",
    "\n",
    "def svm_model_metrices(ytest,ypredict):\n",
    "    con_matrix=confusion_matrix(ytest,ypredict)\n",
    "    accur=accuracy_score(ytest,ypredict)\n",
    "    classf_report=classification_report(ytest,ypredict)\n",
    "    f1_scr=f1_score(ytest,ypredict)\n",
    "    return [con_matrix,accur,classf_report,f1_scr]"
   ]
  },
  {
   "cell_type": "markdown",
   "id": "N31c7hrGkjlu",
   "metadata": {
    "id": "N31c7hrGkjlu"
   },
   "source": [
    "#### SVM model evaluation with Standard Scaled features"
   ]
  },
  {
   "cell_type": "code",
   "execution_count": 86,
   "id": "b1e18b6f",
   "metadata": {
    "id": "b1e18b6f",
    "scrolled": false
   },
   "outputs": [
    {
     "data": {
      "image/png": "[encoded data removed]",
      "text/plain": [
       "<Figure size 640x480 with 1 Axes>"
      ]
     },
     "metadata": {},
     "output_type": "display_data"
    },
    {
     "name": "stdout",
     "output_type": "stream",
     "text": [
      "accuracy=  {0.6422505307855626} \n",
      "\n",
      "confusion_matrix= \n",
      " [[1148  651]\n",
      " [  23   62]] \n",
      "\n",
      "classification report= \n",
      "               precision    recall  f1-score   support\n",
      "\n",
      "           0       0.98      0.64      0.77      1799\n",
      "           1       0.09      0.73      0.16        85\n",
      "\n",
      "    accuracy                           0.64      1884\n",
      "   macro avg       0.53      0.68      0.46      1884\n",
      "weighted avg       0.94      0.64      0.75      1884\n",
      "\n",
      "f1 score =  0.15538847117794485\n"
     ]
    }
   ],
   "source": [
    "y=svm_model(xtrain_ss,xtest_ss,ytrain)\n",
    "\n",
    "svm_metrices=svm_model_metrices(ytest,y[0])\n",
    "end=time.time()\n",
    "\n",
    "### Calculation of AUC and ROC\n",
    "fpr,tpr,_= roc_curve(ytest,y[1])\n",
    "auc_val = roc_auc_score(ytest,y[1])\n",
    "roc_auc_val = auc(fpr,tpr)\n",
    "\n",
    "### Plotting ROC\n",
    "plt.figure(1)\n",
    "lw=1\n",
    "plt.plot(fpr,tpr,color='orange',lw=lw,label='Random Forest (AUC = %0.2f)'%roc_auc_val)\n",
    "plt.plot([0,1],[0,1],color='blue',lw=lw,linestyle='--')\n",
    "\n",
    "plt.xlim([0.0,1.0])\n",
    "plt.ylim([0.0,1.05])\n",
    "plt.xlabel(\"False Positive Rate\")\n",
    "plt.ylabel(\"True Positive Rate\")\n",
    "plt.title(\"area Under the Curve\")\n",
    "plt.legend(loc=\"lower right\")\n",
    "plt.show()\n",
    "\n",
    "### Printing metrices\n",
    "print(f'accuracy= ',{svm_metrices[1]},'\\n')\n",
    "print(f'confusion_matrix= \\n',svm_metrices[0],'\\n')\n",
    "print(f'classification report= \\n',svm_metrices[2])\n",
    "print(f'f1 score = ',svm_metrices[3])\n",
    "time_taken=end-start\n",
    "\n",
    "models_res.append(['SVM - Standard Scaled',svm_metrices[1],auc,svm_metrices[3],time_taken,y[2]])"
   ]
  },
  {
   "cell_type": "code",
   "execution_count": null,
   "id": "51a73694",
   "metadata": {
    "id": "51a73694"
   },
   "outputs": [],
   "source": []
  },
  {
   "cell_type": "code",
   "execution_count": null,
   "id": "ada36c3a",
   "metadata": {
    "id": "ada36c3a"
   },
   "outputs": [],
   "source": []
  },
  {
   "cell_type": "code",
   "execution_count": null,
   "id": "4939b2c1",
   "metadata": {
    "id": "4939b2c1"
   },
   "outputs": [],
   "source": []
  },
  {
   "cell_type": "code",
   "execution_count": null,
   "id": "29ba32be",
   "metadata": {
    "id": "29ba32be"
   },
   "outputs": [],
   "source": []
  },
  {
   "cell_type": "code",
   "execution_count": null,
   "id": "89f06877",
   "metadata": {
    "id": "89f06877"
   },
   "outputs": [],
   "source": []
  },
  {
   "cell_type": "code",
   "execution_count": null,
   "id": "57359112",
   "metadata": {
    "id": "57359112"
   },
   "outputs": [],
   "source": []
  },
  {
   "cell_type": "code",
   "execution_count": null,
   "id": "a41796e3",
   "metadata": {
    "id": "a41796e3"
   },
   "outputs": [],
   "source": []
  },
  {
   "cell_type": "code",
   "execution_count": null,
   "id": "f3b168ed",
   "metadata": {
    "id": "f3b168ed"
   },
   "outputs": [],
   "source": []
  },
  {
   "cell_type": "code",
   "execution_count": null,
   "id": "a37b8be0",
   "metadata": {
    "id": "a37b8be0"
   },
   "outputs": [],
   "source": []
  },
  {
   "cell_type": "code",
   "execution_count": null,
   "id": "6004adc4",
   "metadata": {
    "id": "6004adc4"
   },
   "outputs": [],
   "source": []
  },
  {
   "cell_type": "code",
   "execution_count": null,
   "id": "b18e085b",
   "metadata": {
    "id": "b18e085b"
   },
   "outputs": [],
   "source": []
  },
  {
   "cell_type": "code",
   "execution_count": null,
   "id": "068c7101",
   "metadata": {
    "id": "068c7101"
   },
   "outputs": [],
   "source": []
  },
  {
   "cell_type": "code",
   "execution_count": null,
   "id": "54665d3a",
   "metadata": {
    "id": "54665d3a"
   },
   "outputs": [],
   "source": []
  },
  {
   "cell_type": "code",
   "execution_count": null,
   "id": "77a62a11",
   "metadata": {
    "id": "77a62a11"
   },
   "outputs": [],
   "source": []
  },
  {
   "cell_type": "code",
   "execution_count": null,
   "id": "978284d7",
   "metadata": {
    "id": "978284d7"
   },
   "outputs": [],
   "source": []
  },
  {
   "cell_type": "code",
   "execution_count": null,
   "id": "ab4bfd17",
   "metadata": {
    "id": "ab4bfd17"
   },
   "outputs": [],
   "source": []
  },
  {
   "cell_type": "code",
   "execution_count": null,
   "id": "86ade215",
   "metadata": {
    "id": "86ade215"
   },
   "outputs": [],
   "source": []
  },
  {
   "cell_type": "code",
   "execution_count": null,
   "id": "605b6f1d",
   "metadata": {
    "id": "605b6f1d"
   },
   "outputs": [],
   "source": []
  },
  {
   "cell_type": "code",
   "execution_count": null,
   "id": "bbbf81c6",
   "metadata": {
    "id": "bbbf81c6"
   },
   "outputs": [],
   "source": []
  },
  {
   "cell_type": "code",
   "execution_count": null,
   "id": "77fbd8d3",
   "metadata": {
    "id": "77fbd8d3"
   },
   "outputs": [],
   "source": []
  },
  {
   "cell_type": "code",
   "execution_count": null,
   "id": "2649574d",
   "metadata": {
    "id": "2649574d"
   },
   "outputs": [],
   "source": []
  },
  {
   "cell_type": "code",
   "execution_count": null,
   "id": "cd7a0cc9",
   "metadata": {
    "id": "cd7a0cc9"
   },
   "outputs": [],
   "source": []
  },
  {
   "cell_type": "code",
   "execution_count": null,
   "id": "e350ef13",
   "metadata": {
    "id": "e350ef13"
   },
   "outputs": [],
   "source": []
  },
  {
   "cell_type": "code",
   "execution_count": null,
   "id": "81c7056b",
   "metadata": {
    "id": "81c7056b"
   },
   "outputs": [],
   "source": []
  },
  {
   "cell_type": "code",
   "execution_count": null,
   "id": "8e095042",
   "metadata": {
    "id": "8e095042"
   },
   "outputs": [],
   "source": []
  },
  {
   "cell_type": "code",
   "execution_count": null,
   "id": "f98988f1",
   "metadata": {
    "id": "f98988f1"
   },
   "outputs": [],
   "source": []
  },
  {
   "cell_type": "code",
   "execution_count": null,
   "id": "c1de71bb",
   "metadata": {
    "id": "c1de71bb"
   },
   "outputs": [],
   "source": []
  },
  {
   "cell_type": "code",
   "execution_count": null,
   "id": "8a31273e",
   "metadata": {
    "id": "8a31273e"
   },
   "outputs": [],
   "source": []
  },
  {
   "cell_type": "code",
   "execution_count": null,
   "id": "84a9975f",
   "metadata": {
    "id": "84a9975f"
   },
   "outputs": [],
   "source": []
  },
  {
   "cell_type": "code",
   "execution_count": null,
   "id": "1b758438",
   "metadata": {
    "id": "1b758438"
   },
   "outputs": [],
   "source": []
  },
  {
   "cell_type": "code",
   "execution_count": null,
   "id": "d9a5b254",
   "metadata": {
    "id": "d9a5b254"
   },
   "outputs": [],
   "source": []
  },
  {
   "cell_type": "code",
   "execution_count": null,
   "id": "873fc04a",
   "metadata": {
    "id": "873fc04a"
   },
   "outputs": [],
   "source": []
  },
  {
   "cell_type": "code",
   "execution_count": null,
   "id": "96daa09c",
   "metadata": {
    "id": "96daa09c"
   },
   "outputs": [],
   "source": []
  },
  {
   "cell_type": "code",
   "execution_count": null,
   "id": "f7826477",
   "metadata": {
    "id": "f7826477"
   },
   "outputs": [],
   "source": []
  },
  {
   "cell_type": "code",
   "execution_count": null,
   "id": "fffe04cb",
   "metadata": {
    "id": "fffe04cb"
   },
   "outputs": [],
   "source": []
  },
  {
   "cell_type": "code",
   "execution_count": null,
   "id": "e8d9eca0",
   "metadata": {
    "id": "e8d9eca0"
   },
   "outputs": [],
   "source": []
  },
  {
   "cell_type": "code",
   "execution_count": null,
   "id": "f615d5aa",
   "metadata": {
    "id": "f615d5aa"
   },
   "outputs": [],
   "source": []
  },
  {
   "cell_type": "code",
   "execution_count": null,
   "id": "309e0969",
   "metadata": {
    "id": "309e0969"
   },
   "outputs": [],
   "source": []
  },
  {
   "cell_type": "code",
   "execution_count": null,
   "id": "e363d21a",
   "metadata": {
    "id": "e363d21a"
   },
   "outputs": [],
   "source": []
  },
  {
   "cell_type": "code",
   "execution_count": null,
   "id": "d22073ba",
   "metadata": {
    "id": "d22073ba"
   },
   "outputs": [],
   "source": []
  },
  {
   "cell_type": "code",
   "execution_count": null,
   "id": "eea469a2",
   "metadata": {
    "id": "eea469a2"
   },
   "outputs": [],
   "source": []
  },
  {
   "cell_type": "code",
   "execution_count": null,
   "id": "e76820df",
   "metadata": {
    "id": "e76820df"
   },
   "outputs": [],
   "source": []
  },
  {
   "cell_type": "code",
   "execution_count": null,
   "id": "5bc2b2dd",
   "metadata": {
    "id": "5bc2b2dd"
   },
   "outputs": [],
   "source": []
  },
  {
   "cell_type": "code",
   "execution_count": null,
   "id": "bd8d272f",
   "metadata": {
    "id": "bd8d272f"
   },
   "outputs": [],
   "source": []
  },
  {
   "cell_type": "code",
   "execution_count": null,
   "id": "ae5513f5",
   "metadata": {
    "id": "ae5513f5"
   },
   "outputs": [],
   "source": []
  },
  {
   "cell_type": "code",
   "execution_count": null,
   "id": "73571659",
   "metadata": {
    "id": "73571659"
   },
   "outputs": [],
   "source": []
  },
  {
   "cell_type": "code",
   "execution_count": null,
   "id": "12e8c7f8",
   "metadata": {
    "id": "12e8c7f8"
   },
   "outputs": [],
   "source": []
  },
  {
   "cell_type": "code",
   "execution_count": null,
   "id": "15d0062e",
   "metadata": {
    "id": "15d0062e"
   },
   "outputs": [],
   "source": []
  },
  {
   "cell_type": "code",
   "execution_count": null,
   "id": "0439d605",
   "metadata": {
    "id": "0439d605"
   },
   "outputs": [],
   "source": []
  },
  {
   "cell_type": "code",
   "execution_count": null,
   "id": "7db8d28e",
   "metadata": {
    "id": "7db8d28e"
   },
   "outputs": [],
   "source": []
  },
  {
   "cell_type": "code",
   "execution_count": null,
   "id": "c30b0ff3",
   "metadata": {
    "id": "c30b0ff3"
   },
   "outputs": [],
   "source": []
  },
  {
   "cell_type": "code",
   "execution_count": null,
   "id": "adfbaf57",
   "metadata": {
    "id": "adfbaf57"
   },
   "outputs": [],
   "source": []
  },
  {
   "cell_type": "code",
   "execution_count": null,
   "id": "31682ea8",
   "metadata": {
    "id": "31682ea8"
   },
   "outputs": [],
   "source": []
  },
  {
   "cell_type": "code",
   "execution_count": null,
   "id": "3dc7ff27",
   "metadata": {
    "id": "3dc7ff27"
   },
   "outputs": [],
   "source": []
  },
  {
   "cell_type": "code",
   "execution_count": null,
   "id": "c329e232",
   "metadata": {
    "id": "c329e232"
   },
   "outputs": [],
   "source": []
  },
  {
   "cell_type": "code",
   "execution_count": null,
   "id": "f3e47f8b",
   "metadata": {
    "id": "f3e47f8b"
   },
   "outputs": [],
   "source": []
  }
 ],
 "metadata": {
  "colab": {
   "provenance": []
  },
  "kernelspec": {
   "display_name": "Python 3 (ipykernel)",
   "language": "python",
   "name": "python3"
  },
  "language_info": {
   "codemirror_mode": {
    "name": "ipython",
    "version": 3
   },
   "file_extension": ".py",
   "mimetype": "text/x-python",
   "name": "python",
   "nbconvert_exporter": "python",
   "pygments_lexer": "ipython3",
   "version": "3.11.3"
  }
 },
 "nbformat": 4,
 "nbformat_minor": 5
}
