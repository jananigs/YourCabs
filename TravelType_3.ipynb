{
 "cells": [
  {
   "cell_type": "code",
   "execution_count": 1,
   "id": "4913a275",
   "metadata": {
    "execution": {
     "iopub.execute_input": "2023-12-24T01:18:35.382080Z",
     "iopub.status.busy": "2023-12-24T01:18:35.381883Z",
     "iopub.status.idle": "2023-12-24T01:18:39.244679Z",
     "shell.execute_reply": "2023-12-24T01:18:39.244069Z",
     "shell.execute_reply.started": "2023-12-24T01:18:35.382053Z"
    },
    "executionInfo": {
     "elapsed": 414,
     "status": "ok",
     "timestamp": 1703156855026,
     "user": {
      "displayName": "Gowrishankar R",
      "userId": "12173064338158270855"
     },
     "user_tz": -330
    },
    "id": "4913a275"
   },
   "outputs": [
    {
     "name": "stdout",
     "output_type": "stream",
     "text": [
      "Collecting imblearn\n",
      "  Downloading imblearn-0.0-py2.py3-none-any.whl (1.9 kB)\n",
      "Collecting imbalanced-learn (from imblearn)\n",
      "  Downloading imbalanced_learn-0.11.0-py3-none-any.whl.metadata (8.3 kB)\n",
      "Requirement already satisfied: numpy>=1.17.3 in /opt/saturncloud/envs/saturn/lib/python3.10/site-packages (from imbalanced-learn->imblearn) (1.26.2)\n",
      "Requirement already satisfied: scipy>=1.5.0 in /opt/saturncloud/envs/saturn/lib/python3.10/site-packages (from imbalanced-learn->imblearn) (1.11.4)\n",
      "Requirement already satisfied: scikit-learn>=1.0.2 in /opt/saturncloud/envs/saturn/lib/python3.10/site-packages (from imbalanced-learn->imblearn) (1.3.2)\n",
      "Requirement already satisfied: joblib>=1.1.1 in /opt/saturncloud/envs/saturn/lib/python3.10/site-packages (from imbalanced-learn->imblearn) (1.3.2)\n",
      "Requirement already satisfied: threadpoolctl>=2.0.0 in /opt/saturncloud/envs/saturn/lib/python3.10/site-packages (from imbalanced-learn->imblearn) (3.2.0)\n",
      "Downloading imbalanced_learn-0.11.0-py3-none-any.whl (235 kB)\n",
      "\u001b[2K   \u001b[90m━━━━━━━━━━━━━━━━━━━━━━━━━━━━━━━━━━━━━━━━\u001b[0m \u001b[32m235.6/235.6 kB\u001b[0m \u001b[31m5.9 MB/s\u001b[0m eta \u001b[36m0:00:00\u001b[0m00:01\u001b[0m\n",
      "\u001b[?25hInstalling collected packages: imbalanced-learn, imblearn\n",
      "Successfully installed imbalanced-learn-0.11.0 imblearn-0.0\n"
     ]
    }
   ],
   "source": [
    "%matplotlib inline\n",
    "!pip install imblearn  ## UNCOMMENT when running for the first time\n",
    "import time\n",
    "import numpy as np\n",
    "import pandas as pd\n",
    "import matplotlib.pyplot as plt\n",
    "from datetime import datetime\n",
    "import seaborn as sns\n",
    "from sklearn.model_selection import train_test_split, GridSearchCV, cross_val_score\n",
    "from sklearn.metrics import confusion_matrix, classification_report\n",
    "from sklearn.metrics import accuracy_score\n",
    "from sklearn.metrics import roc_curve, roc_auc_score, f1_score, auc, make_scorer\n",
    "\n",
    "pd.set_option('display.max_columns',25)  # to show all the columns while printing the df\n",
    "pd.set_option('display.max_rows',25)  # to show all the rows while printing the df"
   ]
  },
  {
   "cell_type": "markdown",
   "id": "0399b40b",
   "metadata": {
    "id": "0399b40b"
   },
   "source": [
    "### Load the data"
   ]
  },
  {
   "cell_type": "code",
   "execution_count": 2,
   "id": "2ac6c884",
   "metadata": {
    "colab": {
     "base_uri": "https://localhost:8080/",
     "height": 455
    },
    "execution": {
     "iopub.execute_input": "2023-12-24T01:18:39.246643Z",
     "iopub.status.busy": "2023-12-24T01:18:39.246238Z",
     "iopub.status.idle": "2023-12-24T01:18:39.391938Z",
     "shell.execute_reply": "2023-12-24T01:18:39.391287Z",
     "shell.execute_reply.started": "2023-12-24T01:18:39.246619Z"
    },
    "executionInfo": {
     "elapsed": 92413,
     "status": "ok",
     "timestamp": 1703156948700,
     "user": {
      "displayName": "Gowrishankar R",
      "userId": "12173064338158270855"
     },
     "user_tz": -330
    },
    "id": "2ac6c884",
    "outputId": "2a9b7711-ff9b-4333-f98f-2a0b7cdf8f6c"
   },
   "outputs": [
    {
     "data": {
      "text/html": [
       "<div>\n",
       "<style scoped>\n",
       "    .dataframe tbody tr th:only-of-type {\n",
       "        vertical-align: middle;\n",
       "    }\n",
       "\n",
       "    .dataframe tbody tr th {\n",
       "        vertical-align: top;\n",
       "    }\n",
       "\n",
       "    .dataframe thead th {\n",
       "        text-align: right;\n",
       "    }\n",
       "</style>\n",
       "<table border=\"1\" class=\"dataframe\">\n",
       "  <thead>\n",
       "    <tr style=\"text-align: right;\">\n",
       "      <th></th>\n",
       "      <th>id</th>\n",
       "      <th>user_id</th>\n",
       "      <th>vehicle_model_id</th>\n",
       "      <th>package_id</th>\n",
       "      <th>travel_type_id</th>\n",
       "      <th>from_area_id</th>\n",
       "      <th>to_area_id</th>\n",
       "      <th>from_city_id</th>\n",
       "      <th>to_city_id</th>\n",
       "      <th>from_date</th>\n",
       "      <th>online_booking</th>\n",
       "      <th>mobile_site_booking</th>\n",
       "      <th>booking_created</th>\n",
       "      <th>from_lat</th>\n",
       "      <th>from_long</th>\n",
       "      <th>to_lat</th>\n",
       "      <th>to_long</th>\n",
       "      <th>Car_Cancellation</th>\n",
       "    </tr>\n",
       "  </thead>\n",
       "  <tbody>\n",
       "    <tr>\n",
       "      <th>0</th>\n",
       "      <td>132512</td>\n",
       "      <td>22177</td>\n",
       "      <td>28</td>\n",
       "      <td>NaN</td>\n",
       "      <td>2</td>\n",
       "      <td>83.0</td>\n",
       "      <td>448.0</td>\n",
       "      <td>NaN</td>\n",
       "      <td>NaN</td>\n",
       "      <td>01-01-2013 02:00</td>\n",
       "      <td>0</td>\n",
       "      <td>0</td>\n",
       "      <td>01-01-2013 01:39</td>\n",
       "      <td>12.924150</td>\n",
       "      <td>77.672290</td>\n",
       "      <td>12.927320</td>\n",
       "      <td>77.635750</td>\n",
       "      <td>0</td>\n",
       "    </tr>\n",
       "    <tr>\n",
       "      <th>1</th>\n",
       "      <td>132513</td>\n",
       "      <td>21413</td>\n",
       "      <td>12</td>\n",
       "      <td>NaN</td>\n",
       "      <td>2</td>\n",
       "      <td>1010.0</td>\n",
       "      <td>540.0</td>\n",
       "      <td>NaN</td>\n",
       "      <td>NaN</td>\n",
       "      <td>01-01-2013 09:00</td>\n",
       "      <td>0</td>\n",
       "      <td>0</td>\n",
       "      <td>01-01-2013 02:25</td>\n",
       "      <td>12.966910</td>\n",
       "      <td>77.749350</td>\n",
       "      <td>12.927680</td>\n",
       "      <td>77.626640</td>\n",
       "      <td>0</td>\n",
       "    </tr>\n",
       "    <tr>\n",
       "      <th>2</th>\n",
       "      <td>132514</td>\n",
       "      <td>22178</td>\n",
       "      <td>12</td>\n",
       "      <td>NaN</td>\n",
       "      <td>2</td>\n",
       "      <td>1301.0</td>\n",
       "      <td>1034.0</td>\n",
       "      <td>NaN</td>\n",
       "      <td>NaN</td>\n",
       "      <td>01-01-2013 03:30</td>\n",
       "      <td>0</td>\n",
       "      <td>0</td>\n",
       "      <td>01-01-2013 03:08</td>\n",
       "      <td>12.937222</td>\n",
       "      <td>77.626915</td>\n",
       "      <td>13.047926</td>\n",
       "      <td>77.597766</td>\n",
       "      <td>0</td>\n",
       "    </tr>\n",
       "    <tr>\n",
       "      <th>3</th>\n",
       "      <td>132515</td>\n",
       "      <td>13034</td>\n",
       "      <td>12</td>\n",
       "      <td>NaN</td>\n",
       "      <td>2</td>\n",
       "      <td>768.0</td>\n",
       "      <td>398.0</td>\n",
       "      <td>NaN</td>\n",
       "      <td>NaN</td>\n",
       "      <td>01-01-2013 05:45</td>\n",
       "      <td>0</td>\n",
       "      <td>0</td>\n",
       "      <td>01-01-2013 04:39</td>\n",
       "      <td>12.989990</td>\n",
       "      <td>77.553320</td>\n",
       "      <td>12.971430</td>\n",
       "      <td>77.639140</td>\n",
       "      <td>0</td>\n",
       "    </tr>\n",
       "    <tr>\n",
       "      <th>4</th>\n",
       "      <td>132517</td>\n",
       "      <td>22180</td>\n",
       "      <td>12</td>\n",
       "      <td>NaN</td>\n",
       "      <td>2</td>\n",
       "      <td>1365.0</td>\n",
       "      <td>849.0</td>\n",
       "      <td>NaN</td>\n",
       "      <td>NaN</td>\n",
       "      <td>01-01-2013 09:00</td>\n",
       "      <td>0</td>\n",
       "      <td>0</td>\n",
       "      <td>01-01-2013 07:53</td>\n",
       "      <td>12.845653</td>\n",
       "      <td>77.677925</td>\n",
       "      <td>12.954340</td>\n",
       "      <td>77.600720</td>\n",
       "      <td>0</td>\n",
       "    </tr>\n",
       "  </tbody>\n",
       "</table>\n",
       "</div>"
      ],
      "text/plain": [
       "       id  user_id  vehicle_model_id  package_id  travel_type_id  \\\n",
       "0  132512    22177                28         NaN               2   \n",
       "1  132513    21413                12         NaN               2   \n",
       "2  132514    22178                12         NaN               2   \n",
       "3  132515    13034                12         NaN               2   \n",
       "4  132517    22180                12         NaN               2   \n",
       "\n",
       "   from_area_id  to_area_id  from_city_id  to_city_id         from_date  \\\n",
       "0          83.0       448.0           NaN         NaN  01-01-2013 02:00   \n",
       "1        1010.0       540.0           NaN         NaN  01-01-2013 09:00   \n",
       "2        1301.0      1034.0           NaN         NaN  01-01-2013 03:30   \n",
       "3         768.0       398.0           NaN         NaN  01-01-2013 05:45   \n",
       "4        1365.0       849.0           NaN         NaN  01-01-2013 09:00   \n",
       "\n",
       "   online_booking  mobile_site_booking   booking_created   from_lat  \\\n",
       "0               0                    0  01-01-2013 01:39  12.924150   \n",
       "1               0                    0  01-01-2013 02:25  12.966910   \n",
       "2               0                    0  01-01-2013 03:08  12.937222   \n",
       "3               0                    0  01-01-2013 04:39  12.989990   \n",
       "4               0                    0  01-01-2013 07:53  12.845653   \n",
       "\n",
       "   from_long     to_lat    to_long  Car_Cancellation  \n",
       "0  77.672290  12.927320  77.635750                 0  \n",
       "1  77.749350  12.927680  77.626640                 0  \n",
       "2  77.626915  13.047926  77.597766                 0  \n",
       "3  77.553320  12.971430  77.639140                 0  \n",
       "4  77.677925  12.954340  77.600720                 0  "
      ]
     },
     "execution_count": 2,
     "metadata": {},
     "output_type": "execute_result"
    }
   ],
   "source": [
    "data = pd.read_csv(\"YourCabs.csv\")\n",
    "data.head()"
   ]
  },
  {
   "cell_type": "markdown",
   "id": "6d264ebd",
   "metadata": {
    "id": "6d264ebd"
   },
   "source": [
    "### Verify the data"
   ]
  },
  {
   "cell_type": "code",
   "execution_count": 3,
   "id": "a8e56c4e",
   "metadata": {
    "colab": {
     "base_uri": "https://localhost:8080/"
    },
    "execution": {
     "iopub.execute_input": "2023-12-24T01:18:39.393208Z",
     "iopub.status.busy": "2023-12-24T01:18:39.392877Z",
     "iopub.status.idle": "2023-12-24T01:18:39.414525Z",
     "shell.execute_reply": "2023-12-24T01:18:39.413911Z",
     "shell.execute_reply.started": "2023-12-24T01:18:39.393186Z"
    },
    "executionInfo": {
     "elapsed": 43,
     "status": "ok",
     "timestamp": 1703156948701,
     "user": {
      "displayName": "Gowrishankar R",
      "userId": "12173064338158270855"
     },
     "user_tz": -330
    },
    "id": "a8e56c4e",
    "outputId": "224f0765-f625-4987-f77c-3007d9f77bf9"
   },
   "outputs": [
    {
     "name": "stdout",
     "output_type": "stream",
     "text": [
      "<class 'pandas.core.frame.DataFrame'>\n",
      "RangeIndex: 43431 entries, 0 to 43430\n",
      "Data columns (total 18 columns):\n",
      " #   Column               Non-Null Count  Dtype  \n",
      "---  ------               --------------  -----  \n",
      " 0   id                   43431 non-null  int64  \n",
      " 1   user_id              43431 non-null  int64  \n",
      " 2   vehicle_model_id     43431 non-null  int64  \n",
      " 3   package_id           7550 non-null   float64\n",
      " 4   travel_type_id       43431 non-null  int64  \n",
      " 5   from_area_id         43343 non-null  float64\n",
      " 6   to_area_id           34293 non-null  float64\n",
      " 7   from_city_id         16345 non-null  float64\n",
      " 8   to_city_id           1588 non-null   float64\n",
      " 9   from_date            43431 non-null  object \n",
      " 10  online_booking       43431 non-null  int64  \n",
      " 11  mobile_site_booking  43431 non-null  int64  \n",
      " 12  booking_created      43431 non-null  object \n",
      " 13  from_lat             43338 non-null  float64\n",
      " 14  from_long            43338 non-null  float64\n",
      " 15  to_lat               34293 non-null  float64\n",
      " 16  to_long              34293 non-null  float64\n",
      " 17  Car_Cancellation     43431 non-null  int64  \n",
      "dtypes: float64(9), int64(7), object(2)\n",
      "memory usage: 6.0+ MB\n"
     ]
    }
   ],
   "source": [
    "data.info()"
   ]
  },
  {
   "cell_type": "markdown",
   "id": "1c4511e9",
   "metadata": {
    "id": "1c4511e9"
   },
   "source": [
    "### Dropping columns having unique values and PII"
   ]
  },
  {
   "cell_type": "code",
   "execution_count": 4,
   "id": "ee32f3e7",
   "metadata": {
    "execution": {
     "iopub.execute_input": "2023-12-24T01:18:39.415829Z",
     "iopub.status.busy": "2023-12-24T01:18:39.415538Z",
     "iopub.status.idle": "2023-12-24T01:18:39.421831Z",
     "shell.execute_reply": "2023-12-24T01:18:39.421074Z",
     "shell.execute_reply.started": "2023-12-24T01:18:39.415807Z"
    },
    "executionInfo": {
     "elapsed": 36,
     "status": "ok",
     "timestamp": 1703156948701,
     "user": {
      "displayName": "Gowrishankar R",
      "userId": "12173064338158270855"
     },
     "user_tz": -330
    },
    "id": "ee32f3e7"
   },
   "outputs": [],
   "source": [
    "data=data.drop(['id','user_id'],axis=1)"
   ]
  },
  {
   "cell_type": "markdown",
   "id": "82071c6b",
   "metadata": {
    "id": "82071c6b"
   },
   "source": [
    "### Filtering out travel_type_id=3"
   ]
  },
  {
   "cell_type": "code",
   "execution_count": 5,
   "id": "5bccd040",
   "metadata": {
    "colab": {
     "base_uri": "https://localhost:8080/",
     "height": 399
    },
    "execution": {
     "iopub.execute_input": "2023-12-24T01:18:39.423208Z",
     "iopub.status.busy": "2023-12-24T01:18:39.422989Z",
     "iopub.status.idle": "2023-12-24T01:18:39.438472Z",
     "shell.execute_reply": "2023-12-24T01:18:39.437787Z",
     "shell.execute_reply.started": "2023-12-24T01:18:39.423181Z"
    },
    "executionInfo": {
     "elapsed": 36,
     "status": "ok",
     "timestamp": 1703156948701,
     "user": {
      "displayName": "Gowrishankar R",
      "userId": "12173064338158270855"
     },
     "user_tz": -330
    },
    "id": "5bccd040",
    "outputId": "950c3236-19d0-4d2b-9242-1a73cf217d2d"
   },
   "outputs": [
    {
     "data": {
      "text/html": [
       "<div>\n",
       "<style scoped>\n",
       "    .dataframe tbody tr th:only-of-type {\n",
       "        vertical-align: middle;\n",
       "    }\n",
       "\n",
       "    .dataframe tbody tr th {\n",
       "        vertical-align: top;\n",
       "    }\n",
       "\n",
       "    .dataframe thead th {\n",
       "        text-align: right;\n",
       "    }\n",
       "</style>\n",
       "<table border=\"1\" class=\"dataframe\">\n",
       "  <thead>\n",
       "    <tr style=\"text-align: right;\">\n",
       "      <th></th>\n",
       "      <th>vehicle_model_id</th>\n",
       "      <th>package_id</th>\n",
       "      <th>travel_type_id</th>\n",
       "      <th>from_area_id</th>\n",
       "      <th>to_area_id</th>\n",
       "      <th>from_city_id</th>\n",
       "      <th>to_city_id</th>\n",
       "      <th>from_date</th>\n",
       "      <th>online_booking</th>\n",
       "      <th>mobile_site_booking</th>\n",
       "      <th>booking_created</th>\n",
       "      <th>from_lat</th>\n",
       "      <th>from_long</th>\n",
       "      <th>to_lat</th>\n",
       "      <th>to_long</th>\n",
       "      <th>Car_Cancellation</th>\n",
       "    </tr>\n",
       "  </thead>\n",
       "  <tbody>\n",
       "    <tr>\n",
       "      <th>8</th>\n",
       "      <td>65</td>\n",
       "      <td>2.0</td>\n",
       "      <td>3</td>\n",
       "      <td>448.0</td>\n",
       "      <td>NaN</td>\n",
       "      <td>NaN</td>\n",
       "      <td>NaN</td>\n",
       "      <td>01-01-2013 16:00</td>\n",
       "      <td>0</td>\n",
       "      <td>0</td>\n",
       "      <td>01-01-2013 09:44</td>\n",
       "      <td>12.927320</td>\n",
       "      <td>77.635750</td>\n",
       "      <td>NaN</td>\n",
       "      <td>NaN</td>\n",
       "      <td>0</td>\n",
       "    </tr>\n",
       "    <tr>\n",
       "      <th>20</th>\n",
       "      <td>87</td>\n",
       "      <td>2.0</td>\n",
       "      <td>3</td>\n",
       "      <td>471.0</td>\n",
       "      <td>NaN</td>\n",
       "      <td>NaN</td>\n",
       "      <td>NaN</td>\n",
       "      <td>01-01-2013 14:30</td>\n",
       "      <td>0</td>\n",
       "      <td>0</td>\n",
       "      <td>01-01-2013 12:52</td>\n",
       "      <td>13.018540</td>\n",
       "      <td>77.635240</td>\n",
       "      <td>NaN</td>\n",
       "      <td>NaN</td>\n",
       "      <td>0</td>\n",
       "    </tr>\n",
       "    <tr>\n",
       "      <th>23</th>\n",
       "      <td>12</td>\n",
       "      <td>1.0</td>\n",
       "      <td>3</td>\n",
       "      <td>1286.0</td>\n",
       "      <td>NaN</td>\n",
       "      <td>NaN</td>\n",
       "      <td>NaN</td>\n",
       "      <td>01-01-2013 16:30</td>\n",
       "      <td>0</td>\n",
       "      <td>0</td>\n",
       "      <td>01-01-2013 14:39</td>\n",
       "      <td>12.973448</td>\n",
       "      <td>77.620320</td>\n",
       "      <td>NaN</td>\n",
       "      <td>NaN</td>\n",
       "      <td>0</td>\n",
       "    </tr>\n",
       "    <tr>\n",
       "      <th>34</th>\n",
       "      <td>12</td>\n",
       "      <td>1.0</td>\n",
       "      <td>3</td>\n",
       "      <td>1323.0</td>\n",
       "      <td>NaN</td>\n",
       "      <td>NaN</td>\n",
       "      <td>NaN</td>\n",
       "      <td>01-01-2013 20:00</td>\n",
       "      <td>1</td>\n",
       "      <td>0</td>\n",
       "      <td>01-01-2013 17:25</td>\n",
       "      <td>12.869805</td>\n",
       "      <td>77.653211</td>\n",
       "      <td>NaN</td>\n",
       "      <td>NaN</td>\n",
       "      <td>0</td>\n",
       "    </tr>\n",
       "    <tr>\n",
       "      <th>47</th>\n",
       "      <td>12</td>\n",
       "      <td>2.0</td>\n",
       "      <td>3</td>\n",
       "      <td>142.0</td>\n",
       "      <td>NaN</td>\n",
       "      <td>NaN</td>\n",
       "      <td>NaN</td>\n",
       "      <td>01-02-2013 03:00</td>\n",
       "      <td>0</td>\n",
       "      <td>0</td>\n",
       "      <td>01-01-2013 19:37</td>\n",
       "      <td>12.912810</td>\n",
       "      <td>77.609230</td>\n",
       "      <td>NaN</td>\n",
       "      <td>NaN</td>\n",
       "      <td>0</td>\n",
       "    </tr>\n",
       "  </tbody>\n",
       "</table>\n",
       "</div>"
      ],
      "text/plain": [
       "    vehicle_model_id  package_id  travel_type_id  from_area_id  to_area_id  \\\n",
       "8                 65         2.0               3         448.0         NaN   \n",
       "20                87         2.0               3         471.0         NaN   \n",
       "23                12         1.0               3        1286.0         NaN   \n",
       "34                12         1.0               3        1323.0         NaN   \n",
       "47                12         2.0               3         142.0         NaN   \n",
       "\n",
       "    from_city_id  to_city_id         from_date  online_booking  \\\n",
       "8            NaN         NaN  01-01-2013 16:00               0   \n",
       "20           NaN         NaN  01-01-2013 14:30               0   \n",
       "23           NaN         NaN  01-01-2013 16:30               0   \n",
       "34           NaN         NaN  01-01-2013 20:00               1   \n",
       "47           NaN         NaN  01-02-2013 03:00               0   \n",
       "\n",
       "    mobile_site_booking   booking_created   from_lat  from_long  to_lat  \\\n",
       "8                     0  01-01-2013 09:44  12.927320  77.635750     NaN   \n",
       "20                    0  01-01-2013 12:52  13.018540  77.635240     NaN   \n",
       "23                    0  01-01-2013 14:39  12.973448  77.620320     NaN   \n",
       "34                    0  01-01-2013 17:25  12.869805  77.653211     NaN   \n",
       "47                    0  01-01-2013 19:37  12.912810  77.609230     NaN   \n",
       "\n",
       "    to_long  Car_Cancellation  \n",
       "8       NaN                 0  \n",
       "20      NaN                 0  \n",
       "23      NaN                 0  \n",
       "34      NaN                 0  \n",
       "47      NaN                 0  "
      ]
     },
     "execution_count": 5,
     "metadata": {},
     "output_type": "execute_result"
    }
   ],
   "source": [
    "data_tt3 = data[data['travel_type_id'] == 3] # filtering the data having travel_type_id 3\n",
    "data_tt3.head()"
   ]
  },
  {
   "cell_type": "markdown",
   "id": "3f3f94aa",
   "metadata": {
    "id": "3f3f94aa"
   },
   "source": [
    "### Dropping travel_type_id which is no more required"
   ]
  },
  {
   "cell_type": "code",
   "execution_count": 6,
   "id": "86d7cd3d",
   "metadata": {
    "execution": {
     "iopub.execute_input": "2023-12-24T01:18:39.439604Z",
     "iopub.status.busy": "2023-12-24T01:18:39.439398Z",
     "iopub.status.idle": "2023-12-24T01:18:39.444012Z",
     "shell.execute_reply": "2023-12-24T01:18:39.443224Z",
     "shell.execute_reply.started": "2023-12-24T01:18:39.439585Z"
    },
    "executionInfo": {
     "elapsed": 35,
     "status": "ok",
     "timestamp": 1703156948701,
     "user": {
      "displayName": "Gowrishankar R",
      "userId": "12173064338158270855"
     },
     "user_tz": -330
    },
    "id": "86d7cd3d"
   },
   "outputs": [],
   "source": [
    "data_tt2 = data_tt3.drop(['travel_type_id'],axis=1)"
   ]
  },
  {
   "cell_type": "markdown",
   "id": "1e250c72",
   "metadata": {
    "id": "1e250c72"
   },
   "source": [
    "### Checking missing values"
   ]
  },
  {
   "cell_type": "code",
   "execution_count": 7,
   "id": "2b52d4fe",
   "metadata": {
    "colab": {
     "base_uri": "https://localhost:8080/"
    },
    "execution": {
     "iopub.execute_input": "2023-12-24T01:18:39.446512Z",
     "iopub.status.busy": "2023-12-24T01:18:39.446258Z",
     "iopub.status.idle": "2023-12-24T01:18:39.451149Z",
     "shell.execute_reply": "2023-12-24T01:18:39.450381Z",
     "shell.execute_reply.started": "2023-12-24T01:18:39.446492Z"
    },
    "executionInfo": {
     "elapsed": 34,
     "status": "ok",
     "timestamp": 1703156948701,
     "user": {
      "displayName": "Gowrishankar R",
      "userId": "12173064338158270855"
     },
     "user_tz": -330
    },
    "id": "2b52d4fe",
    "outputId": "b9a95bf6-c210-444c-fa77-9d14ae758fad"
   },
   "outputs": [
    {
     "data": {
      "text/plain": [
       "(7550, 16)"
      ]
     },
     "execution_count": 7,
     "metadata": {},
     "output_type": "execute_result"
    }
   ],
   "source": [
    "data_tt3.shape"
   ]
  },
  {
   "cell_type": "code",
   "execution_count": 8,
   "id": "59e57cb7",
   "metadata": {
    "colab": {
     "base_uri": "https://localhost:8080/"
    },
    "execution": {
     "iopub.execute_input": "2023-12-24T01:18:39.452857Z",
     "iopub.status.busy": "2023-12-24T01:18:39.452328Z",
     "iopub.status.idle": "2023-12-24T01:18:39.461013Z",
     "shell.execute_reply": "2023-12-24T01:18:39.460388Z",
     "shell.execute_reply.started": "2023-12-24T01:18:39.452823Z"
    },
    "executionInfo": {
     "elapsed": 31,
     "status": "ok",
     "timestamp": 1703156948701,
     "user": {
      "displayName": "Gowrishankar R",
      "userId": "12173064338158270855"
     },
     "user_tz": -330
    },
    "id": "59e57cb7",
    "outputId": "192eac2d-46d2-494e-d763-73d85332d89b"
   },
   "outputs": [
    {
     "data": {
      "text/plain": [
       "vehicle_model_id          0\n",
       "package_id                0\n",
       "travel_type_id            0\n",
       "from_area_id              0\n",
       "to_area_id             7550\n",
       "from_city_id           7102\n",
       "to_city_id             7550\n",
       "from_date                 0\n",
       "online_booking            0\n",
       "mobile_site_booking       0\n",
       "booking_created           0\n",
       "from_lat                  0\n",
       "from_long                 0\n",
       "to_lat                 7550\n",
       "to_long                7550\n",
       "Car_Cancellation          0\n",
       "dtype: int64"
      ]
     },
     "execution_count": 8,
     "metadata": {},
     "output_type": "execute_result"
    }
   ],
   "source": [
    "data_tt3.isnull().sum()"
   ]
  },
  {
   "cell_type": "markdown",
   "id": "3cf4d2ab",
   "metadata": {
    "id": "3cf4d2ab"
   },
   "source": [
    "### Analysing data proportion in categorical variables"
   ]
  },
  {
   "cell_type": "code",
   "execution_count": 9,
   "id": "a6cf5ee8",
   "metadata": {
    "colab": {
     "base_uri": "https://localhost:8080/"
    },
    "execution": {
     "iopub.execute_input": "2023-12-24T01:18:39.462019Z",
     "iopub.status.busy": "2023-12-24T01:18:39.461777Z",
     "iopub.status.idle": "2023-12-24T01:18:39.468155Z",
     "shell.execute_reply": "2023-12-24T01:18:39.467475Z",
     "shell.execute_reply.started": "2023-12-24T01:18:39.462000Z"
    },
    "executionInfo": {
     "elapsed": 28,
     "status": "ok",
     "timestamp": 1703156948701,
     "user": {
      "displayName": "Gowrishankar R",
      "userId": "12173064338158270855"
     },
     "user_tz": -330
    },
    "id": "a6cf5ee8",
    "outputId": "829d2d52-406b-4a6d-c8d4-6bb073684ad5"
   },
   "outputs": [
    {
     "data": {
      "text/plain": [
       "12    72.794702\n",
       "65     8.794702\n",
       "89     4.397351\n",
       "85     4.079470\n",
       "87     3.284768\n",
       "28     2.980132\n",
       "24     1.933775\n",
       "23     0.463576\n",
       "86     0.251656\n",
       "90     0.238411\n",
       "10     0.185430\n",
       "17     0.172185\n",
       "30     0.172185\n",
       "64     0.079470\n",
       "36     0.079470\n",
       "72     0.026490\n",
       "43     0.026490\n",
       "76     0.013245\n",
       "75     0.013245\n",
       "39     0.013245\n",
       "Name: vehicle_model_id, dtype: float64"
      ]
     },
     "execution_count": 9,
     "metadata": {},
     "output_type": "execute_result"
    }
   ],
   "source": [
    "data_tt3['vehicle_model_id'].value_counts(normalize=True)*100"
   ]
  },
  {
   "cell_type": "code",
   "execution_count": 10,
   "id": "b0c39e6c",
   "metadata": {
    "colab": {
     "base_uri": "https://localhost:8080/"
    },
    "execution": {
     "iopub.execute_input": "2023-12-24T01:18:39.469814Z",
     "iopub.status.busy": "2023-12-24T01:18:39.469253Z",
     "iopub.status.idle": "2023-12-24T01:18:39.477428Z",
     "shell.execute_reply": "2023-12-24T01:18:39.476744Z",
     "shell.execute_reply.started": "2023-12-24T01:18:39.469780Z"
    },
    "executionInfo": {
     "elapsed": 27,
     "status": "ok",
     "timestamp": 1703156948702,
     "user": {
      "displayName": "Gowrishankar R",
      "userId": "12173064338158270855"
     },
     "user_tz": -330
    },
    "id": "b0c39e6c",
    "outputId": "0b908fcd-ec60-424f-f979-41974d289cc2"
   },
   "outputs": [
    {
     "data": {
      "text/plain": [
       "1.0    46.397351\n",
       "2.0    35.112583\n",
       "6.0     6.649007\n",
       "4.0     5.456954\n",
       "3.0     4.966887\n",
       "7.0     1.337748\n",
       "5.0     0.079470\n",
       "Name: package_id, dtype: float64"
      ]
     },
     "execution_count": 10,
     "metadata": {},
     "output_type": "execute_result"
    }
   ],
   "source": [
    "data_tt3['package_id'].value_counts(normalize=True)*100"
   ]
  },
  {
   "cell_type": "code",
   "execution_count": 11,
   "id": "e8e4b2e1",
   "metadata": {
    "colab": {
     "base_uri": "https://localhost:8080/"
    },
    "execution": {
     "iopub.execute_input": "2023-12-24T01:18:39.478840Z",
     "iopub.status.busy": "2023-12-24T01:18:39.478490Z",
     "iopub.status.idle": "2023-12-24T01:18:39.486362Z",
     "shell.execute_reply": "2023-12-24T01:18:39.485628Z",
     "shell.execute_reply.started": "2023-12-24T01:18:39.478808Z"
    },
    "executionInfo": {
     "elapsed": 25,
     "status": "ok",
     "timestamp": 1703156948702,
     "user": {
      "displayName": "Gowrishankar R",
      "userId": "12173064338158270855"
     },
     "user_tz": -330
    },
    "id": "e8e4b2e1",
    "outputId": "509a7fdf-0e4f-4001-80e1-e3fbb5e68ae6"
   },
   "outputs": [
    {
     "data": {
      "text/plain": [
       "571.0     4.437086\n",
       "293.0     3.443709\n",
       "393.0     2.993377\n",
       "1010.0    2.516556\n",
       "58.0      1.801325\n",
       "            ...   \n",
       "1107.0    0.013245\n",
       "505.0     0.013245\n",
       "1360.0    0.013245\n",
       "181.0     0.013245\n",
       "1242.0    0.013245\n",
       "Name: from_area_id, Length: 482, dtype: float64"
      ]
     },
     "execution_count": 11,
     "metadata": {},
     "output_type": "execute_result"
    }
   ],
   "source": [
    "data_tt3['from_area_id'].value_counts(normalize=True)*100"
   ]
  },
  {
   "cell_type": "code",
   "execution_count": 12,
   "id": "0c8e237d",
   "metadata": {
    "colab": {
     "base_uri": "https://localhost:8080/"
    },
    "execution": {
     "iopub.execute_input": "2023-12-24T01:18:39.487360Z",
     "iopub.status.busy": "2023-12-24T01:18:39.487165Z",
     "iopub.status.idle": "2023-12-24T01:18:39.492676Z",
     "shell.execute_reply": "2023-12-24T01:18:39.491928Z",
     "shell.execute_reply.started": "2023-12-24T01:18:39.487341Z"
    },
    "executionInfo": {
     "elapsed": 23,
     "status": "ok",
     "timestamp": 1703156948702,
     "user": {
      "displayName": "Gowrishankar R",
      "userId": "12173064338158270855"
     },
     "user_tz": -330
    },
    "id": "0c8e237d",
    "outputId": "a482c1ad-bdf5-4ccc-e39c-d1cf458bae6f"
   },
   "outputs": [
    {
     "data": {
      "text/plain": [
       "Series([], Name: to_area_id, dtype: float64)"
      ]
     },
     "execution_count": 12,
     "metadata": {},
     "output_type": "execute_result"
    }
   ],
   "source": [
    "data_tt3['to_area_id'].value_counts(normalize=True)*100"
   ]
  },
  {
   "cell_type": "code",
   "execution_count": 13,
   "id": "0c7913f2",
   "metadata": {
    "colab": {
     "base_uri": "https://localhost:8080/"
    },
    "execution": {
     "iopub.execute_input": "2023-12-24T01:18:39.494307Z",
     "iopub.status.busy": "2023-12-24T01:18:39.494011Z",
     "iopub.status.idle": "2023-12-24T01:18:39.501544Z",
     "shell.execute_reply": "2023-12-24T01:18:39.500811Z",
     "shell.execute_reply.started": "2023-12-24T01:18:39.494275Z"
    },
    "executionInfo": {
     "elapsed": 19,
     "status": "ok",
     "timestamp": 1703156948702,
     "user": {
      "displayName": "Gowrishankar R",
      "userId": "12173064338158270855"
     },
     "user_tz": -330
    },
    "id": "0c7913f2",
    "outputId": "c44459ea-997e-4eca-a1cd-eab464e86ba1"
   },
   "outputs": [
    {
     "data": {
      "text/plain": [
       "15.0    100.0\n",
       "Name: from_city_id, dtype: float64"
      ]
     },
     "execution_count": 13,
     "metadata": {},
     "output_type": "execute_result"
    }
   ],
   "source": [
    "data_tt3['from_city_id'].value_counts(normalize=True)*100"
   ]
  },
  {
   "cell_type": "code",
   "execution_count": 14,
   "id": "20e697d5",
   "metadata": {
    "colab": {
     "base_uri": "https://localhost:8080/"
    },
    "execution": {
     "iopub.execute_input": "2023-12-24T01:18:39.503364Z",
     "iopub.status.busy": "2023-12-24T01:18:39.502796Z",
     "iopub.status.idle": "2023-12-24T01:18:39.509837Z",
     "shell.execute_reply": "2023-12-24T01:18:39.509117Z",
     "shell.execute_reply.started": "2023-12-24T01:18:39.503330Z"
    },
    "executionInfo": {
     "elapsed": 17,
     "status": "ok",
     "timestamp": 1703156948702,
     "user": {
      "displayName": "Gowrishankar R",
      "userId": "12173064338158270855"
     },
     "user_tz": -330
    },
    "id": "20e697d5",
    "outputId": "4db299a9-0c4d-4d43-ec35-e5cf892457c3"
   },
   "outputs": [
    {
     "data": {
      "text/plain": [
       "Series([], Name: to_city_id, dtype: float64)"
      ]
     },
     "execution_count": 14,
     "metadata": {},
     "output_type": "execute_result"
    }
   ],
   "source": [
    "data_tt3['to_city_id'].value_counts(normalize=True)*100"
   ]
  },
  {
   "cell_type": "code",
   "execution_count": 15,
   "id": "b79c1b2b",
   "metadata": {
    "colab": {
     "base_uri": "https://localhost:8080/"
    },
    "execution": {
     "iopub.execute_input": "2023-12-24T01:18:39.511015Z",
     "iopub.status.busy": "2023-12-24T01:18:39.510805Z",
     "iopub.status.idle": "2023-12-24T01:18:39.516904Z",
     "shell.execute_reply": "2023-12-24T01:18:39.516155Z",
     "shell.execute_reply.started": "2023-12-24T01:18:39.510996Z"
    },
    "executionInfo": {
     "elapsed": 14,
     "status": "ok",
     "timestamp": 1703156948702,
     "user": {
      "displayName": "Gowrishankar R",
      "userId": "12173064338158270855"
     },
     "user_tz": -330
    },
    "id": "b79c1b2b",
    "outputId": "b6d6b629-6092-4c29-ee4c-44c9b49de8c8"
   },
   "outputs": [
    {
     "data": {
      "text/plain": [
       "0    71.642384\n",
       "1    28.357616\n",
       "Name: online_booking, dtype: float64"
      ]
     },
     "execution_count": 15,
     "metadata": {},
     "output_type": "execute_result"
    }
   ],
   "source": [
    "data_tt3['online_booking'].value_counts(normalize=True)*100"
   ]
  },
  {
   "cell_type": "code",
   "execution_count": 16,
   "id": "abc9854e",
   "metadata": {
    "colab": {
     "base_uri": "https://localhost:8080/"
    },
    "execution": {
     "iopub.execute_input": "2023-12-24T01:18:39.518008Z",
     "iopub.status.busy": "2023-12-24T01:18:39.517760Z",
     "iopub.status.idle": "2023-12-24T01:18:39.523619Z",
     "shell.execute_reply": "2023-12-24T01:18:39.523038Z",
     "shell.execute_reply.started": "2023-12-24T01:18:39.517988Z"
    },
    "executionInfo": {
     "elapsed": 11,
     "status": "ok",
     "timestamp": 1703156948702,
     "user": {
      "displayName": "Gowrishankar R",
      "userId": "12173064338158270855"
     },
     "user_tz": -330
    },
    "id": "abc9854e",
    "outputId": "c2a770dc-a0cf-488c-a5b9-ebb6512b2e14"
   },
   "outputs": [
    {
     "data": {
      "text/plain": [
       "0    97.364238\n",
       "1     2.635762\n",
       "Name: mobile_site_booking, dtype: float64"
      ]
     },
     "execution_count": 16,
     "metadata": {},
     "output_type": "execute_result"
    }
   ],
   "source": [
    "data_tt3['mobile_site_booking'].value_counts(normalize=True)*100"
   ]
  },
  {
   "cell_type": "markdown",
   "id": "81e0fa50",
   "metadata": {
    "id": "81e0fa50"
   },
   "source": [
    "#### Deleting vehicle_model_id, package_id, mobile_site_booking, from_city_id,to_city_id columns"
   ]
  },
  {
   "cell_type": "code",
   "execution_count": 17,
   "id": "3850bd3a",
   "metadata": {
    "colab": {
     "base_uri": "https://localhost:8080/",
     "height": 206
    },
    "execution": {
     "iopub.execute_input": "2023-12-24T01:18:39.524648Z",
     "iopub.status.busy": "2023-12-24T01:18:39.524381Z",
     "iopub.status.idle": "2023-12-24T01:18:39.537242Z",
     "shell.execute_reply": "2023-12-24T01:18:39.536564Z",
     "shell.execute_reply.started": "2023-12-24T01:18:39.524628Z"
    },
    "executionInfo": {
     "elapsed": 9,
     "status": "ok",
     "timestamp": 1703156948702,
     "user": {
      "displayName": "Gowrishankar R",
      "userId": "12173064338158270855"
     },
     "user_tz": -330
    },
    "id": "3850bd3a",
    "outputId": "529c2c8f-39ba-4666-a201-15975b14e416"
   },
   "outputs": [
    {
     "data": {
      "text/html": [
       "<div>\n",
       "<style scoped>\n",
       "    .dataframe tbody tr th:only-of-type {\n",
       "        vertical-align: middle;\n",
       "    }\n",
       "\n",
       "    .dataframe tbody tr th {\n",
       "        vertical-align: top;\n",
       "    }\n",
       "\n",
       "    .dataframe thead th {\n",
       "        text-align: right;\n",
       "    }\n",
       "</style>\n",
       "<table border=\"1\" class=\"dataframe\">\n",
       "  <thead>\n",
       "    <tr style=\"text-align: right;\">\n",
       "      <th></th>\n",
       "      <th>package_id</th>\n",
       "      <th>travel_type_id</th>\n",
       "      <th>from_area_id</th>\n",
       "      <th>from_date</th>\n",
       "      <th>online_booking</th>\n",
       "      <th>booking_created</th>\n",
       "      <th>Car_Cancellation</th>\n",
       "    </tr>\n",
       "  </thead>\n",
       "  <tbody>\n",
       "    <tr>\n",
       "      <th>8</th>\n",
       "      <td>2.0</td>\n",
       "      <td>3</td>\n",
       "      <td>448.0</td>\n",
       "      <td>01-01-2013 16:00</td>\n",
       "      <td>0</td>\n",
       "      <td>01-01-2013 09:44</td>\n",
       "      <td>0</td>\n",
       "    </tr>\n",
       "    <tr>\n",
       "      <th>20</th>\n",
       "      <td>2.0</td>\n",
       "      <td>3</td>\n",
       "      <td>471.0</td>\n",
       "      <td>01-01-2013 14:30</td>\n",
       "      <td>0</td>\n",
       "      <td>01-01-2013 12:52</td>\n",
       "      <td>0</td>\n",
       "    </tr>\n",
       "    <tr>\n",
       "      <th>23</th>\n",
       "      <td>1.0</td>\n",
       "      <td>3</td>\n",
       "      <td>1286.0</td>\n",
       "      <td>01-01-2013 16:30</td>\n",
       "      <td>0</td>\n",
       "      <td>01-01-2013 14:39</td>\n",
       "      <td>0</td>\n",
       "    </tr>\n",
       "    <tr>\n",
       "      <th>34</th>\n",
       "      <td>1.0</td>\n",
       "      <td>3</td>\n",
       "      <td>1323.0</td>\n",
       "      <td>01-01-2013 20:00</td>\n",
       "      <td>1</td>\n",
       "      <td>01-01-2013 17:25</td>\n",
       "      <td>0</td>\n",
       "    </tr>\n",
       "    <tr>\n",
       "      <th>47</th>\n",
       "      <td>2.0</td>\n",
       "      <td>3</td>\n",
       "      <td>142.0</td>\n",
       "      <td>01-02-2013 03:00</td>\n",
       "      <td>0</td>\n",
       "      <td>01-01-2013 19:37</td>\n",
       "      <td>0</td>\n",
       "    </tr>\n",
       "  </tbody>\n",
       "</table>\n",
       "</div>"
      ],
      "text/plain": [
       "    package_id  travel_type_id  from_area_id         from_date  \\\n",
       "8          2.0               3         448.0  01-01-2013 16:00   \n",
       "20         2.0               3         471.0  01-01-2013 14:30   \n",
       "23         1.0               3        1286.0  01-01-2013 16:30   \n",
       "34         1.0               3        1323.0  01-01-2013 20:00   \n",
       "47         2.0               3         142.0  01-02-2013 03:00   \n",
       "\n",
       "    online_booking   booking_created  Car_Cancellation  \n",
       "8                0  01-01-2013 09:44                 0  \n",
       "20               0  01-01-2013 12:52                 0  \n",
       "23               0  01-01-2013 14:39                 0  \n",
       "34               1  01-01-2013 17:25                 0  \n",
       "47               0  01-01-2013 19:37                 0  "
      ]
     },
     "execution_count": 17,
     "metadata": {},
     "output_type": "execute_result"
    }
   ],
   "source": [
    "### Delete the below columns due to:\n",
    "### vehicle_model_id - improportionate data, leads to bias\n",
    "### to_area_id - not required for travel_type_id = 3\n",
    "### from_city_id- improportionate data, leads to bias\n",
    "### to_city_id - not required for travel_type_id = 3\n",
    "### mobile_site_booking - improportionate data, leads to bias\n",
    "### from_lat, from_long - same information as in from_area_id\n",
    "### to_lat, to_long - null values and also not mandatory for travel_type_id = 3\n",
    "\n",
    "data_tt3 = data_tt3.drop(['vehicle_model_id','to_area_id','from_city_id','to_city_id','from_lat','from_long','to_lat','to_long','mobile_site_booking'],axis=1)\n",
    "data_tt3.head()"
   ]
  },
  {
   "cell_type": "markdown",
   "id": "24bb8a76",
   "metadata": {
    "id": "24bb8a76"
   },
   "source": [
    "### Treating and extracting info from Date columns"
   ]
  },
  {
   "cell_type": "code",
   "execution_count": 18,
   "id": "d2562948",
   "metadata": {
    "colab": {
     "base_uri": "https://localhost:8080/",
     "height": 206
    },
    "execution": {
     "iopub.execute_input": "2023-12-24T01:18:39.538879Z",
     "iopub.status.busy": "2023-12-24T01:18:39.538267Z",
     "iopub.status.idle": "2023-12-24T01:18:40.554231Z",
     "shell.execute_reply": "2023-12-24T01:18:40.553528Z",
     "shell.execute_reply.started": "2023-12-24T01:18:39.538845Z"
    },
    "executionInfo": {
     "elapsed": 1803,
     "status": "ok",
     "timestamp": 1703156950497,
     "user": {
      "displayName": "Gowrishankar R",
      "userId": "12173064338158270855"
     },
     "user_tz": -330
    },
    "id": "d2562948",
    "outputId": "82c9213b-a079-45ed-d6b6-d6c93b2e21c1"
   },
   "outputs": [
    {
     "data": {
      "text/html": [
       "<div>\n",
       "<style scoped>\n",
       "    .dataframe tbody tr th:only-of-type {\n",
       "        vertical-align: middle;\n",
       "    }\n",
       "\n",
       "    .dataframe tbody tr th {\n",
       "        vertical-align: top;\n",
       "    }\n",
       "\n",
       "    .dataframe thead th {\n",
       "        text-align: right;\n",
       "    }\n",
       "</style>\n",
       "<table border=\"1\" class=\"dataframe\">\n",
       "  <thead>\n",
       "    <tr style=\"text-align: right;\">\n",
       "      <th></th>\n",
       "      <th>package_id</th>\n",
       "      <th>travel_type_id</th>\n",
       "      <th>from_area_id</th>\n",
       "      <th>from_date</th>\n",
       "      <th>online_booking</th>\n",
       "      <th>booking_created</th>\n",
       "      <th>Car_Cancellation</th>\n",
       "      <th>from_date_treated</th>\n",
       "      <th>booking_date_treated</th>\n",
       "    </tr>\n",
       "  </thead>\n",
       "  <tbody>\n",
       "    <tr>\n",
       "      <th>8</th>\n",
       "      <td>2.0</td>\n",
       "      <td>3</td>\n",
       "      <td>448.0</td>\n",
       "      <td>01-01-2013 16:00</td>\n",
       "      <td>0</td>\n",
       "      <td>01-01-2013 09:44</td>\n",
       "      <td>0</td>\n",
       "      <td>2013-01-01 16:00:00</td>\n",
       "      <td>2013-01-01 09:44:00</td>\n",
       "    </tr>\n",
       "    <tr>\n",
       "      <th>20</th>\n",
       "      <td>2.0</td>\n",
       "      <td>3</td>\n",
       "      <td>471.0</td>\n",
       "      <td>01-01-2013 14:30</td>\n",
       "      <td>0</td>\n",
       "      <td>01-01-2013 12:52</td>\n",
       "      <td>0</td>\n",
       "      <td>2013-01-01 14:30:00</td>\n",
       "      <td>2013-01-01 12:52:00</td>\n",
       "    </tr>\n",
       "    <tr>\n",
       "      <th>23</th>\n",
       "      <td>1.0</td>\n",
       "      <td>3</td>\n",
       "      <td>1286.0</td>\n",
       "      <td>01-01-2013 16:30</td>\n",
       "      <td>0</td>\n",
       "      <td>01-01-2013 14:39</td>\n",
       "      <td>0</td>\n",
       "      <td>2013-01-01 16:30:00</td>\n",
       "      <td>2013-01-01 14:39:00</td>\n",
       "    </tr>\n",
       "    <tr>\n",
       "      <th>34</th>\n",
       "      <td>1.0</td>\n",
       "      <td>3</td>\n",
       "      <td>1323.0</td>\n",
       "      <td>01-01-2013 20:00</td>\n",
       "      <td>1</td>\n",
       "      <td>01-01-2013 17:25</td>\n",
       "      <td>0</td>\n",
       "      <td>2013-01-01 20:00:00</td>\n",
       "      <td>2013-01-01 17:25:00</td>\n",
       "    </tr>\n",
       "    <tr>\n",
       "      <th>47</th>\n",
       "      <td>2.0</td>\n",
       "      <td>3</td>\n",
       "      <td>142.0</td>\n",
       "      <td>01-02-2013 03:00</td>\n",
       "      <td>0</td>\n",
       "      <td>01-01-2013 19:37</td>\n",
       "      <td>0</td>\n",
       "      <td>2013-01-02 03:00:00</td>\n",
       "      <td>2013-01-01 19:37:00</td>\n",
       "    </tr>\n",
       "  </tbody>\n",
       "</table>\n",
       "</div>"
      ],
      "text/plain": [
       "    package_id  travel_type_id  from_area_id         from_date  \\\n",
       "8          2.0               3         448.0  01-01-2013 16:00   \n",
       "20         2.0               3         471.0  01-01-2013 14:30   \n",
       "23         1.0               3        1286.0  01-01-2013 16:30   \n",
       "34         1.0               3        1323.0  01-01-2013 20:00   \n",
       "47         2.0               3         142.0  01-02-2013 03:00   \n",
       "\n",
       "    online_booking   booking_created  Car_Cancellation   from_date_treated  \\\n",
       "8                0  01-01-2013 09:44                 0 2013-01-01 16:00:00   \n",
       "20               0  01-01-2013 12:52                 0 2013-01-01 14:30:00   \n",
       "23               0  01-01-2013 14:39                 0 2013-01-01 16:30:00   \n",
       "34               1  01-01-2013 17:25                 0 2013-01-01 20:00:00   \n",
       "47               0  01-01-2013 19:37                 0 2013-01-02 03:00:00   \n",
       "\n",
       "   booking_date_treated  \n",
       "8   2013-01-01 09:44:00  \n",
       "20  2013-01-01 12:52:00  \n",
       "23  2013-01-01 14:39:00  \n",
       "34  2013-01-01 17:25:00  \n",
       "47  2013-01-01 19:37:00  "
      ]
     },
     "execution_count": 18,
     "metadata": {},
     "output_type": "execute_result"
    }
   ],
   "source": [
    "data_tt3['from_date_treated'] = pd.to_datetime(data_tt3['from_date'])\n",
    "data_tt3['booking_date_treated'] = pd.to_datetime(data_tt3['booking_created'])\n",
    "data_tt3.head()"
   ]
  },
  {
   "cell_type": "code",
   "execution_count": 19,
   "id": "626c8786",
   "metadata": {
    "execution": {
     "iopub.execute_input": "2023-12-24T01:18:40.555409Z",
     "iopub.status.busy": "2023-12-24T01:18:40.555110Z",
     "iopub.status.idle": "2023-12-24T01:18:40.559952Z",
     "shell.execute_reply": "2023-12-24T01:18:40.559258Z",
     "shell.execute_reply.started": "2023-12-24T01:18:40.555386Z"
    },
    "executionInfo": {
     "elapsed": 36,
     "status": "ok",
     "timestamp": 1703156950497,
     "user": {
      "displayName": "Gowrishankar R",
      "userId": "12173064338158270855"
     },
     "user_tz": -330
    },
    "id": "626c8786"
   },
   "outputs": [],
   "source": [
    "# After extracting required info in required format from date columns dropping the actual date columns in the data\n",
    "data_tt3 = data_tt3.drop(['from_date','booking_created'],axis=1)"
   ]
  },
  {
   "cell_type": "markdown",
   "id": "68ef37a4",
   "metadata": {
    "id": "68ef37a4"
   },
   "source": [
    "#### Creating new columns from given date columns"
   ]
  },
  {
   "cell_type": "code",
   "execution_count": 20,
   "id": "f8854a10",
   "metadata": {
    "colab": {
     "base_uri": "https://localhost:8080/",
     "height": 226
    },
    "execution": {
     "iopub.execute_input": "2023-12-24T01:18:40.561101Z",
     "iopub.status.busy": "2023-12-24T01:18:40.560817Z",
     "iopub.status.idle": "2023-12-24T01:18:40.750604Z",
     "shell.execute_reply": "2023-12-24T01:18:40.749806Z",
     "shell.execute_reply.started": "2023-12-24T01:18:40.561077Z"
    },
    "executionInfo": {
     "elapsed": 36,
     "status": "ok",
     "timestamp": 1703156950498,
     "user": {
      "displayName": "Gowrishankar R",
      "userId": "12173064338158270855"
     },
     "user_tz": -330
    },
    "id": "f8854a10",
    "outputId": "86ef8cb8-a0d1-4ea5-caaa-729b39222a51"
   },
   "outputs": [
    {
     "data": {
      "text/html": [
       "<div>\n",
       "<style scoped>\n",
       "    .dataframe tbody tr th:only-of-type {\n",
       "        vertical-align: middle;\n",
       "    }\n",
       "\n",
       "    .dataframe tbody tr th {\n",
       "        vertical-align: top;\n",
       "    }\n",
       "\n",
       "    .dataframe thead th {\n",
       "        text-align: right;\n",
       "    }\n",
       "</style>\n",
       "<table border=\"1\" class=\"dataframe\">\n",
       "  <thead>\n",
       "    <tr style=\"text-align: right;\">\n",
       "      <th></th>\n",
       "      <th>package_id</th>\n",
       "      <th>travel_type_id</th>\n",
       "      <th>from_area_id</th>\n",
       "      <th>online_booking</th>\n",
       "      <th>Car_Cancellation</th>\n",
       "      <th>from_date_treated</th>\n",
       "      <th>booking_date_treated</th>\n",
       "      <th>waiting_period_min</th>\n",
       "      <th>travel_day</th>\n",
       "      <th>travel_month</th>\n",
       "      <th>booked_day</th>\n",
       "      <th>booked_month</th>\n",
       "      <th>travel_hour</th>\n",
       "      <th>booked_hour</th>\n",
       "    </tr>\n",
       "  </thead>\n",
       "  <tbody>\n",
       "    <tr>\n",
       "      <th>8</th>\n",
       "      <td>2.0</td>\n",
       "      <td>3</td>\n",
       "      <td>448.0</td>\n",
       "      <td>0</td>\n",
       "      <td>0</td>\n",
       "      <td>2013-01-01 16:00:00</td>\n",
       "      <td>2013-01-01 09:44:00</td>\n",
       "      <td>376.0</td>\n",
       "      <td>1</td>\n",
       "      <td>1</td>\n",
       "      <td>1</td>\n",
       "      <td>1</td>\n",
       "      <td>Afternoon</td>\n",
       "      <td>Morning</td>\n",
       "    </tr>\n",
       "    <tr>\n",
       "      <th>20</th>\n",
       "      <td>2.0</td>\n",
       "      <td>3</td>\n",
       "      <td>471.0</td>\n",
       "      <td>0</td>\n",
       "      <td>0</td>\n",
       "      <td>2013-01-01 14:30:00</td>\n",
       "      <td>2013-01-01 12:52:00</td>\n",
       "      <td>98.0</td>\n",
       "      <td>1</td>\n",
       "      <td>1</td>\n",
       "      <td>1</td>\n",
       "      <td>1</td>\n",
       "      <td>Afternoon</td>\n",
       "      <td>Morning</td>\n",
       "    </tr>\n",
       "    <tr>\n",
       "      <th>23</th>\n",
       "      <td>1.0</td>\n",
       "      <td>3</td>\n",
       "      <td>1286.0</td>\n",
       "      <td>0</td>\n",
       "      <td>0</td>\n",
       "      <td>2013-01-01 16:30:00</td>\n",
       "      <td>2013-01-01 14:39:00</td>\n",
       "      <td>111.0</td>\n",
       "      <td>1</td>\n",
       "      <td>1</td>\n",
       "      <td>1</td>\n",
       "      <td>1</td>\n",
       "      <td>Afternoon</td>\n",
       "      <td>Afternoon</td>\n",
       "    </tr>\n",
       "    <tr>\n",
       "      <th>34</th>\n",
       "      <td>1.0</td>\n",
       "      <td>3</td>\n",
       "      <td>1323.0</td>\n",
       "      <td>1</td>\n",
       "      <td>0</td>\n",
       "      <td>2013-01-01 20:00:00</td>\n",
       "      <td>2013-01-01 17:25:00</td>\n",
       "      <td>155.0</td>\n",
       "      <td>1</td>\n",
       "      <td>1</td>\n",
       "      <td>1</td>\n",
       "      <td>1</td>\n",
       "      <td>Evening</td>\n",
       "      <td>Evening</td>\n",
       "    </tr>\n",
       "    <tr>\n",
       "      <th>47</th>\n",
       "      <td>2.0</td>\n",
       "      <td>3</td>\n",
       "      <td>142.0</td>\n",
       "      <td>0</td>\n",
       "      <td>0</td>\n",
       "      <td>2013-01-02 03:00:00</td>\n",
       "      <td>2013-01-01 19:37:00</td>\n",
       "      <td>443.0</td>\n",
       "      <td>2</td>\n",
       "      <td>1</td>\n",
       "      <td>1</td>\n",
       "      <td>1</td>\n",
       "      <td>Late Night</td>\n",
       "      <td>Evening</td>\n",
       "    </tr>\n",
       "  </tbody>\n",
       "</table>\n",
       "</div>"
      ],
      "text/plain": [
       "    package_id  travel_type_id  from_area_id  online_booking  \\\n",
       "8          2.0               3         448.0               0   \n",
       "20         2.0               3         471.0               0   \n",
       "23         1.0               3        1286.0               0   \n",
       "34         1.0               3        1323.0               1   \n",
       "47         2.0               3         142.0               0   \n",
       "\n",
       "    Car_Cancellation   from_date_treated booking_date_treated  \\\n",
       "8                  0 2013-01-01 16:00:00  2013-01-01 09:44:00   \n",
       "20                 0 2013-01-01 14:30:00  2013-01-01 12:52:00   \n",
       "23                 0 2013-01-01 16:30:00  2013-01-01 14:39:00   \n",
       "34                 0 2013-01-01 20:00:00  2013-01-01 17:25:00   \n",
       "47                 0 2013-01-02 03:00:00  2013-01-01 19:37:00   \n",
       "\n",
       "    waiting_period_min  travel_day  travel_month  booked_day  booked_month  \\\n",
       "8                376.0           1             1           1             1   \n",
       "20                98.0           1             1           1             1   \n",
       "23               111.0           1             1           1             1   \n",
       "34               155.0           1             1           1             1   \n",
       "47               443.0           2             1           1             1   \n",
       "\n",
       "   travel_hour booked_hour  \n",
       "8    Afternoon     Morning  \n",
       "20   Afternoon     Morning  \n",
       "23   Afternoon   Afternoon  \n",
       "34     Evening     Evening  \n",
       "47  Late Night     Evening  "
      ]
     },
     "execution_count": 20,
     "metadata": {},
     "output_type": "execute_result"
    }
   ],
   "source": [
    "data_tt3['waiting_period_min'] = (data_tt3['from_date_treated'] - data_tt3['booking_date_treated']).astype('timedelta64[m]') #new column waiting_period_min\n",
    "\n",
    "data_tt3['travel_day'] = pd.to_datetime(data_tt3['from_date_treated']).dt.dayofweek #new column travel_day\n",
    "data_tt3['travel_month'] = pd.to_datetime(data_tt3['from_date_treated']).dt.month #new column travel_month\n",
    "data_tt3['booked_day'] = pd.to_datetime(data_tt3['booking_date_treated']).dt.dayofweek #new column booked_day\n",
    "data_tt3['booked_month'] = pd.to_datetime(data_tt3['booking_date_treated']).dt.month #new column booked_month\n",
    "\n",
    "cond = [(pd.to_datetime(data_tt3['from_date_treated']).dt.hour.between(5, 8)),\n",
    "        (pd.to_datetime(data_tt3['from_date_treated']).dt.hour.between(9, 12)),\n",
    "        (pd.to_datetime(data_tt3['from_date_treated']).dt.hour.between(13, 16)),\n",
    "        (pd.to_datetime(data_tt3['from_date_treated']).dt.hour.between(17, 20)),\n",
    "        ((pd.to_datetime(data_tt3['from_date_treated']).dt.hour.between(21, 24)) | (pd.to_datetime(data_tt3['from_date_treated']).dt.hour==0)),\n",
    "        (pd.to_datetime(data_tt3['from_date_treated']).dt.hour.between(1, 4))]\n",
    "values = ['Early Morning','Morning','Afternoon','Evening','Night','Late Night']\n",
    "\n",
    "data_tt3['travel_hour'] = np.select(cond,values) #new column travel_hour\n",
    "\n",
    "\n",
    "cond = [(pd.to_datetime(data_tt3['booking_date_treated']).dt.hour.between(5, 8)),\n",
    "        (pd.to_datetime(data_tt3['booking_date_treated']).dt.hour.between(9, 12)),\n",
    "        (pd.to_datetime(data_tt3['booking_date_treated']).dt.hour.between(13, 16)),\n",
    "        (pd.to_datetime(data_tt3['booking_date_treated']).dt.hour.between(17, 20)),\n",
    "        ((pd.to_datetime(data_tt3['booking_date_treated']).dt.hour.between(21, 24)) | (pd.to_datetime(data_tt3['booking_date_treated']).dt.hour==0)),\n",
    "        (pd.to_datetime(data_tt3['booking_date_treated']).dt.hour.between(1, 4))]\n",
    "values = ['Early Morning','Morning','Afternoon','Evening','Night','Late Night']\n",
    "\n",
    "data_tt3['booked_hour'] = np.select(cond,values) #new column booked_hour\n",
    "\n",
    "data_tt3.head()"
   ]
  },
  {
   "cell_type": "markdown",
   "id": "0d048065",
   "metadata": {
    "id": "0d048065"
   },
   "source": [
    "### Checking missing values in the newly created columns"
   ]
  },
  {
   "cell_type": "code",
   "execution_count": 21,
   "id": "ac2cbd76",
   "metadata": {
    "colab": {
     "base_uri": "https://localhost:8080/"
    },
    "execution": {
     "iopub.execute_input": "2023-12-24T01:18:40.751799Z",
     "iopub.status.busy": "2023-12-24T01:18:40.751509Z",
     "iopub.status.idle": "2023-12-24T01:18:40.762421Z",
     "shell.execute_reply": "2023-12-24T01:18:40.761670Z",
     "shell.execute_reply.started": "2023-12-24T01:18:40.751778Z"
    },
    "executionInfo": {
     "elapsed": 35,
     "status": "ok",
     "timestamp": 1703156950498,
     "user": {
      "displayName": "Gowrishankar R",
      "userId": "12173064338158270855"
     },
     "user_tz": -330
    },
    "id": "ac2cbd76",
    "outputId": "808d85f5-2fd9-4e8f-8d60-02396572b263"
   },
   "outputs": [
    {
     "data": {
      "text/plain": [
       "package_id              0\n",
       "travel_type_id          0\n",
       "from_area_id            0\n",
       "online_booking          0\n",
       "Car_Cancellation        0\n",
       "from_date_treated       0\n",
       "booking_date_treated    0\n",
       "waiting_period_min      0\n",
       "travel_day              0\n",
       "travel_month            0\n",
       "booked_day              0\n",
       "booked_month            0\n",
       "travel_hour             0\n",
       "booked_hour             0\n",
       "dtype: int64"
      ]
     },
     "execution_count": 21,
     "metadata": {},
     "output_type": "execute_result"
    }
   ],
   "source": [
    "data_tt3.isnull().sum()"
   ]
  },
  {
   "cell_type": "markdown",
   "id": "5ebbd1a7",
   "metadata": {
    "id": "5ebbd1a7"
   },
   "source": [
    "### Drop date cols"
   ]
  },
  {
   "cell_type": "code",
   "execution_count": 22,
   "id": "579d6fbe",
   "metadata": {
    "execution": {
     "iopub.execute_input": "2023-12-24T01:18:40.766628Z",
     "iopub.status.busy": "2023-12-24T01:18:40.766368Z",
     "iopub.status.idle": "2023-12-24T01:18:40.770886Z",
     "shell.execute_reply": "2023-12-24T01:18:40.770299Z",
     "shell.execute_reply.started": "2023-12-24T01:18:40.766609Z"
    },
    "executionInfo": {
     "elapsed": 28,
     "status": "ok",
     "timestamp": 1703156950498,
     "user": {
      "displayName": "Gowrishankar R",
      "userId": "12173064338158270855"
     },
     "user_tz": -330
    },
    "id": "579d6fbe"
   },
   "outputs": [],
   "source": [
    "### Now that required info has been extracted from date, lat, long columns and new cols created, those cols can be deleted\n",
    "data_tt3=data_tt3.drop(['from_date_treated','booking_date_treated'],axis=1)"
   ]
  },
  {
   "cell_type": "markdown",
   "id": "904a6233",
   "metadata": {
    "id": "904a6233"
   },
   "source": [
    "### Analysing data proportion in newly created categorical variables"
   ]
  },
  {
   "cell_type": "code",
   "execution_count": 23,
   "id": "737662d3",
   "metadata": {
    "colab": {
     "base_uri": "https://localhost:8080/"
    },
    "execution": {
     "iopub.execute_input": "2023-12-24T01:18:40.771966Z",
     "iopub.status.busy": "2023-12-24T01:18:40.771679Z",
     "iopub.status.idle": "2023-12-24T01:18:40.778126Z",
     "shell.execute_reply": "2023-12-24T01:18:40.777496Z",
     "shell.execute_reply.started": "2023-12-24T01:18:40.771946Z"
    },
    "executionInfo": {
     "elapsed": 30,
     "status": "ok",
     "timestamp": 1703156950500,
     "user": {
      "displayName": "Gowrishankar R",
      "userId": "12173064338158270855"
     },
     "user_tz": -330
    },
    "id": "737662d3",
    "outputId": "45e0f2b8-0e4e-41c0-ba6d-5aa726c39d18"
   },
   "outputs": [
    {
     "data": {
      "text/plain": [
       "9     12.264901\n",
       "10    11.470199\n",
       "8     11.311258\n",
       "5     10.741722\n",
       "6     10.582781\n",
       "7      9.841060\n",
       "11     7.390728\n",
       "4      7.125828\n",
       "3      7.019868\n",
       "2      6.158940\n",
       "1      6.092715\n",
       "Name: travel_month, dtype: float64"
      ]
     },
     "execution_count": 23,
     "metadata": {},
     "output_type": "execute_result"
    }
   ],
   "source": [
    "data_tt3['travel_month'].value_counts(normalize=True)*100"
   ]
  },
  {
   "cell_type": "code",
   "execution_count": 24,
   "id": "a988ea39",
   "metadata": {
    "colab": {
     "base_uri": "https://localhost:8080/"
    },
    "execution": {
     "iopub.execute_input": "2023-12-24T01:18:40.779282Z",
     "iopub.status.busy": "2023-12-24T01:18:40.779015Z",
     "iopub.status.idle": "2023-12-24T01:18:40.784839Z",
     "shell.execute_reply": "2023-12-24T01:18:40.784245Z",
     "shell.execute_reply.started": "2023-12-24T01:18:40.779262Z"
    },
    "executionInfo": {
     "elapsed": 28,
     "status": "ok",
     "timestamp": 1703156950501,
     "user": {
      "displayName": "Gowrishankar R",
      "userId": "12173064338158270855"
     },
     "user_tz": -330
    },
    "id": "a988ea39",
    "outputId": "27ed7bda-94a3-48ef-e98a-58e9a03fa34a"
   },
   "outputs": [
    {
     "data": {
      "text/plain": [
       "9     12.172185\n",
       "8     11.576159\n",
       "10    11.483444\n",
       "5     10.701987\n",
       "6     10.476821\n",
       "7      9.880795\n",
       "4      7.245033\n",
       "11     7.059603\n",
       "3      7.006623\n",
       "1      6.211921\n",
       "2      6.185430\n",
       "Name: booked_month, dtype: float64"
      ]
     },
     "execution_count": 24,
     "metadata": {},
     "output_type": "execute_result"
    }
   ],
   "source": [
    "data_tt3['booked_month'].value_counts(normalize=True)*100"
   ]
  },
  {
   "cell_type": "code",
   "execution_count": 25,
   "id": "965788e3",
   "metadata": {
    "colab": {
     "base_uri": "https://localhost:8080/"
    },
    "execution": {
     "iopub.execute_input": "2023-12-24T01:18:40.786343Z",
     "iopub.status.busy": "2023-12-24T01:18:40.785577Z",
     "iopub.status.idle": "2023-12-24T01:18:40.793139Z",
     "shell.execute_reply": "2023-12-24T01:18:40.792553Z",
     "shell.execute_reply.started": "2023-12-24T01:18:40.786309Z"
    },
    "executionInfo": {
     "elapsed": 25,
     "status": "ok",
     "timestamp": 1703156950501,
     "user": {
      "displayName": "Gowrishankar R",
      "userId": "12173064338158270855"
     },
     "user_tz": -330
    },
    "id": "965788e3",
    "outputId": "c1cb697c-327d-47e6-ecf6-53f7a756c15f"
   },
   "outputs": [
    {
     "data": {
      "text/plain": [
       "5    19.192053\n",
       "6    16.847682\n",
       "4    14.913907\n",
       "3    12.675497\n",
       "2    12.582781\n",
       "0    11.920530\n",
       "1    11.867550\n",
       "Name: booked_day, dtype: float64"
      ]
     },
     "execution_count": 25,
     "metadata": {},
     "output_type": "execute_result"
    }
   ],
   "source": [
    "data_tt3['booked_day'].value_counts(normalize=True)*100"
   ]
  },
  {
   "cell_type": "code",
   "execution_count": 26,
   "id": "0b7cf58f",
   "metadata": {
    "colab": {
     "base_uri": "https://localhost:8080/"
    },
    "execution": {
     "iopub.execute_input": "2023-12-24T01:18:40.794393Z",
     "iopub.status.busy": "2023-12-24T01:18:40.793939Z",
     "iopub.status.idle": "2023-12-24T01:18:40.800222Z",
     "shell.execute_reply": "2023-12-24T01:18:40.799468Z",
     "shell.execute_reply.started": "2023-12-24T01:18:40.794371Z"
    },
    "executionInfo": {
     "elapsed": 22,
     "status": "ok",
     "timestamp": 1703156950501,
     "user": {
      "displayName": "Gowrishankar R",
      "userId": "12173064338158270855"
     },
     "user_tz": -330
    },
    "id": "0b7cf58f",
    "outputId": "aef13a48-d6f2-4113-ea9d-1c6985d25152"
   },
   "outputs": [
    {
     "data": {
      "text/plain": [
       "5    19.417219\n",
       "6    18.423841\n",
       "4    13.350993\n",
       "2    13.006623\n",
       "3    12.238411\n",
       "0    11.894040\n",
       "1    11.668874\n",
       "Name: travel_day, dtype: float64"
      ]
     },
     "execution_count": 26,
     "metadata": {},
     "output_type": "execute_result"
    }
   ],
   "source": [
    "data_tt3['travel_day'].value_counts(normalize=True)*100"
   ]
  },
  {
   "cell_type": "code",
   "execution_count": 27,
   "id": "d6a7b75d",
   "metadata": {
    "colab": {
     "base_uri": "https://localhost:8080/"
    },
    "execution": {
     "iopub.execute_input": "2023-12-24T01:18:40.801619Z",
     "iopub.status.busy": "2023-12-24T01:18:40.801120Z",
     "iopub.status.idle": "2023-12-24T01:18:40.809361Z",
     "shell.execute_reply": "2023-12-24T01:18:40.808669Z",
     "shell.execute_reply.started": "2023-12-24T01:18:40.801584Z"
    },
    "executionInfo": {
     "elapsed": 19,
     "status": "ok",
     "timestamp": 1703156950501,
     "user": {
      "displayName": "Gowrishankar R",
      "userId": "12173064338158270855"
     },
     "user_tz": -330
    },
    "id": "d6a7b75d",
    "outputId": "8543fa6a-35ec-4166-ea58-868179beeb11"
   },
   "outputs": [
    {
     "data": {
      "text/plain": [
       "Morning          38.569536\n",
       "Afternoon        21.880795\n",
       "Early Morning    18.860927\n",
       "Evening          14.463576\n",
       "Late Night        3.364238\n",
       "Night             2.860927\n",
       "Name: travel_hour, dtype: float64"
      ]
     },
     "execution_count": 27,
     "metadata": {},
     "output_type": "execute_result"
    }
   ],
   "source": [
    "data_tt3['travel_hour'].value_counts(normalize=True)*100"
   ]
  },
  {
   "cell_type": "code",
   "execution_count": 28,
   "id": "d42b611f",
   "metadata": {
    "colab": {
     "base_uri": "https://localhost:8080/"
    },
    "execution": {
     "iopub.execute_input": "2023-12-24T01:18:40.810732Z",
     "iopub.status.busy": "2023-12-24T01:18:40.810376Z",
     "iopub.status.idle": "2023-12-24T01:18:40.818679Z",
     "shell.execute_reply": "2023-12-24T01:18:40.818012Z",
     "shell.execute_reply.started": "2023-12-24T01:18:40.810700Z"
    },
    "executionInfo": {
     "elapsed": 18,
     "status": "ok",
     "timestamp": 1703156950502,
     "user": {
      "displayName": "Gowrishankar R",
      "userId": "12173064338158270855"
     },
     "user_tz": -330
    },
    "id": "d42b611f",
    "outputId": "860b9661-6108-4a54-aade-a263035b1cbc"
   },
   "outputs": [
    {
     "data": {
      "text/plain": [
       "Morning          30.238411\n",
       "Afternoon        21.933775\n",
       "Evening          18.622517\n",
       "Night            16.847682\n",
       "Early Morning    10.635762\n",
       "Late Night        1.721854\n",
       "Name: booked_hour, dtype: float64"
      ]
     },
     "execution_count": 28,
     "metadata": {},
     "output_type": "execute_result"
    }
   ],
   "source": [
    "data_tt3['booked_hour'].value_counts(normalize=True)*100"
   ]
  },
  {
   "cell_type": "markdown",
   "id": "b5b951e8",
   "metadata": {
    "id": "b5b951e8"
   },
   "source": [
    "### Looking for outliers if any in newly created conitnuous variable columns"
   ]
  },
  {
   "cell_type": "code",
   "execution_count": 29,
   "id": "35711a3c",
   "metadata": {
    "execution": {
     "iopub.execute_input": "2023-12-24T01:18:40.820049Z",
     "iopub.status.busy": "2023-12-24T01:18:40.819690Z",
     "iopub.status.idle": "2023-12-24T01:18:40.825384Z",
     "shell.execute_reply": "2023-12-24T01:18:40.824654Z",
     "shell.execute_reply.started": "2023-12-24T01:18:40.820017Z"
    },
    "executionInfo": {
     "elapsed": 15,
     "status": "ok",
     "timestamp": 1703156950502,
     "user": {
      "displayName": "Gowrishankar R",
      "userId": "12173064338158270855"
     },
     "user_tz": -330
    },
    "id": "35711a3c"
   },
   "outputs": [],
   "source": [
    "def find_outliers_IQR(df):  ### function to find outliers using IQR method\n",
    "    LL,UL = find_LL_UL(df)\n",
    "    outliers = df[((df < LL) | (df > UL))]\n",
    "    return outliers\n",
    "\n",
    "def find_LL_UL(df):         ### function to find lower limit and upper limit values in the given data using IQR method\n",
    "    q1 = df.quantile(0.25)\n",
    "    q3 = df.quantile(0.75)\n",
    "    IQR = q3 - q1\n",
    "    LL = q1 - 1.5 * IQR\n",
    "    UL = q3 + 1.5 * IQR\n",
    "    return (LL,UL)"
   ]
  },
  {
   "cell_type": "markdown",
   "id": "3b7d5af7",
   "metadata": {
    "id": "3b7d5af7"
   },
   "source": [
    "##### outliers in waiting_period_min"
   ]
  },
  {
   "cell_type": "code",
   "execution_count": 30,
   "id": "6435b95b",
   "metadata": {
    "colab": {
     "base_uri": "https://localhost:8080/",
     "height": 467
    },
    "execution": {
     "iopub.execute_input": "2023-12-24T01:18:40.826937Z",
     "iopub.status.busy": "2023-12-24T01:18:40.826489Z",
     "iopub.status.idle": "2023-12-24T01:18:40.978022Z",
     "shell.execute_reply": "2023-12-24T01:18:40.977296Z",
     "shell.execute_reply.started": "2023-12-24T01:18:40.826905Z"
    },
    "executionInfo": {
     "elapsed": 933,
     "status": "ok",
     "timestamp": 1703156951421,
     "user": {
      "displayName": "Gowrishankar R",
      "userId": "12173064338158270855"
     },
     "user_tz": -330
    },
    "id": "6435b95b",
    "outputId": "e87737ac-409c-4864-cd71-68476c0ce3f0"
   },
   "outputs": [
    {
     "data": {
      "text/plain": [
       "<Axes: xlabel='waiting_period_min'>"
      ]
     },
     "execution_count": 30,
     "metadata": {},
     "output_type": "execute_result"
    },
    {
     "data": {
      "image/png": "[encoded data removed]",
      "text/plain": [
       "<Figure size 640x480 with 1 Axes>"
      ]
     },
     "metadata": {},
     "output_type": "display_data"
    }
   ],
   "source": [
    "sns.boxplot(data=data_tt3, x='waiting_period_min') #Before treatment"
   ]
  },
  {
   "cell_type": "code",
   "execution_count": 31,
   "id": "df3ab628",
   "metadata": {
    "colab": {
     "base_uri": "https://localhost:8080/"
    },
    "execution": {
     "iopub.execute_input": "2023-12-24T01:18:40.979703Z",
     "iopub.status.busy": "2023-12-24T01:18:40.979134Z",
     "iopub.status.idle": "2023-12-24T01:18:40.988125Z",
     "shell.execute_reply": "2023-12-24T01:18:40.987512Z",
     "shell.execute_reply.started": "2023-12-24T01:18:40.979667Z"
    },
    "executionInfo": {
     "elapsed": 20,
     "status": "ok",
     "timestamp": 1703156951421,
     "user": {
      "displayName": "Gowrishankar R",
      "userId": "12173064338158270855"
     },
     "user_tz": -330
    },
    "id": "df3ab628",
    "outputId": "b28258e7-596f-4309-8fb2-e28b9cd67fb7"
   },
   "outputs": [
    {
     "name": "stdout",
     "output_type": "stream",
     "text": [
      "Number of Outliers in Waiting Period :  612\n",
      "Percentage of outliers in Waiting Period :  8.105960264900663\n"
     ]
    }
   ],
   "source": [
    "### Find the percentage of outliers in waiting_period_min column\n",
    "outliers = find_outliers_IQR(data_tt3['waiting_period_min'])\n",
    "print(\"Number of Outliers in Waiting Period : \",outliers.shape[0])\n",
    "print(\"Percentage of outliers in Waiting Period : \", (outliers.shape[0]/data_tt3.shape[0])*100)"
   ]
  },
  {
   "cell_type": "code",
   "execution_count": 32,
   "id": "a00f5c32",
   "metadata": {
    "colab": {
     "base_uri": "https://localhost:8080/"
    },
    "execution": {
     "iopub.execute_input": "2023-12-24T01:18:40.989748Z",
     "iopub.status.busy": "2023-12-24T01:18:40.989090Z",
     "iopub.status.idle": "2023-12-24T01:18:40.999838Z",
     "shell.execute_reply": "2023-12-24T01:18:40.999176Z",
     "shell.execute_reply.started": "2023-12-24T01:18:40.989714Z"
    },
    "executionInfo": {
     "elapsed": 15,
     "status": "ok",
     "timestamp": 1703156951421,
     "user": {
      "displayName": "Gowrishankar R",
      "userId": "12173064338158270855"
     },
     "user_tz": -330
    },
    "id": "a00f5c32",
    "outputId": "524c0058-4a08-464a-8c58-a1f13d80cde9"
   },
   "outputs": [
    {
     "name": "stdout",
     "output_type": "stream",
     "text": [
      "Negative values in waiting_period_min - Before treatment :  False    7536\n",
      "True       14\n",
      "Name: waiting_period_min, dtype: int64\n",
      "Negative values in waiting_period_min - After treatment :  False    7536\n",
      "Name: waiting_period_min, dtype: int64\n"
     ]
    }
   ],
   "source": [
    "### Negative values in waiting_period_min are due to wrong data in from_date and booked_date, so dropping the respective data\n",
    "print(\"Negative values in waiting_period_min - Before treatment : \",(data_tt3['waiting_period_min'] < 0).value_counts())\n",
    "\n",
    "data_tt3.drop(data_tt3[data_tt3['waiting_period_min']<0].index,axis=0,inplace=True)\n",
    "\n",
    "print(\"Negative values in waiting_period_min - After treatment : \",(data_tt3['waiting_period_min'] < 0).value_counts())"
   ]
  },
  {
   "cell_type": "code",
   "execution_count": 33,
   "id": "91d25042",
   "metadata": {
    "execution": {
     "iopub.execute_input": "2023-12-24T01:18:41.000953Z",
     "iopub.status.busy": "2023-12-24T01:18:41.000658Z",
     "iopub.status.idle": "2023-12-24T01:18:41.003623Z",
     "shell.execute_reply": "2023-12-24T01:18:41.003063Z",
     "shell.execute_reply.started": "2023-12-24T01:18:41.000932Z"
    },
    "executionInfo": {
     "elapsed": 12,
     "status": "ok",
     "timestamp": 1703156951421,
     "user": {
      "displayName": "Gowrishankar R",
      "userId": "12173064338158270855"
     },
     "user_tz": -330
    },
    "id": "91d25042"
   },
   "outputs": [],
   "source": [
    "##### outlier treatment for waiting_period_min"
   ]
  },
  {
   "cell_type": "code",
   "execution_count": 34,
   "id": "9c74b91e",
   "metadata": {
    "execution": {
     "iopub.execute_input": "2023-12-24T01:18:41.004683Z",
     "iopub.status.busy": "2023-12-24T01:18:41.004437Z",
     "iopub.status.idle": "2023-12-24T01:18:41.008089Z",
     "shell.execute_reply": "2023-12-24T01:18:41.007487Z",
     "shell.execute_reply.started": "2023-12-24T01:18:41.004662Z"
    },
    "executionInfo": {
     "elapsed": 12,
     "status": "ok",
     "timestamp": 1703156951421,
     "user": {
      "displayName": "Gowrishankar R",
      "userId": "12173064338158270855"
     },
     "user_tz": -330
    },
    "id": "9c74b91e"
   },
   "outputs": [],
   "source": [
    "### print(\"Outliers in waiting_period_min on the lower end before treatment: \",(data_tt3['waiting_period_min'] < 0).value_counts())\n",
    "\n",
    "### LL,UL = find_LL_UL(data_tt3['waiting_period_min'])\n",
    "### print(\"Outliers in waiting_period_min on the higher end before treatment: \",(data_tt3['waiting_period_min'] > UL).value_counts())"
   ]
  },
  {
   "cell_type": "code",
   "execution_count": 35,
   "id": "51e44f58",
   "metadata": {
    "execution": {
     "iopub.execute_input": "2023-12-24T01:18:41.009142Z",
     "iopub.status.busy": "2023-12-24T01:18:41.008870Z",
     "iopub.status.idle": "2023-12-24T01:18:41.012848Z",
     "shell.execute_reply": "2023-12-24T01:18:41.012142Z",
     "shell.execute_reply.started": "2023-12-24T01:18:41.009121Z"
    },
    "executionInfo": {
     "elapsed": 12,
     "status": "ok",
     "timestamp": 1703156951421,
     "user": {
      "displayName": "Gowrishankar R",
      "userId": "12173064338158270855"
     },
     "user_tz": -330
    },
    "id": "51e44f58"
   },
   "outputs": [],
   "source": [
    "### Negative values in waiting_period_min are due to wrong data in from_date and booked_date, so dropping the respective data\n",
    "### data_tt3.drop(data_tt3[data_tt3['waiting_period_min']<0].index,axis=0,inplace=True)\n",
    "### print(\"Outliers in waiting_period_min on the lower end after treatment: \",(data_tt3['waiting_period_min'] < 0).value_counts()) ### Outliers on the lower end after treatment"
   ]
  },
  {
   "cell_type": "code",
   "execution_count": 36,
   "id": "93e9b42f",
   "metadata": {
    "execution": {
     "iopub.execute_input": "2023-12-24T01:18:41.014309Z",
     "iopub.status.busy": "2023-12-24T01:18:41.013934Z",
     "iopub.status.idle": "2023-12-24T01:18:41.017767Z",
     "shell.execute_reply": "2023-12-24T01:18:41.017078Z",
     "shell.execute_reply.started": "2023-12-24T01:18:41.014268Z"
    },
    "executionInfo": {
     "elapsed": 13,
     "status": "ok",
     "timestamp": 1703156951422,
     "user": {
      "displayName": "Gowrishankar R",
      "userId": "12173064338158270855"
     },
     "user_tz": -330
    },
    "id": "93e9b42f"
   },
   "outputs": [],
   "source": [
    "### Outliers in waiting_period_min on the higher side more than 13%, so splitting data into with outliers and without outliers\n",
    "### to build 2 models\n",
    "### LL,UL = find_LL_UL(data_tt3['waiting_period_min'])\n",
    "### data_tt3_wpol = data_tt3[data_tt3['waiting_period_min'] > UL] ### Data with outliers in waiting_period_min\n",
    "### data_tt3 = data_tt3.drop(data_tt3[data_tt3['waiting_period_min']>UL].index,axis=0,inplace=True) ### Removing the outliers to get data without outliers in waiting_period_min"
   ]
  },
  {
   "cell_type": "code",
   "execution_count": 37,
   "id": "532844cc",
   "metadata": {
    "execution": {
     "iopub.execute_input": "2023-12-24T01:18:41.019420Z",
     "iopub.status.busy": "2023-12-24T01:18:41.018811Z",
     "iopub.status.idle": "2023-12-24T01:18:41.023106Z",
     "shell.execute_reply": "2023-12-24T01:18:41.022364Z",
     "shell.execute_reply.started": "2023-12-24T01:18:41.019387Z"
    },
    "executionInfo": {
     "elapsed": 12,
     "status": "ok",
     "timestamp": 1703156951422,
     "user": {
      "displayName": "Gowrishankar R",
      "userId": "12173064338158270855"
     },
     "user_tz": -330
    },
    "id": "532844cc"
   },
   "outputs": [],
   "source": [
    "### sns.boxplot(data_tt3['waiting_period_min']) #After treatment"
   ]
  },
  {
   "cell_type": "markdown",
   "id": "9191abb9",
   "metadata": {
    "id": "9191abb9"
   },
   "source": [
    "###### NOTE : Outliers for the remaining data in waiting_period_min would appear iteratively, so transformation and normalisation of the data is required rather to treat outliers"
   ]
  },
  {
   "cell_type": "markdown",
   "id": "509d6be9",
   "metadata": {
    "id": "509d6be9"
   },
   "source": [
    "### Transformation of waiting_period_min using cbrt"
   ]
  },
  {
   "cell_type": "code",
   "execution_count": 38,
   "id": "139bb0a4",
   "metadata": {
    "colab": {
     "base_uri": "https://localhost:8080/",
     "height": 452
    },
    "execution": {
     "iopub.execute_input": "2023-12-24T01:18:41.024751Z",
     "iopub.status.busy": "2023-12-24T01:18:41.024147Z",
     "iopub.status.idle": "2023-12-24T01:18:41.285924Z",
     "shell.execute_reply": "2023-12-24T01:18:41.285331Z",
     "shell.execute_reply.started": "2023-12-24T01:18:41.024708Z"
    },
    "executionInfo": {
     "elapsed": 12,
     "status": "ok",
     "timestamp": 1703156951422,
     "user": {
      "displayName": "Gowrishankar R",
      "userId": "12173064338158270855"
     },
     "user_tz": -330
    },
    "id": "139bb0a4",
    "outputId": "3986817f-eb0e-49df-f456-9a0be7b50d5a"
   },
   "outputs": [
    {
     "data": {
      "image/png": "[encoded data removed]",
      "text/plain": [
       "<Figure size 640x480 with 2 Axes>"
      ]
     },
     "metadata": {},
     "output_type": "display_data"
    }
   ],
   "source": [
    "data = data_tt3['waiting_period_min']\n",
    "\n",
    "# Perform cbrt transformation\n",
    "data_log = np.cbrt(data)\n",
    "\n",
    "# Create side-by-side histograms\n",
    "fig, axs = plt.subplots(nrows=1, ncols=2)\n",
    "axs[0].hist(data, edgecolor='black')\n",
    "axs[1].hist(data_log, edgecolor='black')\n",
    "axs[0].set_title('Original Data')\n",
    "axs[1].set_title('cbrt-Transformed Data')\n",
    "plt.show()"
   ]
  },
  {
   "cell_type": "code",
   "execution_count": 39,
   "id": "6771116b",
   "metadata": {
    "execution": {
     "iopub.execute_input": "2023-12-24T01:18:41.287703Z",
     "iopub.status.busy": "2023-12-24T01:18:41.287081Z",
     "iopub.status.idle": "2023-12-24T01:18:41.291814Z",
     "shell.execute_reply": "2023-12-24T01:18:41.291077Z",
     "shell.execute_reply.started": "2023-12-24T01:18:41.287663Z"
    },
    "executionInfo": {
     "elapsed": 11,
     "status": "ok",
     "timestamp": 1703156951422,
     "user": {
      "displayName": "Gowrishankar R",
      "userId": "12173064338158270855"
     },
     "user_tz": -330
    },
    "id": "6771116b"
   },
   "outputs": [],
   "source": [
    "data_tt3['waiting_period_min'] = data_log ### replace actual data with transformed data"
   ]
  },
  {
   "cell_type": "code",
   "execution_count": 40,
   "id": "1df62f9b",
   "metadata": {
    "colab": {
     "base_uri": "https://localhost:8080/",
     "height": 467
    },
    "execution": {
     "iopub.execute_input": "2023-12-24T01:18:41.293038Z",
     "iopub.status.busy": "2023-12-24T01:18:41.292762Z",
     "iopub.status.idle": "2023-12-24T01:18:41.426779Z",
     "shell.execute_reply": "2023-12-24T01:18:41.426018Z",
     "shell.execute_reply.started": "2023-12-24T01:18:41.293018Z"
    },
    "executionInfo": {
     "elapsed": 1006,
     "status": "ok",
     "timestamp": 1703156952417,
     "user": {
      "displayName": "Gowrishankar R",
      "userId": "12173064338158270855"
     },
     "user_tz": -330
    },
    "id": "1df62f9b",
    "outputId": "7997cec2-3e45-4d45-e441-d4f15c33e153"
   },
   "outputs": [
    {
     "data": {
      "text/plain": [
       "<Axes: xlabel='waiting_period_min'>"
      ]
     },
     "execution_count": 40,
     "metadata": {},
     "output_type": "execute_result"
    },
    {
     "data": {
      "image/png": "[encoded data removed]",
      "text/plain": [
       "<Figure size 640x480 with 1 Axes>"
      ]
     },
     "metadata": {},
     "output_type": "display_data"
    }
   ],
   "source": [
    "sns.boxplot(data=data_tt3, x='waiting_period_min') ### before treatment after transformation"
   ]
  },
  {
   "cell_type": "code",
   "execution_count": 41,
   "id": "ba9dd0c3",
   "metadata": {
    "colab": {
     "base_uri": "https://localhost:8080/"
    },
    "execution": {
     "iopub.execute_input": "2023-12-24T01:18:41.428089Z",
     "iopub.status.busy": "2023-12-24T01:18:41.427793Z",
     "iopub.status.idle": "2023-12-24T01:18:41.435156Z",
     "shell.execute_reply": "2023-12-24T01:18:41.434412Z",
     "shell.execute_reply.started": "2023-12-24T01:18:41.428067Z"
    },
    "executionInfo": {
     "elapsed": 58,
     "status": "ok",
     "timestamp": 1703156952418,
     "user": {
      "displayName": "Gowrishankar R",
      "userId": "12173064338158270855"
     },
     "user_tz": -330
    },
    "id": "ba9dd0c3",
    "outputId": "62f8de7b-78da-4d64-f558-dc2e20b52edd"
   },
   "outputs": [
    {
     "name": "stdout",
     "output_type": "stream",
     "text": [
      "Number of Outliers in Waiting Period :  252\n",
      "Percentage of outliers in Waiting Period :  3.343949044585987\n"
     ]
    }
   ],
   "source": [
    "### Find the percentage of outliers in waiting_period_min column\n",
    "outliers = find_outliers_IQR(data_tt3['waiting_period_min'])\n",
    "print(\"Number of Outliers in Waiting Period : \",outliers.shape[0])\n",
    "print(\"Percentage of outliers in Waiting Period : \", (outliers.shape[0]/data_tt3.shape[0])*100)"
   ]
  },
  {
   "cell_type": "markdown",
   "id": "91f94f42",
   "metadata": {
    "id": "91f94f42"
   },
   "source": [
    "###### Outliers in waiting_period_min are >5% but <10%. So, replacing it with respective limit values"
   ]
  },
  {
   "cell_type": "code",
   "execution_count": 42,
   "id": "6aefd5a6",
   "metadata": {
    "colab": {
     "base_uri": "https://localhost:8080/"
    },
    "execution": {
     "iopub.execute_input": "2023-12-24T01:18:41.436271Z",
     "iopub.status.busy": "2023-12-24T01:18:41.436015Z",
     "iopub.status.idle": "2023-12-24T01:18:41.444903Z",
     "shell.execute_reply": "2023-12-24T01:18:41.444323Z",
     "shell.execute_reply.started": "2023-12-24T01:18:41.436250Z"
    },
    "executionInfo": {
     "elapsed": 51,
     "status": "ok",
     "timestamp": 1703156952418,
     "user": {
      "displayName": "Gowrishankar R",
      "userId": "12173064338158270855"
     },
     "user_tz": -330
    },
    "id": "6aefd5a6",
    "outputId": "96791d9c-5cfc-4794-a398-146bb3a00b96"
   },
   "outputs": [
    {
     "name": "stdout",
     "output_type": "stream",
     "text": [
      "Lower limit and Upper limit values:  -1.8871926865913187 16.150651707181034\n"
     ]
    }
   ],
   "source": [
    "### Percentage of outliers in the data is  less than 5%\n",
    "### Outliers are only on the max side of the data, so replacing Outliers with Upper limit value\n",
    "\n",
    "LL,UL = find_LL_UL(data_tt3['waiting_period_min'])\n",
    "print(\"Lower limit and Upper limit values: \",LL,UL)\n",
    "\n",
    "data_tt3.loc[data_tt3['waiting_period_min'] > UL,'waiting_period_min'] = UL"
   ]
  },
  {
   "cell_type": "code",
   "execution_count": 43,
   "id": "ec0332a4",
   "metadata": {
    "colab": {
     "base_uri": "https://localhost:8080/",
     "height": 467
    },
    "execution": {
     "iopub.execute_input": "2023-12-24T01:18:41.445943Z",
     "iopub.status.busy": "2023-12-24T01:18:41.445672Z",
     "iopub.status.idle": "2023-12-24T01:18:41.576753Z",
     "shell.execute_reply": "2023-12-24T01:18:41.575951Z",
     "shell.execute_reply.started": "2023-12-24T01:18:41.445924Z"
    },
    "executionInfo": {
     "elapsed": 48,
     "status": "ok",
     "timestamp": 1703156952419,
     "user": {
      "displayName": "Gowrishankar R",
      "userId": "12173064338158270855"
     },
     "user_tz": -330
    },
    "id": "ec0332a4",
    "outputId": "c2275df6-7493-4803-f320-f9add8937c67"
   },
   "outputs": [
    {
     "data": {
      "text/plain": [
       "<Axes: xlabel='waiting_period_min'>"
      ]
     },
     "execution_count": 43,
     "metadata": {},
     "output_type": "execute_result"
    },
    {
     "data": {
      "image/png": "[encoded data removed]",
      "text/plain": [
       "<Figure size 640x480 with 1 Axes>"
      ]
     },
     "metadata": {},
     "output_type": "display_data"
    }
   ],
   "source": [
    "sns.boxplot(data=data_tt3, x='waiting_period_min') # after treatment after transformation"
   ]
  },
  {
   "cell_type": "markdown",
   "id": "c1c970a0",
   "metadata": {
    "id": "c1c970a0"
   },
   "source": [
    "### Verify the pre processed data"
   ]
  },
  {
   "cell_type": "code",
   "execution_count": 44,
   "id": "0c0cc80d",
   "metadata": {
    "colab": {
     "base_uri": "https://localhost:8080/"
    },
    "execution": {
     "iopub.execute_input": "2023-12-24T01:18:41.578163Z",
     "iopub.status.busy": "2023-12-24T01:18:41.577725Z",
     "iopub.status.idle": "2023-12-24T01:18:41.582297Z",
     "shell.execute_reply": "2023-12-24T01:18:41.581647Z",
     "shell.execute_reply.started": "2023-12-24T01:18:41.578139Z"
    },
    "executionInfo": {
     "elapsed": 43,
     "status": "ok",
     "timestamp": 1703156952419,
     "user": {
      "displayName": "Gowrishankar R",
      "userId": "12173064338158270855"
     },
     "user_tz": -330
    },
    "id": "0c0cc80d",
    "outputId": "1f4af3e9-7912-44b2-acc2-a7af92689df2"
   },
   "outputs": [
    {
     "data": {
      "text/plain": [
       "(7536, 12)"
      ]
     },
     "execution_count": 44,
     "metadata": {},
     "output_type": "execute_result"
    }
   ],
   "source": [
    "data_tt3.shape"
   ]
  },
  {
   "cell_type": "code",
   "execution_count": 45,
   "id": "71aa8fea",
   "metadata": {
    "colab": {
     "base_uri": "https://localhost:8080/"
    },
    "execution": {
     "iopub.execute_input": "2023-12-24T01:18:41.583691Z",
     "iopub.status.busy": "2023-12-24T01:18:41.583120Z",
     "iopub.status.idle": "2023-12-24T01:18:41.597648Z",
     "shell.execute_reply": "2023-12-24T01:18:41.596914Z",
     "shell.execute_reply.started": "2023-12-24T01:18:41.583669Z"
    },
    "executionInfo": {
     "elapsed": 39,
     "status": "ok",
     "timestamp": 1703156952420,
     "user": {
      "displayName": "Gowrishankar R",
      "userId": "12173064338158270855"
     },
     "user_tz": -330
    },
    "id": "71aa8fea",
    "outputId": "95fcac18-9102-4458-df2c-837eb3e222e0"
   },
   "outputs": [
    {
     "name": "stdout",
     "output_type": "stream",
     "text": [
      "<class 'pandas.core.frame.DataFrame'>\n",
      "Int64Index: 7536 entries, 8 to 43428\n",
      "Data columns (total 12 columns):\n",
      " #   Column              Non-Null Count  Dtype  \n",
      "---  ------              --------------  -----  \n",
      " 0   package_id          7536 non-null   float64\n",
      " 1   travel_type_id      7536 non-null   int64  \n",
      " 2   from_area_id        7536 non-null   float64\n",
      " 3   online_booking      7536 non-null   int64  \n",
      " 4   Car_Cancellation    7536 non-null   int64  \n",
      " 5   waiting_period_min  7536 non-null   float64\n",
      " 6   travel_day          7536 non-null   int64  \n",
      " 7   travel_month        7536 non-null   int64  \n",
      " 8   booked_day          7536 non-null   int64  \n",
      " 9   booked_month        7536 non-null   int64  \n",
      " 10  travel_hour         7536 non-null   object \n",
      " 11  booked_hour         7536 non-null   object \n",
      "dtypes: float64(3), int64(7), object(2)\n",
      "memory usage: 765.4+ KB\n"
     ]
    }
   ],
   "source": [
    "data_tt3.info()"
   ]
  },
  {
   "cell_type": "code",
   "execution_count": 46,
   "id": "65a490db",
   "metadata": {
    "colab": {
     "base_uri": "https://localhost:8080/"
    },
    "execution": {
     "iopub.execute_input": "2023-12-24T01:18:41.598688Z",
     "iopub.status.busy": "2023-12-24T01:18:41.598441Z",
     "iopub.status.idle": "2023-12-24T01:18:41.608219Z",
     "shell.execute_reply": "2023-12-24T01:18:41.607555Z",
     "shell.execute_reply.started": "2023-12-24T01:18:41.598667Z"
    },
    "executionInfo": {
     "elapsed": 35,
     "status": "ok",
     "timestamp": 1703156952420,
     "user": {
      "displayName": "Gowrishankar R",
      "userId": "12173064338158270855"
     },
     "user_tz": -330
    },
    "id": "65a490db",
    "outputId": "c2cc73f7-c703-4a5c-802d-de80d2c37b8f"
   },
   "outputs": [
    {
     "data": {
      "text/plain": [
       "package_id            0\n",
       "travel_type_id        0\n",
       "from_area_id          0\n",
       "online_booking        0\n",
       "Car_Cancellation      0\n",
       "waiting_period_min    0\n",
       "travel_day            0\n",
       "travel_month          0\n",
       "booked_day            0\n",
       "booked_month          0\n",
       "travel_hour           0\n",
       "booked_hour           0\n",
       "dtype: int64"
      ]
     },
     "execution_count": 46,
     "metadata": {},
     "output_type": "execute_result"
    }
   ],
   "source": [
    "data_tt3.isnull().sum()"
   ]
  },
  {
   "cell_type": "code",
   "execution_count": 47,
   "id": "19cb9fb7",
   "metadata": {
    "colab": {
     "base_uri": "https://localhost:8080/",
     "height": 206
    },
    "execution": {
     "iopub.execute_input": "2023-12-24T01:18:41.609292Z",
     "iopub.status.busy": "2023-12-24T01:18:41.609031Z",
     "iopub.status.idle": "2023-12-24T01:18:41.619978Z",
     "shell.execute_reply": "2023-12-24T01:18:41.619307Z",
     "shell.execute_reply.started": "2023-12-24T01:18:41.609272Z"
    },
    "executionInfo": {
     "elapsed": 31,
     "status": "ok",
     "timestamp": 1703156952421,
     "user": {
      "displayName": "Gowrishankar R",
      "userId": "12173064338158270855"
     },
     "user_tz": -330
    },
    "id": "19cb9fb7",
    "outputId": "15d27db8-be23-455a-ff57-62f3fa203314"
   },
   "outputs": [
    {
     "data": {
      "text/html": [
       "<div>\n",
       "<style scoped>\n",
       "    .dataframe tbody tr th:only-of-type {\n",
       "        vertical-align: middle;\n",
       "    }\n",
       "\n",
       "    .dataframe tbody tr th {\n",
       "        vertical-align: top;\n",
       "    }\n",
       "\n",
       "    .dataframe thead th {\n",
       "        text-align: right;\n",
       "    }\n",
       "</style>\n",
       "<table border=\"1\" class=\"dataframe\">\n",
       "  <thead>\n",
       "    <tr style=\"text-align: right;\">\n",
       "      <th></th>\n",
       "      <th>package_id</th>\n",
       "      <th>travel_type_id</th>\n",
       "      <th>from_area_id</th>\n",
       "      <th>online_booking</th>\n",
       "      <th>Car_Cancellation</th>\n",
       "      <th>waiting_period_min</th>\n",
       "      <th>travel_day</th>\n",
       "      <th>travel_month</th>\n",
       "      <th>booked_day</th>\n",
       "      <th>booked_month</th>\n",
       "      <th>travel_hour</th>\n",
       "      <th>booked_hour</th>\n",
       "    </tr>\n",
       "  </thead>\n",
       "  <tbody>\n",
       "    <tr>\n",
       "      <th>8</th>\n",
       "      <td>2.0</td>\n",
       "      <td>3</td>\n",
       "      <td>448.0</td>\n",
       "      <td>0</td>\n",
       "      <td>0</td>\n",
       "      <td>7.217652</td>\n",
       "      <td>1</td>\n",
       "      <td>1</td>\n",
       "      <td>1</td>\n",
       "      <td>1</td>\n",
       "      <td>Afternoon</td>\n",
       "      <td>Morning</td>\n",
       "    </tr>\n",
       "    <tr>\n",
       "      <th>20</th>\n",
       "      <td>2.0</td>\n",
       "      <td>3</td>\n",
       "      <td>471.0</td>\n",
       "      <td>0</td>\n",
       "      <td>0</td>\n",
       "      <td>4.610436</td>\n",
       "      <td>1</td>\n",
       "      <td>1</td>\n",
       "      <td>1</td>\n",
       "      <td>1</td>\n",
       "      <td>Afternoon</td>\n",
       "      <td>Morning</td>\n",
       "    </tr>\n",
       "    <tr>\n",
       "      <th>23</th>\n",
       "      <td>1.0</td>\n",
       "      <td>3</td>\n",
       "      <td>1286.0</td>\n",
       "      <td>0</td>\n",
       "      <td>0</td>\n",
       "      <td>4.805896</td>\n",
       "      <td>1</td>\n",
       "      <td>1</td>\n",
       "      <td>1</td>\n",
       "      <td>1</td>\n",
       "      <td>Afternoon</td>\n",
       "      <td>Afternoon</td>\n",
       "    </tr>\n",
       "    <tr>\n",
       "      <th>34</th>\n",
       "      <td>1.0</td>\n",
       "      <td>3</td>\n",
       "      <td>1323.0</td>\n",
       "      <td>1</td>\n",
       "      <td>0</td>\n",
       "      <td>5.371685</td>\n",
       "      <td>1</td>\n",
       "      <td>1</td>\n",
       "      <td>1</td>\n",
       "      <td>1</td>\n",
       "      <td>Evening</td>\n",
       "      <td>Evening</td>\n",
       "    </tr>\n",
       "    <tr>\n",
       "      <th>47</th>\n",
       "      <td>2.0</td>\n",
       "      <td>3</td>\n",
       "      <td>142.0</td>\n",
       "      <td>0</td>\n",
       "      <td>0</td>\n",
       "      <td>7.623152</td>\n",
       "      <td>2</td>\n",
       "      <td>1</td>\n",
       "      <td>1</td>\n",
       "      <td>1</td>\n",
       "      <td>Late Night</td>\n",
       "      <td>Evening</td>\n",
       "    </tr>\n",
       "  </tbody>\n",
       "</table>\n",
       "</div>"
      ],
      "text/plain": [
       "    package_id  travel_type_id  from_area_id  online_booking  \\\n",
       "8          2.0               3         448.0               0   \n",
       "20         2.0               3         471.0               0   \n",
       "23         1.0               3        1286.0               0   \n",
       "34         1.0               3        1323.0               1   \n",
       "47         2.0               3         142.0               0   \n",
       "\n",
       "    Car_Cancellation  waiting_period_min  travel_day  travel_month  \\\n",
       "8                  0            7.217652           1             1   \n",
       "20                 0            4.610436           1             1   \n",
       "23                 0            4.805896           1             1   \n",
       "34                 0            5.371685           1             1   \n",
       "47                 0            7.623152           2             1   \n",
       "\n",
       "    booked_day  booked_month travel_hour booked_hour  \n",
       "8            1             1   Afternoon     Morning  \n",
       "20           1             1   Afternoon     Morning  \n",
       "23           1             1   Afternoon   Afternoon  \n",
       "34           1             1     Evening     Evening  \n",
       "47           1             1  Late Night     Evening  "
      ]
     },
     "execution_count": 47,
     "metadata": {},
     "output_type": "execute_result"
    }
   ],
   "source": [
    "data_tt3.head()"
   ]
  },
  {
   "cell_type": "code",
   "execution_count": 48,
   "id": "8af51555",
   "metadata": {
    "colab": {
     "base_uri": "https://localhost:8080/",
     "height": 175
    },
    "execution": {
     "iopub.execute_input": "2023-12-24T01:18:41.621268Z",
     "iopub.status.busy": "2023-12-24T01:18:41.620825Z",
     "iopub.status.idle": "2023-12-24T01:18:41.632821Z",
     "shell.execute_reply": "2023-12-24T01:18:41.632103Z",
     "shell.execute_reply.started": "2023-12-24T01:18:41.621247Z"
    },
    "executionInfo": {
     "elapsed": 29,
     "status": "ok",
     "timestamp": 1703156952421,
     "user": {
      "displayName": "Gowrishankar R",
      "userId": "12173064338158270855"
     },
     "user_tz": -330
    },
    "id": "8af51555",
    "outputId": "d8ff6aab-6b84-44e4-fc06-27fc3a2ea653"
   },
   "outputs": [
    {
     "data": {
      "text/html": [
       "<div>\n",
       "<style scoped>\n",
       "    .dataframe tbody tr th:only-of-type {\n",
       "        vertical-align: middle;\n",
       "    }\n",
       "\n",
       "    .dataframe tbody tr th {\n",
       "        vertical-align: top;\n",
       "    }\n",
       "\n",
       "    .dataframe thead th {\n",
       "        text-align: right;\n",
       "    }\n",
       "</style>\n",
       "<table border=\"1\" class=\"dataframe\">\n",
       "  <thead>\n",
       "    <tr style=\"text-align: right;\">\n",
       "      <th></th>\n",
       "      <th>travel_hour</th>\n",
       "      <th>booked_hour</th>\n",
       "    </tr>\n",
       "  </thead>\n",
       "  <tbody>\n",
       "    <tr>\n",
       "      <th>count</th>\n",
       "      <td>7536</td>\n",
       "      <td>7536</td>\n",
       "    </tr>\n",
       "    <tr>\n",
       "      <th>unique</th>\n",
       "      <td>6</td>\n",
       "      <td>6</td>\n",
       "    </tr>\n",
       "    <tr>\n",
       "      <th>top</th>\n",
       "      <td>Morning</td>\n",
       "      <td>Morning</td>\n",
       "    </tr>\n",
       "    <tr>\n",
       "      <th>freq</th>\n",
       "      <td>2907</td>\n",
       "      <td>2280</td>\n",
       "    </tr>\n",
       "  </tbody>\n",
       "</table>\n",
       "</div>"
      ],
      "text/plain": [
       "       travel_hour booked_hour\n",
       "count         7536        7536\n",
       "unique           6           6\n",
       "top        Morning     Morning\n",
       "freq          2907        2280"
      ]
     },
     "execution_count": 48,
     "metadata": {},
     "output_type": "execute_result"
    }
   ],
   "source": [
    "data_tt3.describe(include='object')"
   ]
  },
  {
   "cell_type": "markdown",
   "id": "8d9c3620",
   "metadata": {
    "id": "8d9c3620"
   },
   "source": [
    "### Label encoding"
   ]
  },
  {
   "cell_type": "code",
   "execution_count": 49,
   "id": "1560d6e9",
   "metadata": {
    "colab": {
     "base_uri": "https://localhost:8080/",
     "height": 206
    },
    "execution": {
     "iopub.execute_input": "2023-12-24T01:18:41.633985Z",
     "iopub.status.busy": "2023-12-24T01:18:41.633719Z",
     "iopub.status.idle": "2023-12-24T01:18:41.649204Z",
     "shell.execute_reply": "2023-12-24T01:18:41.648459Z",
     "shell.execute_reply.started": "2023-12-24T01:18:41.633965Z"
    },
    "executionInfo": {
     "elapsed": 27,
     "status": "ok",
     "timestamp": 1703156952421,
     "user": {
      "displayName": "Gowrishankar R",
      "userId": "12173064338158270855"
     },
     "user_tz": -330
    },
    "id": "1560d6e9",
    "outputId": "9e924253-4867-4ab3-a9c0-eb8c66e7399a"
   },
   "outputs": [
    {
     "data": {
      "text/html": [
       "<div>\n",
       "<style scoped>\n",
       "    .dataframe tbody tr th:only-of-type {\n",
       "        vertical-align: middle;\n",
       "    }\n",
       "\n",
       "    .dataframe tbody tr th {\n",
       "        vertical-align: top;\n",
       "    }\n",
       "\n",
       "    .dataframe thead th {\n",
       "        text-align: right;\n",
       "    }\n",
       "</style>\n",
       "<table border=\"1\" class=\"dataframe\">\n",
       "  <thead>\n",
       "    <tr style=\"text-align: right;\">\n",
       "      <th></th>\n",
       "      <th>package_id</th>\n",
       "      <th>travel_type_id</th>\n",
       "      <th>from_area_id</th>\n",
       "      <th>online_booking</th>\n",
       "      <th>Car_Cancellation</th>\n",
       "      <th>waiting_period_min</th>\n",
       "      <th>travel_day</th>\n",
       "      <th>travel_month</th>\n",
       "      <th>booked_day</th>\n",
       "      <th>booked_month</th>\n",
       "      <th>travel_hour</th>\n",
       "      <th>booked_hour</th>\n",
       "    </tr>\n",
       "  </thead>\n",
       "  <tbody>\n",
       "    <tr>\n",
       "      <th>8</th>\n",
       "      <td>2.0</td>\n",
       "      <td>3</td>\n",
       "      <td>448.0</td>\n",
       "      <td>0</td>\n",
       "      <td>0</td>\n",
       "      <td>7.217652</td>\n",
       "      <td>1</td>\n",
       "      <td>1</td>\n",
       "      <td>1</td>\n",
       "      <td>1</td>\n",
       "      <td>0</td>\n",
       "      <td>4</td>\n",
       "    </tr>\n",
       "    <tr>\n",
       "      <th>20</th>\n",
       "      <td>2.0</td>\n",
       "      <td>3</td>\n",
       "      <td>471.0</td>\n",
       "      <td>0</td>\n",
       "      <td>0</td>\n",
       "      <td>4.610436</td>\n",
       "      <td>1</td>\n",
       "      <td>1</td>\n",
       "      <td>1</td>\n",
       "      <td>1</td>\n",
       "      <td>0</td>\n",
       "      <td>4</td>\n",
       "    </tr>\n",
       "    <tr>\n",
       "      <th>23</th>\n",
       "      <td>1.0</td>\n",
       "      <td>3</td>\n",
       "      <td>1286.0</td>\n",
       "      <td>0</td>\n",
       "      <td>0</td>\n",
       "      <td>4.805896</td>\n",
       "      <td>1</td>\n",
       "      <td>1</td>\n",
       "      <td>1</td>\n",
       "      <td>1</td>\n",
       "      <td>0</td>\n",
       "      <td>0</td>\n",
       "    </tr>\n",
       "    <tr>\n",
       "      <th>34</th>\n",
       "      <td>1.0</td>\n",
       "      <td>3</td>\n",
       "      <td>1323.0</td>\n",
       "      <td>1</td>\n",
       "      <td>0</td>\n",
       "      <td>5.371685</td>\n",
       "      <td>1</td>\n",
       "      <td>1</td>\n",
       "      <td>1</td>\n",
       "      <td>1</td>\n",
       "      <td>2</td>\n",
       "      <td>2</td>\n",
       "    </tr>\n",
       "    <tr>\n",
       "      <th>47</th>\n",
       "      <td>2.0</td>\n",
       "      <td>3</td>\n",
       "      <td>142.0</td>\n",
       "      <td>0</td>\n",
       "      <td>0</td>\n",
       "      <td>7.623152</td>\n",
       "      <td>2</td>\n",
       "      <td>1</td>\n",
       "      <td>1</td>\n",
       "      <td>1</td>\n",
       "      <td>3</td>\n",
       "      <td>2</td>\n",
       "    </tr>\n",
       "  </tbody>\n",
       "</table>\n",
       "</div>"
      ],
      "text/plain": [
       "    package_id  travel_type_id  from_area_id  online_booking  \\\n",
       "8          2.0               3         448.0               0   \n",
       "20         2.0               3         471.0               0   \n",
       "23         1.0               3        1286.0               0   \n",
       "34         1.0               3        1323.0               1   \n",
       "47         2.0               3         142.0               0   \n",
       "\n",
       "    Car_Cancellation  waiting_period_min  travel_day  travel_month  \\\n",
       "8                  0            7.217652           1             1   \n",
       "20                 0            4.610436           1             1   \n",
       "23                 0            4.805896           1             1   \n",
       "34                 0            5.371685           1             1   \n",
       "47                 0            7.623152           2             1   \n",
       "\n",
       "    booked_day  booked_month  travel_hour  booked_hour  \n",
       "8            1             1            0            4  \n",
       "20           1             1            0            4  \n",
       "23           1             1            0            0  \n",
       "34           1             1            2            2  \n",
       "47           1             1            3            2  "
      ]
     },
     "execution_count": 49,
     "metadata": {},
     "output_type": "execute_result"
    }
   ],
   "source": [
    "from sklearn.preprocessing import LabelEncoder\n",
    "le = LabelEncoder()\n",
    "\n",
    "data_tt3['travel_hour'] = le.fit_transform(data_tt3['travel_hour'])\n",
    "data_tt3['booked_hour'] = le.fit_transform(data_tt3['booked_hour'])\n",
    "data_tt3.head()"
   ]
  },
  {
   "cell_type": "markdown",
   "id": "3ac431fd",
   "metadata": {
    "id": "3ac431fd"
   },
   "source": [
    "### Correlation Analysis"
   ]
  },
  {
   "cell_type": "code",
   "execution_count": 50,
   "id": "1a2f5992",
   "metadata": {
    "colab": {
     "base_uri": "https://localhost:8080/",
     "height": 613
    },
    "execution": {
     "iopub.execute_input": "2023-12-24T01:18:41.650263Z",
     "iopub.status.busy": "2023-12-24T01:18:41.650050Z",
     "iopub.status.idle": "2023-12-24T01:18:42.124658Z",
     "shell.execute_reply": "2023-12-24T01:18:42.123990Z",
     "shell.execute_reply.started": "2023-12-24T01:18:41.650244Z"
    },
    "executionInfo": {
     "elapsed": 1563,
     "status": "ok",
     "timestamp": 1703156953961,
     "user": {
      "displayName": "Gowrishankar R",
      "userId": "12173064338158270855"
     },
     "user_tz": -330
    },
    "id": "1a2f5992",
    "outputId": "b41fa609-f888-4a1a-bcd9-ebf4282da79a"
   },
   "outputs": [
    {
     "data": {
      "image/png": "[encoded data removed]",
      "text/plain": [
       "<Figure size 640x480 with 2 Axes>"
      ]
     },
     "metadata": {},
     "output_type": "display_data"
    }
   ],
   "source": [
    "corrmat = data_tt3.corr()\n",
    "k = 10 #number of variables for heatmap\n",
    "cols = corrmat.nlargest(k, 'Car_Cancellation')['Car_Cancellation'].index\n",
    "cm = np.corrcoef(data_tt3[cols].values.T)\n",
    "sns.set(font_scale=1.25)\n",
    "hm = sns.heatmap(cm, cbar=True, annot=True, square=True, fmt='.2f', annot_kws={'size': 10}, yticklabels=cols.values, xticklabels=cols.values)\n",
    "plt.show()"
   ]
  },
  {
   "cell_type": "markdown",
   "id": "3eb2200b",
   "metadata": {
    "id": "3eb2200b"
   },
   "source": [
    "###### NOTE : booked_month and travel_month are highly correlated, so dropping one of it (booked_month)"
   ]
  },
  {
   "cell_type": "code",
   "execution_count": 51,
   "id": "6f920d99",
   "metadata": {
    "execution": {
     "iopub.execute_input": "2023-12-24T01:18:42.125869Z",
     "iopub.status.busy": "2023-12-24T01:18:42.125573Z",
     "iopub.status.idle": "2023-12-24T01:18:42.133427Z",
     "shell.execute_reply": "2023-12-24T01:18:42.129665Z",
     "shell.execute_reply.started": "2023-12-24T01:18:42.125847Z"
    },
    "executionInfo": {
     "elapsed": 22,
     "status": "ok",
     "timestamp": 1703156953961,
     "user": {
      "displayName": "Gowrishankar R",
      "userId": "12173064338158270855"
     },
     "user_tz": -330
    },
    "id": "6f920d99"
   },
   "outputs": [],
   "source": [
    "data_tt3 = data_tt3.drop(['booked_month'],axis=1)"
   ]
  },
  {
   "cell_type": "markdown",
   "id": "deb9def9",
   "metadata": {
    "id": "deb9def9"
   },
   "source": [
    "### Extract features and target"
   ]
  },
  {
   "cell_type": "code",
   "execution_count": 52,
   "id": "7781fc1f",
   "metadata": {
    "execution": {
     "iopub.execute_input": "2023-12-24T01:18:42.135303Z",
     "iopub.status.busy": "2023-12-24T01:18:42.134994Z",
     "iopub.status.idle": "2023-12-24T01:18:42.144228Z",
     "shell.execute_reply": "2023-12-24T01:18:42.143657Z",
     "shell.execute_reply.started": "2023-12-24T01:18:42.135270Z"
    },
    "executionInfo": {
     "elapsed": 21,
     "status": "ok",
     "timestamp": 1703156953962,
     "user": {
      "displayName": "Gowrishankar R",
      "userId": "12173064338158270855"
     },
     "user_tz": -330
    },
    "id": "7781fc1f"
   },
   "outputs": [],
   "source": [
    "x = data_tt3.iloc[:,data_tt3.columns != 'Car_Cancellation']\n",
    "y = data_tt3.iloc[:,data_tt3.columns == 'Car_Cancellation']"
   ]
  },
  {
   "cell_type": "markdown",
   "id": "c3220586",
   "metadata": {
    "id": "c3220586"
   },
   "source": [
    "### Scaling features before splitting"
   ]
  },
  {
   "cell_type": "code",
   "execution_count": 53,
   "id": "697a45e7",
   "metadata": {
    "execution": {
     "iopub.execute_input": "2023-12-24T01:18:42.145368Z",
     "iopub.status.busy": "2023-12-24T01:18:42.145090Z",
     "iopub.status.idle": "2023-12-24T01:18:42.153532Z",
     "shell.execute_reply": "2023-12-24T01:18:42.152949Z",
     "shell.execute_reply.started": "2023-12-24T01:18:42.145347Z"
    },
    "executionInfo": {
     "elapsed": 21,
     "status": "ok",
     "timestamp": 1703156953962,
     "user": {
      "displayName": "Gowrishankar R",
      "userId": "12173064338158270855"
     },
     "user_tz": -330
    },
    "id": "697a45e7"
   },
   "outputs": [],
   "source": [
    "###Entire features scaling is required for some modelselections like KNN\n",
    "from sklearn.preprocessing import StandardScaler\n",
    "ss=StandardScaler()\n",
    "\n",
    "x_copy=x\n",
    "x_ss=ss.fit_transform(x_copy)\n",
    "\n",
    "y_copy=y.values.ravel()"
   ]
  },
  {
   "cell_type": "markdown",
   "id": "ff760aa0",
   "metadata": {
    "id": "ff760aa0"
   },
   "source": [
    "### Split data into training and test data"
   ]
  },
  {
   "cell_type": "code",
   "execution_count": 54,
   "id": "8e4138c7",
   "metadata": {
    "execution": {
     "iopub.execute_input": "2023-12-24T01:18:42.154597Z",
     "iopub.status.busy": "2023-12-24T01:18:42.154329Z",
     "iopub.status.idle": "2023-12-24T01:18:42.160295Z",
     "shell.execute_reply": "2023-12-24T01:18:42.159618Z",
     "shell.execute_reply.started": "2023-12-24T01:18:42.154577Z"
    },
    "executionInfo": {
     "elapsed": 20,
     "status": "ok",
     "timestamp": 1703156953962,
     "user": {
      "displayName": "Gowrishankar R",
      "userId": "12173064338158270855"
     },
     "user_tz": -330
    },
    "id": "8e4138c7"
   },
   "outputs": [],
   "source": [
    "from sklearn.model_selection import train_test_split\n",
    "xtrain,xtest,ytrain,ytest=train_test_split(x,y,test_size=0.25)"
   ]
  },
  {
   "cell_type": "code",
   "execution_count": 55,
   "id": "2ce12593",
   "metadata": {
    "colab": {
     "base_uri": "https://localhost:8080/"
    },
    "execution": {
     "iopub.execute_input": "2023-12-24T01:18:42.161462Z",
     "iopub.status.busy": "2023-12-24T01:18:42.161191Z",
     "iopub.status.idle": "2023-12-24T01:18:42.166897Z",
     "shell.execute_reply": "2023-12-24T01:18:42.166325Z",
     "shell.execute_reply.started": "2023-12-24T01:18:42.161442Z"
    },
    "executionInfo": {
     "elapsed": 20,
     "status": "ok",
     "timestamp": 1703156953962,
     "user": {
      "displayName": "Gowrishankar R",
      "userId": "12173064338158270855"
     },
     "user_tz": -330
    },
    "id": "2ce12593",
    "outputId": "03fe38ae-adbf-4075-c03d-8f1693dd0526"
   },
   "outputs": [
    {
     "data": {
      "text/plain": [
       "{0: 5401, 1: 251}"
      ]
     },
     "execution_count": 55,
     "metadata": {},
     "output_type": "execute_result"
    }
   ],
   "source": [
    "unique, counts = np.unique(ytrain, return_counts=True)\n",
    "result_dict = dict(zip(unique, counts))\n",
    "\n",
    "result_dict"
   ]
  },
  {
   "cell_type": "markdown",
   "id": "561cfdec",
   "metadata": {
    "id": "561cfdec"
   },
   "source": [
    "#### y_train has severe improportion in the data so using over sampling technique"
   ]
  },
  {
   "cell_type": "code",
   "execution_count": 56,
   "id": "c5f30b17",
   "metadata": {
    "execution": {
     "iopub.execute_input": "2023-12-24T01:18:42.167998Z",
     "iopub.status.busy": "2023-12-24T01:18:42.167681Z",
     "iopub.status.idle": "2023-12-24T01:18:42.465038Z",
     "shell.execute_reply": "2023-12-24T01:18:42.464277Z",
     "shell.execute_reply.started": "2023-12-24T01:18:42.167977Z"
    },
    "executionInfo": {
     "elapsed": 15,
     "status": "ok",
     "timestamp": 1703156953962,
     "user": {
      "displayName": "Gowrishankar R",
      "userId": "12173064338158270855"
     },
     "user_tz": -330
    },
    "id": "c5f30b17"
   },
   "outputs": [],
   "source": [
    "np.random.seed(42)\n",
    "#from imblearn.over_sampling import RandomOverSampler\n",
    "#over=RandomOverSampler()\n",
    "#x_train_over, y_train_over = over.fit_resample(xtrain, ytrain)\n",
    "#ytrain=y_train_over\n",
    "\n",
    "from imblearn.over_sampling import SMOTE\n",
    "sm = SMOTE(random_state = 2)\n",
    "x_train_over, y_train_over = sm.fit_resample(xtrain, ytrain)\n",
    "ytrain=y_train_over"
   ]
  },
  {
   "cell_type": "code",
   "execution_count": 57,
   "id": "c0ea7eaa",
   "metadata": {
    "colab": {
     "base_uri": "https://localhost:8080/"
    },
    "execution": {
     "iopub.execute_input": "2023-12-24T01:18:42.466340Z",
     "iopub.status.busy": "2023-12-24T01:18:42.465995Z",
     "iopub.status.idle": "2023-12-24T01:18:42.473829Z",
     "shell.execute_reply": "2023-12-24T01:18:42.472829Z",
     "shell.execute_reply.started": "2023-12-24T01:18:42.466317Z"
    },
    "executionInfo": {
     "elapsed": 14,
     "status": "ok",
     "timestamp": 1703156953962,
     "user": {
      "displayName": "Gowrishankar R",
      "userId": "12173064338158270855"
     },
     "user_tz": -330
    },
    "id": "c0ea7eaa",
    "outputId": "dedde71a-a5d9-426a-b888-38b240c9397c"
   },
   "outputs": [
    {
     "name": "stdout",
     "output_type": "stream",
     "text": [
      "Car_Cancellation\n",
      "0                   5401\n",
      "1                   5401\n",
      "dtype: int64\n",
      "(10802, 10)\n",
      "(10802, 1)\n"
     ]
    }
   ],
   "source": [
    "print(y_train_over.value_counts())\n",
    "\n",
    "print(x_train_over.shape)\n",
    "print(y_train_over.shape)"
   ]
  },
  {
   "cell_type": "markdown",
   "id": "d2b8f11b",
   "metadata": {
    "id": "d2b8f11b"
   },
   "source": [
    "### Feature Scaling"
   ]
  },
  {
   "cell_type": "markdown",
   "id": "d06d6deb",
   "metadata": {
    "id": "d06d6deb"
   },
   "source": [
    "#### Standard Scaler"
   ]
  },
  {
   "cell_type": "code",
   "execution_count": 58,
   "id": "b646a92b",
   "metadata": {
    "execution": {
     "iopub.execute_input": "2023-12-24T01:18:42.475186Z",
     "iopub.status.busy": "2023-12-24T01:18:42.474825Z",
     "iopub.status.idle": "2023-12-24T01:18:42.487488Z",
     "shell.execute_reply": "2023-12-24T01:18:42.486794Z",
     "shell.execute_reply.started": "2023-12-24T01:18:42.475157Z"
    },
    "executionInfo": {
     "elapsed": 12,
     "status": "ok",
     "timestamp": 1703156953962,
     "user": {
      "displayName": "Gowrishankar R",
      "userId": "12173064338158270855"
     },
     "user_tz": -330
    },
    "id": "b646a92b"
   },
   "outputs": [],
   "source": [
    "from sklearn.preprocessing import StandardScaler\n",
    "standard_Scaler=StandardScaler()\n",
    "xtrain_ss = standard_Scaler.fit_transform(x_train_over)\n",
    "xtest_ss = standard_Scaler.transform(xtest)"
   ]
  },
  {
   "cell_type": "markdown",
   "id": "36af1921",
   "metadata": {
    "id": "36af1921"
   },
   "source": [
    "#### MinMax Scaler"
   ]
  },
  {
   "cell_type": "code",
   "execution_count": 59,
   "id": "f93df7ae",
   "metadata": {
    "execution": {
     "iopub.execute_input": "2023-12-24T01:18:42.489050Z",
     "iopub.status.busy": "2023-12-24T01:18:42.488634Z",
     "iopub.status.idle": "2023-12-24T01:18:42.501124Z",
     "shell.execute_reply": "2023-12-24T01:18:42.500440Z",
     "shell.execute_reply.started": "2023-12-24T01:18:42.489014Z"
    },
    "executionInfo": {
     "elapsed": 13,
     "status": "ok",
     "timestamp": 1703156953963,
     "user": {
      "displayName": "Gowrishankar R",
      "userId": "12173064338158270855"
     },
     "user_tz": -330
    },
    "id": "f93df7ae"
   },
   "outputs": [],
   "source": [
    "from sklearn.preprocessing import MinMaxScaler\n",
    "minmax_Scaler=MinMaxScaler()\n",
    "xtrain_mm = minmax_Scaler.fit_transform(x_train_over)\n",
    "xtest_mm = minmax_Scaler.transform(xtest)"
   ]
  },
  {
   "cell_type": "code",
   "execution_count": 60,
   "id": "9bd1e45e",
   "metadata": {
    "execution": {
     "iopub.execute_input": "2023-12-24T01:18:42.502431Z",
     "iopub.status.busy": "2023-12-24T01:18:42.501982Z",
     "iopub.status.idle": "2023-12-24T01:18:42.505566Z",
     "shell.execute_reply": "2023-12-24T01:18:42.504939Z",
     "shell.execute_reply.started": "2023-12-24T01:18:42.502409Z"
    },
    "executionInfo": {
     "elapsed": 12,
     "status": "ok",
     "timestamp": 1703156953963,
     "user": {
      "displayName": "Gowrishankar R",
      "userId": "12173064338158270855"
     },
     "user_tz": -330
    },
    "id": "9bd1e45e"
   },
   "outputs": [],
   "source": [
    "ytrain=ytrain.values.ravel()"
   ]
  },
  {
   "cell_type": "code",
   "execution_count": 61,
   "id": "5a29ef86",
   "metadata": {
    "execution": {
     "iopub.execute_input": "2023-12-24T01:18:42.506718Z",
     "iopub.status.busy": "2023-12-24T01:18:42.506420Z",
     "iopub.status.idle": "2023-12-24T01:18:42.509808Z",
     "shell.execute_reply": "2023-12-24T01:18:42.509208Z",
     "shell.execute_reply.started": "2023-12-24T01:18:42.506696Z"
    },
    "executionInfo": {
     "elapsed": 12,
     "status": "ok",
     "timestamp": 1703156953963,
     "user": {
      "displayName": "Gowrishankar R",
      "userId": "12173064338158270855"
     },
     "user_tz": -330
    },
    "id": "5a29ef86"
   },
   "outputs": [],
   "source": [
    "models_res=[]"
   ]
  },
  {
   "cell_type": "code",
   "execution_count": 62,
   "id": "09958792",
   "metadata": {
    "execution": {
     "iopub.execute_input": "2023-12-24T01:18:42.510933Z",
     "iopub.status.busy": "2023-12-24T01:18:42.510696Z",
     "iopub.status.idle": "2023-12-24T01:18:42.515474Z",
     "shell.execute_reply": "2023-12-24T01:18:42.514612Z",
     "shell.execute_reply.started": "2023-12-24T01:18:42.510912Z"
    },
    "executionInfo": {
     "elapsed": 11,
     "status": "ok",
     "timestamp": 1703156953963,
     "user": {
      "displayName": "Gowrishankar R",
      "userId": "12173064338158270855"
     },
     "user_tz": -330
    },
    "id": "09958792"
   },
   "outputs": [],
   "source": [
    "np.random.seed(30)"
   ]
  },
  {
   "cell_type": "markdown",
   "id": "00a877de",
   "metadata": {
    "id": "00a877de"
   },
   "source": [
    "### Logistic Regression Model"
   ]
  },
  {
   "cell_type": "code",
   "execution_count": 63,
   "id": "3cf8ca45",
   "metadata": {
    "execution": {
     "iopub.execute_input": "2023-12-24T01:18:42.517162Z",
     "iopub.status.busy": "2023-12-24T01:18:42.516872Z",
     "iopub.status.idle": "2023-12-24T01:18:42.528076Z",
     "shell.execute_reply": "2023-12-24T01:18:42.527168Z",
     "shell.execute_reply.started": "2023-12-24T01:18:42.517131Z"
    },
    "executionInfo": {
     "elapsed": 11,
     "status": "ok",
     "timestamp": 1703156953963,
     "user": {
      "displayName": "Gowrishankar R",
      "userId": "12173064338158270855"
     },
     "user_tz": -330
    },
    "id": "3cf8ca45"
   },
   "outputs": [],
   "source": [
    "start=time.time()\n",
    "from sklearn.linear_model import LogisticRegression\n",
    "\n",
    "logreg=LogisticRegression()\n",
    "\n",
    "## Hyper_parameter optimisation using Grid Search CV\n",
    "def log_reg_gridsearch(xtrain,ytrain):\n",
    "    # Define the hyperparameter grid\n",
    "    param_grid = [\n",
    "        {'solver': ['lbfgs', 'liblinear']},\n",
    "        {'penalty': [None, 'l2']},\n",
    "        {'C': [0.001, 0.01, 0.1, 1, 10, 100]},\n",
    "        {'max_iter': [1000,10000,12000,14000]}\n",
    "    ]\n",
    "    # Perform grid search with cross-validation\n",
    "    grid_search = GridSearchCV(estimator=logreg, param_grid=param_grid, scoring='accuracy', cv=5, verbose=0)\n",
    "    grid_search.fit(xtrain,ytrain)\n",
    "    return grid_search.best_params_\n",
    "\n",
    "def logistic_regression(xtrain,xtest,ytrain):\n",
    "    best_params = log_reg_gridsearch(xtrain,ytrain)\n",
    "    best_logreg = LogisticRegression(**best_params)\n",
    "    best_logreg.fit(xtrain, ytrain)\n",
    "    y_predict=best_logreg.predict(xtest)\n",
    "    y_predictproba=best_logreg.predict_proba(xtest)[::,1]\n",
    "    return [y_predict,y_predictproba,best_params,best_logreg]\n",
    "\n",
    "def logistic_metrices(ytest,ypredict):\n",
    "    con_matrix=confusion_matrix(ytest,ypredict)\n",
    "    accur=accuracy_score(ytest,ypredict)\n",
    "    classf_report=classification_report(ytest,ypredict)\n",
    "    f1_scr=f1_score(ytest,ypredict)\n",
    "    return [con_matrix,accur,classf_report,f1_scr]"
   ]
  },
  {
   "cell_type": "markdown",
   "id": "6ebc2630",
   "metadata": {
    "id": "6ebc2630"
   },
   "source": [
    "##### Logistic Regression Model Evaluation with Standard Scaled features"
   ]
  },
  {
   "cell_type": "code",
   "execution_count": 64,
   "id": "36b07129",
   "metadata": {
    "colab": {
     "base_uri": "https://localhost:8080/",
     "height": 551
    },
    "execution": {
     "iopub.execute_input": "2023-12-24T01:18:42.530023Z",
     "iopub.status.busy": "2023-12-24T01:18:42.529387Z",
     "iopub.status.idle": "2023-12-24T01:18:43.499715Z",
     "shell.execute_reply": "2023-12-24T01:18:43.498998Z",
     "shell.execute_reply.started": "2023-12-24T01:18:42.529989Z"
    },
    "executionInfo": {
     "elapsed": 1369,
     "status": "ok",
     "timestamp": 1703156955322,
     "user": {
      "displayName": "Gowrishankar R",
      "userId": "12173064338158270855"
     },
     "user_tz": -330
    },
    "id": "36b07129",
    "outputId": "71ee1e98-798d-4838-8168-a7f368cb4bd7"
   },
   "outputs": [
    {
     "data": {
      "image/png": "[encoded data removed]",
      "text/plain": [
       "<Figure size 600x200 with 1 Axes>"
      ]
     },
     "metadata": {},
     "output_type": "display_data"
    },
    {
     "name": "stdout",
     "output_type": "stream",
     "text": [
      "accuracy=  {0.6470276008492569} \n",
      "\n",
      "confusion_matrix=  [[1160  639]\n",
      " [  26   59]] \n",
      "\n",
      "classification report= \n",
      "               precision    recall  f1-score   support\n",
      "\n",
      "           0       0.98      0.64      0.78      1799\n",
      "           1       0.08      0.69      0.15        85\n",
      "\n",
      "    accuracy                           0.65      1884\n",
      "   macro avg       0.53      0.67      0.46      1884\n",
      "weighted avg       0.94      0.65      0.75      1884\n",
      "\n",
      "f1 score =  0.15070242656449553\n"
     ]
    }
   ],
   "source": [
    "y=logistic_regression(xtrain_ss,xtest_ss,ytrain)\n",
    "\n",
    "logreg_metrices=logistic_metrices(ytest,y[0])\n",
    "end=time.time()\n",
    "\n",
    "best_logreg_ss=y[3]\n",
    "\n",
    "### Calculation of AUC and ROC\n",
    "fpr,tpr,_= roc_curve(ytest,y[1])\n",
    "auc_val = roc_auc_score(ytest,y[1])\n",
    "\n",
    "### Plotting ROC\n",
    "plt.figure(figsize=(6,2))\n",
    "plt.plot(fpr,tpr,label='auc='+str(auc_val))\n",
    "plt.title(\"Receiver Operating Characteristic Curve (ROC)\")\n",
    "plt.xlabel(\"FPR ---->\")\n",
    "plt.ylabel(\"TPR ---->\")\n",
    "plt.legend(loc=4)\n",
    "plt.show()\n",
    "\n",
    "### Printing evaluation metrices\n",
    "print(f'accuracy= ',{logreg_metrices[1]},'\\n')\n",
    "print(f'confusion_matrix= ',logreg_metrices[0],'\\n')\n",
    "print(f'classification report= \\n',logreg_metrices[2])\n",
    "print(f'f1 score = ',logreg_metrices[3])\n",
    "time_taken=end-start\n",
    "\n",
    "models_res.append(['Logistic regression - Standard Scaler',logreg_metrices[1],auc_val,logreg_metrices[3],time_taken,y[2]])"
   ]
  },
  {
   "cell_type": "markdown",
   "id": "319a51b5",
   "metadata": {
    "id": "319a51b5"
   },
   "source": [
    "##### Logistic Regression Model Evaluation with MinMax Scaled features"
   ]
  },
  {
   "cell_type": "code",
   "execution_count": 65,
   "id": "7fd7ca13",
   "metadata": {
    "colab": {
     "base_uri": "https://localhost:8080/",
     "height": 568
    },
    "execution": {
     "iopub.execute_input": "2023-12-24T01:18:43.501533Z",
     "iopub.status.busy": "2023-12-24T01:18:43.500984Z",
     "iopub.status.idle": "2023-12-24T01:18:44.714882Z",
     "shell.execute_reply": "2023-12-24T01:18:44.714101Z",
     "shell.execute_reply.started": "2023-12-24T01:18:43.501498Z"
    },
    "executionInfo": {
     "elapsed": 2894,
     "status": "ok",
     "timestamp": 1703156958210,
     "user": {
      "displayName": "Gowrishankar R",
      "userId": "12173064338158270855"
     },
     "user_tz": -330
    },
    "id": "7fd7ca13",
    "outputId": "d3c0dd1e-96cd-42f1-9bd3-22fce26ca4da"
   },
   "outputs": [
    {
     "data": {
      "image/png": "[encoded data removed]",
      "text/plain": [
       "<Figure size 600x200 with 1 Axes>"
      ]
     },
     "metadata": {},
     "output_type": "display_data"
    },
    {
     "name": "stdout",
     "output_type": "stream",
     "text": [
      "accuracy=  {0.6475583864118896} \n",
      "\n",
      "confusion_matrix= \n",
      " [[1161  638]\n",
      " [  26   59]] \n",
      "\n",
      "classification report= \n",
      "               precision    recall  f1-score   support\n",
      "\n",
      "           0       0.98      0.65      0.78      1799\n",
      "           1       0.08      0.69      0.15        85\n",
      "\n",
      "    accuracy                           0.65      1884\n",
      "   macro avg       0.53      0.67      0.46      1884\n",
      "weighted avg       0.94      0.65      0.75      1884\n",
      "\n",
      "f1 score =  0.15089514066496162\n"
     ]
    }
   ],
   "source": [
    "y=logistic_regression(xtrain_mm,xtest_mm,ytrain)\n",
    "\n",
    "logreg_metrices=logistic_metrices(ytest,y[0])\n",
    "end=time.time()\n",
    "\n",
    "best_logreg_mm=y[3]\n",
    "\n",
    "### Calculation of AUC and ROC\n",
    "fpr,tpr,_= roc_curve(ytest,y[1])\n",
    "auc_val = roc_auc_score(ytest,y[1])\n",
    "\n",
    "### Plotting ROC\n",
    "plt.figure(figsize=(6,2))\n",
    "plt.plot(fpr,tpr,label='auc='+str(auc_val))\n",
    "plt.title(\"Receiver Operating Characteristic Curve (ROC)\")\n",
    "plt.xlabel(\"FPR ---->\")\n",
    "plt.ylabel(\"TPR ---->\")\n",
    "plt.legend(loc=4)\n",
    "plt.show()\n",
    "\n",
    "### Printing evalaution metrices\n",
    "print(f'accuracy= ',{logreg_metrices[1]},'\\n')\n",
    "print(f'confusion_matrix= \\n',logreg_metrices[0],'\\n')\n",
    "print(f'classification report= \\n',logreg_metrices[2])\n",
    "print(f'f1 score = ',logreg_metrices[3])\n",
    "time_taken=end-start\n",
    "\n",
    "models_res.append(['Logistic regression - MinMax Scaler',logreg_metrices[1],auc_val,logreg_metrices[3],time_taken,y[2]])"
   ]
  },
  {
   "cell_type": "markdown",
   "id": "a92d4bb8",
   "metadata": {
    "id": "a92d4bb8"
   },
   "source": [
    "### Decision Tree Model"
   ]
  },
  {
   "cell_type": "code",
   "execution_count": 66,
   "id": "d9b5aa52",
   "metadata": {
    "execution": {
     "iopub.execute_input": "2023-12-24T01:18:44.716160Z",
     "iopub.status.busy": "2023-12-24T01:18:44.715877Z",
     "iopub.status.idle": "2023-12-24T01:18:44.722538Z",
     "shell.execute_reply": "2023-12-24T01:18:44.721905Z",
     "shell.execute_reply.started": "2023-12-24T01:18:44.716138Z"
    },
    "executionInfo": {
     "elapsed": 10,
     "status": "ok",
     "timestamp": 1703156958210,
     "user": {
      "displayName": "Gowrishankar R",
      "userId": "12173064338158270855"
     },
     "user_tz": -330
    },
    "id": "d9b5aa52"
   },
   "outputs": [],
   "source": [
    "start=time.time()\n",
    "\n",
    "from sklearn.tree import DecisionTreeClassifier\n",
    "\n",
    "decitree=DecisionTreeClassifier()\n",
    "\n",
    "## Hyper_parameter optimisation using Grid Search CV\n",
    "def deci_tree_gridsearch(xtrain,ytrain):\n",
    "    # Define the hyperparameter grid\n",
    "    param_grid = {\n",
    "        'criterion': ['gini', 'entropy'],\n",
    "        'max_depth': [4, 5, 6, 7, 8, 9, 10, 12],\n",
    "        'min_samples_split':np.arange(3,11),\n",
    "        'min_samples_leaf':np.arange(3,11),\n",
    "        'max_leaf_nodes':np.arange(5,21)\n",
    "        }\n",
    "    # Perform grid search with cross-validation\n",
    "    grid_search = GridSearchCV(estimator=decitree, param_grid=param_grid, cv=5, verbose=0)\n",
    "    grid_search.fit(xtrain,ytrain)\n",
    "    return grid_search.best_params_\n",
    "\n",
    "def deci_tree(xtrain,xtest,ytrain):\n",
    "    best_params = deci_tree_gridsearch(xtrain,ytrain)\n",
    "    best_decitree = DecisionTreeClassifier(**best_params)\n",
    "    best_decitree.fit(xtrain, ytrain)\n",
    "    y_predict=best_decitree.predict(xtest)\n",
    "    y_predictproba=best_decitree.predict_proba(xtest)[::,1]\n",
    "    return [y_predict,y_predictproba,best_params,best_decitree]\n",
    "\n",
    "def deci_tree_metrices(ytest,ypredict):\n",
    "    con_matrix=confusion_matrix(ytest,ypredict)\n",
    "    accur=accuracy_score(ytest,ypredict)\n",
    "    classf_report=classification_report(ytest,ypredict)\n",
    "    f1_scr=f1_score(ytest,ypredict)\n",
    "    return [con_matrix,accur,classf_report,f1_scr]"
   ]
  },
  {
   "cell_type": "markdown",
   "id": "f4eed483",
   "metadata": {
    "id": "f4eed483"
   },
   "source": [
    "##### Decision Tree Model Evaluation with Standard Scaled features"
   ]
  },
  {
   "cell_type": "code",
   "execution_count": 67,
   "id": "dc401c6b",
   "metadata": {
    "colab": {
     "base_uri": "https://localhost:8080/",
     "height": 783
    },
    "execution": {
     "iopub.execute_input": "2023-12-24T01:18:44.729115Z",
     "iopub.status.busy": "2023-12-24T01:18:44.728556Z",
     "iopub.status.idle": "2023-12-24T01:45:55.984530Z",
     "shell.execute_reply": "2023-12-24T01:45:55.983735Z",
     "shell.execute_reply.started": "2023-12-24T01:18:44.729082Z"
    },
    "executionInfo": {
     "elapsed": 1025749,
     "status": "ok",
     "timestamp": 1703158782301,
     "user": {
      "displayName": "Gowrishankar R",
      "userId": "12173064338158270855"
     },
     "user_tz": -330
    },
    "id": "dc401c6b",
    "outputId": "c8de31a2-42a6-4ba2-d590-21cefcb538fa",
    "tags": []
   },
   "outputs": [
    {
     "data": {
      "image/png": "[encoded data removed]",
      "text/plain": [
       "<Figure size 640x480 with 1 Axes>"
      ]
     },
     "metadata": {},
     "output_type": "display_data"
    },
    {
     "name": "stdout",
     "output_type": "stream",
     "text": [
      "accuracy=  {0.7765392781316348} \n",
      "\n",
      "confusion_matrix= \n",
      " [[1425  374]\n",
      " [  47   38]] \n",
      "\n",
      "classification report= \n",
      "               precision    recall  f1-score   support\n",
      "\n",
      "           0       0.97      0.79      0.87      1799\n",
      "           1       0.09      0.45      0.15        85\n",
      "\n",
      "    accuracy                           0.78      1884\n",
      "   macro avg       0.53      0.62      0.51      1884\n",
      "weighted avg       0.93      0.78      0.84      1884\n",
      "\n",
      "f1 score =  0.15089514066496162\n"
     ]
    }
   ],
   "source": [
    "y=deci_tree(xtrain_ss,xtest_ss,ytrain)\n",
    "\n",
    "decitree_metrices=deci_tree_metrices(ytest,y[0])\n",
    "end=time.time()\n",
    "\n",
    "best_decitree_ss=y[3]\n",
    "\n",
    "### Calculation of AUC and ROC\n",
    "fpr,tpr,_= roc_curve(ytest,y[1])\n",
    "auc_val = roc_auc_score(ytest,y[1])\n",
    "roc_auc_val = auc(fpr,tpr)\n",
    "\n",
    "### Plotting ROC\n",
    "plt.figure(1)\n",
    "lw=1\n",
    "plt.plot(fpr,tpr,color='orange',lw=lw,label='Decision Tree(AUC = %0.2f)'%roc_auc_val)\n",
    "plt.plot([0,1],[0,1],color='blue',lw=lw,linestyle='--')\n",
    "\n",
    "plt.xlim([0.0,1.0])\n",
    "plt.ylim([0.0,1.05])\n",
    "plt.xlabel(\"False Positive Rate\")\n",
    "plt.ylabel(\"True Positive Rate\")\n",
    "plt.title(\"area Under the Curve\")\n",
    "plt.legend(loc=\"lower right\")\n",
    "plt.show()\n",
    "\n",
    "### Printing metrices\n",
    "print(f'accuracy= ',{decitree_metrices[1]},'\\n')\n",
    "print(f'confusion_matrix= \\n',decitree_metrices[0],'\\n')\n",
    "print(f'classification report= \\n',decitree_metrices[2])\n",
    "print(f'f1 score = ',logreg_metrices[3])\n",
    "time_taken=end-start\n",
    "\n",
    "models_res.append(['Decision Tree - Standard Scaler',decitree_metrices[1],auc_val,decitree_metrices[3],time_taken,y[2]])"
   ]
  },
  {
   "cell_type": "markdown",
   "id": "5d0dca94",
   "metadata": {
    "id": "5d0dca94"
   },
   "source": [
    "##### Decision Tree Model Evaluation with MinMax Scaled features"
   ]
  },
  {
   "cell_type": "code",
   "execution_count": 68,
   "id": "c7f842d9",
   "metadata": {
    "execution": {
     "iopub.execute_input": "2023-12-24T01:45:55.985755Z",
     "iopub.status.busy": "2023-12-24T01:45:55.985461Z",
     "iopub.status.idle": "2023-12-24T02:13:09.317823Z",
     "shell.execute_reply": "2023-12-24T02:13:09.316986Z",
     "shell.execute_reply.started": "2023-12-24T01:45:55.985731Z"
    },
    "id": "c7f842d9",
    "tags": []
   },
   "outputs": [
    {
     "data": {
      "image/png": "[encoded data removed]",
      "text/plain": [
       "<Figure size 640x480 with 1 Axes>"
      ]
     },
     "metadata": {},
     "output_type": "display_data"
    },
    {
     "name": "stdout",
     "output_type": "stream",
     "text": [
      "accuracy=  {0.7765392781316348} \n",
      "\n",
      "confusion_matrix= \n",
      " [[1425  374]\n",
      " [  47   38]] \n",
      "\n",
      "classification report= \n",
      "               precision    recall  f1-score   support\n",
      "\n",
      "           0       0.97      0.79      0.87      1799\n",
      "           1       0.09      0.45      0.15        85\n",
      "\n",
      "    accuracy                           0.78      1884\n",
      "   macro avg       0.53      0.62      0.51      1884\n",
      "weighted avg       0.93      0.78      0.84      1884\n",
      "\n",
      "f1 score =  0.15089514066496162\n"
     ]
    }
   ],
   "source": [
    "y=deci_tree(xtrain_mm,xtest_mm,ytrain)\n",
    "\n",
    "decitree_metrices=deci_tree_metrices(ytest,y[0])\n",
    "end=time.time()\n",
    "\n",
    "best_decitree_mm=y[3]\n",
    "\n",
    "### Calculation of AUC and ROC\n",
    "fpr,tpr,_= roc_curve(ytest,y[1])\n",
    "auc_val = roc_auc_score(ytest,y[1])\n",
    "roc_auc_val = auc(fpr,tpr)\n",
    "\n",
    "### Plotting ROC\n",
    "plt.figure(1)\n",
    "lw=1\n",
    "plt.plot(fpr,tpr,color='orange',lw=lw,label='Decision Tree(AUC = %0.2f)'%roc_auc_val)\n",
    "plt.plot([0,1],[0,1],color='blue',lw=lw,linestyle='--')\n",
    "\n",
    "plt.xlim([0.0,1.0])\n",
    "plt.ylim([0.0,1.05])\n",
    "plt.xlabel(\"False Positive Rate\")\n",
    "plt.ylabel(\"True Positive Rate\")\n",
    "plt.title(\"area Under the Curve\")\n",
    "plt.legend(loc=\"lower right\")\n",
    "plt.show()\n",
    "\n",
    "### Printing metrices\n",
    "print(f'accuracy= ',{decitree_metrices[1]},'\\n')\n",
    "print(f'confusion_matrix= \\n',decitree_metrices[0],'\\n')\n",
    "print(f'classification report= \\n',decitree_metrices[2])\n",
    "print(f'f1 score = ',logreg_metrices[3])\n",
    "time_taken=end-start\n",
    "\n",
    "models_res.append(['Decision Tree - MinMax Scaler',decitree_metrices[1],auc_val,decitree_metrices[3],time_taken,y[2]])"
   ]
  },
  {
   "cell_type": "markdown",
   "id": "aa2d197b",
   "metadata": {
    "id": "aa2d197b"
   },
   "source": [
    "### Random Forest Model"
   ]
  },
  {
   "cell_type": "code",
   "execution_count": 69,
   "id": "59cff78f",
   "metadata": {
    "execution": {
     "iopub.execute_input": "2023-12-24T02:13:09.319717Z",
     "iopub.status.busy": "2023-12-24T02:13:09.319091Z",
     "iopub.status.idle": "2023-12-24T02:13:09.330462Z",
     "shell.execute_reply": "2023-12-24T02:13:09.329616Z",
     "shell.execute_reply.started": "2023-12-24T02:13:09.319680Z"
    },
    "id": "59cff78f"
   },
   "outputs": [],
   "source": [
    "start=time.time()\n",
    "\n",
    "from sklearn.ensemble import RandomForestClassifier\n",
    "\n",
    "f1 = make_scorer(f1_score, average='macro')\n",
    "\n",
    "randforest=RandomForestClassifier()\n",
    "\n",
    "## Hyper_parameter optimisation using Grid Search CV\n",
    "def rand_forest_gridsearch(xtrain,ytrain):\n",
    "    # Define the hyperparameter grid\n",
    "    param_grid={\n",
    "        'max_depth':[4,5,6,7,8,9,10,11,12,13,14],\n",
    "        'n_estimators':np.arange(50,500,100),\n",
    "        'max_features':['auto','sqrt','log2',None],\n",
    "        'criterion':['gini','entropy'],\n",
    "        'min_samples_leaf':randint(1,4)\n",
    "    }\n",
    "    # Perform grid search with cross-validation\n",
    "    grid_search = GridSearchCV(estimator=randforest, param_grid=param_grid, cv=5, scoring=f1, verbose=0)\n",
    "    grid_search.fit(xtrain,ytrain)\n",
    "    return grid_search.best_params_\n",
    "\n",
    "def rand_forest(xtrain,xtest,ytrain):\n",
    "    best_params = deci_tree_gridsearch(xtrain,ytrain)\n",
    "    best_randforest = RandomForestClassifier(**best_params)\n",
    "    best_randforest.fit(xtrain, ytrain)\n",
    "    y_predict=best_randforest.predict(xtest)\n",
    "    y_predictproba=best_randforest.predict_proba(xtest)[::,1]\n",
    "    return [y_predict,y_predictproba,best_params,best_randforest]\n",
    "\n",
    "def rand_forest_metrices(ytest,ypredict):\n",
    "    con_matrix=confusion_matrix(ytest,ypredict)\n",
    "    accur=accuracy_score(ytest,ypredict)\n",
    "    classf_report=classification_report(ytest,ypredict)\n",
    "    f1_scr=f1_score(ytest,ypredict)\n",
    "    return [con_matrix,accur,classf_report,f1_scr]"
   ]
  },
  {
   "cell_type": "markdown",
   "id": "37afaae8",
   "metadata": {
    "id": "37afaae8"
   },
   "source": [
    "##### Random Forest Model Evaluation with Standard Scaled features"
   ]
  },
  {
   "cell_type": "code",
   "execution_count": 70,
   "id": "47e812b9",
   "metadata": {
    "colab": {
     "base_uri": "https://localhost:8080/",
     "height": 783
    },
    "execution": {
     "iopub.execute_input": "2023-12-24T02:13:09.332256Z",
     "iopub.status.busy": "2023-12-24T02:13:09.331660Z",
     "iopub.status.idle": "2023-12-24T02:40:43.115820Z",
     "shell.execute_reply": "2023-12-24T02:40:43.115136Z",
     "shell.execute_reply.started": "2023-12-24T02:13:09.332220Z"
    },
    "executionInfo": {
     "elapsed": 19899,
     "status": "ok",
     "timestamp": 1703162388081,
     "user": {
      "displayName": "Gowrishankar R",
      "userId": "12173064338158270855"
     },
     "user_tz": -330
    },
    "id": "47e812b9",
    "outputId": "a36bb508-d7cd-4d58-d7ba-384df41fd29d",
    "tags": []
   },
   "outputs": [
    {
     "data": {
      "image/png": "[encoded data removed]",
      "text/plain": [
       "<Figure size 640x480 with 1 Axes>"
      ]
     },
     "metadata": {},
     "output_type": "display_data"
    },
    {
     "name": "stdout",
     "output_type": "stream",
     "text": [
      "accuracy=  {0.7489384288747346} \n",
      "\n",
      "confusion_matrix= \n",
      " [[1376  423]\n",
      " [  50   35]] \n",
      "\n",
      "classification report= \n",
      "               precision    recall  f1-score   support\n",
      "\n",
      "           0       0.96      0.76      0.85      1799\n",
      "           1       0.08      0.41      0.13        85\n",
      "\n",
      "    accuracy                           0.75      1884\n",
      "   macro avg       0.52      0.59      0.49      1884\n",
      "weighted avg       0.92      0.75      0.82      1884\n",
      "\n",
      "f1 score =  0.1289134438305709\n"
     ]
    }
   ],
   "source": [
    "y=rand_forest(xtrain_ss,xtest_ss,ytrain)\n",
    "\n",
    "randforest_metrices=rand_forest_metrices(ytest,y[0])\n",
    "end=time.time()\n",
    "\n",
    "best_randforest_ss=y[3]\n",
    "\n",
    "### Calculation of AUC and ROC\n",
    "fpr,tpr,_= roc_curve(ytest,y[1])\n",
    "auc_val = roc_auc_score(ytest,y[1])\n",
    "roc_auc_val = auc(fpr,tpr)\n",
    "\n",
    "### Plotting ROC\n",
    "plt.figure(1)\n",
    "lw=1\n",
    "plt.plot(fpr,tpr,color='orange',lw=lw,label='Random Forest (AUC = %0.2f)'%roc_auc_val)\n",
    "plt.plot([0,1],[0,1],color='blue',lw=lw,linestyle='--')\n",
    "\n",
    "plt.xlim([0.0,1.0])\n",
    "plt.ylim([0.0,1.05])\n",
    "plt.xlabel(\"False Positive Rate\")\n",
    "plt.ylabel(\"True Positive Rate\")\n",
    "plt.title(\"area Under the Curve\")\n",
    "plt.legend(loc=\"lower right\")\n",
    "plt.show()\n",
    "\n",
    "### Printing metrices\n",
    "print(f'accuracy= ',{randforest_metrices[1]},'\\n')\n",
    "print(f'confusion_matrix= \\n',randforest_metrices[0],'\\n')\n",
    "print(f'classification report= \\n',randforest_metrices[2])\n",
    "print(f'f1 score = ',randforest_metrices[3])\n",
    "time_taken=end-start\n",
    "\n",
    "models_res.append(['Random Forest - Standard Scaler',randforest_metrices[1],auc_val,randforest_metrices[3],time_taken,y[2]])"
   ]
  },
  {
   "cell_type": "markdown",
   "id": "a7122d6e",
   "metadata": {
    "id": "a7122d6e"
   },
   "source": [
    "##### Random Forest Model Evaluation with MinMax Scaled features"
   ]
  },
  {
   "cell_type": "code",
   "execution_count": 71,
   "id": "e641ae04",
   "metadata": {
    "colab": {
     "base_uri": "https://localhost:8080/",
     "height": 783
    },
    "execution": {
     "iopub.execute_input": "2023-12-24T02:40:43.117087Z",
     "iopub.status.busy": "2023-12-24T02:40:43.116809Z",
     "iopub.status.idle": "2023-12-24T03:08:05.556174Z",
     "shell.execute_reply": "2023-12-24T03:08:05.555472Z",
     "shell.execute_reply.started": "2023-12-24T02:40:43.117064Z"
    },
    "executionInfo": {
     "elapsed": 909450,
     "status": "ok",
     "timestamp": 1703164192204,
     "user": {
      "displayName": "Gowrishankar R",
      "userId": "12173064338158270855"
     },
     "user_tz": -330
    },
    "id": "e641ae04",
    "outputId": "1a97f816-e246-448e-a6be-4b17d1d8a801",
    "tags": []
   },
   "outputs": [
    {
     "data": {
      "image/png": "[encoded data removed]",
      "text/plain": [
       "<Figure size 640x480 with 1 Axes>"
      ]
     },
     "metadata": {},
     "output_type": "display_data"
    },
    {
     "name": "stdout",
     "output_type": "stream",
     "text": [
      "accuracy=  {0.7415074309978769} \n",
      "\n",
      "confusion_matrix= \n",
      " [[1362  437]\n",
      " [  50   35]] \n",
      "\n",
      "classification report= \n",
      "               precision    recall  f1-score   support\n",
      "\n",
      "           0       0.96      0.76      0.85      1799\n",
      "           1       0.07      0.41      0.13        85\n",
      "\n",
      "    accuracy                           0.74      1884\n",
      "   macro avg       0.52      0.58      0.49      1884\n",
      "weighted avg       0.92      0.74      0.82      1884\n",
      "\n",
      "f1 score =  0.12567324955116696\n"
     ]
    }
   ],
   "source": [
    "y=rand_forest(xtrain_mm,xtest_mm,ytrain)\n",
    "\n",
    "randforest_metrices=rand_forest_metrices(ytest,y[0])\n",
    "end=time.time()\n",
    "\n",
    "best_randforest_mm=y[3]\n",
    "\n",
    "### Calculation of AUC and ROC\n",
    "fpr,tpr,_= roc_curve(ytest,y[1])\n",
    "auc_val = roc_auc_score(ytest,y[1])\n",
    "roc_auc_val = auc(fpr,tpr)\n",
    "\n",
    "### Plotting ROC\n",
    "plt.figure(1)\n",
    "lw=1\n",
    "plt.plot(fpr,tpr,color='orange',lw=lw,label='Random Forest (AUC = %0.2f)'%roc_auc_val)\n",
    "plt.plot([0,1],[0,1],color='blue',lw=lw,linestyle='--')\n",
    "\n",
    "plt.xlim([0.0,1.0])\n",
    "plt.ylim([0.0,1.05])\n",
    "plt.xlabel(\"False Positive Rate\")\n",
    "plt.ylabel(\"True Positive Rate\")\n",
    "plt.title(\"area Under the Curve\")\n",
    "plt.legend(loc=\"lower right\")\n",
    "plt.show()\n",
    "\n",
    "### Printing metrices\n",
    "print(f'accuracy= ',{randforest_metrices[1]},'\\n')\n",
    "print(f'confusion_matrix= \\n',randforest_metrices[0],'\\n')\n",
    "print(f'classification report= \\n',randforest_metrices[2])\n",
    "print(f'f1 score = ',randforest_metrices[3])\n",
    "time_taken=end-start\n",
    "\n",
    "models_res.append(['Random Forest - MinMax Scaler',randforest_metrices[1],auc_val,randforest_metrices[3],time_taken,y[2]])"
   ]
  },
  {
   "cell_type": "markdown",
   "id": "60a61e05",
   "metadata": {
    "id": "60a61e05"
   },
   "source": [
    "### ADABoost Model"
   ]
  },
  {
   "cell_type": "code",
   "execution_count": 72,
   "id": "b0e879f3",
   "metadata": {
    "execution": {
     "iopub.execute_input": "2023-12-24T03:08:05.557498Z",
     "iopub.status.busy": "2023-12-24T03:08:05.557179Z",
     "iopub.status.idle": "2023-12-24T03:08:05.564251Z",
     "shell.execute_reply": "2023-12-24T03:08:05.563472Z",
     "shell.execute_reply.started": "2023-12-24T03:08:05.557476Z"
    },
    "executionInfo": {
     "elapsed": 2,
     "status": "ok",
     "timestamp": 1703164192205,
     "user": {
      "displayName": "Gowrishankar R",
      "userId": "12173064338158270855"
     },
     "user_tz": -330
    },
    "id": "b0e879f3"
   },
   "outputs": [],
   "source": [
    "start=time.time()\n",
    "\n",
    "from sklearn.ensemble import AdaBoostClassifier\n",
    "\n",
    "f1 = make_scorer(f1_score, average='macro')\n",
    "adaboost=AdaBoostClassifier()\n",
    "\n",
    "## Hyper_parameter optimisation using Grid Search CV\n",
    "def ada_boost_gridsearch(xtrain,ytrain):\n",
    "    # Define the hyperparameter grid\n",
    "    param_grid={\n",
    "        'n_estimators':np.arange(50,500,100),\n",
    "        'learning_rate':[0.01,0.05,0.1,0.05,1]\n",
    "    }\n",
    "    # Perform grid search with cross-validation\n",
    "    grid_search = GridSearchCV(estimator=adaboost, param_grid=param_grid, scoring=f1, n_jobs=3, verbose=0,cv=5)\n",
    "    grid_search.fit(xtrain,ytrain)\n",
    "    return grid_search.best_params_\n",
    "\n",
    "def ada_boost(xtrain,xtest,ytrain):\n",
    "    best_params = ada_boost_gridsearch(xtrain,ytrain)\n",
    "    best_adaboost = AdaBoostClassifier(**best_params)\n",
    "    #best_adaboost.set_params(base_estimator=DecisionTreeClassifier())\n",
    "    best_adaboost.fit(xtrain, ytrain)\n",
    "    y_predict=best_adaboost.predict(xtest)\n",
    "    y_predictproba=best_adaboost.predict_proba(xtest)[::,1]\n",
    "    return [y_predict,y_predictproba,best_params,best_adaboost]\n",
    "\n",
    "def ada_boost_metrices(ytest,ypredict):\n",
    "    con_matrix=confusion_matrix(ytest,ypredict)\n",
    "    accur=accuracy_score(ytest,ypredict)\n",
    "    classf_report=classification_report(ytest,ypredict)\n",
    "    f1_scr=f1_score(ytest,ypredict)\n",
    "    return [con_matrix,accur,classf_report,f1_scr]"
   ]
  },
  {
   "cell_type": "markdown",
   "id": "32cbbe54",
   "metadata": {
    "id": "32cbbe54"
   },
   "source": [
    "#### ADABoost model evaluation with Standard Scaled features"
   ]
  },
  {
   "cell_type": "code",
   "execution_count": 73,
   "id": "b7daffd2",
   "metadata": {
    "colab": {
     "base_uri": "https://localhost:8080/",
     "height": 783
    },
    "execution": {
     "iopub.execute_input": "2023-12-24T03:08:05.565899Z",
     "iopub.status.busy": "2023-12-24T03:08:05.565233Z",
     "iopub.status.idle": "2023-12-24T03:09:46.237422Z",
     "shell.execute_reply": "2023-12-24T03:09:46.236583Z",
     "shell.execute_reply.started": "2023-12-24T03:08:05.565876Z"
    },
    "executionInfo": {
     "elapsed": 229041,
     "status": "ok",
     "timestamp": 1703164421244,
     "user": {
      "displayName": "Gowrishankar R",
      "userId": "12173064338158270855"
     },
     "user_tz": -330
    },
    "id": "b7daffd2",
    "outputId": "ef3cbb2f-fe7e-4e4f-a745-dedab54584ab"
   },
   "outputs": [
    {
     "data": {
      "image/png": "[encoded data removed]",
      "text/plain": [
       "<Figure size 640x480 with 1 Axes>"
      ]
     },
     "metadata": {},
     "output_type": "display_data"
    },
    {
     "name": "stdout",
     "output_type": "stream",
     "text": [
      "accuracy=  {0.8678343949044586} \n",
      "\n",
      "confusion_matrix= \n",
      " [[1605  194]\n",
      " [  55   30]] \n",
      "\n",
      "classification report= \n",
      "               precision    recall  f1-score   support\n",
      "\n",
      "           0       0.97      0.89      0.93      1799\n",
      "           1       0.13      0.35      0.19        85\n",
      "\n",
      "    accuracy                           0.87      1884\n",
      "   macro avg       0.55      0.62      0.56      1884\n",
      "weighted avg       0.93      0.87      0.89      1884\n",
      "\n",
      "f1 score =  0.19417475728155337\n"
     ]
    }
   ],
   "source": [
    "y=ada_boost(xtrain_ss,xtest_ss,ytrain)\n",
    "\n",
    "adaboost_metrices=ada_boost_metrices(ytest,y[0])\n",
    "end=time.time()\n",
    "\n",
    "best_adaboost_ss=y[3]\n",
    "\n",
    "### Calculation of AUC and ROC\n",
    "fpr,tpr,_= roc_curve(ytest,y[1])\n",
    "auc_val = roc_auc_score(ytest,y[1])\n",
    "roc_auc_val = auc(fpr,tpr)\n",
    "\n",
    "### Plotting ROC\n",
    "plt.figure(1)\n",
    "lw=1\n",
    "plt.plot(fpr,tpr,color='orange',lw=lw,label='ADA Boost (AUC = %0.2f)'%roc_auc_val)\n",
    "plt.plot([0,1],[0,1],color='blue',lw=lw,linestyle='--')\n",
    "\n",
    "plt.xlim([0.0,1.0])\n",
    "plt.ylim([0.0,1.05])\n",
    "plt.xlabel(\"False Positive Rate\")\n",
    "plt.ylabel(\"True Positive Rate\")\n",
    "plt.title(\"area Under the Curve\")\n",
    "plt.legend(loc=\"lower right\")\n",
    "plt.show()\n",
    "\n",
    "### Printing metrices\n",
    "print(f'accuracy= ',{adaboost_metrices[1]},'\\n')\n",
    "print(f'confusion_matrix= \\n',adaboost_metrices[0],'\\n')\n",
    "print(f'classification report= \\n',adaboost_metrices[2])\n",
    "print(f'f1 score = ',adaboost_metrices[3])\n",
    "time_taken=end-start\n",
    "\n",
    "models_res.append(['ADA Boost - Standard Scaler',adaboost_metrices[1],auc_val,adaboost_metrices[3],time_taken,y[2]])"
   ]
  },
  {
   "cell_type": "markdown",
   "id": "ad24bd12",
   "metadata": {
    "id": "ad24bd12"
   },
   "source": [
    "#### ADABoost model evaluation with MinMax Scaled features"
   ]
  },
  {
   "cell_type": "code",
   "execution_count": 74,
   "id": "6f4b726a",
   "metadata": {
    "colab": {
     "base_uri": "https://localhost:8080/",
     "height": 783
    },
    "execution": {
     "iopub.execute_input": "2023-12-24T03:09:46.238836Z",
     "iopub.status.busy": "2023-12-24T03:09:46.238540Z",
     "iopub.status.idle": "2023-12-24T03:11:25.714679Z",
     "shell.execute_reply": "2023-12-24T03:11:25.713896Z",
     "shell.execute_reply.started": "2023-12-24T03:09:46.238810Z"
    },
    "executionInfo": {
     "elapsed": 226958,
     "status": "ok",
     "timestamp": 1703164648202,
     "user": {
      "displayName": "Gowrishankar R",
      "userId": "12173064338158270855"
     },
     "user_tz": -330
    },
    "id": "6f4b726a",
    "outputId": "fc4538fc-1f9b-4fd4-82de-6802d2aeb23c"
   },
   "outputs": [
    {
     "data": {
      "image/png": "[encoded data removed]",
      "text/plain": [
       "<Figure size 640x480 with 1 Axes>"
      ]
     },
     "metadata": {},
     "output_type": "display_data"
    },
    {
     "name": "stdout",
     "output_type": "stream",
     "text": [
      "accuracy=  {0.8678343949044586} \n",
      "\n",
      "confusion_matrix= \n",
      " [[1605  194]\n",
      " [  55   30]] \n",
      "\n",
      "classification report= \n",
      "               precision    recall  f1-score   support\n",
      "\n",
      "           0       0.97      0.89      0.93      1799\n",
      "           1       0.13      0.35      0.19        85\n",
      "\n",
      "    accuracy                           0.87      1884\n",
      "   macro avg       0.55      0.62      0.56      1884\n",
      "weighted avg       0.93      0.87      0.89      1884\n",
      "\n",
      "f1 score =  0.19417475728155337\n"
     ]
    }
   ],
   "source": [
    "y=ada_boost(xtrain_mm,xtest_mm,ytrain)\n",
    "\n",
    "adaboost_metrices=ada_boost_metrices(ytest,y[0])\n",
    "end=time.time()\n",
    "\n",
    "best_adaboost_mm=y[3]\n",
    "\n",
    "### Calculation of AUC and ROC\n",
    "fpr,tpr,_= roc_curve(ytest,y[1])\n",
    "auc_val = roc_auc_score(ytest,y[1])\n",
    "roc_auc_val = auc(fpr,tpr)\n",
    "\n",
    "### Plotting ROC\n",
    "plt.figure(1)\n",
    "lw=1\n",
    "plt.plot(fpr,tpr,color='orange',lw=lw,label='ADA Boost (AUC = %0.2f)'%roc_auc_val)\n",
    "plt.plot([0,1],[0,1],color='blue',lw=lw,linestyle='--')\n",
    "\n",
    "plt.xlim([0.0,1.0])\n",
    "plt.ylim([0.0,1.05])\n",
    "plt.xlabel(\"False Positive Rate\")\n",
    "plt.ylabel(\"True Positive Rate\")\n",
    "plt.title(\"area Under the Curve\")\n",
    "plt.legend(loc=\"lower right\")\n",
    "plt.show()\n",
    "\n",
    "### Printing metrices\n",
    "print(f'accuracy= ',{adaboost_metrices[1]},'\\n')\n",
    "print(f'confusion_matrix= \\n',adaboost_metrices[0],'\\n')\n",
    "print(f'classification report= \\n',adaboost_metrices[2])\n",
    "print(f'f1 score = ',adaboost_metrices[3])\n",
    "time_taken=end-start\n",
    "\n",
    "models_res.append(['ADA Boost - MinMax Scaler',adaboost_metrices[1],auc_val,adaboost_metrices[3],time_taken,y[2]])"
   ]
  },
  {
   "cell_type": "markdown",
   "id": "8816e397",
   "metadata": {
    "id": "8816e397"
   },
   "source": [
    "### Gradient Boost Model"
   ]
  },
  {
   "cell_type": "code",
   "execution_count": 75,
   "id": "aa30c14b",
   "metadata": {
    "execution": {
     "iopub.execute_input": "2023-12-24T03:11:25.716390Z",
     "iopub.status.busy": "2023-12-24T03:11:25.715994Z",
     "iopub.status.idle": "2023-12-24T03:11:25.726650Z",
     "shell.execute_reply": "2023-12-24T03:11:25.725908Z",
     "shell.execute_reply.started": "2023-12-24T03:11:25.716353Z"
    },
    "executionInfo": {
     "elapsed": 2,
     "status": "ok",
     "timestamp": 1703164648203,
     "user": {
      "displayName": "Gowrishankar R",
      "userId": "12173064338158270855"
     },
     "user_tz": -330
    },
    "id": "aa30c14b"
   },
   "outputs": [],
   "source": [
    "start=time.time()\n",
    "\n",
    "from sklearn.ensemble import GradientBoostingClassifier\n",
    "\n",
    "gradboost=GradientBoostingClassifier()\n",
    "f1 = make_scorer(f1_score, average='macro')\n",
    "\n",
    "## Hyper_parameter optimisation using Grid Search CV\n",
    "def grad_boost_gridsearch(xtrain,ytrain):\n",
    "    # Define the hyperparameter grid\n",
    "    param_grid = {\n",
    "        'learning_rate': [0.01, 0.05, 0.1, 1, 0.5],\n",
    "        'max_depth': [3, 4, 5],\n",
    "        'min_samples_leaf': [4, 5, 6],\n",
    "        'subsample': [0.6, 0.7, 0.8],\n",
    "        'n_estimators': [5, 10, 15, 20]\n",
    "    }\n",
    "    # Perform grid search with cross-validation\n",
    "    grid_search = GridSearchCV(estimator=gradboost, param_grid=param_grid, scoring=f1, verbose=0,cv=5)\n",
    "    grid_search.fit(xtrain,ytrain)\n",
    "    return grid_search.best_params_\n",
    "\n",
    "def grad_boost(xtrain,xtest,ytrain):\n",
    "    best_params = grad_boost_gridsearch(xtrain,ytrain)\n",
    "    best_gradboost = GradientBoostingClassifier(**best_params)\n",
    "    best_gradboost.fit(xtrain, ytrain)\n",
    "    y_predict=best_gradboost.predict(xtest)\n",
    "    y_predictproba=best_gradboost.predict_proba(xtest)[::,1]\n",
    "    return [y_predict,y_predictproba,best_params,best_gradboost]\n",
    "\n",
    "def grad_boost_metrices(ytest,ypredict):\n",
    "    con_matrix=confusion_matrix(ytest,ypredict)\n",
    "    accur=accuracy_score(ytest,ypredict)\n",
    "    classf_report=classification_report(ytest,ypredict)\n",
    "    f1_scr=f1_score(ytest,ypredict)\n",
    "    return [con_matrix,accur,classf_report,f1_scr]"
   ]
  },
  {
   "cell_type": "markdown",
   "id": "bb79def0",
   "metadata": {
    "id": "bb79def0"
   },
   "source": [
    "#### Gradient Boost Model evaluation with Standard Scaled features"
   ]
  },
  {
   "cell_type": "code",
   "execution_count": 76,
   "id": "a437b371",
   "metadata": {
    "colab": {
     "base_uri": "https://localhost:8080/",
     "height": 783
    },
    "execution": {
     "iopub.execute_input": "2023-12-24T03:11:25.727785Z",
     "iopub.status.busy": "2023-12-24T03:11:25.727492Z",
     "iopub.status.idle": "2023-12-24T03:18:01.040028Z",
     "shell.execute_reply": "2023-12-24T03:18:01.039335Z",
     "shell.execute_reply.started": "2023-12-24T03:11:25.727754Z"
    },
    "executionInfo": {
     "elapsed": 479252,
     "status": "ok",
     "timestamp": 1703165127453,
     "user": {
      "displayName": "Gowrishankar R",
      "userId": "12173064338158270855"
     },
     "user_tz": -330
    },
    "id": "a437b371",
    "outputId": "ef5626af-3156-45a7-f505-886482123385"
   },
   "outputs": [
    {
     "data": {
      "image/png": "[encoded data removed]",
      "text/plain": [
       "<Figure size 640x480 with 1 Axes>"
      ]
     },
     "metadata": {},
     "output_type": "display_data"
    },
    {
     "name": "stdout",
     "output_type": "stream",
     "text": [
      "accuracy=  {0.9097664543524416} \n",
      "\n",
      "confusion_matrix= \n",
      " [[1692  107]\n",
      " [  63   22]] \n",
      "\n",
      "classification report= \n",
      "               precision    recall  f1-score   support\n",
      "\n",
      "           0       0.96      0.94      0.95      1799\n",
      "           1       0.17      0.26      0.21        85\n",
      "\n",
      "    accuracy                           0.91      1884\n",
      "   macro avg       0.57      0.60      0.58      1884\n",
      "weighted avg       0.93      0.91      0.92      1884\n",
      "\n",
      "f1 score =  0.205607476635514\n"
     ]
    }
   ],
   "source": [
    "y=grad_boost(xtrain_ss,xtest_ss,ytrain)\n",
    "\n",
    "gradboost_metrices=grad_boost_metrices(ytest,y[0])\n",
    "end=time.time()\n",
    "\n",
    "best_gradboost_ss=y[3]\n",
    "\n",
    "### Calculation of AUC and ROC\n",
    "fpr,tpr,_= roc_curve(ytest,y[1])\n",
    "auc_val = roc_auc_score(ytest,y[1])\n",
    "roc_auc_val = auc(fpr,tpr)\n",
    "\n",
    "### Plotting ROC\n",
    "plt.figure(1)\n",
    "lw=1\n",
    "plt.plot(fpr,tpr,color='orange',lw=lw,label='Gradient Boost (AUC = %0.2f)'%roc_auc_val)\n",
    "plt.plot([0,1],[0,1],color='blue',lw=lw,linestyle='--')\n",
    "\n",
    "plt.xlim([0.0,1.0])\n",
    "plt.ylim([0.0,1.05])\n",
    "plt.xlabel(\"False Positive Rate\")\n",
    "plt.ylabel(\"True Positive Rate\")\n",
    "plt.title(\"area Under the Curve\")\n",
    "plt.legend(loc=\"lower right\")\n",
    "plt.show()\n",
    "\n",
    "### Printing metrices\n",
    "print(f'accuracy= ',{gradboost_metrices[1]},'\\n')\n",
    "print(f'confusion_matrix= \\n',gradboost_metrices[0],'\\n')\n",
    "print(f'classification report= \\n',gradboost_metrices[2])\n",
    "print(f'f1 score = ',gradboost_metrices[3])\n",
    "time_taken=end-start\n",
    "\n",
    "models_res.append(['Gradient Boost - Standard Scaler',gradboost_metrices[1],auc_val,gradboost_metrices[3],time_taken,y[2]])"
   ]
  },
  {
   "cell_type": "markdown",
   "id": "98811576",
   "metadata": {
    "id": "98811576"
   },
   "source": [
    "#### Gradient Boost Model evaluation with MinMax Scaled features"
   ]
  },
  {
   "cell_type": "code",
   "execution_count": 77,
   "id": "3fff4a09",
   "metadata": {
    "colab": {
     "base_uri": "https://localhost:8080/",
     "height": 783
    },
    "execution": {
     "iopub.execute_input": "2023-12-24T03:18:01.041629Z",
     "iopub.status.busy": "2023-12-24T03:18:01.041019Z",
     "iopub.status.idle": "2023-12-24T03:24:35.582488Z",
     "shell.execute_reply": "2023-12-24T03:24:35.581692Z",
     "shell.execute_reply.started": "2023-12-24T03:18:01.041602Z"
    },
    "executionInfo": {
     "elapsed": 479144,
     "status": "ok",
     "timestamp": 1703165606596,
     "user": {
      "displayName": "Gowrishankar R",
      "userId": "12173064338158270855"
     },
     "user_tz": -330
    },
    "id": "3fff4a09",
    "outputId": "4f8d3176-fa04-46ed-a598-b270d5fa3944",
    "tags": []
   },
   "outputs": [
    {
     "data": {
      "image/png": "[encoded data removed]",
      "text/plain": [
       "<Figure size 640x480 with 1 Axes>"
      ]
     },
     "metadata": {},
     "output_type": "display_data"
    },
    {
     "name": "stdout",
     "output_type": "stream",
     "text": [
      "accuracy=  {0.8954352441613588} \n",
      "\n",
      "confusion_matrix= \n",
      " [[1666  133]\n",
      " [  64   21]] \n",
      "\n",
      "classification report= \n",
      "               precision    recall  f1-score   support\n",
      "\n",
      "           0       0.96      0.93      0.94      1799\n",
      "           1       0.14      0.25      0.18        85\n",
      "\n",
      "    accuracy                           0.90      1884\n",
      "   macro avg       0.55      0.59      0.56      1884\n",
      "weighted avg       0.93      0.90      0.91      1884\n",
      "\n",
      "f1 score =  0.17573221757322177\n"
     ]
    }
   ],
   "source": [
    "y=grad_boost(xtrain_mm,xtest_mm,ytrain)\n",
    "\n",
    "gradboost_metrices=grad_boost_metrices(ytest,y[0])\n",
    "end=time.time()\n",
    "\n",
    "best_gradboost_mm=y[3]\n",
    "\n",
    "### Calculation of AUC and ROC\n",
    "fpr,tpr,_= roc_curve(ytest,y[1])\n",
    "auc_val = roc_auc_score(ytest,y[1])\n",
    "roc_auc_val = auc(fpr,tpr)\n",
    "\n",
    "### Plotting ROC\n",
    "plt.figure(1)\n",
    "lw=1\n",
    "plt.plot(fpr,tpr,color='orange',lw=lw,label='Gradient Boost (AUC = %0.2f)'%roc_auc_val)\n",
    "plt.plot([0,1],[0,1],color='blue',lw=lw,linestyle='--')\n",
    "\n",
    "plt.xlim([0.0,1.0])\n",
    "plt.ylim([0.0,1.05])\n",
    "plt.xlabel(\"False Positive Rate\")\n",
    "plt.ylabel(\"True Positive Rate\")\n",
    "plt.title(\"area Under the Curve\")\n",
    "plt.legend(loc=\"lower right\")\n",
    "plt.show()\n",
    "\n",
    "### Printing metrices\n",
    "print(f'accuracy= ',{gradboost_metrices[1]},'\\n')\n",
    "print(f'confusion_matrix= \\n',gradboost_metrices[0],'\\n')\n",
    "print(f'classification report= \\n',gradboost_metrices[2])\n",
    "print(f'f1 score = ',gradboost_metrices[3])\n",
    "time_taken=end-start\n",
    "\n",
    "models_res.append(['Gradient Boost - MinMax Scaler',gradboost_metrices[1],auc_val,gradboost_metrices[3],time_taken,y[2]])"
   ]
  },
  {
   "cell_type": "markdown",
   "id": "5cf2a3e4",
   "metadata": {
    "id": "5cf2a3e4"
   },
   "source": [
    "### K-Nearest Neighbours Model"
   ]
  },
  {
   "cell_type": "code",
   "execution_count": 78,
   "id": "b92920ff",
   "metadata": {
    "execution": {
     "iopub.execute_input": "2023-12-24T03:24:35.583730Z",
     "iopub.status.busy": "2023-12-24T03:24:35.583491Z",
     "iopub.status.idle": "2023-12-24T03:24:35.727525Z",
     "shell.execute_reply": "2023-12-24T03:24:35.726923Z",
     "shell.execute_reply.started": "2023-12-24T03:24:35.583706Z"
    },
    "executionInfo": {
     "elapsed": 5,
     "status": "ok",
     "timestamp": 1703165606597,
     "user": {
      "displayName": "Gowrishankar R",
      "userId": "12173064338158270855"
     },
     "user_tz": -330
    },
    "id": "b92920ff"
   },
   "outputs": [],
   "source": [
    "from sklearn.neighbors import KNeighborsClassifier\n",
    "\n",
    "knn=KNeighborsClassifier(n_neighbors=3)\n",
    "knn.fit(xtrain_ss,ytrain)\n",
    "y_pred_knn=knn.predict(xtest_ss)"
   ]
  },
  {
   "cell_type": "code",
   "execution_count": 79,
   "id": "c839d73a",
   "metadata": {
    "colab": {
     "base_uri": "https://localhost:8080/"
    },
    "execution": {
     "iopub.execute_input": "2023-12-24T03:24:35.729212Z",
     "iopub.status.busy": "2023-12-24T03:24:35.728587Z",
     "iopub.status.idle": "2023-12-24T03:24:35.746685Z",
     "shell.execute_reply": "2023-12-24T03:24:35.745919Z",
     "shell.execute_reply.started": "2023-12-24T03:24:35.729177Z"
    },
    "executionInfo": {
     "elapsed": 5,
     "status": "ok",
     "timestamp": 1703165606597,
     "user": {
      "displayName": "Gowrishankar R",
      "userId": "12173064338158270855"
     },
     "user_tz": -330
    },
    "id": "c839d73a",
    "outputId": "8425997e-c38e-42e7-a2f1-d2e110eb58d2"
   },
   "outputs": [
    {
     "name": "stdout",
     "output_type": "stream",
     "text": [
      "              precision    recall  f1-score   support\n",
      "\n",
      "           0       0.96      0.84      0.89      1799\n",
      "           1       0.08      0.29      0.12        85\n",
      "\n",
      "    accuracy                           0.81      1884\n",
      "   macro avg       0.52      0.57      0.51      1884\n",
      "weighted avg       0.92      0.81      0.86      1884\n",
      "\n"
     ]
    }
   ],
   "source": [
    "class_report=classification_report(ytest,y_pred_knn)\n",
    "print(class_report)"
   ]
  },
  {
   "cell_type": "code",
   "execution_count": 80,
   "id": "c9d690f3",
   "metadata": {
    "execution": {
     "iopub.execute_input": "2023-12-24T03:24:35.749225Z",
     "iopub.status.busy": "2023-12-24T03:24:35.747428Z",
     "iopub.status.idle": "2023-12-24T03:24:35.752262Z",
     "shell.execute_reply": "2023-12-24T03:24:35.751539Z",
     "shell.execute_reply.started": "2023-12-24T03:24:35.749202Z"
    },
    "executionInfo": {
     "elapsed": 3,
     "status": "ok",
     "timestamp": 1703165606598,
     "user": {
      "displayName": "Gowrishankar R",
      "userId": "12173064338158270855"
     },
     "user_tz": -330
    },
    "id": "c9d690f3"
   },
   "outputs": [],
   "source": [
    "#### Choose a value of K"
   ]
  },
  {
   "cell_type": "code",
   "execution_count": 81,
   "id": "0e1f6757",
   "metadata": {
    "execution": {
     "iopub.execute_input": "2023-12-24T03:24:35.753878Z",
     "iopub.status.busy": "2023-12-24T03:24:35.753359Z",
     "iopub.status.idle": "2023-12-24T03:25:03.948475Z",
     "shell.execute_reply": "2023-12-24T03:25:03.947572Z",
     "shell.execute_reply.started": "2023-12-24T03:24:35.753843Z"
    },
    "executionInfo": {
     "elapsed": 37122,
     "status": "ok",
     "timestamp": 1703165643718,
     "user": {
      "displayName": "Gowrishankar R",
      "userId": "12173064338158270855"
     },
     "user_tz": -330
    },
    "id": "0e1f6757"
   },
   "outputs": [],
   "source": [
    "acc_score=[]\n",
    "start=time.time()\n",
    "\n",
    "for i in range(1,40):\n",
    "\n",
    "    knn = KNeighborsClassifier(n_neighbors=i)\n",
    "    score=cross_val_score(knn,x_ss,y_copy,cv=10)\n",
    "    acc_score.append(score.mean())"
   ]
  },
  {
   "cell_type": "code",
   "execution_count": 82,
   "id": "5820b607",
   "metadata": {
    "colab": {
     "base_uri": "https://localhost:8080/",
     "height": 581
    },
    "execution": {
     "iopub.execute_input": "2023-12-24T03:25:03.950160Z",
     "iopub.status.busy": "2023-12-24T03:25:03.949563Z",
     "iopub.status.idle": "2023-12-24T03:25:04.186356Z",
     "shell.execute_reply": "2023-12-24T03:25:04.185587Z",
     "shell.execute_reply.started": "2023-12-24T03:25:03.950134Z"
    },
    "executionInfo": {
     "elapsed": 3,
     "status": "ok",
     "timestamp": 1703165643721,
     "user": {
      "displayName": "Gowrishankar R",
      "userId": "12173064338158270855"
     },
     "user_tz": -330
    },
    "id": "5820b607",
    "outputId": "c7428dd4-8073-4908-f1b2-c8816c073bcd"
   },
   "outputs": [
    {
     "data": {
      "image/png": "[encoded data removed]",
      "text/plain": [
       "<Figure size 1000x600 with 1 Axes>"
      ]
     },
     "metadata": {},
     "output_type": "display_data"
    }
   ],
   "source": [
    "plt.figure(figsize=(10,6))\n",
    "plt.plot(range(1,40),acc_score,color='blue', linestyle='dashed', marker='o',\n",
    "         markerfacecolor='red', markersize=10)\n",
    "plt.title('Accuracy Rate vs. K Value')\n",
    "plt.xlabel('K')\n",
    "plt.ylabel('Accuracy Rate')\n",
    "# plt.yticks(np.arange(.87,.94,.1))\n",
    "plt.show()"
   ]
  },
  {
   "cell_type": "markdown",
   "id": "8c68ce8b",
   "metadata": {
    "id": "8c68ce8b"
   },
   "source": [
    "#### Evaluation of KNN model using Manhattan distance"
   ]
  },
  {
   "cell_type": "code",
   "execution_count": 83,
   "id": "61f5b3b3",
   "metadata": {
    "colab": {
     "base_uri": "https://localhost:8080/"
    },
    "execution": {
     "iopub.execute_input": "2023-12-24T03:25:04.188270Z",
     "iopub.status.busy": "2023-12-24T03:25:04.187618Z",
     "iopub.status.idle": "2023-12-24T03:25:04.623125Z",
     "shell.execute_reply": "2023-12-24T03:25:04.622125Z",
     "shell.execute_reply.started": "2023-12-24T03:25:04.188219Z"
    },
    "executionInfo": {
     "elapsed": 723,
     "status": "ok",
     "timestamp": 1703165775029,
     "user": {
      "displayName": "Gowrishankar R",
      "userId": "12173064338158270855"
     },
     "user_tz": -330
    },
    "id": "61f5b3b3",
    "outputId": "ebd17a95-ac70-44b1-c472-70db76001419"
   },
   "outputs": [
    {
     "name": "stdout",
     "output_type": "stream",
     "text": [
      "[[1205  594]\n",
      " [  30   55]]\n",
      "              precision    recall  f1-score   support\n",
      "\n",
      "           0       0.98      0.67      0.79      1799\n",
      "           1       0.08      0.65      0.15        85\n",
      "\n",
      "    accuracy                           0.67      1884\n",
      "   macro avg       0.53      0.66      0.47      1884\n",
      "weighted avg       0.94      0.67      0.77      1884\n",
      "\n",
      "f1 score =  0.14986376021798364\n"
     ]
    }
   ],
   "source": [
    "# FROM THE ABOVE GRAPH THE OPTIMAL VALUE OF K CAN BE CHOSEN AS 16\n",
    "\n",
    "# CHECKING THE MODEL FOR Manhattan  DISTANCE\n",
    "\n",
    "knn_man=KNeighborsClassifier(n_neighbors=16,p=1)\n",
    "knn.fit(xtrain_ss,ytrain)\n",
    "y_pred_knn=knn.predict(xtest_ss)\n",
    "y_pred_proba_k=knn.predict_proba(xtest_ss)[::,1]\n",
    "\n",
    "\n",
    "acc_knn=accuracy_score(ytest,y_pred_knn)\n",
    "f1_score_knn=f1_score(ytest,y_pred_knn)\n",
    "\n",
    "tpr_k,fpr_k,_=roc_curve(ytest,y_pred_proba_k)\n",
    "auc_k=auc(tpr_k,fpr_k)\n",
    "print(confusion_matrix(ytest,y_pred_knn))\n",
    "\n",
    "class_report=classification_report(ytest,y_pred_knn)\n",
    "print(class_report)\n",
    "\n",
    "print(f'f1 score = ',f1_score(ytest,y_pred_knn))\n",
    "\n",
    "end=time.time()\n",
    "time_taken=end-start\n",
    "\n",
    "models_res.append(['KNN',acc_knn,auc_k,f1_score_knn,time_taken,{'Method':'Manhattan','K':6}])"
   ]
  },
  {
   "cell_type": "markdown",
   "id": "4f43f893",
   "metadata": {
    "id": "4f43f893"
   },
   "source": [
    "#### Evaluation of KNN model using Euclidean distance"
   ]
  },
  {
   "cell_type": "code",
   "execution_count": 84,
   "id": "9bd8bda4",
   "metadata": {
    "colab": {
     "base_uri": "https://localhost:8080/"
    },
    "execution": {
     "iopub.execute_input": "2023-12-24T03:25:04.625051Z",
     "iopub.status.busy": "2023-12-24T03:25:04.624381Z",
     "iopub.status.idle": "2023-12-24T03:25:05.065699Z",
     "shell.execute_reply": "2023-12-24T03:25:05.065069Z",
     "shell.execute_reply.started": "2023-12-24T03:25:04.625012Z"
    },
    "executionInfo": {
     "elapsed": 4,
     "status": "ok",
     "timestamp": 1703165775749,
     "user": {
      "displayName": "Gowrishankar R",
      "userId": "12173064338158270855"
     },
     "user_tz": -330
    },
    "id": "9bd8bda4",
    "outputId": "729007d0-6a6f-4bc7-f559-4795b138c155"
   },
   "outputs": [
    {
     "name": "stdout",
     "output_type": "stream",
     "text": [
      "[[1205  594]\n",
      " [  30   55]]\n",
      "              precision    recall  f1-score   support\n",
      "\n",
      "           0       0.98      0.67      0.79      1799\n",
      "           1       0.08      0.65      0.15        85\n",
      "\n",
      "    accuracy                           0.67      1884\n",
      "   macro avg       0.53      0.66      0.47      1884\n",
      "weighted avg       0.94      0.67      0.77      1884\n",
      "\n",
      "f1 score =  0.14986376021798364\n"
     ]
    }
   ],
   "source": [
    "# CHECKING THE MODEL FOR Euclidean DISTANCE\n",
    "from sklearn.metrics import auc\n",
    "knn_euc=KNeighborsClassifier(n_neighbors=16,p=2)\n",
    "knn.fit(xtrain_ss,ytrain)\n",
    "y_pred_knn=knn.predict(xtest_ss)\n",
    "y_pred_proba_k=knn.predict_proba(xtest_ss)[::,1]\n",
    "\n",
    "acc_knn=accuracy_score(ytest,y_pred_knn)\n",
    "f1_score_knn=f1_score(ytest,y_pred_knn)\n",
    "\n",
    "tpr_k,fpr_k,_=roc_curve(ytest,y_pred_proba_k)\n",
    "auc_k=auc(tpr_k,fpr_k)\n",
    "\n",
    "print(confusion_matrix(ytest,y_pred_knn))\n",
    "\n",
    "class_report=classification_report(ytest,y_pred_knn)\n",
    "print(class_report)\n",
    "\n",
    "f1_score_knn=f1_score(ytest,y_pred_knn)\n",
    "print(f'f1 score = ',f1_score_knn)\n",
    "\n",
    "models_res.append(['KNN',acc_knn,auc_k,f1_score_knn,time_taken,{'Method':'Eucledian','K':6}])"
   ]
  },
  {
   "cell_type": "markdown",
   "id": "3glaMk5a8kvl",
   "metadata": {
    "id": "3glaMk5a8kvl"
   },
   "source": [
    "### Summary of all the models performed above"
   ]
  },
  {
   "cell_type": "code",
   "execution_count": 85,
   "id": "91ef207a",
   "metadata": {
    "execution": {
     "iopub.execute_input": "2023-12-24T03:25:05.066911Z",
     "iopub.status.busy": "2023-12-24T03:25:05.066604Z",
     "iopub.status.idle": "2023-12-24T03:25:05.071441Z",
     "shell.execute_reply": "2023-12-24T03:25:05.070788Z",
     "shell.execute_reply.started": "2023-12-24T03:25:05.066889Z"
    },
    "id": "91ef207a"
   },
   "outputs": [],
   "source": [
    "models_summary=pd.DataFrame(models_res,columns=['Algorithm','Accuracy','AUC','F1 score','Time Taken(sec)','Best Hyper Parameters'])"
   ]
  },
  {
   "cell_type": "code",
   "execution_count": 86,
   "id": "941baa31",
   "metadata": {
    "execution": {
     "iopub.execute_input": "2023-12-24T03:25:05.072782Z",
     "iopub.status.busy": "2023-12-24T03:25:05.072465Z",
     "iopub.status.idle": "2023-12-24T03:25:05.089445Z",
     "shell.execute_reply": "2023-12-24T03:25:05.088749Z",
     "shell.execute_reply.started": "2023-12-24T03:25:05.072750Z"
    },
    "id": "941baa31"
   },
   "outputs": [
    {
     "data": {
      "text/html": [
       "<div>\n",
       "<style scoped>\n",
       "    .dataframe tbody tr th:only-of-type {\n",
       "        vertical-align: middle;\n",
       "    }\n",
       "\n",
       "    .dataframe tbody tr th {\n",
       "        vertical-align: top;\n",
       "    }\n",
       "\n",
       "    .dataframe thead th {\n",
       "        text-align: right;\n",
       "    }\n",
       "</style>\n",
       "<table border=\"1\" class=\"dataframe\">\n",
       "  <thead>\n",
       "    <tr style=\"text-align: right;\">\n",
       "      <th></th>\n",
       "      <th>Algorithm</th>\n",
       "      <th>Accuracy</th>\n",
       "      <th>AUC</th>\n",
       "      <th>F1 score</th>\n",
       "      <th>Time Taken(sec)</th>\n",
       "      <th>Best Hyper Parameters</th>\n",
       "    </tr>\n",
       "  </thead>\n",
       "  <tbody>\n",
       "    <tr>\n",
       "      <th>0</th>\n",
       "      <td>Logistic regression - Standard Scaler</td>\n",
       "      <td>0.647028</td>\n",
       "      <td>0.719799</td>\n",
       "      <td>0.150702</td>\n",
       "      <td>0.785539</td>\n",
       "      <td>{'C': 0.1}</td>\n",
       "    </tr>\n",
       "    <tr>\n",
       "      <th>1</th>\n",
       "      <td>Logistic regression - MinMax Scaler</td>\n",
       "      <td>0.647558</td>\n",
       "      <td>0.719687</td>\n",
       "      <td>0.150895</td>\n",
       "      <td>1.998478</td>\n",
       "      <td>{'penalty': None}</td>\n",
       "    </tr>\n",
       "    <tr>\n",
       "      <th>2</th>\n",
       "      <td>Decision Tree - Standard Scaler</td>\n",
       "      <td>0.776539</td>\n",
       "      <td>0.647667</td>\n",
       "      <td>0.152918</td>\n",
       "      <td>1631.054924</td>\n",
       "      <td>{'criterion': 'entropy', 'max_depth': 8, 'max_leaf_nodes': 20, 'min_samples_leaf': 3, 'min_samples_split': 3}</td>\n",
       "    </tr>\n",
       "    <tr>\n",
       "      <th>3</th>\n",
       "      <td>Decision Tree - MinMax Scaler</td>\n",
       "      <td>0.776539</td>\n",
       "      <td>0.647667</td>\n",
       "      <td>0.152918</td>\n",
       "      <td>3264.377527</td>\n",
       "      <td>{'criterion': 'entropy', 'max_depth': 8, 'max_leaf_nodes': 20, 'min_samples_leaf': 3, 'min_samples_split': 3}</td>\n",
       "    </tr>\n",
       "    <tr>\n",
       "      <th>4</th>\n",
       "      <td>Random Forest - Standard Scaler</td>\n",
       "      <td>0.748938</td>\n",
       "      <td>0.693336</td>\n",
       "      <td>0.128913</td>\n",
       "      <td>1653.578765</td>\n",
       "      <td>{'criterion': 'entropy', 'max_depth': 8, 'max_leaf_nodes': 20, 'min_samples_leaf': 3, 'min_samples_split': 3}</td>\n",
       "    </tr>\n",
       "    <tr>\n",
       "      <th>5</th>\n",
       "      <td>Random Forest - MinMax Scaler</td>\n",
       "      <td>0.741507</td>\n",
       "      <td>0.688821</td>\n",
       "      <td>0.125673</td>\n",
       "      <td>3296.018149</td>\n",
       "      <td>{'criterion': 'entropy', 'max_depth': 8, 'max_leaf_nodes': 20, 'min_samples_leaf': 3, 'min_samples_split': 3}</td>\n",
       "    </tr>\n",
       "    <tr>\n",
       "      <th>6</th>\n",
       "      <td>ADA Boost - Standard Scaler</td>\n",
       "      <td>0.867834</td>\n",
       "      <td>0.742157</td>\n",
       "      <td>0.194175</td>\n",
       "      <td>100.464759</td>\n",
       "      <td>{'learning_rate': 1, 'n_estimators': 450}</td>\n",
       "    </tr>\n",
       "    <tr>\n",
       "      <th>7</th>\n",
       "      <td>ADA Boost - MinMax Scaler</td>\n",
       "      <td>0.867834</td>\n",
       "      <td>0.742157</td>\n",
       "      <td>0.194175</td>\n",
       "      <td>199.940566</td>\n",
       "      <td>{'learning_rate': 1, 'n_estimators': 450}</td>\n",
       "    </tr>\n",
       "    <tr>\n",
       "      <th>8</th>\n",
       "      <td>Gradient Boost - Standard Scaler</td>\n",
       "      <td>0.909766</td>\n",
       "      <td>0.719089</td>\n",
       "      <td>0.205607</td>\n",
       "      <td>395.107312</td>\n",
       "      <td>{'learning_rate': 1, 'max_depth': 5, 'min_samples_leaf': 6, 'n_estimators': 20, 'subsample': 0.8}</td>\n",
       "    </tr>\n",
       "    <tr>\n",
       "      <th>9</th>\n",
       "      <td>Gradient Boost - MinMax Scaler</td>\n",
       "      <td>0.895435</td>\n",
       "      <td>0.715502</td>\n",
       "      <td>0.175732</td>\n",
       "      <td>789.650440</td>\n",
       "      <td>{'learning_rate': 1, 'max_depth': 5, 'min_samples_leaf': 5, 'n_estimators': 20, 'subsample': 0.8}</td>\n",
       "    </tr>\n",
       "    <tr>\n",
       "      <th>10</th>\n",
       "      <td>KNN</td>\n",
       "      <td>0.668790</td>\n",
       "      <td>0.721957</td>\n",
       "      <td>0.149864</td>\n",
       "      <td>28.864031</td>\n",
       "      <td>{'Method': 'Manhattan', 'K': 6}</td>\n",
       "    </tr>\n",
       "    <tr>\n",
       "      <th>11</th>\n",
       "      <td>KNN</td>\n",
       "      <td>0.668790</td>\n",
       "      <td>0.721957</td>\n",
       "      <td>0.149864</td>\n",
       "      <td>28.864031</td>\n",
       "      <td>{'Method': 'Eucledian', 'K': 6}</td>\n",
       "    </tr>\n",
       "  </tbody>\n",
       "</table>\n",
       "</div>"
      ],
      "text/plain": [
       "                                Algorithm  Accuracy       AUC  F1 score  \\\n",
       "0   Logistic regression - Standard Scaler  0.647028  0.719799  0.150702   \n",
       "1     Logistic regression - MinMax Scaler  0.647558  0.719687  0.150895   \n",
       "2         Decision Tree - Standard Scaler  0.776539  0.647667  0.152918   \n",
       "3           Decision Tree - MinMax Scaler  0.776539  0.647667  0.152918   \n",
       "4         Random Forest - Standard Scaler  0.748938  0.693336  0.128913   \n",
       "5           Random Forest - MinMax Scaler  0.741507  0.688821  0.125673   \n",
       "6             ADA Boost - Standard Scaler  0.867834  0.742157  0.194175   \n",
       "7               ADA Boost - MinMax Scaler  0.867834  0.742157  0.194175   \n",
       "8        Gradient Boost - Standard Scaler  0.909766  0.719089  0.205607   \n",
       "9          Gradient Boost - MinMax Scaler  0.895435  0.715502  0.175732   \n",
       "10                                    KNN  0.668790  0.721957  0.149864   \n",
       "11                                    KNN  0.668790  0.721957  0.149864   \n",
       "\n",
       "    Time Taken(sec)  \\\n",
       "0          0.785539   \n",
       "1          1.998478   \n",
       "2       1631.054924   \n",
       "3       3264.377527   \n",
       "4       1653.578765   \n",
       "5       3296.018149   \n",
       "6        100.464759   \n",
       "7        199.940566   \n",
       "8        395.107312   \n",
       "9        789.650440   \n",
       "10        28.864031   \n",
       "11        28.864031   \n",
       "\n",
       "                                                                                            Best Hyper Parameters  \n",
       "0                                                                                                      {'C': 0.1}  \n",
       "1                                                                                               {'penalty': None}  \n",
       "2   {'criterion': 'entropy', 'max_depth': 8, 'max_leaf_nodes': 20, 'min_samples_leaf': 3, 'min_samples_split': 3}  \n",
       "3   {'criterion': 'entropy', 'max_depth': 8, 'max_leaf_nodes': 20, 'min_samples_leaf': 3, 'min_samples_split': 3}  \n",
       "4   {'criterion': 'entropy', 'max_depth': 8, 'max_leaf_nodes': 20, 'min_samples_leaf': 3, 'min_samples_split': 3}  \n",
       "5   {'criterion': 'entropy', 'max_depth': 8, 'max_leaf_nodes': 20, 'min_samples_leaf': 3, 'min_samples_split': 3}  \n",
       "6                                                                       {'learning_rate': 1, 'n_estimators': 450}  \n",
       "7                                                                       {'learning_rate': 1, 'n_estimators': 450}  \n",
       "8               {'learning_rate': 1, 'max_depth': 5, 'min_samples_leaf': 6, 'n_estimators': 20, 'subsample': 0.8}  \n",
       "9               {'learning_rate': 1, 'max_depth': 5, 'min_samples_leaf': 5, 'n_estimators': 20, 'subsample': 0.8}  \n",
       "10                                                                                {'Method': 'Manhattan', 'K': 6}  \n",
       "11                                                                                {'Method': 'Eucledian', 'K': 6}  "
      ]
     },
     "execution_count": 86,
     "metadata": {},
     "output_type": "execute_result"
    }
   ],
   "source": [
    "pd.set_option('max_colwidth', None)\n",
    "models_summary"
   ]
  },
  {
   "cell_type": "markdown",
   "id": "1229a9fd-74b2-480b-9870-f12fb466ff1d",
   "metadata": {},
   "source": [
    "### Summary"
   ]
  },
  {
   "cell_type": "markdown",
   "id": "11c5af34-d9d4-4624-aa12-c5b67fdeba3a",
   "metadata": {},
   "source": [
    "##### The target class has imbalanced data, which resulted 99% accuracy and 0 f1 score for all models\n",
    "##### To improve the overall performance implemented Random over sampling method\n",
    "##### Though F1 score was non-zero, almost all models were overfitting with >96% accuracy\n",
    "##### Further to improve accuracy, unimplemented Random over sampling and implemented SMOTE method."
   ]
  },
  {
   "cell_type": "markdown",
   "id": "10c8115d-4cfc-41c5-83bf-de8e5be172c3",
   "metadata": {},
   "source": [
    "#### From the above table, it can be concluded that Gradient Boost model with standard scaled features model performs well in terms of Accuracy, AUC and time taken for the travel type 3 of the given data"
   ]
  },
  {
   "cell_type": "markdown",
   "id": "ab05694b",
   "metadata": {},
   "source": [
    "#### *** Have run the SVM model training in other environment and have the results attached in TravelType_3_SVM.ipynb file ***"
   ]
  },
  {
   "cell_type": "markdown",
   "id": "73b945e8-e12d-4b41-bdd9-27a656e55e74",
   "metadata": {
    "id": "ada36c3a"
   },
   "source": [
    "#### -----------------------------------------------------------------------------------------------------------------------------------\n",
    "#### Prediction using the best model for the travel type 3\n",
    "#### -----------------------------------------------------------------------------------------------------------------------------------"
   ]
  },
  {
   "cell_type": "code",
   "execution_count": 87,
   "id": "8e8d51b9-103d-4370-801b-1d3e34fbcde9",
   "metadata": {
    "execution": {
     "iopub.execute_input": "2023-12-24T06:30:02.476613Z",
     "iopub.status.busy": "2023-12-24T06:30:02.475932Z",
     "iopub.status.idle": "2023-12-24T06:30:04.319507Z",
     "shell.execute_reply": "2023-12-24T06:30:04.318890Z",
     "shell.execute_reply.started": "2023-12-24T06:30:02.476585Z"
    },
    "id": "4939b2c1",
    "tags": []
   },
   "outputs": [],
   "source": [
    "best_gradboost_ss.fit(xtrain_ss,ytrain)\n",
    "y_predict=best_gradboost_ss.predict(xtest_ss)"
   ]
  },
  {
   "cell_type": "code",
   "execution_count": 88,
   "id": "89f06877",
   "metadata": {
    "execution": {
     "iopub.execute_input": "2023-12-24T06:30:06.089192Z",
     "iopub.status.busy": "2023-12-24T06:30:06.088365Z",
     "iopub.status.idle": "2023-12-24T06:30:06.094748Z",
     "shell.execute_reply": "2023-12-24T06:30:06.093985Z",
     "shell.execute_reply.started": "2023-12-24T06:30:06.089146Z"
    },
    "id": "89f06877",
    "tags": []
   },
   "outputs": [
    {
     "name": "stdout",
     "output_type": "stream",
     "text": [
      "{0: 1769, 1: 115}\n"
     ]
    }
   ],
   "source": [
    "unique, counts = np.unique(y_predict, return_counts=True)\n",
    "print(dict(zip(unique, counts)))"
   ]
  },
  {
   "cell_type": "code",
   "execution_count": null,
   "id": "2ced60fa-c400-4fce-b818-d7473f7fd82e",
   "metadata": {
    "id": "a37b8be0"
   },
   "outputs": [],
   "source": []
  },
  {
   "cell_type": "code",
   "execution_count": null,
   "id": "978284d7",
   "metadata": {
    "id": "978284d7"
   },
   "outputs": [],
   "source": []
  },
  {
   "cell_type": "code",
   "execution_count": null,
   "id": "a37b8be0",
   "metadata": {
    "id": "a37b8be0"
   },
   "outputs": [],
   "source": []
  },
  {
   "cell_type": "code",
   "execution_count": null,
   "id": "ab4bfd17",
   "metadata": {
    "id": "ab4bfd17"
   },
   "outputs": [],
   "source": []
  },
  {
   "cell_type": "code",
   "execution_count": null,
   "id": "86ade215",
   "metadata": {
    "id": "86ade215"
   },
   "outputs": [],
   "source": []
  },
  {
   "cell_type": "code",
   "execution_count": null,
   "id": "605b6f1d",
   "metadata": {
    "id": "605b6f1d"
   },
   "outputs": [],
   "source": []
  },
  {
   "cell_type": "code",
   "execution_count": null,
   "id": "bbbf81c6",
   "metadata": {
    "id": "bbbf81c6"
   },
   "outputs": [],
   "source": []
  },
  {
   "cell_type": "code",
   "execution_count": null,
   "id": "77fbd8d3",
   "metadata": {
    "id": "77fbd8d3"
   },
   "outputs": [],
   "source": []
  },
  {
   "cell_type": "code",
   "execution_count": null,
   "id": "2649574d",
   "metadata": {
    "id": "2649574d"
   },
   "outputs": [],
   "source": []
  },
  {
   "cell_type": "code",
   "execution_count": null,
   "id": "cd7a0cc9",
   "metadata": {
    "id": "cd7a0cc9"
   },
   "outputs": [],
   "source": []
  },
  {
   "cell_type": "code",
   "execution_count": null,
   "id": "e350ef13",
   "metadata": {
    "id": "e350ef13"
   },
   "outputs": [],
   "source": []
  },
  {
   "cell_type": "code",
   "execution_count": null,
   "id": "81c7056b",
   "metadata": {
    "id": "81c7056b"
   },
   "outputs": [],
   "source": []
  },
  {
   "cell_type": "code",
   "execution_count": null,
   "id": "8e095042",
   "metadata": {
    "id": "8e095042"
   },
   "outputs": [],
   "source": []
  },
  {
   "cell_type": "code",
   "execution_count": null,
   "id": "f98988f1",
   "metadata": {
    "id": "f98988f1"
   },
   "outputs": [],
   "source": []
  },
  {
   "cell_type": "code",
   "execution_count": null,
   "id": "c1de71bb",
   "metadata": {
    "id": "c1de71bb"
   },
   "outputs": [],
   "source": []
  },
  {
   "cell_type": "code",
   "execution_count": null,
   "id": "8a31273e",
   "metadata": {
    "id": "8a31273e"
   },
   "outputs": [],
   "source": []
  },
  {
   "cell_type": "code",
   "execution_count": null,
   "id": "84a9975f",
   "metadata": {
    "id": "84a9975f"
   },
   "outputs": [],
   "source": []
  },
  {
   "cell_type": "code",
   "execution_count": null,
   "id": "1b758438",
   "metadata": {
    "id": "1b758438"
   },
   "outputs": [],
   "source": []
  },
  {
   "cell_type": "code",
   "execution_count": null,
   "id": "d9a5b254",
   "metadata": {
    "id": "d9a5b254"
   },
   "outputs": [],
   "source": []
  },
  {
   "cell_type": "code",
   "execution_count": null,
   "id": "873fc04a",
   "metadata": {
    "id": "873fc04a"
   },
   "outputs": [],
   "source": []
  },
  {
   "cell_type": "code",
   "execution_count": null,
   "id": "96daa09c",
   "metadata": {
    "id": "96daa09c"
   },
   "outputs": [],
   "source": []
  },
  {
   "cell_type": "code",
   "execution_count": null,
   "id": "f7826477",
   "metadata": {
    "id": "f7826477"
   },
   "outputs": [],
   "source": []
  },
  {
   "cell_type": "code",
   "execution_count": null,
   "id": "fffe04cb",
   "metadata": {
    "id": "fffe04cb"
   },
   "outputs": [],
   "source": []
  },
  {
   "cell_type": "code",
   "execution_count": null,
   "id": "e8d9eca0",
   "metadata": {
    "id": "e8d9eca0"
   },
   "outputs": [],
   "source": []
  },
  {
   "cell_type": "code",
   "execution_count": null,
   "id": "f615d5aa",
   "metadata": {
    "id": "f615d5aa"
   },
   "outputs": [],
   "source": []
  },
  {
   "cell_type": "code",
   "execution_count": null,
   "id": "309e0969",
   "metadata": {
    "id": "309e0969"
   },
   "outputs": [],
   "source": []
  },
  {
   "cell_type": "code",
   "execution_count": null,
   "id": "e363d21a",
   "metadata": {
    "id": "e363d21a"
   },
   "outputs": [],
   "source": []
  },
  {
   "cell_type": "code",
   "execution_count": null,
   "id": "d22073ba",
   "metadata": {
    "id": "d22073ba"
   },
   "outputs": [],
   "source": []
  },
  {
   "cell_type": "code",
   "execution_count": null,
   "id": "eea469a2",
   "metadata": {
    "id": "eea469a2"
   },
   "outputs": [],
   "source": []
  },
  {
   "cell_type": "code",
   "execution_count": null,
   "id": "e76820df",
   "metadata": {
    "id": "e76820df"
   },
   "outputs": [],
   "source": []
  },
  {
   "cell_type": "code",
   "execution_count": null,
   "id": "5bc2b2dd",
   "metadata": {
    "id": "5bc2b2dd"
   },
   "outputs": [],
   "source": []
  },
  {
   "cell_type": "code",
   "execution_count": null,
   "id": "bd8d272f",
   "metadata": {
    "id": "bd8d272f"
   },
   "outputs": [],
   "source": []
  },
  {
   "cell_type": "code",
   "execution_count": null,
   "id": "ae5513f5",
   "metadata": {
    "id": "ae5513f5"
   },
   "outputs": [],
   "source": []
  },
  {
   "cell_type": "code",
   "execution_count": null,
   "id": "73571659",
   "metadata": {
    "id": "73571659"
   },
   "outputs": [],
   "source": []
  },
  {
   "cell_type": "code",
   "execution_count": null,
   "id": "12e8c7f8",
   "metadata": {
    "id": "12e8c7f8"
   },
   "outputs": [],
   "source": []
  },
  {
   "cell_type": "code",
   "execution_count": null,
   "id": "15d0062e",
   "metadata": {
    "id": "15d0062e"
   },
   "outputs": [],
   "source": []
  },
  {
   "cell_type": "code",
   "execution_count": null,
   "id": "0439d605",
   "metadata": {
    "id": "0439d605"
   },
   "outputs": [],
   "source": []
  },
  {
   "cell_type": "code",
   "execution_count": null,
   "id": "7db8d28e",
   "metadata": {
    "id": "7db8d28e"
   },
   "outputs": [],
   "source": []
  },
  {
   "cell_type": "code",
   "execution_count": null,
   "id": "c30b0ff3",
   "metadata": {
    "id": "c30b0ff3"
   },
   "outputs": [],
   "source": []
  },
  {
   "cell_type": "code",
   "execution_count": null,
   "id": "adfbaf57",
   "metadata": {
    "id": "adfbaf57"
   },
   "outputs": [],
   "source": []
  },
  {
   "cell_type": "code",
   "execution_count": null,
   "id": "31682ea8",
   "metadata": {
    "id": "31682ea8"
   },
   "outputs": [],
   "source": []
  },
  {
   "cell_type": "code",
   "execution_count": null,
   "id": "3dc7ff27",
   "metadata": {
    "id": "3dc7ff27"
   },
   "outputs": [],
   "source": []
  },
  {
   "cell_type": "code",
   "execution_count": null,
   "id": "c329e232",
   "metadata": {
    "id": "c329e232"
   },
   "outputs": [],
   "source": []
  },
  {
   "cell_type": "code",
   "execution_count": null,
   "id": "f3e47f8b",
   "metadata": {
    "id": "f3e47f8b"
   },
   "outputs": [],
   "source": []
  }
 ],
 "metadata": {
  "colab": {
   "provenance": []
  },
  "kernelspec": {
   "display_name": "Python 3 (ipykernel)",
   "language": "python",
   "name": "python3"
  },
  "language_info": {
   "codemirror_mode": {
    "name": "ipython",
    "version": 3
   },
   "file_extension": ".py",
   "mimetype": "text/x-python",
   "name": "python",
   "nbconvert_exporter": "python",
   "pygments_lexer": "ipython3",
   "version": "3.11.3"
  }
 },
 "nbformat": 4,
 "nbformat_minor": 5
}
