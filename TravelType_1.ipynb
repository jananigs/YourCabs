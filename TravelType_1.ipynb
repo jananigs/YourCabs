{
 "cells": [
  {
   "cell_type": "code",
   "execution_count": 1,
   "id": "232dbba1",
   "metadata": {
    "execution": {
     "iopub.execute_input": "2023-12-23T00:22:04.004273Z",
     "iopub.status.busy": "2023-12-23T00:22:04.003946Z",
     "iopub.status.idle": "2023-12-23T00:22:08.403162Z",
     "shell.execute_reply": "2023-12-23T00:22:08.402443Z",
     "shell.execute_reply.started": "2023-12-23T00:22:04.004234Z"
    },
    "tags": []
   },
   "outputs": [
    {
     "name": "stdout",
     "output_type": "stream",
     "text": [
      "Requirement already satisfied: imblearn in /opt/saturncloud/envs/saturn/lib/python3.10/site-packages (0.0)\n",
      "Requirement already satisfied: imbalanced-learn in /opt/saturncloud/envs/saturn/lib/python3.10/site-packages (from imblearn) (0.11.0)\n",
      "Requirement already satisfied: numpy>=1.17.3 in /opt/saturncloud/envs/saturn/lib/python3.10/site-packages (from imbalanced-learn->imblearn) (1.26.2)\n",
      "Requirement already satisfied: scipy>=1.5.0 in /opt/saturncloud/envs/saturn/lib/python3.10/site-packages (from imbalanced-learn->imblearn) (1.11.4)\n",
      "Requirement already satisfied: scikit-learn>=1.0.2 in /opt/saturncloud/envs/saturn/lib/python3.10/site-packages (from imbalanced-learn->imblearn) (1.3.2)\n",
      "Requirement already satisfied: joblib>=1.1.1 in /opt/saturncloud/envs/saturn/lib/python3.10/site-packages (from imbalanced-learn->imblearn) (1.3.2)\n",
      "Requirement already satisfied: threadpoolctl>=2.0.0 in /opt/saturncloud/envs/saturn/lib/python3.10/site-packages (from imbalanced-learn->imblearn) (3.2.0)\n"
     ]
    }
   ],
   "source": [
    "%matplotlib inline\n",
    "!pip install imblearn\n",
    "import time\n",
    "import numpy as np\n",
    "import pandas as pd\n",
    "import matplotlib.pyplot as plt\n",
    "from datetime import datetime\n",
    "import seaborn as sns\n",
    "from sklearn.model_selection import train_test_split, GridSearchCV, cross_val_score\n",
    "from sklearn.metrics import confusion_matrix, classification_report\n",
    "from sklearn.metrics import accuracy_score\n",
    "from sklearn.metrics import roc_curve, roc_auc_score, f1_score, auc, make_scorer\n",
    "\n",
    "pd.set_option('display.max_columns',25)  # to show all the columns while printing the df\n",
    "pd.set_option('display.max_rows',25)  # to show all the rows while printing the df"
   ]
  },
  {
   "cell_type": "markdown",
   "id": "9cb0120a",
   "metadata": {},
   "source": [
    "### Load the data"
   ]
  },
  {
   "cell_type": "code",
   "execution_count": 2,
   "id": "da3e79fe",
   "metadata": {
    "execution": {
     "iopub.execute_input": "2023-12-23T00:22:08.405163Z",
     "iopub.status.busy": "2023-12-23T00:22:08.404721Z",
     "iopub.status.idle": "2023-12-23T00:22:08.551050Z",
     "shell.execute_reply": "2023-12-23T00:22:08.550437Z",
     "shell.execute_reply.started": "2023-12-23T00:22:08.405139Z"
    },
    "tags": []
   },
   "outputs": [
    {
     "data": {
      "text/html": [
       "<div>\n",
       "<style scoped>\n",
       "    .dataframe tbody tr th:only-of-type {\n",
       "        vertical-align: middle;\n",
       "    }\n",
       "\n",
       "    .dataframe tbody tr th {\n",
       "        vertical-align: top;\n",
       "    }\n",
       "\n",
       "    .dataframe thead th {\n",
       "        text-align: right;\n",
       "    }\n",
       "</style>\n",
       "<table border=\"1\" class=\"dataframe\">\n",
       "  <thead>\n",
       "    <tr style=\"text-align: right;\">\n",
       "      <th></th>\n",
       "      <th>id</th>\n",
       "      <th>user_id</th>\n",
       "      <th>vehicle_model_id</th>\n",
       "      <th>package_id</th>\n",
       "      <th>travel_type_id</th>\n",
       "      <th>from_area_id</th>\n",
       "      <th>to_area_id</th>\n",
       "      <th>from_city_id</th>\n",
       "      <th>to_city_id</th>\n",
       "      <th>from_date</th>\n",
       "      <th>online_booking</th>\n",
       "      <th>mobile_site_booking</th>\n",
       "      <th>booking_created</th>\n",
       "      <th>from_lat</th>\n",
       "      <th>from_long</th>\n",
       "      <th>to_lat</th>\n",
       "      <th>to_long</th>\n",
       "      <th>Car_Cancellation</th>\n",
       "    </tr>\n",
       "  </thead>\n",
       "  <tbody>\n",
       "    <tr>\n",
       "      <th>0</th>\n",
       "      <td>132512</td>\n",
       "      <td>22177</td>\n",
       "      <td>28</td>\n",
       "      <td>NaN</td>\n",
       "      <td>2</td>\n",
       "      <td>83.0</td>\n",
       "      <td>448.0</td>\n",
       "      <td>NaN</td>\n",
       "      <td>NaN</td>\n",
       "      <td>01-01-2013 02:00</td>\n",
       "      <td>0</td>\n",
       "      <td>0</td>\n",
       "      <td>01-01-2013 01:39</td>\n",
       "      <td>12.924150</td>\n",
       "      <td>77.672290</td>\n",
       "      <td>12.927320</td>\n",
       "      <td>77.635750</td>\n",
       "      <td>0</td>\n",
       "    </tr>\n",
       "    <tr>\n",
       "      <th>1</th>\n",
       "      <td>132513</td>\n",
       "      <td>21413</td>\n",
       "      <td>12</td>\n",
       "      <td>NaN</td>\n",
       "      <td>2</td>\n",
       "      <td>1010.0</td>\n",
       "      <td>540.0</td>\n",
       "      <td>NaN</td>\n",
       "      <td>NaN</td>\n",
       "      <td>01-01-2013 09:00</td>\n",
       "      <td>0</td>\n",
       "      <td>0</td>\n",
       "      <td>01-01-2013 02:25</td>\n",
       "      <td>12.966910</td>\n",
       "      <td>77.749350</td>\n",
       "      <td>12.927680</td>\n",
       "      <td>77.626640</td>\n",
       "      <td>0</td>\n",
       "    </tr>\n",
       "    <tr>\n",
       "      <th>2</th>\n",
       "      <td>132514</td>\n",
       "      <td>22178</td>\n",
       "      <td>12</td>\n",
       "      <td>NaN</td>\n",
       "      <td>2</td>\n",
       "      <td>1301.0</td>\n",
       "      <td>1034.0</td>\n",
       "      <td>NaN</td>\n",
       "      <td>NaN</td>\n",
       "      <td>01-01-2013 03:30</td>\n",
       "      <td>0</td>\n",
       "      <td>0</td>\n",
       "      <td>01-01-2013 03:08</td>\n",
       "      <td>12.937222</td>\n",
       "      <td>77.626915</td>\n",
       "      <td>13.047926</td>\n",
       "      <td>77.597766</td>\n",
       "      <td>0</td>\n",
       "    </tr>\n",
       "    <tr>\n",
       "      <th>3</th>\n",
       "      <td>132515</td>\n",
       "      <td>13034</td>\n",
       "      <td>12</td>\n",
       "      <td>NaN</td>\n",
       "      <td>2</td>\n",
       "      <td>768.0</td>\n",
       "      <td>398.0</td>\n",
       "      <td>NaN</td>\n",
       "      <td>NaN</td>\n",
       "      <td>01-01-2013 05:45</td>\n",
       "      <td>0</td>\n",
       "      <td>0</td>\n",
       "      <td>01-01-2013 04:39</td>\n",
       "      <td>12.989990</td>\n",
       "      <td>77.553320</td>\n",
       "      <td>12.971430</td>\n",
       "      <td>77.639140</td>\n",
       "      <td>0</td>\n",
       "    </tr>\n",
       "    <tr>\n",
       "      <th>4</th>\n",
       "      <td>132517</td>\n",
       "      <td>22180</td>\n",
       "      <td>12</td>\n",
       "      <td>NaN</td>\n",
       "      <td>2</td>\n",
       "      <td>1365.0</td>\n",
       "      <td>849.0</td>\n",
       "      <td>NaN</td>\n",
       "      <td>NaN</td>\n",
       "      <td>01-01-2013 09:00</td>\n",
       "      <td>0</td>\n",
       "      <td>0</td>\n",
       "      <td>01-01-2013 07:53</td>\n",
       "      <td>12.845653</td>\n",
       "      <td>77.677925</td>\n",
       "      <td>12.954340</td>\n",
       "      <td>77.600720</td>\n",
       "      <td>0</td>\n",
       "    </tr>\n",
       "  </tbody>\n",
       "</table>\n",
       "</div>"
      ],
      "text/plain": [
       "       id  user_id  vehicle_model_id  package_id  travel_type_id  \\\n",
       "0  132512    22177                28         NaN               2   \n",
       "1  132513    21413                12         NaN               2   \n",
       "2  132514    22178                12         NaN               2   \n",
       "3  132515    13034                12         NaN               2   \n",
       "4  132517    22180                12         NaN               2   \n",
       "\n",
       "   from_area_id  to_area_id  from_city_id  to_city_id         from_date  \\\n",
       "0          83.0       448.0           NaN         NaN  01-01-2013 02:00   \n",
       "1        1010.0       540.0           NaN         NaN  01-01-2013 09:00   \n",
       "2        1301.0      1034.0           NaN         NaN  01-01-2013 03:30   \n",
       "3         768.0       398.0           NaN         NaN  01-01-2013 05:45   \n",
       "4        1365.0       849.0           NaN         NaN  01-01-2013 09:00   \n",
       "\n",
       "   online_booking  mobile_site_booking   booking_created   from_lat  \\\n",
       "0               0                    0  01-01-2013 01:39  12.924150   \n",
       "1               0                    0  01-01-2013 02:25  12.966910   \n",
       "2               0                    0  01-01-2013 03:08  12.937222   \n",
       "3               0                    0  01-01-2013 04:39  12.989990   \n",
       "4               0                    0  01-01-2013 07:53  12.845653   \n",
       "\n",
       "   from_long     to_lat    to_long  Car_Cancellation  \n",
       "0  77.672290  12.927320  77.635750                 0  \n",
       "1  77.749350  12.927680  77.626640                 0  \n",
       "2  77.626915  13.047926  77.597766                 0  \n",
       "3  77.553320  12.971430  77.639140                 0  \n",
       "4  77.677925  12.954340  77.600720                 0  "
      ]
     },
     "execution_count": 2,
     "metadata": {},
     "output_type": "execute_result"
    }
   ],
   "source": [
    "data = pd.read_csv(\"YourCabs.csv\")\n",
    "data.head()"
   ]
  },
  {
   "cell_type": "markdown",
   "id": "5052afbb",
   "metadata": {},
   "source": [
    "### Verify the data"
   ]
  },
  {
   "cell_type": "code",
   "execution_count": 3,
   "id": "79698613",
   "metadata": {
    "execution": {
     "iopub.execute_input": "2023-12-23T00:22:08.552655Z",
     "iopub.status.busy": "2023-12-23T00:22:08.552235Z",
     "iopub.status.idle": "2023-12-23T00:22:08.574851Z",
     "shell.execute_reply": "2023-12-23T00:22:08.574059Z",
     "shell.execute_reply.started": "2023-12-23T00:22:08.552617Z"
    },
    "tags": []
   },
   "outputs": [
    {
     "name": "stdout",
     "output_type": "stream",
     "text": [
      "<class 'pandas.core.frame.DataFrame'>\n",
      "RangeIndex: 43431 entries, 0 to 43430\n",
      "Data columns (total 18 columns):\n",
      " #   Column               Non-Null Count  Dtype  \n",
      "---  ------               --------------  -----  \n",
      " 0   id                   43431 non-null  int64  \n",
      " 1   user_id              43431 non-null  int64  \n",
      " 2   vehicle_model_id     43431 non-null  int64  \n",
      " 3   package_id           7550 non-null   float64\n",
      " 4   travel_type_id       43431 non-null  int64  \n",
      " 5   from_area_id         43343 non-null  float64\n",
      " 6   to_area_id           34293 non-null  float64\n",
      " 7   from_city_id         16345 non-null  float64\n",
      " 8   to_city_id           1588 non-null   float64\n",
      " 9   from_date            43431 non-null  object \n",
      " 10  online_booking       43431 non-null  int64  \n",
      " 11  mobile_site_booking  43431 non-null  int64  \n",
      " 12  booking_created      43431 non-null  object \n",
      " 13  from_lat             43338 non-null  float64\n",
      " 14  from_long            43338 non-null  float64\n",
      " 15  to_lat               34293 non-null  float64\n",
      " 16  to_long              34293 non-null  float64\n",
      " 17  Car_Cancellation     43431 non-null  int64  \n",
      "dtypes: float64(9), int64(7), object(2)\n",
      "memory usage: 6.0+ MB\n"
     ]
    }
   ],
   "source": [
    "data.info()"
   ]
  },
  {
   "cell_type": "markdown",
   "id": "d7ac04f1",
   "metadata": {},
   "source": [
    "### Dropping columns having unique values and PII\n"
   ]
  },
  {
   "cell_type": "code",
   "execution_count": 4,
   "id": "0c48129a",
   "metadata": {
    "execution": {
     "iopub.execute_input": "2023-12-23T00:22:08.576120Z",
     "iopub.status.busy": "2023-12-23T00:22:08.575783Z",
     "iopub.status.idle": "2023-12-23T00:22:08.583636Z",
     "shell.execute_reply": "2023-12-23T00:22:08.583019Z",
     "shell.execute_reply.started": "2023-12-23T00:22:08.576096Z"
    },
    "tags": []
   },
   "outputs": [],
   "source": [
    "data=data.drop(['id','user_id'],axis=1)"
   ]
  },
  {
   "cell_type": "markdown",
   "id": "78c7946e",
   "metadata": {},
   "source": [
    "### Filtering out travel_type_id=1"
   ]
  },
  {
   "cell_type": "code",
   "execution_count": 5,
   "id": "5a77fdba",
   "metadata": {
    "execution": {
     "iopub.execute_input": "2023-12-23T00:22:08.585460Z",
     "iopub.status.busy": "2023-12-23T00:22:08.584669Z",
     "iopub.status.idle": "2023-12-23T00:22:08.603457Z",
     "shell.execute_reply": "2023-12-23T00:22:08.602899Z",
     "shell.execute_reply.started": "2023-12-23T00:22:08.585424Z"
    }
   },
   "outputs": [
    {
     "data": {
      "text/html": [
       "<div>\n",
       "<style scoped>\n",
       "    .dataframe tbody tr th:only-of-type {\n",
       "        vertical-align: middle;\n",
       "    }\n",
       "\n",
       "    .dataframe tbody tr th {\n",
       "        vertical-align: top;\n",
       "    }\n",
       "\n",
       "    .dataframe thead th {\n",
       "        text-align: right;\n",
       "    }\n",
       "</style>\n",
       "<table border=\"1\" class=\"dataframe\">\n",
       "  <thead>\n",
       "    <tr style=\"text-align: right;\">\n",
       "      <th></th>\n",
       "      <th>vehicle_model_id</th>\n",
       "      <th>package_id</th>\n",
       "      <th>travel_type_id</th>\n",
       "      <th>from_area_id</th>\n",
       "      <th>to_area_id</th>\n",
       "      <th>from_city_id</th>\n",
       "      <th>to_city_id</th>\n",
       "      <th>from_date</th>\n",
       "      <th>online_booking</th>\n",
       "      <th>mobile_site_booking</th>\n",
       "      <th>booking_created</th>\n",
       "      <th>from_lat</th>\n",
       "      <th>from_long</th>\n",
       "      <th>to_lat</th>\n",
       "      <th>to_long</th>\n",
       "      <th>Car_Cancellation</th>\n",
       "    </tr>\n",
       "  </thead>\n",
       "  <tbody>\n",
       "    <tr>\n",
       "      <th>6</th>\n",
       "      <td>12</td>\n",
       "      <td>NaN</td>\n",
       "      <td>1</td>\n",
       "      <td>571.0</td>\n",
       "      <td>NaN</td>\n",
       "      <td>15.0</td>\n",
       "      <td>108.0</td>\n",
       "      <td>01-01-2013 09:45</td>\n",
       "      <td>0</td>\n",
       "      <td>0</td>\n",
       "      <td>01-01-2013 09:21</td>\n",
       "      <td>12.951850</td>\n",
       "      <td>77.696420</td>\n",
       "      <td>NaN</td>\n",
       "      <td>NaN</td>\n",
       "      <td>0</td>\n",
       "    </tr>\n",
       "    <tr>\n",
       "      <th>17</th>\n",
       "      <td>24</td>\n",
       "      <td>NaN</td>\n",
       "      <td>1</td>\n",
       "      <td>1383.0</td>\n",
       "      <td>NaN</td>\n",
       "      <td>NaN</td>\n",
       "      <td>32.0</td>\n",
       "      <td>01-12-2013 08:00</td>\n",
       "      <td>1</td>\n",
       "      <td>0</td>\n",
       "      <td>01-01-2013 12:17</td>\n",
       "      <td>12.930451</td>\n",
       "      <td>77.685822</td>\n",
       "      <td>NaN</td>\n",
       "      <td>NaN</td>\n",
       "      <td>0</td>\n",
       "    </tr>\n",
       "    <tr>\n",
       "      <th>24</th>\n",
       "      <td>54</td>\n",
       "      <td>NaN</td>\n",
       "      <td>1</td>\n",
       "      <td>515.0</td>\n",
       "      <td>NaN</td>\n",
       "      <td>15.0</td>\n",
       "      <td>32.0</td>\n",
       "      <td>01-05-2013 08:30</td>\n",
       "      <td>0</td>\n",
       "      <td>0</td>\n",
       "      <td>01-01-2013 14:40</td>\n",
       "      <td>12.978960</td>\n",
       "      <td>77.673450</td>\n",
       "      <td>NaN</td>\n",
       "      <td>NaN</td>\n",
       "      <td>0</td>\n",
       "    </tr>\n",
       "    <tr>\n",
       "      <th>158</th>\n",
       "      <td>28</td>\n",
       "      <td>NaN</td>\n",
       "      <td>1</td>\n",
       "      <td>136.0</td>\n",
       "      <td>NaN</td>\n",
       "      <td>1.0</td>\n",
       "      <td>152.0</td>\n",
       "      <td>01-04-2013 09:30</td>\n",
       "      <td>1</td>\n",
       "      <td>0</td>\n",
       "      <td>01-03-2013 12:19</td>\n",
       "      <td>12.907960</td>\n",
       "      <td>77.624180</td>\n",
       "      <td>NaN</td>\n",
       "      <td>NaN</td>\n",
       "      <td>0</td>\n",
       "    </tr>\n",
       "    <tr>\n",
       "      <th>216</th>\n",
       "      <td>87</td>\n",
       "      <td>NaN</td>\n",
       "      <td>1</td>\n",
       "      <td>1118.0</td>\n",
       "      <td>NaN</td>\n",
       "      <td>NaN</td>\n",
       "      <td>32.0</td>\n",
       "      <td>01-06-2013 07:30</td>\n",
       "      <td>1</td>\n",
       "      <td>0</td>\n",
       "      <td>01-04-2013 09:32</td>\n",
       "      <td>12.930220</td>\n",
       "      <td>77.560390</td>\n",
       "      <td>NaN</td>\n",
       "      <td>NaN</td>\n",
       "      <td>0</td>\n",
       "    </tr>\n",
       "  </tbody>\n",
       "</table>\n",
       "</div>"
      ],
      "text/plain": [
       "     vehicle_model_id  package_id  travel_type_id  from_area_id  to_area_id  \\\n",
       "6                  12         NaN               1         571.0         NaN   \n",
       "17                 24         NaN               1        1383.0         NaN   \n",
       "24                 54         NaN               1         515.0         NaN   \n",
       "158                28         NaN               1         136.0         NaN   \n",
       "216                87         NaN               1        1118.0         NaN   \n",
       "\n",
       "     from_city_id  to_city_id         from_date  online_booking  \\\n",
       "6            15.0       108.0  01-01-2013 09:45               0   \n",
       "17            NaN        32.0  01-12-2013 08:00               1   \n",
       "24           15.0        32.0  01-05-2013 08:30               0   \n",
       "158           1.0       152.0  01-04-2013 09:30               1   \n",
       "216           NaN        32.0  01-06-2013 07:30               1   \n",
       "\n",
       "     mobile_site_booking   booking_created   from_lat  from_long  to_lat  \\\n",
       "6                      0  01-01-2013 09:21  12.951850  77.696420     NaN   \n",
       "17                     0  01-01-2013 12:17  12.930451  77.685822     NaN   \n",
       "24                     0  01-01-2013 14:40  12.978960  77.673450     NaN   \n",
       "158                    0  01-03-2013 12:19  12.907960  77.624180     NaN   \n",
       "216                    0  01-04-2013 09:32  12.930220  77.560390     NaN   \n",
       "\n",
       "     to_long  Car_Cancellation  \n",
       "6        NaN                 0  \n",
       "17       NaN                 0  \n",
       "24       NaN                 0  \n",
       "158      NaN                 0  \n",
       "216      NaN                 0  "
      ]
     },
     "execution_count": 5,
     "metadata": {},
     "output_type": "execute_result"
    }
   ],
   "source": [
    "# This refers to Intercity (Long distance) travel, where the destination is optional.\n",
    "data_tt1 = data[data['travel_type_id'] == 1] # filtering the data having travel_type_id 1\n",
    "data_tt1.head()"
   ]
  },
  {
   "cell_type": "markdown",
   "id": "78610fe2",
   "metadata": {},
   "source": [
    "### Dropping travel_type_id which is no more required"
   ]
  },
  {
   "cell_type": "code",
   "execution_count": 6,
   "id": "49b4eb35",
   "metadata": {
    "execution": {
     "iopub.execute_input": "2023-12-23T00:22:08.604620Z",
     "iopub.status.busy": "2023-12-23T00:22:08.604327Z",
     "iopub.status.idle": "2023-12-23T00:22:08.608453Z",
     "shell.execute_reply": "2023-12-23T00:22:08.607853Z",
     "shell.execute_reply.started": "2023-12-23T00:22:08.604599Z"
    }
   },
   "outputs": [],
   "source": [
    "data_tt1 = data_tt1.drop(['travel_type_id'],axis=1)"
   ]
  },
  {
   "cell_type": "markdown",
   "id": "5e032eab",
   "metadata": {},
   "source": [
    "### Checking missing values"
   ]
  },
  {
   "cell_type": "code",
   "execution_count": 7,
   "id": "368063b8",
   "metadata": {
    "execution": {
     "iopub.execute_input": "2023-12-23T00:22:08.610775Z",
     "iopub.status.busy": "2023-12-23T00:22:08.610461Z",
     "iopub.status.idle": "2023-12-23T00:22:08.617741Z",
     "shell.execute_reply": "2023-12-23T00:22:08.617142Z",
     "shell.execute_reply.started": "2023-12-23T00:22:08.610753Z"
    }
   },
   "outputs": [
    {
     "data": {
      "text/plain": [
       "vehicle_model_id          0\n",
       "package_id             1589\n",
       "from_area_id             88\n",
       "to_area_id             1588\n",
       "from_city_id            196\n",
       "to_city_id                1\n",
       "from_date                 0\n",
       "online_booking            0\n",
       "mobile_site_booking       0\n",
       "booking_created           0\n",
       "from_lat                 93\n",
       "from_long                93\n",
       "to_lat                 1588\n",
       "to_long                1588\n",
       "Car_Cancellation          0\n",
       "dtype: int64"
      ]
     },
     "execution_count": 7,
     "metadata": {},
     "output_type": "execute_result"
    }
   ],
   "source": [
    "data_tt1.isnull().sum()"
   ]
  },
  {
   "cell_type": "markdown",
   "id": "38f965af",
   "metadata": {},
   "source": [
    "### Treating missing values"
   ]
  },
  {
   "cell_type": "code",
   "execution_count": 8,
   "id": "b8420e1a",
   "metadata": {
    "execution": {
     "iopub.execute_input": "2023-12-23T00:22:08.618833Z",
     "iopub.status.busy": "2023-12-23T00:22:08.618549Z",
     "iopub.status.idle": "2023-12-23T00:22:08.624989Z",
     "shell.execute_reply": "2023-12-23T00:22:08.624366Z",
     "shell.execute_reply.started": "2023-12-23T00:22:08.618812Z"
    }
   },
   "outputs": [],
   "source": [
    "# from_city_id and to_city_id are categorical values, so filling it with mode\n",
    "data_tt1['from_city_id'].fillna(int(data_tt1['from_city_id'].mode()), inplace=True)\n",
    "data_tt1['to_city_id'].fillna(int(data_tt1['to_city_id'].mode()), inplace=True)\n",
    "data_tt1['from_area_id'].fillna(int(data_tt1['from_city_id'].mode()), inplace=True)"
   ]
  },
  {
   "cell_type": "markdown",
   "id": "215f6e11",
   "metadata": {},
   "source": [
    "### Analysing data proportion in categorical variables"
   ]
  },
  {
   "cell_type": "code",
   "execution_count": 9,
   "id": "2804aee9",
   "metadata": {
    "execution": {
     "iopub.execute_input": "2023-12-23T00:22:08.626069Z",
     "iopub.status.busy": "2023-12-23T00:22:08.625803Z",
     "iopub.status.idle": "2023-12-23T00:22:08.634825Z",
     "shell.execute_reply": "2023-12-23T00:22:08.634044Z",
     "shell.execute_reply.started": "2023-12-23T00:22:08.626047Z"
    }
   },
   "outputs": [
    {
     "data": {
      "text/plain": [
       "12    46.192574\n",
       "65    22.970422\n",
       "87     9.943361\n",
       "89     5.852738\n",
       "54     4.531152\n",
       "85     3.587162\n",
       "24     2.957835\n",
       "28     2.139711\n",
       "13     0.440529\n",
       "10     0.377596\n",
       "23     0.251731\n",
       "36     0.188798\n",
       "90     0.188798\n",
       "86     0.125865\n",
       "69     0.062933\n",
       "14     0.062933\n",
       "70     0.062933\n",
       "30     0.062933\n",
       "Name: vehicle_model_id, dtype: float64"
      ]
     },
     "execution_count": 9,
     "metadata": {},
     "output_type": "execute_result"
    }
   ],
   "source": [
    "data_tt1['vehicle_model_id'].value_counts(normalize=True)*100"
   ]
  },
  {
   "cell_type": "code",
   "execution_count": 10,
   "id": "39c8b82f",
   "metadata": {
    "execution": {
     "iopub.execute_input": "2023-12-23T00:22:08.635925Z",
     "iopub.status.busy": "2023-12-23T00:22:08.635631Z",
     "iopub.status.idle": "2023-12-23T00:22:08.641675Z",
     "shell.execute_reply": "2023-12-23T00:22:08.640946Z",
     "shell.execute_reply.started": "2023-12-23T00:22:08.635903Z"
    }
   },
   "outputs": [
    {
     "data": {
      "text/plain": [
       "Series([], Name: package_id, dtype: float64)"
      ]
     },
     "execution_count": 10,
     "metadata": {},
     "output_type": "execute_result"
    }
   ],
   "source": [
    "data_tt1['package_id'].value_counts(normalize=True)*100"
   ]
  },
  {
   "cell_type": "code",
   "execution_count": 11,
   "id": "6a2472ea",
   "metadata": {
    "execution": {
     "iopub.execute_input": "2023-12-23T00:22:08.642812Z",
     "iopub.status.busy": "2023-12-23T00:22:08.642508Z",
     "iopub.status.idle": "2023-12-23T00:22:08.649718Z",
     "shell.execute_reply": "2023-12-23T00:22:08.649012Z",
     "shell.execute_reply.started": "2023-12-23T00:22:08.642790Z"
    }
   },
   "outputs": [
    {
     "data": {
      "text/plain": [
       "393.0     16.173694\n",
       "571.0      6.167401\n",
       "15.0       5.538074\n",
       "585.0      2.957835\n",
       "142.0      2.769037\n",
       "            ...    \n",
       "492.0      0.062933\n",
       "376.0      0.062933\n",
       "1358.0     0.062933\n",
       "1395.0     0.062933\n",
       "1062.0     0.062933\n",
       "Name: from_area_id, Length: 298, dtype: float64"
      ]
     },
     "execution_count": 11,
     "metadata": {},
     "output_type": "execute_result"
    }
   ],
   "source": [
    "data_tt1['from_area_id'].value_counts(normalize=True)*100"
   ]
  },
  {
   "cell_type": "code",
   "execution_count": 12,
   "id": "e632461e",
   "metadata": {
    "execution": {
     "iopub.execute_input": "2023-12-23T00:22:08.651290Z",
     "iopub.status.busy": "2023-12-23T00:22:08.650744Z",
     "iopub.status.idle": "2023-12-23T00:22:08.657740Z",
     "shell.execute_reply": "2023-12-23T00:22:08.657109Z",
     "shell.execute_reply.started": "2023-12-23T00:22:08.651255Z"
    }
   },
   "outputs": [
    {
     "data": {
      "text/plain": [
       "1080.0    100.0\n",
       "Name: to_area_id, dtype: float64"
      ]
     },
     "execution_count": 12,
     "metadata": {},
     "output_type": "execute_result"
    }
   ],
   "source": [
    "data_tt1['to_area_id'].value_counts(normalize=True)*100"
   ]
  },
  {
   "cell_type": "code",
   "execution_count": 13,
   "id": "4a6a5c15",
   "metadata": {
    "execution": {
     "iopub.execute_input": "2023-12-23T00:22:08.658969Z",
     "iopub.status.busy": "2023-12-23T00:22:08.658587Z",
     "iopub.status.idle": "2023-12-23T00:22:08.666165Z",
     "shell.execute_reply": "2023-12-23T00:22:08.665148Z",
     "shell.execute_reply.started": "2023-12-23T00:22:08.658947Z"
    }
   },
   "outputs": [
    {
     "data": {
      "text/plain": [
       "15.0    92.951542\n",
       "1.0      6.670862\n",
       "31.0     0.377596\n",
       "Name: from_city_id, dtype: float64"
      ]
     },
     "execution_count": 13,
     "metadata": {},
     "output_type": "execute_result"
    }
   ],
   "source": [
    "data_tt1['from_city_id'].value_counts(normalize=True)*100"
   ]
  },
  {
   "cell_type": "code",
   "execution_count": 14,
   "id": "4ba22615",
   "metadata": {
    "execution": {
     "iopub.execute_input": "2023-12-23T00:22:08.667277Z",
     "iopub.status.busy": "2023-12-23T00:22:08.667007Z",
     "iopub.status.idle": "2023-12-23T00:22:08.675749Z",
     "shell.execute_reply": "2023-12-23T00:22:08.674984Z",
     "shell.execute_reply.started": "2023-12-23T00:22:08.667255Z"
    }
   },
   "outputs": [
    {
     "data": {
      "text/plain": [
       "32.0     29.955947\n",
       "55.0     10.950283\n",
       "29.0      7.300189\n",
       "146.0     5.601007\n",
       "108.0     4.027690\n",
       "           ...    \n",
       "169.0     0.062933\n",
       "139.0     0.062933\n",
       "94.0      0.062933\n",
       "23.0      0.062933\n",
       "50.0      0.062933\n",
       "Name: to_city_id, Length: 116, dtype: float64"
      ]
     },
     "execution_count": 14,
     "metadata": {},
     "output_type": "execute_result"
    }
   ],
   "source": [
    "data_tt1['to_city_id'].value_counts(normalize=True)*100"
   ]
  },
  {
   "cell_type": "code",
   "execution_count": 15,
   "id": "8431694b",
   "metadata": {
    "execution": {
     "iopub.execute_input": "2023-12-23T00:22:08.677377Z",
     "iopub.status.busy": "2023-12-23T00:22:08.676779Z",
     "iopub.status.idle": "2023-12-23T00:22:08.683440Z",
     "shell.execute_reply": "2023-12-23T00:22:08.682736Z",
     "shell.execute_reply.started": "2023-12-23T00:22:08.677340Z"
    }
   },
   "outputs": [
    {
     "data": {
      "text/plain": [
       "0    57.268722\n",
       "1    42.731278\n",
       "Name: online_booking, dtype: float64"
      ]
     },
     "execution_count": 15,
     "metadata": {},
     "output_type": "execute_result"
    }
   ],
   "source": [
    "data_tt1['online_booking'].value_counts(normalize=True)*100"
   ]
  },
  {
   "cell_type": "code",
   "execution_count": 16,
   "id": "d7c55ebf",
   "metadata": {
    "execution": {
     "iopub.execute_input": "2023-12-23T00:22:08.685155Z",
     "iopub.status.busy": "2023-12-23T00:22:08.684544Z",
     "iopub.status.idle": "2023-12-23T00:22:08.691991Z",
     "shell.execute_reply": "2023-12-23T00:22:08.691378Z",
     "shell.execute_reply.started": "2023-12-23T00:22:08.685120Z"
    }
   },
   "outputs": [
    {
     "data": {
      "text/plain": [
       "0    98.11202\n",
       "1     1.88798\n",
       "Name: mobile_site_booking, dtype: float64"
      ]
     },
     "execution_count": 16,
     "metadata": {},
     "output_type": "execute_result"
    }
   ],
   "source": [
    "data_tt1['mobile_site_booking'].value_counts(normalize=True)*100"
   ]
  },
  {
   "cell_type": "markdown",
   "id": "1f05d75c",
   "metadata": {},
   "source": [
    "### Data Cleaning "
   ]
  },
  {
   "cell_type": "code",
   "execution_count": 17,
   "id": "5eda8218",
   "metadata": {
    "execution": {
     "iopub.execute_input": "2023-12-23T00:22:08.693042Z",
     "iopub.status.busy": "2023-12-23T00:22:08.692787Z",
     "iopub.status.idle": "2023-12-23T00:22:08.704761Z",
     "shell.execute_reply": "2023-12-23T00:22:08.704018Z",
     "shell.execute_reply.started": "2023-12-23T00:22:08.693022Z"
    }
   },
   "outputs": [
    {
     "data": {
      "text/html": [
       "<div>\n",
       "<style scoped>\n",
       "    .dataframe tbody tr th:only-of-type {\n",
       "        vertical-align: middle;\n",
       "    }\n",
       "\n",
       "    .dataframe tbody tr th {\n",
       "        vertical-align: top;\n",
       "    }\n",
       "\n",
       "    .dataframe thead th {\n",
       "        text-align: right;\n",
       "    }\n",
       "</style>\n",
       "<table border=\"1\" class=\"dataframe\">\n",
       "  <thead>\n",
       "    <tr style=\"text-align: right;\">\n",
       "      <th></th>\n",
       "      <th>from_area_id</th>\n",
       "      <th>from_city_id</th>\n",
       "      <th>to_city_id</th>\n",
       "      <th>from_date</th>\n",
       "      <th>online_booking</th>\n",
       "      <th>booking_created</th>\n",
       "      <th>Car_Cancellation</th>\n",
       "    </tr>\n",
       "  </thead>\n",
       "  <tbody>\n",
       "    <tr>\n",
       "      <th>6</th>\n",
       "      <td>571.0</td>\n",
       "      <td>15.0</td>\n",
       "      <td>108.0</td>\n",
       "      <td>01-01-2013 09:45</td>\n",
       "      <td>0</td>\n",
       "      <td>01-01-2013 09:21</td>\n",
       "      <td>0</td>\n",
       "    </tr>\n",
       "    <tr>\n",
       "      <th>17</th>\n",
       "      <td>1383.0</td>\n",
       "      <td>15.0</td>\n",
       "      <td>32.0</td>\n",
       "      <td>01-12-2013 08:00</td>\n",
       "      <td>1</td>\n",
       "      <td>01-01-2013 12:17</td>\n",
       "      <td>0</td>\n",
       "    </tr>\n",
       "    <tr>\n",
       "      <th>24</th>\n",
       "      <td>515.0</td>\n",
       "      <td>15.0</td>\n",
       "      <td>32.0</td>\n",
       "      <td>01-05-2013 08:30</td>\n",
       "      <td>0</td>\n",
       "      <td>01-01-2013 14:40</td>\n",
       "      <td>0</td>\n",
       "    </tr>\n",
       "    <tr>\n",
       "      <th>158</th>\n",
       "      <td>136.0</td>\n",
       "      <td>1.0</td>\n",
       "      <td>152.0</td>\n",
       "      <td>01-04-2013 09:30</td>\n",
       "      <td>1</td>\n",
       "      <td>01-03-2013 12:19</td>\n",
       "      <td>0</td>\n",
       "    </tr>\n",
       "    <tr>\n",
       "      <th>216</th>\n",
       "      <td>1118.0</td>\n",
       "      <td>15.0</td>\n",
       "      <td>32.0</td>\n",
       "      <td>01-06-2013 07:30</td>\n",
       "      <td>1</td>\n",
       "      <td>01-04-2013 09:32</td>\n",
       "      <td>0</td>\n",
       "    </tr>\n",
       "  </tbody>\n",
       "</table>\n",
       "</div>"
      ],
      "text/plain": [
       "     from_area_id  from_city_id  to_city_id         from_date  online_booking  \\\n",
       "6           571.0          15.0       108.0  01-01-2013 09:45               0   \n",
       "17         1383.0          15.0        32.0  01-12-2013 08:00               1   \n",
       "24          515.0          15.0        32.0  01-05-2013 08:30               0   \n",
       "158         136.0           1.0       152.0  01-04-2013 09:30               1   \n",
       "216        1118.0          15.0        32.0  01-06-2013 07:30               1   \n",
       "\n",
       "      booking_created  Car_Cancellation  \n",
       "6    01-01-2013 09:21                 0  \n",
       "17   01-01-2013 12:17                 0  \n",
       "24   01-01-2013 14:40                 0  \n",
       "158  01-03-2013 12:19                 0  \n",
       "216  01-04-2013 09:32                 0  "
      ]
     },
     "execution_count": 17,
     "metadata": {},
     "output_type": "execute_result"
    }
   ],
   "source": [
    "### Delete the below columns due to:\n",
    "### vehicle_model_id - improportionate data, leads to bias\n",
    "### package_id - not required for travel_type_id = 1\n",
    "### to_area_id - improportionate and also not mandatory for travel_type_id = 1\n",
    "### from_city_id - improportionate data, leads to bias\n",
    "### mobile_site_booking - improportionate data, leads to bias\n",
    "### from_long, from_lat - same information as in from_area_id\n",
    "### to_lat, to_long - not mandatory for travel_type_id =1, so, it has more null values\n",
    "\n",
    "\n",
    "data_tt1 = data_tt1.drop(['vehicle_model_id','package_id','mobile_site_booking','to_area_id','from_lat','from_long','to_lat','to_long'],axis=1) # dropping columns not relevant to travel_type_id 1\n",
    "data_tt1.head()"
   ]
  },
  {
   "cell_type": "markdown",
   "id": "e72bb21e",
   "metadata": {},
   "source": [
    "### Treating and extracting info from Date columns"
   ]
  },
  {
   "cell_type": "code",
   "execution_count": 18,
   "id": "945cc52b",
   "metadata": {
    "execution": {
     "iopub.execute_input": "2023-12-23T00:22:08.705929Z",
     "iopub.status.busy": "2023-12-23T00:22:08.705670Z",
     "iopub.status.idle": "2023-12-23T00:22:08.943970Z",
     "shell.execute_reply": "2023-12-23T00:22:08.943164Z",
     "shell.execute_reply.started": "2023-12-23T00:22:08.705908Z"
    }
   },
   "outputs": [
    {
     "data": {
      "text/html": [
       "<div>\n",
       "<style scoped>\n",
       "    .dataframe tbody tr th:only-of-type {\n",
       "        vertical-align: middle;\n",
       "    }\n",
       "\n",
       "    .dataframe tbody tr th {\n",
       "        vertical-align: top;\n",
       "    }\n",
       "\n",
       "    .dataframe thead th {\n",
       "        text-align: right;\n",
       "    }\n",
       "</style>\n",
       "<table border=\"1\" class=\"dataframe\">\n",
       "  <thead>\n",
       "    <tr style=\"text-align: right;\">\n",
       "      <th></th>\n",
       "      <th>from_area_id</th>\n",
       "      <th>from_city_id</th>\n",
       "      <th>to_city_id</th>\n",
       "      <th>from_date</th>\n",
       "      <th>online_booking</th>\n",
       "      <th>booking_created</th>\n",
       "      <th>Car_Cancellation</th>\n",
       "      <th>from_date_treated</th>\n",
       "      <th>booking_date_treated</th>\n",
       "    </tr>\n",
       "  </thead>\n",
       "  <tbody>\n",
       "    <tr>\n",
       "      <th>6</th>\n",
       "      <td>571.0</td>\n",
       "      <td>15.0</td>\n",
       "      <td>108.0</td>\n",
       "      <td>01-01-2013 09:45</td>\n",
       "      <td>0</td>\n",
       "      <td>01-01-2013 09:21</td>\n",
       "      <td>0</td>\n",
       "      <td>2013-01-01 09:45:00</td>\n",
       "      <td>2013-01-01 09:21:00</td>\n",
       "    </tr>\n",
       "    <tr>\n",
       "      <th>17</th>\n",
       "      <td>1383.0</td>\n",
       "      <td>15.0</td>\n",
       "      <td>32.0</td>\n",
       "      <td>01-12-2013 08:00</td>\n",
       "      <td>1</td>\n",
       "      <td>01-01-2013 12:17</td>\n",
       "      <td>0</td>\n",
       "      <td>2013-01-12 08:00:00</td>\n",
       "      <td>2013-01-01 12:17:00</td>\n",
       "    </tr>\n",
       "    <tr>\n",
       "      <th>24</th>\n",
       "      <td>515.0</td>\n",
       "      <td>15.0</td>\n",
       "      <td>32.0</td>\n",
       "      <td>01-05-2013 08:30</td>\n",
       "      <td>0</td>\n",
       "      <td>01-01-2013 14:40</td>\n",
       "      <td>0</td>\n",
       "      <td>2013-01-05 08:30:00</td>\n",
       "      <td>2013-01-01 14:40:00</td>\n",
       "    </tr>\n",
       "    <tr>\n",
       "      <th>158</th>\n",
       "      <td>136.0</td>\n",
       "      <td>1.0</td>\n",
       "      <td>152.0</td>\n",
       "      <td>01-04-2013 09:30</td>\n",
       "      <td>1</td>\n",
       "      <td>01-03-2013 12:19</td>\n",
       "      <td>0</td>\n",
       "      <td>2013-01-04 09:30:00</td>\n",
       "      <td>2013-01-03 12:19:00</td>\n",
       "    </tr>\n",
       "    <tr>\n",
       "      <th>216</th>\n",
       "      <td>1118.0</td>\n",
       "      <td>15.0</td>\n",
       "      <td>32.0</td>\n",
       "      <td>01-06-2013 07:30</td>\n",
       "      <td>1</td>\n",
       "      <td>01-04-2013 09:32</td>\n",
       "      <td>0</td>\n",
       "      <td>2013-01-06 07:30:00</td>\n",
       "      <td>2013-01-04 09:32:00</td>\n",
       "    </tr>\n",
       "  </tbody>\n",
       "</table>\n",
       "</div>"
      ],
      "text/plain": [
       "     from_area_id  from_city_id  to_city_id         from_date  online_booking  \\\n",
       "6           571.0          15.0       108.0  01-01-2013 09:45               0   \n",
       "17         1383.0          15.0        32.0  01-12-2013 08:00               1   \n",
       "24          515.0          15.0        32.0  01-05-2013 08:30               0   \n",
       "158         136.0           1.0       152.0  01-04-2013 09:30               1   \n",
       "216        1118.0          15.0        32.0  01-06-2013 07:30               1   \n",
       "\n",
       "      booking_created  Car_Cancellation   from_date_treated  \\\n",
       "6    01-01-2013 09:21                 0 2013-01-01 09:45:00   \n",
       "17   01-01-2013 12:17                 0 2013-01-12 08:00:00   \n",
       "24   01-01-2013 14:40                 0 2013-01-05 08:30:00   \n",
       "158  01-03-2013 12:19                 0 2013-01-04 09:30:00   \n",
       "216  01-04-2013 09:32                 0 2013-01-06 07:30:00   \n",
       "\n",
       "    booking_date_treated  \n",
       "6    2013-01-01 09:21:00  \n",
       "17   2013-01-01 12:17:00  \n",
       "24   2013-01-01 14:40:00  \n",
       "158  2013-01-03 12:19:00  \n",
       "216  2013-01-04 09:32:00  "
      ]
     },
     "execution_count": 18,
     "metadata": {},
     "output_type": "execute_result"
    }
   ],
   "source": [
    "data_tt1['from_date_treated'] = pd.to_datetime(data_tt1['from_date'])\n",
    "data_tt1['booking_date_treated'] = pd.to_datetime(data_tt1['booking_created'])\n",
    "data_tt1.head()"
   ]
  },
  {
   "cell_type": "code",
   "execution_count": 19,
   "id": "4de636af",
   "metadata": {
    "execution": {
     "iopub.execute_input": "2023-12-23T00:22:08.945226Z",
     "iopub.status.busy": "2023-12-23T00:22:08.944888Z",
     "iopub.status.idle": "2023-12-23T00:22:08.949251Z",
     "shell.execute_reply": "2023-12-23T00:22:08.948607Z",
     "shell.execute_reply.started": "2023-12-23T00:22:08.945203Z"
    }
   },
   "outputs": [],
   "source": [
    "# After extracting required info in required format from date columns dropping the actual date columns in the data\n",
    "data_tt1=data_tt1.drop(['from_date','booking_created'],axis=1)"
   ]
  },
  {
   "cell_type": "markdown",
   "id": "89db12b2",
   "metadata": {},
   "source": [
    "#### Creating new columns from given date columns"
   ]
  },
  {
   "cell_type": "code",
   "execution_count": 20,
   "id": "4b216586",
   "metadata": {
    "execution": {
     "iopub.execute_input": "2023-12-23T00:22:08.951026Z",
     "iopub.status.busy": "2023-12-23T00:22:08.950527Z",
     "iopub.status.idle": "2023-12-23T00:22:09.013253Z",
     "shell.execute_reply": "2023-12-23T00:22:09.012576Z",
     "shell.execute_reply.started": "2023-12-23T00:22:08.950989Z"
    }
   },
   "outputs": [
    {
     "data": {
      "text/html": [
       "<div>\n",
       "<style scoped>\n",
       "    .dataframe tbody tr th:only-of-type {\n",
       "        vertical-align: middle;\n",
       "    }\n",
       "\n",
       "    .dataframe tbody tr th {\n",
       "        vertical-align: top;\n",
       "    }\n",
       "\n",
       "    .dataframe thead th {\n",
       "        text-align: right;\n",
       "    }\n",
       "</style>\n",
       "<table border=\"1\" class=\"dataframe\">\n",
       "  <thead>\n",
       "    <tr style=\"text-align: right;\">\n",
       "      <th></th>\n",
       "      <th>from_area_id</th>\n",
       "      <th>from_city_id</th>\n",
       "      <th>to_city_id</th>\n",
       "      <th>online_booking</th>\n",
       "      <th>Car_Cancellation</th>\n",
       "      <th>from_date_treated</th>\n",
       "      <th>booking_date_treated</th>\n",
       "      <th>waiting_period_min</th>\n",
       "      <th>travel_day</th>\n",
       "      <th>travel_month</th>\n",
       "      <th>booked_day</th>\n",
       "      <th>booked_month</th>\n",
       "      <th>travel_hour</th>\n",
       "      <th>booked_hour</th>\n",
       "    </tr>\n",
       "  </thead>\n",
       "  <tbody>\n",
       "    <tr>\n",
       "      <th>6</th>\n",
       "      <td>571.0</td>\n",
       "      <td>15.0</td>\n",
       "      <td>108.0</td>\n",
       "      <td>0</td>\n",
       "      <td>0</td>\n",
       "      <td>2013-01-01 09:45:00</td>\n",
       "      <td>2013-01-01 09:21:00</td>\n",
       "      <td>24.0</td>\n",
       "      <td>1</td>\n",
       "      <td>1</td>\n",
       "      <td>1</td>\n",
       "      <td>1</td>\n",
       "      <td>Morning</td>\n",
       "      <td>Morning</td>\n",
       "    </tr>\n",
       "    <tr>\n",
       "      <th>17</th>\n",
       "      <td>1383.0</td>\n",
       "      <td>15.0</td>\n",
       "      <td>32.0</td>\n",
       "      <td>1</td>\n",
       "      <td>0</td>\n",
       "      <td>2013-01-12 08:00:00</td>\n",
       "      <td>2013-01-01 12:17:00</td>\n",
       "      <td>15583.0</td>\n",
       "      <td>5</td>\n",
       "      <td>1</td>\n",
       "      <td>1</td>\n",
       "      <td>1</td>\n",
       "      <td>Early Morning</td>\n",
       "      <td>Morning</td>\n",
       "    </tr>\n",
       "    <tr>\n",
       "      <th>24</th>\n",
       "      <td>515.0</td>\n",
       "      <td>15.0</td>\n",
       "      <td>32.0</td>\n",
       "      <td>0</td>\n",
       "      <td>0</td>\n",
       "      <td>2013-01-05 08:30:00</td>\n",
       "      <td>2013-01-01 14:40:00</td>\n",
       "      <td>5390.0</td>\n",
       "      <td>5</td>\n",
       "      <td>1</td>\n",
       "      <td>1</td>\n",
       "      <td>1</td>\n",
       "      <td>Early Morning</td>\n",
       "      <td>Afternoon</td>\n",
       "    </tr>\n",
       "    <tr>\n",
       "      <th>158</th>\n",
       "      <td>136.0</td>\n",
       "      <td>1.0</td>\n",
       "      <td>152.0</td>\n",
       "      <td>1</td>\n",
       "      <td>0</td>\n",
       "      <td>2013-01-04 09:30:00</td>\n",
       "      <td>2013-01-03 12:19:00</td>\n",
       "      <td>1271.0</td>\n",
       "      <td>4</td>\n",
       "      <td>1</td>\n",
       "      <td>3</td>\n",
       "      <td>1</td>\n",
       "      <td>Morning</td>\n",
       "      <td>Morning</td>\n",
       "    </tr>\n",
       "    <tr>\n",
       "      <th>216</th>\n",
       "      <td>1118.0</td>\n",
       "      <td>15.0</td>\n",
       "      <td>32.0</td>\n",
       "      <td>1</td>\n",
       "      <td>0</td>\n",
       "      <td>2013-01-06 07:30:00</td>\n",
       "      <td>2013-01-04 09:32:00</td>\n",
       "      <td>2758.0</td>\n",
       "      <td>6</td>\n",
       "      <td>1</td>\n",
       "      <td>4</td>\n",
       "      <td>1</td>\n",
       "      <td>Early Morning</td>\n",
       "      <td>Morning</td>\n",
       "    </tr>\n",
       "  </tbody>\n",
       "</table>\n",
       "</div>"
      ],
      "text/plain": [
       "     from_area_id  from_city_id  to_city_id  online_booking  Car_Cancellation  \\\n",
       "6           571.0          15.0       108.0               0                 0   \n",
       "17         1383.0          15.0        32.0               1                 0   \n",
       "24          515.0          15.0        32.0               0                 0   \n",
       "158         136.0           1.0       152.0               1                 0   \n",
       "216        1118.0          15.0        32.0               1                 0   \n",
       "\n",
       "      from_date_treated booking_date_treated  waiting_period_min  travel_day  \\\n",
       "6   2013-01-01 09:45:00  2013-01-01 09:21:00                24.0           1   \n",
       "17  2013-01-12 08:00:00  2013-01-01 12:17:00             15583.0           5   \n",
       "24  2013-01-05 08:30:00  2013-01-01 14:40:00              5390.0           5   \n",
       "158 2013-01-04 09:30:00  2013-01-03 12:19:00              1271.0           4   \n",
       "216 2013-01-06 07:30:00  2013-01-04 09:32:00              2758.0           6   \n",
       "\n",
       "     travel_month  booked_day  booked_month    travel_hour booked_hour  \n",
       "6               1           1             1        Morning     Morning  \n",
       "17              1           1             1  Early Morning     Morning  \n",
       "24              1           1             1  Early Morning   Afternoon  \n",
       "158             1           3             1        Morning     Morning  \n",
       "216             1           4             1  Early Morning     Morning  "
      ]
     },
     "execution_count": 20,
     "metadata": {},
     "output_type": "execute_result"
    }
   ],
   "source": [
    "data_tt1['waiting_period_min'] = (data_tt1['from_date_treated'] - data_tt1['booking_date_treated']).astype('timedelta64[m]') #new column waiting_period_min\n",
    "\n",
    "data_tt1['travel_day'] = pd.to_datetime(data_tt1['from_date_treated']).dt.dayofweek #new column travel_day\n",
    "data_tt1['travel_month'] = pd.to_datetime(data_tt1['from_date_treated']).dt.month #new column travel_month\n",
    "data_tt1['booked_day'] = pd.to_datetime(data_tt1['booking_date_treated']).dt.dayofweek #new column booked_day\n",
    "data_tt1['booked_month'] = pd.to_datetime(data_tt1['booking_date_treated']).dt.month #new column booked_month\n",
    "\n",
    "cond = [(pd.to_datetime(data_tt1['from_date_treated']).dt.hour.between(5, 8)),\n",
    "        (pd.to_datetime(data_tt1['from_date_treated']).dt.hour.between(9, 12)),\n",
    "        (pd.to_datetime(data_tt1['from_date_treated']).dt.hour.between(13, 16)),\n",
    "        (pd.to_datetime(data_tt1['from_date_treated']).dt.hour.between(17, 20)),\n",
    "        ((pd.to_datetime(data_tt1['from_date_treated']).dt.hour.between(21, 24)) | (pd.to_datetime(data_tt1['from_date_treated']).dt.hour==0)),\n",
    "        (pd.to_datetime(data_tt1['from_date_treated']).dt.hour.between(1, 4))]\n",
    "values = ['Early Morning','Morning','Afternoon','Evening','Night','Late Night']\n",
    "\n",
    "data_tt1['travel_hour'] = np.select(cond,values) #new column travel_hour\n",
    "\n",
    "\n",
    "cond = [(pd.to_datetime(data_tt1['booking_date_treated']).dt.hour.between(5, 8)),\n",
    "        (pd.to_datetime(data_tt1['booking_date_treated']).dt.hour.between(9, 12)),\n",
    "        (pd.to_datetime(data_tt1['booking_date_treated']).dt.hour.between(13, 16)),\n",
    "        (pd.to_datetime(data_tt1['booking_date_treated']).dt.hour.between(17, 20)),\n",
    "        ((pd.to_datetime(data_tt1['booking_date_treated']).dt.hour.between(21, 24)) | (pd.to_datetime(data_tt1['booking_date_treated']).dt.hour==0)),\n",
    "        (pd.to_datetime(data_tt1['booking_date_treated']).dt.hour.between(1, 4))]\n",
    "values = ['Early Morning','Morning','Afternoon','Evening','Night','Late Night']\n",
    "\n",
    "data_tt1['booked_hour'] = np.select(cond,values) #new column booked_hour\n",
    "\n",
    "data_tt1.head()"
   ]
  },
  {
   "cell_type": "markdown",
   "id": "fef3696f",
   "metadata": {},
   "source": [
    "### Checking missing values in the newly created columns"
   ]
  },
  {
   "cell_type": "code",
   "execution_count": 21,
   "id": "723652f8",
   "metadata": {
    "execution": {
     "iopub.execute_input": "2023-12-23T00:22:09.016617Z",
     "iopub.status.busy": "2023-12-23T00:22:09.016314Z",
     "iopub.status.idle": "2023-12-23T00:22:09.024824Z",
     "shell.execute_reply": "2023-12-23T00:22:09.024206Z",
     "shell.execute_reply.started": "2023-12-23T00:22:09.016594Z"
    }
   },
   "outputs": [
    {
     "data": {
      "text/plain": [
       "from_area_id            0\n",
       "from_city_id            0\n",
       "to_city_id              0\n",
       "online_booking          0\n",
       "Car_Cancellation        0\n",
       "from_date_treated       0\n",
       "booking_date_treated    0\n",
       "waiting_period_min      0\n",
       "travel_day              0\n",
       "travel_month            0\n",
       "booked_day              0\n",
       "booked_month            0\n",
       "travel_hour             0\n",
       "booked_hour             0\n",
       "dtype: int64"
      ]
     },
     "execution_count": 21,
     "metadata": {},
     "output_type": "execute_result"
    }
   ],
   "source": [
    "data_tt1.isnull().sum()"
   ]
  },
  {
   "cell_type": "markdown",
   "id": "9a8a96bd",
   "metadata": {},
   "source": [
    "### Drop date and coordinates cols"
   ]
  },
  {
   "cell_type": "code",
   "execution_count": 22,
   "id": "7b5891e8",
   "metadata": {
    "execution": {
     "iopub.execute_input": "2023-12-23T00:22:09.029527Z",
     "iopub.status.busy": "2023-12-23T00:22:09.029024Z",
     "iopub.status.idle": "2023-12-23T00:22:09.033496Z",
     "shell.execute_reply": "2023-12-23T00:22:09.032910Z",
     "shell.execute_reply.started": "2023-12-23T00:22:09.029505Z"
    }
   },
   "outputs": [],
   "source": [
    "### Now that required info has been extracted from date, lat, long columns and new cols created, those cols can be deleted\n",
    "data_tt1=data_tt1.drop(['from_date_treated','booking_date_treated'],axis=1)"
   ]
  },
  {
   "cell_type": "markdown",
   "id": "9c1091e1",
   "metadata": {},
   "source": [
    "### Analysing data proportion in newly created categorical variables"
   ]
  },
  {
   "cell_type": "code",
   "execution_count": 23,
   "id": "2be103eb",
   "metadata": {
    "execution": {
     "iopub.execute_input": "2023-12-23T00:22:09.034569Z",
     "iopub.status.busy": "2023-12-23T00:22:09.034274Z",
     "iopub.status.idle": "2023-12-23T00:22:09.042077Z",
     "shell.execute_reply": "2023-12-23T00:22:09.041331Z",
     "shell.execute_reply.started": "2023-12-23T00:22:09.034548Z"
    }
   },
   "outputs": [
    {
     "data": {
      "text/plain": [
       "10    13.467590\n",
       "6     11.453744\n",
       "8     10.950283\n",
       "5     10.887351\n",
       "9     10.069226\n",
       "7      9.125236\n",
       "4      8.936438\n",
       "11     8.118313\n",
       "3      6.859660\n",
       "1      5.475142\n",
       "2      4.468219\n",
       "12     0.188798\n",
       "Name: travel_month, dtype: float64"
      ]
     },
     "execution_count": 23,
     "metadata": {},
     "output_type": "execute_result"
    }
   ],
   "source": [
    "data_tt1['travel_month'].value_counts(normalize=True)*100"
   ]
  },
  {
   "cell_type": "code",
   "execution_count": 24,
   "id": "88896a43",
   "metadata": {
    "execution": {
     "iopub.execute_input": "2023-12-23T00:22:09.043791Z",
     "iopub.status.busy": "2023-12-23T00:22:09.043038Z",
     "iopub.status.idle": "2023-12-23T00:22:09.051342Z",
     "shell.execute_reply": "2023-12-23T00:22:09.050651Z",
     "shell.execute_reply.started": "2023-12-23T00:22:09.043755Z"
    }
   },
   "outputs": [
    {
     "data": {
      "text/plain": [
       "10    14.222782\n",
       "6     10.950283\n",
       "8     10.824418\n",
       "5     10.572687\n",
       "9     10.132159\n",
       "4      9.628697\n",
       "7      9.565765\n",
       "3      6.859660\n",
       "11     6.859660\n",
       "1      5.789805\n",
       "2      4.594084\n",
       "Name: booked_month, dtype: float64"
      ]
     },
     "execution_count": 24,
     "metadata": {},
     "output_type": "execute_result"
    }
   ],
   "source": [
    "data_tt1['booked_month'].value_counts(normalize=True)*100"
   ]
  },
  {
   "cell_type": "code",
   "execution_count": 25,
   "id": "7d9c4d97",
   "metadata": {
    "execution": {
     "iopub.execute_input": "2023-12-23T00:22:09.052759Z",
     "iopub.status.busy": "2023-12-23T00:22:09.052447Z",
     "iopub.status.idle": "2023-12-23T00:22:09.060068Z",
     "shell.execute_reply": "2023-12-23T00:22:09.059460Z",
     "shell.execute_reply.started": "2023-12-23T00:22:09.052727Z"
    }
   },
   "outputs": [
    {
     "data": {
      "text/plain": [
       "4    21.334172\n",
       "5    19.257395\n",
       "3    14.663310\n",
       "2    11.453744\n",
       "1    11.264947\n",
       "6    11.202014\n",
       "0    10.824418\n",
       "Name: booked_day, dtype: float64"
      ]
     },
     "execution_count": 25,
     "metadata": {},
     "output_type": "execute_result"
    }
   ],
   "source": [
    "data_tt1['booked_day'].value_counts(normalize=True)*100"
   ]
  },
  {
   "cell_type": "code",
   "execution_count": 26,
   "id": "f24b6447",
   "metadata": {
    "execution": {
     "iopub.execute_input": "2023-12-23T00:22:09.061094Z",
     "iopub.status.busy": "2023-12-23T00:22:09.060844Z",
     "iopub.status.idle": "2023-12-23T00:22:09.067279Z",
     "shell.execute_reply": "2023-12-23T00:22:09.066687Z",
     "shell.execute_reply.started": "2023-12-23T00:22:09.061073Z"
    }
   },
   "outputs": [
    {
     "data": {
      "text/plain": [
       "5    29.200755\n",
       "6    20.767778\n",
       "4    15.670233\n",
       "3     9.754563\n",
       "0     9.251101\n",
       "2     8.244179\n",
       "1     7.111391\n",
       "Name: travel_day, dtype: float64"
      ]
     },
     "execution_count": 26,
     "metadata": {},
     "output_type": "execute_result"
    }
   ],
   "source": [
    "data_tt1['travel_day'].value_counts(normalize=True)*100"
   ]
  },
  {
   "cell_type": "code",
   "execution_count": 27,
   "id": "a0f2f140",
   "metadata": {
    "execution": {
     "iopub.execute_input": "2023-12-23T00:22:09.068578Z",
     "iopub.status.busy": "2023-12-23T00:22:09.068190Z",
     "iopub.status.idle": "2023-12-23T00:22:09.075023Z",
     "shell.execute_reply": "2023-12-23T00:22:09.074429Z",
     "shell.execute_reply.started": "2023-12-23T00:22:09.068556Z"
    }
   },
   "outputs": [
    {
     "data": {
      "text/plain": [
       "Early Morning    54.310887\n",
       "Morning          15.670233\n",
       "Late Night       10.258024\n",
       "Night             8.747640\n",
       "Afternoon         6.167401\n",
       "Evening           4.845815\n",
       "Name: travel_hour, dtype: float64"
      ]
     },
     "execution_count": 27,
     "metadata": {},
     "output_type": "execute_result"
    }
   ],
   "source": [
    "data_tt1['travel_hour'].value_counts(normalize=True)*100"
   ]
  },
  {
   "cell_type": "code",
   "execution_count": 28,
   "id": "af365ce8",
   "metadata": {
    "execution": {
     "iopub.execute_input": "2023-12-23T00:22:09.076389Z",
     "iopub.status.busy": "2023-12-23T00:22:09.075947Z",
     "iopub.status.idle": "2023-12-23T00:22:09.082945Z",
     "shell.execute_reply": "2023-12-23T00:22:09.082215Z",
     "shell.execute_reply.started": "2023-12-23T00:22:09.076365Z"
    }
   },
   "outputs": [
    {
     "data": {
      "text/plain": [
       "Evening          27.186910\n",
       "Afternoon        25.928257\n",
       "Morning          20.830711\n",
       "Night            17.369415\n",
       "Early Morning     5.789805\n",
       "Late Night        2.894902\n",
       "Name: booked_hour, dtype: float64"
      ]
     },
     "execution_count": 28,
     "metadata": {},
     "output_type": "execute_result"
    }
   ],
   "source": [
    "data_tt1['booked_hour'].value_counts(normalize=True)*100"
   ]
  },
  {
   "cell_type": "markdown",
   "id": "1686a12a",
   "metadata": {},
   "source": [
    "### Looking for outliers if any in newly created conitnuous variable columns"
   ]
  },
  {
   "cell_type": "code",
   "execution_count": 29,
   "id": "d0476adf",
   "metadata": {
    "execution": {
     "iopub.execute_input": "2023-12-23T00:22:09.084537Z",
     "iopub.status.busy": "2023-12-23T00:22:09.084285Z",
     "iopub.status.idle": "2023-12-23T00:22:09.088805Z",
     "shell.execute_reply": "2023-12-23T00:22:09.088199Z",
     "shell.execute_reply.started": "2023-12-23T00:22:09.084516Z"
    }
   },
   "outputs": [],
   "source": [
    "def find_outliers_IQR(df):  ### function to find outliers using IQR method\n",
    "    LL,UL = find_LL_UL(df)\n",
    "    outliers = df[((df < LL) | (df > UL))]\n",
    "    return outliers\n",
    "\n",
    "def find_LL_UL(df):         ### function to find lower limit and upper limit values in the given data using IQR method\n",
    "    q1 = df.quantile(0.25)\n",
    "    q3 = df.quantile(0.75)\n",
    "    IQR = q3 - q1\n",
    "    LL = q1 - 1.5 * IQR\n",
    "    UL = q3 + 1.5 * IQR\n",
    "    return (LL,UL)"
   ]
  },
  {
   "cell_type": "markdown",
   "id": "df57127a",
   "metadata": {},
   "source": [
    "##### outliers in waiting_period_min"
   ]
  },
  {
   "cell_type": "code",
   "execution_count": 30,
   "id": "2afe52f6",
   "metadata": {
    "execution": {
     "iopub.execute_input": "2023-12-23T00:22:09.089856Z",
     "iopub.status.busy": "2023-12-23T00:22:09.089603Z",
     "iopub.status.idle": "2023-12-23T00:22:09.232688Z",
     "shell.execute_reply": "2023-12-23T00:22:09.232008Z",
     "shell.execute_reply.started": "2023-12-23T00:22:09.089835Z"
    }
   },
   "outputs": [
    {
     "data": {
      "text/plain": [
       "<Axes: xlabel='waiting_period_min'>"
      ]
     },
     "execution_count": 30,
     "metadata": {},
     "output_type": "execute_result"
    },
    {
     "data": {
      "image/png": "[encoded data removed]",
      "text/plain": [
       "<Figure size 640x480 with 1 Axes>"
      ]
     },
     "metadata": {},
     "output_type": "display_data"
    }
   ],
   "source": [
    "sns.boxplot(x='waiting_period_min', data=data_tt1) ### Before treatment"
   ]
  },
  {
   "cell_type": "code",
   "execution_count": 31,
   "id": "2f433048",
   "metadata": {
    "execution": {
     "iopub.execute_input": "2023-12-23T00:22:09.233974Z",
     "iopub.status.busy": "2023-12-23T00:22:09.233664Z",
     "iopub.status.idle": "2023-12-23T00:22:09.241351Z",
     "shell.execute_reply": "2023-12-23T00:22:09.240632Z",
     "shell.execute_reply.started": "2023-12-23T00:22:09.233949Z"
    }
   },
   "outputs": [
    {
     "name": "stdout",
     "output_type": "stream",
     "text": [
      "Number of Outliers in Waiting Period :  219\n",
      "Percentage of outliers in Waiting Period :  13.782252989301448\n"
     ]
    }
   ],
   "source": [
    "### Find the percentage of outliers in waiting_period_min column\n",
    "outliers = find_outliers_IQR(data_tt1['waiting_period_min'])\n",
    "print(\"Number of Outliers in Waiting Period : \",outliers.shape[0])\n",
    "print(\"Percentage of outliers in Waiting Period : \", (outliers.shape[0]/data_tt1.shape[0])*100)"
   ]
  },
  {
   "cell_type": "code",
   "execution_count": 32,
   "id": "428afa98",
   "metadata": {
    "execution": {
     "iopub.execute_input": "2023-12-23T00:22:09.242627Z",
     "iopub.status.busy": "2023-12-23T00:22:09.242391Z",
     "iopub.status.idle": "2023-12-23T00:22:09.251621Z",
     "shell.execute_reply": "2023-12-23T00:22:09.250917Z",
     "shell.execute_reply.started": "2023-12-23T00:22:09.242605Z"
    }
   },
   "outputs": [
    {
     "name": "stdout",
     "output_type": "stream",
     "text": [
      "Negative values in waiting_period_min - Before treatment :  False    1586\n",
      "True        3\n",
      "Name: waiting_period_min, dtype: int64\n",
      "Negative values in waiting_period_min - After treatment :  False    1586\n",
      "Name: waiting_period_min, dtype: int64\n"
     ]
    }
   ],
   "source": [
    "### Negative values in waiting_period_min are due to wrong data in from_date and booked_date, so dropping the respective data\n",
    "print(\"Negative values in waiting_period_min - Before treatment : \",(data_tt1['waiting_period_min'] < 0).value_counts())\n",
    "data_tt1.drop(data_tt1[data_tt1['waiting_period_min']<0].index,axis=0,inplace=True)\n",
    "\n",
    "print(\"Negative values in waiting_period_min - After treatment : \",(data_tt1['waiting_period_min'] < 0).value_counts())"
   ]
  },
  {
   "cell_type": "code",
   "execution_count": 33,
   "id": "564cb856",
   "metadata": {
    "execution": {
     "iopub.execute_input": "2023-12-23T00:22:09.252866Z",
     "iopub.status.busy": "2023-12-23T00:22:09.252579Z",
     "iopub.status.idle": "2023-12-23T00:22:09.256314Z",
     "shell.execute_reply": "2023-12-23T00:22:09.255516Z",
     "shell.execute_reply.started": "2023-12-23T00:22:09.252844Z"
    }
   },
   "outputs": [],
   "source": [
    "##### outlier treatment for waiting_period_min"
   ]
  },
  {
   "cell_type": "code",
   "execution_count": 34,
   "id": "e8445020",
   "metadata": {
    "execution": {
     "iopub.execute_input": "2023-12-23T00:22:09.257774Z",
     "iopub.status.busy": "2023-12-23T00:22:09.257429Z",
     "iopub.status.idle": "2023-12-23T00:22:09.261842Z",
     "shell.execute_reply": "2023-12-23T00:22:09.261144Z",
     "shell.execute_reply.started": "2023-12-23T00:22:09.257739Z"
    }
   },
   "outputs": [],
   "source": [
    "### print(\"Outliers in waiting_period_min on the lower end before treatment: \",(data_tt1['waiting_period_min'] < 0).value_counts())\n",
    "\n",
    "### LL,UL = find_LL_UL(data_tt1['waiting_period_min'])\n",
    "### print(\"Outliers in waiting_period_min on the higher end before treatment: \",(data_tt1['waiting_period_min'] > UL).value_counts())"
   ]
  },
  {
   "cell_type": "code",
   "execution_count": 35,
   "id": "dd6c5148",
   "metadata": {
    "execution": {
     "iopub.execute_input": "2023-12-23T00:22:09.262897Z",
     "iopub.status.busy": "2023-12-23T00:22:09.262607Z",
     "iopub.status.idle": "2023-12-23T00:22:09.267488Z",
     "shell.execute_reply": "2023-12-23T00:22:09.266723Z",
     "shell.execute_reply.started": "2023-12-23T00:22:09.262876Z"
    }
   },
   "outputs": [],
   "source": [
    "### Negative values in waiting_period_min are due to wrong data in from_date and booked_date, so dropping the respective data\n",
    "### data_tt1.drop(data_tt1[data_tt1['waiting_period_min']<0].index,axis=0,inplace=True)\n",
    "### print(\"Outliers in waiting_period_min on the lower end after treatment: \",(data_tt1['waiting_period_min'] < 0).value_counts()) ### Outliers on the lower end after treatment"
   ]
  },
  {
   "cell_type": "code",
   "execution_count": 36,
   "id": "1917c32f",
   "metadata": {
    "execution": {
     "iopub.execute_input": "2023-12-23T00:22:09.268643Z",
     "iopub.status.busy": "2023-12-23T00:22:09.268386Z",
     "iopub.status.idle": "2023-12-23T00:22:09.273077Z",
     "shell.execute_reply": "2023-12-23T00:22:09.272317Z",
     "shell.execute_reply.started": "2023-12-23T00:22:09.268622Z"
    }
   },
   "outputs": [],
   "source": [
    "### Outliers in waiting_period_min on the higher side more than 13%, so splitting data into with outliers and without outliers\n",
    "### to build 2 models\n",
    "### LL,UL = find_LL_UL(data_tt1['waiting_period_min'])\n",
    "### data_tt1_wpol = data_tt1[data_tt1['waiting_period_min'] > UL] ### Data with outliers in waiting_period_min\n",
    "### data_tt1 = data_tt1.drop(data_tt1[data_tt1['waiting_period_min']>UL].index,axis=0,inplace=True) ### Removing the outliers to get data without outliers in waiting_period_min\n"
   ]
  },
  {
   "cell_type": "code",
   "execution_count": 37,
   "id": "1cb6d82f",
   "metadata": {
    "execution": {
     "iopub.execute_input": "2023-12-23T00:22:09.274312Z",
     "iopub.status.busy": "2023-12-23T00:22:09.274033Z",
     "iopub.status.idle": "2023-12-23T00:22:09.278521Z",
     "shell.execute_reply": "2023-12-23T00:22:09.277833Z",
     "shell.execute_reply.started": "2023-12-23T00:22:09.274291Z"
    }
   },
   "outputs": [],
   "source": [
    "### sns.boxplot(data_tt1['waiting_period_min']) #After treatment"
   ]
  },
  {
   "cell_type": "markdown",
   "id": "5de86436",
   "metadata": {},
   "source": [
    "###### NOTE : Outliers for the remaining data in waiting_period_min would appear iteratively, so transformation and normalisation of the data is required rather to treat outliers"
   ]
  },
  {
   "cell_type": "markdown",
   "id": "4d6704cf",
   "metadata": {},
   "source": [
    "### Transformation of waiting_period_min using cbrt"
   ]
  },
  {
   "cell_type": "code",
   "execution_count": 38,
   "id": "8253a242",
   "metadata": {
    "execution": {
     "iopub.execute_input": "2023-12-23T00:22:09.280259Z",
     "iopub.status.busy": "2023-12-23T00:22:09.279580Z",
     "iopub.status.idle": "2023-12-23T00:22:09.553595Z",
     "shell.execute_reply": "2023-12-23T00:22:09.552751Z",
     "shell.execute_reply.started": "2023-12-23T00:22:09.280224Z"
    }
   },
   "outputs": [
    {
     "data": {
      "image/png": "[encoded data removed]",
      "text/plain": [
       "<Figure size 640x480 with 2 Axes>"
      ]
     },
     "metadata": {},
     "output_type": "display_data"
    }
   ],
   "source": [
    "data = data_tt1['waiting_period_min']\n",
    "\n",
    "# Perform cbrt transformation\n",
    "data_log = np.cbrt(data)\n",
    "\n",
    "# Create side-by-side histograms\n",
    "fig, axs = plt.subplots(nrows=1, ncols=2)\n",
    "axs[0].hist(data, edgecolor='black')\n",
    "axs[1].hist(data_log, edgecolor='black')\n",
    "axs[0].set_title('Original Data')\n",
    "axs[1].set_title('cbrt-Transformed Data')\n",
    "plt.show()"
   ]
  },
  {
   "cell_type": "code",
   "execution_count": 39,
   "id": "a8e0146d",
   "metadata": {
    "execution": {
     "iopub.execute_input": "2023-12-23T00:22:09.555004Z",
     "iopub.status.busy": "2023-12-23T00:22:09.554592Z",
     "iopub.status.idle": "2023-12-23T00:22:09.558533Z",
     "shell.execute_reply": "2023-12-23T00:22:09.557923Z",
     "shell.execute_reply.started": "2023-12-23T00:22:09.554980Z"
    },
    "scrolled": true
   },
   "outputs": [],
   "source": [
    "data_tt1['waiting_period_min'] = data_log ### replace actual data with transformed data"
   ]
  },
  {
   "cell_type": "code",
   "execution_count": 40,
   "id": "8c90c5b8",
   "metadata": {
    "execution": {
     "iopub.execute_input": "2023-12-23T00:22:09.559751Z",
     "iopub.status.busy": "2023-12-23T00:22:09.559388Z",
     "iopub.status.idle": "2023-12-23T00:22:09.680953Z",
     "shell.execute_reply": "2023-12-23T00:22:09.680057Z",
     "shell.execute_reply.started": "2023-12-23T00:22:09.559728Z"
    }
   },
   "outputs": [
    {
     "data": {
      "text/plain": [
       "<Axes: xlabel='waiting_period_min'>"
      ]
     },
     "execution_count": 40,
     "metadata": {},
     "output_type": "execute_result"
    },
    {
     "data": {
      "image/png": "[encoded data removed]",
      "text/plain": [
       "<Figure size 640x480 with 1 Axes>"
      ]
     },
     "metadata": {},
     "output_type": "display_data"
    }
   ],
   "source": [
    "sns.boxplot(x='waiting_period_min', data=data_tt1) ### After transformation and before treatment"
   ]
  },
  {
   "cell_type": "code",
   "execution_count": 41,
   "id": "d4bcb0a4",
   "metadata": {
    "execution": {
     "iopub.execute_input": "2023-12-23T00:22:09.682271Z",
     "iopub.status.busy": "2023-12-23T00:22:09.681975Z",
     "iopub.status.idle": "2023-12-23T00:22:09.689907Z",
     "shell.execute_reply": "2023-12-23T00:22:09.689200Z",
     "shell.execute_reply.started": "2023-12-23T00:22:09.682247Z"
    }
   },
   "outputs": [
    {
     "name": "stdout",
     "output_type": "stream",
     "text": [
      "Number of Outliers in Waiting Period :  109\n",
      "Percentage of outliers in Waiting Period :  6.872635561160151\n"
     ]
    }
   ],
   "source": [
    "### Find the percentage of outliers in waiting_period_min column\n",
    "outliers = find_outliers_IQR(data_tt1['waiting_period_min'])\n",
    "print(\"Number of Outliers in Waiting Period : \",outliers.shape[0])\n",
    "print(\"Percentage of outliers in Waiting Period : \", (outliers.shape[0]/data_tt1.shape[0])*100)"
   ]
  },
  {
   "cell_type": "markdown",
   "id": "a89b26ec",
   "metadata": {},
   "source": [
    "###### Outliers in waiting_period_min are >5% but <10%. So, replacing it with respective limit values"
   ]
  },
  {
   "cell_type": "code",
   "execution_count": 42,
   "id": "19fd39a8",
   "metadata": {
    "execution": {
     "iopub.execute_input": "2023-12-23T00:22:09.691551Z",
     "iopub.status.busy": "2023-12-23T00:22:09.691012Z",
     "iopub.status.idle": "2023-12-23T00:22:09.700539Z",
     "shell.execute_reply": "2023-12-23T00:22:09.699545Z",
     "shell.execute_reply.started": "2023-12-23T00:22:09.691516Z"
    }
   },
   "outputs": [
    {
     "name": "stdout",
     "output_type": "stream",
     "text": [
      "Lower limit and Upper limit values:  -0.4066151650351184 22.46982326695553\n"
     ]
    }
   ],
   "source": [
    "### Percentage of outliers in the data is  less than 5%\n",
    "### Outliers are only on the max side of the data, so replacing Outliers with Upper limit value\n",
    "\n",
    "LL,UL = find_LL_UL(data_tt1['waiting_period_min'])\n",
    "print(\"Lower limit and Upper limit values: \",LL,UL)\n",
    "\n",
    "data_tt1.loc[data_tt1['waiting_period_min'] > UL,'waiting_period_min'] = UL"
   ]
  },
  {
   "cell_type": "code",
   "execution_count": 43,
   "id": "785b7a60",
   "metadata": {
    "execution": {
     "iopub.execute_input": "2023-12-23T00:22:09.704667Z",
     "iopub.status.busy": "2023-12-23T00:22:09.704403Z",
     "iopub.status.idle": "2023-12-23T00:22:09.816406Z",
     "shell.execute_reply": "2023-12-23T00:22:09.815622Z",
     "shell.execute_reply.started": "2023-12-23T00:22:09.704646Z"
    },
    "scrolled": true
   },
   "outputs": [
    {
     "data": {
      "text/plain": [
       "<Axes: xlabel='waiting_period_min'>"
      ]
     },
     "execution_count": 43,
     "metadata": {},
     "output_type": "execute_result"
    },
    {
     "data": {
      "image/png": "[encoded data removed]",
      "text/plain": [
       "<Figure size 640x480 with 1 Axes>"
      ]
     },
     "metadata": {},
     "output_type": "display_data"
    }
   ],
   "source": [
    "sns.boxplot(x='waiting_period_min', data=data_tt1) ### After transformation and after treatment"
   ]
  },
  {
   "cell_type": "markdown",
   "id": "e3a96cc6",
   "metadata": {},
   "source": [
    "### Verify the pre processed data"
   ]
  },
  {
   "cell_type": "code",
   "execution_count": 44,
   "id": "59b195c2",
   "metadata": {
    "execution": {
     "iopub.execute_input": "2023-12-23T00:22:09.818297Z",
     "iopub.status.busy": "2023-12-23T00:22:09.817632Z",
     "iopub.status.idle": "2023-12-23T00:22:09.823514Z",
     "shell.execute_reply": "2023-12-23T00:22:09.822770Z",
     "shell.execute_reply.started": "2023-12-23T00:22:09.818257Z"
    }
   },
   "outputs": [
    {
     "data": {
      "text/plain": [
       "(1586, 12)"
      ]
     },
     "execution_count": 44,
     "metadata": {},
     "output_type": "execute_result"
    }
   ],
   "source": [
    "data_tt1.shape"
   ]
  },
  {
   "cell_type": "code",
   "execution_count": 45,
   "id": "78ba3f71",
   "metadata": {
    "execution": {
     "iopub.execute_input": "2023-12-23T00:22:09.825256Z",
     "iopub.status.busy": "2023-12-23T00:22:09.824674Z",
     "iopub.status.idle": "2023-12-23T00:22:09.835713Z",
     "shell.execute_reply": "2023-12-23T00:22:09.834955Z",
     "shell.execute_reply.started": "2023-12-23T00:22:09.825220Z"
    }
   },
   "outputs": [
    {
     "name": "stdout",
     "output_type": "stream",
     "text": [
      "<class 'pandas.core.frame.DataFrame'>\n",
      "Int64Index: 1586 entries, 6 to 43407\n",
      "Data columns (total 12 columns):\n",
      " #   Column              Non-Null Count  Dtype  \n",
      "---  ------              --------------  -----  \n",
      " 0   from_area_id        1586 non-null   float64\n",
      " 1   from_city_id        1586 non-null   float64\n",
      " 2   to_city_id          1586 non-null   float64\n",
      " 3   online_booking      1586 non-null   int64  \n",
      " 4   Car_Cancellation    1586 non-null   int64  \n",
      " 5   waiting_period_min  1586 non-null   float64\n",
      " 6   travel_day          1586 non-null   int64  \n",
      " 7   travel_month        1586 non-null   int64  \n",
      " 8   booked_day          1586 non-null   int64  \n",
      " 9   booked_month        1586 non-null   int64  \n",
      " 10  travel_hour         1586 non-null   object \n",
      " 11  booked_hour         1586 non-null   object \n",
      "dtypes: float64(4), int64(6), object(2)\n",
      "memory usage: 161.1+ KB\n"
     ]
    }
   ],
   "source": [
    "data_tt1.info()"
   ]
  },
  {
   "cell_type": "code",
   "execution_count": 46,
   "id": "adf8b480",
   "metadata": {
    "execution": {
     "iopub.execute_input": "2023-12-23T00:22:09.836790Z",
     "iopub.status.busy": "2023-12-23T00:22:09.836527Z",
     "iopub.status.idle": "2023-12-23T00:22:09.842995Z",
     "shell.execute_reply": "2023-12-23T00:22:09.842403Z",
     "shell.execute_reply.started": "2023-12-23T00:22:09.836769Z"
    }
   },
   "outputs": [
    {
     "data": {
      "text/plain": [
       "from_area_id          0\n",
       "from_city_id          0\n",
       "to_city_id            0\n",
       "online_booking        0\n",
       "Car_Cancellation      0\n",
       "waiting_period_min    0\n",
       "travel_day            0\n",
       "travel_month          0\n",
       "booked_day            0\n",
       "booked_month          0\n",
       "travel_hour           0\n",
       "booked_hour           0\n",
       "dtype: int64"
      ]
     },
     "execution_count": 46,
     "metadata": {},
     "output_type": "execute_result"
    }
   ],
   "source": [
    "data_tt1.isnull().sum()"
   ]
  },
  {
   "cell_type": "code",
   "execution_count": 47,
   "id": "21edf28e",
   "metadata": {
    "execution": {
     "iopub.execute_input": "2023-12-23T00:22:09.844538Z",
     "iopub.status.busy": "2023-12-23T00:22:09.844060Z",
     "iopub.status.idle": "2023-12-23T00:22:09.856104Z",
     "shell.execute_reply": "2023-12-23T00:22:09.855466Z",
     "shell.execute_reply.started": "2023-12-23T00:22:09.844513Z"
    }
   },
   "outputs": [
    {
     "data": {
      "text/html": [
       "<div>\n",
       "<style scoped>\n",
       "    .dataframe tbody tr th:only-of-type {\n",
       "        vertical-align: middle;\n",
       "    }\n",
       "\n",
       "    .dataframe tbody tr th {\n",
       "        vertical-align: top;\n",
       "    }\n",
       "\n",
       "    .dataframe thead th {\n",
       "        text-align: right;\n",
       "    }\n",
       "</style>\n",
       "<table border=\"1\" class=\"dataframe\">\n",
       "  <thead>\n",
       "    <tr style=\"text-align: right;\">\n",
       "      <th></th>\n",
       "      <th>from_area_id</th>\n",
       "      <th>from_city_id</th>\n",
       "      <th>to_city_id</th>\n",
       "      <th>online_booking</th>\n",
       "      <th>Car_Cancellation</th>\n",
       "      <th>waiting_period_min</th>\n",
       "      <th>travel_day</th>\n",
       "      <th>travel_month</th>\n",
       "      <th>booked_day</th>\n",
       "      <th>booked_month</th>\n",
       "      <th>travel_hour</th>\n",
       "      <th>booked_hour</th>\n",
       "    </tr>\n",
       "  </thead>\n",
       "  <tbody>\n",
       "    <tr>\n",
       "      <th>6</th>\n",
       "      <td>571.0</td>\n",
       "      <td>15.0</td>\n",
       "      <td>108.0</td>\n",
       "      <td>0</td>\n",
       "      <td>0</td>\n",
       "      <td>2.884499</td>\n",
       "      <td>1</td>\n",
       "      <td>1</td>\n",
       "      <td>1</td>\n",
       "      <td>1</td>\n",
       "      <td>Morning</td>\n",
       "      <td>Morning</td>\n",
       "    </tr>\n",
       "    <tr>\n",
       "      <th>17</th>\n",
       "      <td>1383.0</td>\n",
       "      <td>15.0</td>\n",
       "      <td>32.0</td>\n",
       "      <td>1</td>\n",
       "      <td>0</td>\n",
       "      <td>22.469823</td>\n",
       "      <td>5</td>\n",
       "      <td>1</td>\n",
       "      <td>1</td>\n",
       "      <td>1</td>\n",
       "      <td>Early Morning</td>\n",
       "      <td>Morning</td>\n",
       "    </tr>\n",
       "    <tr>\n",
       "      <th>24</th>\n",
       "      <td>515.0</td>\n",
       "      <td>15.0</td>\n",
       "      <td>32.0</td>\n",
       "      <td>0</td>\n",
       "      <td>0</td>\n",
       "      <td>17.533270</td>\n",
       "      <td>5</td>\n",
       "      <td>1</td>\n",
       "      <td>1</td>\n",
       "      <td>1</td>\n",
       "      <td>Early Morning</td>\n",
       "      <td>Afternoon</td>\n",
       "    </tr>\n",
       "    <tr>\n",
       "      <th>158</th>\n",
       "      <td>136.0</td>\n",
       "      <td>1.0</td>\n",
       "      <td>152.0</td>\n",
       "      <td>1</td>\n",
       "      <td>0</td>\n",
       "      <td>10.832163</td>\n",
       "      <td>4</td>\n",
       "      <td>1</td>\n",
       "      <td>3</td>\n",
       "      <td>1</td>\n",
       "      <td>Morning</td>\n",
       "      <td>Morning</td>\n",
       "    </tr>\n",
       "    <tr>\n",
       "      <th>216</th>\n",
       "      <td>1118.0</td>\n",
       "      <td>15.0</td>\n",
       "      <td>32.0</td>\n",
       "      <td>1</td>\n",
       "      <td>0</td>\n",
       "      <td>14.023769</td>\n",
       "      <td>6</td>\n",
       "      <td>1</td>\n",
       "      <td>4</td>\n",
       "      <td>1</td>\n",
       "      <td>Early Morning</td>\n",
       "      <td>Morning</td>\n",
       "    </tr>\n",
       "  </tbody>\n",
       "</table>\n",
       "</div>"
      ],
      "text/plain": [
       "     from_area_id  from_city_id  to_city_id  online_booking  Car_Cancellation  \\\n",
       "6           571.0          15.0       108.0               0                 0   \n",
       "17         1383.0          15.0        32.0               1                 0   \n",
       "24          515.0          15.0        32.0               0                 0   \n",
       "158         136.0           1.0       152.0               1                 0   \n",
       "216        1118.0          15.0        32.0               1                 0   \n",
       "\n",
       "     waiting_period_min  travel_day  travel_month  booked_day  booked_month  \\\n",
       "6              2.884499           1             1           1             1   \n",
       "17            22.469823           5             1           1             1   \n",
       "24            17.533270           5             1           1             1   \n",
       "158           10.832163           4             1           3             1   \n",
       "216           14.023769           6             1           4             1   \n",
       "\n",
       "       travel_hour booked_hour  \n",
       "6          Morning     Morning  \n",
       "17   Early Morning     Morning  \n",
       "24   Early Morning   Afternoon  \n",
       "158        Morning     Morning  \n",
       "216  Early Morning     Morning  "
      ]
     },
     "execution_count": 47,
     "metadata": {},
     "output_type": "execute_result"
    }
   ],
   "source": [
    "data_tt1.head()"
   ]
  },
  {
   "cell_type": "code",
   "execution_count": 48,
   "id": "a469bbee",
   "metadata": {
    "execution": {
     "iopub.execute_input": "2023-12-23T00:22:09.857470Z",
     "iopub.status.busy": "2023-12-23T00:22:09.856934Z",
     "iopub.status.idle": "2023-12-23T00:22:09.869896Z",
     "shell.execute_reply": "2023-12-23T00:22:09.869195Z",
     "shell.execute_reply.started": "2023-12-23T00:22:09.857446Z"
    }
   },
   "outputs": [
    {
     "data": {
      "text/html": [
       "<div>\n",
       "<style scoped>\n",
       "    .dataframe tbody tr th:only-of-type {\n",
       "        vertical-align: middle;\n",
       "    }\n",
       "\n",
       "    .dataframe tbody tr th {\n",
       "        vertical-align: top;\n",
       "    }\n",
       "\n",
       "    .dataframe thead th {\n",
       "        text-align: right;\n",
       "    }\n",
       "</style>\n",
       "<table border=\"1\" class=\"dataframe\">\n",
       "  <thead>\n",
       "    <tr style=\"text-align: right;\">\n",
       "      <th></th>\n",
       "      <th>travel_hour</th>\n",
       "      <th>booked_hour</th>\n",
       "    </tr>\n",
       "  </thead>\n",
       "  <tbody>\n",
       "    <tr>\n",
       "      <th>count</th>\n",
       "      <td>1586</td>\n",
       "      <td>1586</td>\n",
       "    </tr>\n",
       "    <tr>\n",
       "      <th>unique</th>\n",
       "      <td>6</td>\n",
       "      <td>6</td>\n",
       "    </tr>\n",
       "    <tr>\n",
       "      <th>top</th>\n",
       "      <td>Early Morning</td>\n",
       "      <td>Evening</td>\n",
       "    </tr>\n",
       "    <tr>\n",
       "      <th>freq</th>\n",
       "      <td>860</td>\n",
       "      <td>432</td>\n",
       "    </tr>\n",
       "  </tbody>\n",
       "</table>\n",
       "</div>"
      ],
      "text/plain": [
       "          travel_hour booked_hour\n",
       "count            1586        1586\n",
       "unique              6           6\n",
       "top     Early Morning     Evening\n",
       "freq              860         432"
      ]
     },
     "execution_count": 48,
     "metadata": {},
     "output_type": "execute_result"
    }
   ],
   "source": [
    "data_tt1.describe(include='object')"
   ]
  },
  {
   "cell_type": "markdown",
   "id": "d75f88eb",
   "metadata": {},
   "source": [
    "### Label encoding"
   ]
  },
  {
   "cell_type": "code",
   "execution_count": 49,
   "id": "830bb85f",
   "metadata": {
    "execution": {
     "iopub.execute_input": "2023-12-23T00:22:09.872555Z",
     "iopub.status.busy": "2023-12-23T00:22:09.872290Z",
     "iopub.status.idle": "2023-12-23T00:22:09.885635Z",
     "shell.execute_reply": "2023-12-23T00:22:09.884856Z",
     "shell.execute_reply.started": "2023-12-23T00:22:09.872533Z"
    }
   },
   "outputs": [
    {
     "data": {
      "text/html": [
       "<div>\n",
       "<style scoped>\n",
       "    .dataframe tbody tr th:only-of-type {\n",
       "        vertical-align: middle;\n",
       "    }\n",
       "\n",
       "    .dataframe tbody tr th {\n",
       "        vertical-align: top;\n",
       "    }\n",
       "\n",
       "    .dataframe thead th {\n",
       "        text-align: right;\n",
       "    }\n",
       "</style>\n",
       "<table border=\"1\" class=\"dataframe\">\n",
       "  <thead>\n",
       "    <tr style=\"text-align: right;\">\n",
       "      <th></th>\n",
       "      <th>from_area_id</th>\n",
       "      <th>from_city_id</th>\n",
       "      <th>to_city_id</th>\n",
       "      <th>online_booking</th>\n",
       "      <th>Car_Cancellation</th>\n",
       "      <th>waiting_period_min</th>\n",
       "      <th>travel_day</th>\n",
       "      <th>travel_month</th>\n",
       "      <th>booked_day</th>\n",
       "      <th>booked_month</th>\n",
       "      <th>travel_hour</th>\n",
       "      <th>booked_hour</th>\n",
       "    </tr>\n",
       "  </thead>\n",
       "  <tbody>\n",
       "    <tr>\n",
       "      <th>6</th>\n",
       "      <td>571.0</td>\n",
       "      <td>15.0</td>\n",
       "      <td>108.0</td>\n",
       "      <td>0</td>\n",
       "      <td>0</td>\n",
       "      <td>2.884499</td>\n",
       "      <td>1</td>\n",
       "      <td>1</td>\n",
       "      <td>1</td>\n",
       "      <td>1</td>\n",
       "      <td>4</td>\n",
       "      <td>4</td>\n",
       "    </tr>\n",
       "    <tr>\n",
       "      <th>17</th>\n",
       "      <td>1383.0</td>\n",
       "      <td>15.0</td>\n",
       "      <td>32.0</td>\n",
       "      <td>1</td>\n",
       "      <td>0</td>\n",
       "      <td>22.469823</td>\n",
       "      <td>5</td>\n",
       "      <td>1</td>\n",
       "      <td>1</td>\n",
       "      <td>1</td>\n",
       "      <td>1</td>\n",
       "      <td>4</td>\n",
       "    </tr>\n",
       "    <tr>\n",
       "      <th>24</th>\n",
       "      <td>515.0</td>\n",
       "      <td>15.0</td>\n",
       "      <td>32.0</td>\n",
       "      <td>0</td>\n",
       "      <td>0</td>\n",
       "      <td>17.533270</td>\n",
       "      <td>5</td>\n",
       "      <td>1</td>\n",
       "      <td>1</td>\n",
       "      <td>1</td>\n",
       "      <td>1</td>\n",
       "      <td>0</td>\n",
       "    </tr>\n",
       "    <tr>\n",
       "      <th>158</th>\n",
       "      <td>136.0</td>\n",
       "      <td>1.0</td>\n",
       "      <td>152.0</td>\n",
       "      <td>1</td>\n",
       "      <td>0</td>\n",
       "      <td>10.832163</td>\n",
       "      <td>4</td>\n",
       "      <td>1</td>\n",
       "      <td>3</td>\n",
       "      <td>1</td>\n",
       "      <td>4</td>\n",
       "      <td>4</td>\n",
       "    </tr>\n",
       "    <tr>\n",
       "      <th>216</th>\n",
       "      <td>1118.0</td>\n",
       "      <td>15.0</td>\n",
       "      <td>32.0</td>\n",
       "      <td>1</td>\n",
       "      <td>0</td>\n",
       "      <td>14.023769</td>\n",
       "      <td>6</td>\n",
       "      <td>1</td>\n",
       "      <td>4</td>\n",
       "      <td>1</td>\n",
       "      <td>1</td>\n",
       "      <td>4</td>\n",
       "    </tr>\n",
       "  </tbody>\n",
       "</table>\n",
       "</div>"
      ],
      "text/plain": [
       "     from_area_id  from_city_id  to_city_id  online_booking  Car_Cancellation  \\\n",
       "6           571.0          15.0       108.0               0                 0   \n",
       "17         1383.0          15.0        32.0               1                 0   \n",
       "24          515.0          15.0        32.0               0                 0   \n",
       "158         136.0           1.0       152.0               1                 0   \n",
       "216        1118.0          15.0        32.0               1                 0   \n",
       "\n",
       "     waiting_period_min  travel_day  travel_month  booked_day  booked_month  \\\n",
       "6              2.884499           1             1           1             1   \n",
       "17            22.469823           5             1           1             1   \n",
       "24            17.533270           5             1           1             1   \n",
       "158           10.832163           4             1           3             1   \n",
       "216           14.023769           6             1           4             1   \n",
       "\n",
       "     travel_hour  booked_hour  \n",
       "6              4            4  \n",
       "17             1            4  \n",
       "24             1            0  \n",
       "158            4            4  \n",
       "216            1            4  "
      ]
     },
     "execution_count": 49,
     "metadata": {},
     "output_type": "execute_result"
    }
   ],
   "source": [
    "from sklearn.preprocessing import LabelEncoder\n",
    "le = LabelEncoder()\n",
    "\n",
    "data_tt1['travel_hour'] = le.fit_transform(data_tt1['travel_hour'])\n",
    "data_tt1['booked_hour'] = le.fit_transform(data_tt1['booked_hour'])\n",
    "data_tt1.head()"
   ]
  },
  {
   "cell_type": "markdown",
   "id": "6a5e704f",
   "metadata": {},
   "source": [
    "### Correlation Analysis"
   ]
  },
  {
   "cell_type": "code",
   "execution_count": 50,
   "id": "014018db",
   "metadata": {
    "execution": {
     "iopub.execute_input": "2023-12-23T00:22:09.887224Z",
     "iopub.status.busy": "2023-12-23T00:22:09.886613Z",
     "iopub.status.idle": "2023-12-23T00:22:10.401448Z",
     "shell.execute_reply": "2023-12-23T00:22:10.400678Z",
     "shell.execute_reply.started": "2023-12-23T00:22:09.887200Z"
    }
   },
   "outputs": [
    {
     "data": {
      "image/png": "[encoded data removed]",
      "text/plain": [
       "<Figure size 640x480 with 2 Axes>"
      ]
     },
     "metadata": {},
     "output_type": "display_data"
    }
   ],
   "source": [
    "corrmat = data_tt1.corr()\n",
    "k = 10 #number of variables for heatmap\n",
    "cols = corrmat.nlargest(k, 'Car_Cancellation')['Car_Cancellation'].index\n",
    "cm = np.corrcoef(data_tt1[cols].values.T)\n",
    "sns.set(font_scale=1.25)\n",
    "hm = sns.heatmap(cm, cbar=True, annot=True, square=True, fmt='.2f', annot_kws={'size': 10}, yticklabels=cols.values, xticklabels=cols.values)\n",
    "plt.show()"
   ]
  },
  {
   "cell_type": "markdown",
   "id": "70b5e51f",
   "metadata": {},
   "source": [
    "###### NOTE : booked_month and travel_month are highly correlated, so dropping one of it (booked_month)"
   ]
  },
  {
   "cell_type": "code",
   "execution_count": 51,
   "id": "319f0704",
   "metadata": {
    "execution": {
     "iopub.execute_input": "2023-12-23T00:22:10.403392Z",
     "iopub.status.busy": "2023-12-23T00:22:10.402629Z",
     "iopub.status.idle": "2023-12-23T00:22:10.408202Z",
     "shell.execute_reply": "2023-12-23T00:22:10.407447Z",
     "shell.execute_reply.started": "2023-12-23T00:22:10.403354Z"
    }
   },
   "outputs": [],
   "source": [
    "data_tt1 = data_tt1.drop(['booked_month'],axis=1)"
   ]
  },
  {
   "cell_type": "markdown",
   "id": "cafed03b",
   "metadata": {},
   "source": [
    "### Extract features and target"
   ]
  },
  {
   "cell_type": "code",
   "execution_count": 52,
   "id": "4b27e689",
   "metadata": {
    "execution": {
     "iopub.execute_input": "2023-12-23T00:22:10.409950Z",
     "iopub.status.busy": "2023-12-23T00:22:10.409335Z",
     "iopub.status.idle": "2023-12-23T00:22:10.416882Z",
     "shell.execute_reply": "2023-12-23T00:22:10.416150Z",
     "shell.execute_reply.started": "2023-12-23T00:22:10.409914Z"
    }
   },
   "outputs": [],
   "source": [
    "x = data_tt1.iloc[:,data_tt1.columns != 'Car_Cancellation']\n",
    "y = data_tt1.iloc[:,data_tt1.columns == 'Car_Cancellation']"
   ]
  },
  {
   "cell_type": "code",
   "execution_count": 53,
   "id": "682b2410",
   "metadata": {
    "execution": {
     "iopub.execute_input": "2023-12-23T00:22:10.418542Z",
     "iopub.status.busy": "2023-12-23T00:22:10.417973Z",
     "iopub.status.idle": "2023-12-23T00:22:10.423814Z",
     "shell.execute_reply": "2023-12-23T00:22:10.423006Z",
     "shell.execute_reply.started": "2023-12-23T00:22:10.418517Z"
    }
   },
   "outputs": [
    {
     "data": {
      "text/plain": [
       "(1586, 10)"
      ]
     },
     "execution_count": 53,
     "metadata": {},
     "output_type": "execute_result"
    }
   ],
   "source": [
    "x.shape"
   ]
  },
  {
   "cell_type": "code",
   "execution_count": 54,
   "id": "4817027d",
   "metadata": {
    "execution": {
     "iopub.execute_input": "2023-12-23T00:22:10.425154Z",
     "iopub.status.busy": "2023-12-23T00:22:10.424673Z",
     "iopub.status.idle": "2023-12-23T00:22:10.430378Z",
     "shell.execute_reply": "2023-12-23T00:22:10.429687Z",
     "shell.execute_reply.started": "2023-12-23T00:22:10.425131Z"
    }
   },
   "outputs": [
    {
     "data": {
      "text/plain": [
       "(1586, 1)"
      ]
     },
     "execution_count": 54,
     "metadata": {},
     "output_type": "execute_result"
    }
   ],
   "source": [
    "y.shape"
   ]
  },
  {
   "cell_type": "markdown",
   "id": "382f7cb1",
   "metadata": {},
   "source": [
    "### Scaling features before splitting"
   ]
  },
  {
   "cell_type": "code",
   "execution_count": 55,
   "id": "6a5a7950",
   "metadata": {
    "execution": {
     "iopub.execute_input": "2023-12-23T00:22:10.431517Z",
     "iopub.status.busy": "2023-12-23T00:22:10.431239Z",
     "iopub.status.idle": "2023-12-23T00:22:10.438494Z",
     "shell.execute_reply": "2023-12-23T00:22:10.437890Z",
     "shell.execute_reply.started": "2023-12-23T00:22:10.431497Z"
    }
   },
   "outputs": [],
   "source": [
    "###Entire features scaling is required for some modelselections like KNN\n",
    "from sklearn.preprocessing import StandardScaler\n",
    "ss=StandardScaler()\n",
    "\n",
    "x_copy=x\n",
    "x_ss=ss.fit_transform(x_copy)\n",
    "\n",
    "y_copy=y.values.ravel()"
   ]
  },
  {
   "cell_type": "code",
   "execution_count": 56,
   "id": "4b6e8aa4",
   "metadata": {
    "execution": {
     "iopub.execute_input": "2023-12-23T00:22:10.439631Z",
     "iopub.status.busy": "2023-12-23T00:22:10.439328Z",
     "iopub.status.idle": "2023-12-23T00:22:10.444273Z",
     "shell.execute_reply": "2023-12-23T00:22:10.443490Z",
     "shell.execute_reply.started": "2023-12-23T00:22:10.439608Z"
    }
   },
   "outputs": [
    {
     "data": {
      "text/plain": [
       "(1586, 10)"
      ]
     },
     "execution_count": 56,
     "metadata": {},
     "output_type": "execute_result"
    }
   ],
   "source": [
    "x.shape"
   ]
  },
  {
   "cell_type": "code",
   "execution_count": 57,
   "id": "2948777e",
   "metadata": {
    "execution": {
     "iopub.execute_input": "2023-12-23T00:22:10.445389Z",
     "iopub.status.busy": "2023-12-23T00:22:10.445111Z",
     "iopub.status.idle": "2023-12-23T00:22:10.450368Z",
     "shell.execute_reply": "2023-12-23T00:22:10.449680Z",
     "shell.execute_reply.started": "2023-12-23T00:22:10.445369Z"
    }
   },
   "outputs": [
    {
     "data": {
      "text/plain": [
       "(1586, 1)"
      ]
     },
     "execution_count": 57,
     "metadata": {},
     "output_type": "execute_result"
    }
   ],
   "source": [
    "y.shape"
   ]
  },
  {
   "cell_type": "markdown",
   "id": "ab89fa39",
   "metadata": {},
   "source": [
    "### Split data into training and test data"
   ]
  },
  {
   "cell_type": "code",
   "execution_count": 58,
   "id": "ccb7e0f6",
   "metadata": {
    "execution": {
     "iopub.execute_input": "2023-12-23T00:22:10.451646Z",
     "iopub.status.busy": "2023-12-23T00:22:10.451337Z",
     "iopub.status.idle": "2023-12-23T00:22:10.466821Z",
     "shell.execute_reply": "2023-12-23T00:22:10.466246Z",
     "shell.execute_reply.started": "2023-12-23T00:22:10.451625Z"
    }
   },
   "outputs": [],
   "source": [
    "from sklearn.model_selection import train_test_split\n",
    "xtrain,xtest,ytrain,ytest=train_test_split(x,y,test_size=0.25,train_size=0.75,stratify=y)"
   ]
  },
  {
   "cell_type": "code",
   "execution_count": 59,
   "id": "f878625f",
   "metadata": {
    "execution": {
     "iopub.execute_input": "2023-12-23T00:22:10.467903Z",
     "iopub.status.busy": "2023-12-23T00:22:10.467584Z",
     "iopub.status.idle": "2023-12-23T00:22:10.472341Z",
     "shell.execute_reply": "2023-12-23T00:22:10.471587Z",
     "shell.execute_reply.started": "2023-12-23T00:22:10.467881Z"
    }
   },
   "outputs": [
    {
     "data": {
      "text/plain": [
       "(1189, 10)"
      ]
     },
     "execution_count": 59,
     "metadata": {},
     "output_type": "execute_result"
    }
   ],
   "source": [
    "xtrain.shape"
   ]
  },
  {
   "cell_type": "code",
   "execution_count": 60,
   "id": "47a9c66c",
   "metadata": {
    "execution": {
     "iopub.execute_input": "2023-12-23T00:22:10.473441Z",
     "iopub.status.busy": "2023-12-23T00:22:10.473159Z",
     "iopub.status.idle": "2023-12-23T00:22:10.478614Z",
     "shell.execute_reply": "2023-12-23T00:22:10.477901Z",
     "shell.execute_reply.started": "2023-12-23T00:22:10.473419Z"
    }
   },
   "outputs": [
    {
     "data": {
      "text/plain": [
       "(1189, 1)"
      ]
     },
     "execution_count": 60,
     "metadata": {},
     "output_type": "execute_result"
    }
   ],
   "source": [
    "ytrain.shape"
   ]
  },
  {
   "cell_type": "code",
   "execution_count": 61,
   "id": "5241a191",
   "metadata": {
    "execution": {
     "iopub.execute_input": "2023-12-23T00:22:10.479929Z",
     "iopub.status.busy": "2023-12-23T00:22:10.479473Z",
     "iopub.status.idle": "2023-12-23T00:22:10.485313Z",
     "shell.execute_reply": "2023-12-23T00:22:10.484550Z",
     "shell.execute_reply.started": "2023-12-23T00:22:10.479903Z"
    }
   },
   "outputs": [
    {
     "data": {
      "text/plain": [
       "{0: 1173, 1: 16}"
      ]
     },
     "execution_count": 61,
     "metadata": {},
     "output_type": "execute_result"
    }
   ],
   "source": [
    "unique, counts = np.unique(ytrain, return_counts=True)\n",
    "result_dict = dict(zip(unique, counts))\n",
    "\n",
    "result_dict"
   ]
  },
  {
   "cell_type": "markdown",
   "id": "91786151",
   "metadata": {},
   "source": [
    "#### y_train has severe improportion in the data so using over sampling technique"
   ]
  },
  {
   "cell_type": "code",
   "execution_count": 62,
   "id": "3a2d5dae",
   "metadata": {
    "execution": {
     "iopub.execute_input": "2023-12-23T00:22:10.487019Z",
     "iopub.status.busy": "2023-12-23T00:22:10.486364Z",
     "iopub.status.idle": "2023-12-23T00:22:10.888729Z",
     "shell.execute_reply": "2023-12-23T00:22:10.888093Z",
     "shell.execute_reply.started": "2023-12-23T00:22:10.486984Z"
    }
   },
   "outputs": [],
   "source": [
    "np.random.seed(42)\n",
    "#from imblearn.over_sampling import RandomOverSampler\n",
    "#over=RandomOverSampler()\n",
    "#x_train_over, y_train_over = over.fit_resample(xtrain, ytrain)\n",
    "#ytrain=y_train_over\n",
    "\n",
    "from imblearn.over_sampling import SMOTE \n",
    "sm = SMOTE(random_state = 2) \n",
    "x_train_over, y_train_over = sm.fit_resample(xtrain, ytrain)\n",
    "ytrain=y_train_over"
   ]
  },
  {
   "cell_type": "code",
   "execution_count": 63,
   "id": "512596e4",
   "metadata": {
    "execution": {
     "iopub.execute_input": "2023-12-23T00:22:10.889995Z",
     "iopub.status.busy": "2023-12-23T00:22:10.889691Z",
     "iopub.status.idle": "2023-12-23T00:22:10.896337Z",
     "shell.execute_reply": "2023-12-23T00:22:10.895545Z",
     "shell.execute_reply.started": "2023-12-23T00:22:10.889969Z"
    }
   },
   "outputs": [
    {
     "name": "stdout",
     "output_type": "stream",
     "text": [
      "Car_Cancellation\n",
      "0                   1173\n",
      "1                   1173\n",
      "dtype: int64\n",
      "(2346, 10)\n",
      "(2346, 1)\n"
     ]
    }
   ],
   "source": [
    "print(y_train_over.value_counts())\n",
    "\n",
    "print(x_train_over.shape)\n",
    "print(y_train_over.shape)"
   ]
  },
  {
   "cell_type": "markdown",
   "id": "82525251",
   "metadata": {},
   "source": [
    "### Feature Scaling"
   ]
  },
  {
   "cell_type": "markdown",
   "id": "b1d43f5c",
   "metadata": {},
   "source": [
    "#### Standard Scaler"
   ]
  },
  {
   "cell_type": "code",
   "execution_count": 64,
   "id": "8870f5b1",
   "metadata": {
    "execution": {
     "iopub.execute_input": "2023-12-23T00:22:10.897529Z",
     "iopub.status.busy": "2023-12-23T00:22:10.897254Z",
     "iopub.status.idle": "2023-12-23T00:22:10.905577Z",
     "shell.execute_reply": "2023-12-23T00:22:10.904965Z",
     "shell.execute_reply.started": "2023-12-23T00:22:10.897506Z"
    }
   },
   "outputs": [],
   "source": [
    "standard_Scaler=StandardScaler()\n",
    "xtrain_ss = standard_Scaler.fit_transform(x_train_over)\n",
    "xtest_ss = standard_Scaler.transform(xtest)"
   ]
  },
  {
   "cell_type": "markdown",
   "id": "5bf42f1c",
   "metadata": {},
   "source": [
    "#### MinMax Scaler"
   ]
  },
  {
   "cell_type": "code",
   "execution_count": 65,
   "id": "363236b4",
   "metadata": {
    "execution": {
     "iopub.execute_input": "2023-12-23T00:22:10.908229Z",
     "iopub.status.busy": "2023-12-23T00:22:10.906299Z",
     "iopub.status.idle": "2023-12-23T00:22:10.917363Z",
     "shell.execute_reply": "2023-12-23T00:22:10.916824Z",
     "shell.execute_reply.started": "2023-12-23T00:22:10.908203Z"
    }
   },
   "outputs": [],
   "source": [
    "from sklearn.preprocessing import MinMaxScaler\n",
    "minmax_Scaler=MinMaxScaler()\n",
    "xtrain_mm = minmax_Scaler.fit_transform(x_train_over)\n",
    "xtest_mm = minmax_Scaler.transform(xtest)"
   ]
  },
  {
   "cell_type": "code",
   "execution_count": 66,
   "id": "36fbba9f",
   "metadata": {
    "execution": {
     "iopub.execute_input": "2023-12-23T00:22:10.918934Z",
     "iopub.status.busy": "2023-12-23T00:22:10.918350Z",
     "iopub.status.idle": "2023-12-23T00:22:10.922521Z",
     "shell.execute_reply": "2023-12-23T00:22:10.921821Z",
     "shell.execute_reply.started": "2023-12-23T00:22:10.918897Z"
    }
   },
   "outputs": [],
   "source": [
    "ytrain=ytrain.values.ravel()"
   ]
  },
  {
   "cell_type": "code",
   "execution_count": 67,
   "id": "f8690c1d",
   "metadata": {
    "execution": {
     "iopub.execute_input": "2023-12-23T00:22:10.929197Z",
     "iopub.status.busy": "2023-12-23T00:22:10.928922Z",
     "iopub.status.idle": "2023-12-23T00:22:10.932215Z",
     "shell.execute_reply": "2023-12-23T00:22:10.931523Z",
     "shell.execute_reply.started": "2023-12-23T00:22:10.929175Z"
    }
   },
   "outputs": [],
   "source": [
    "np.random.seed(10)"
   ]
  },
  {
   "cell_type": "code",
   "execution_count": 68,
   "id": "da4469ef",
   "metadata": {
    "execution": {
     "iopub.execute_input": "2023-12-23T00:22:10.933344Z",
     "iopub.status.busy": "2023-12-23T00:22:10.933066Z",
     "iopub.status.idle": "2023-12-23T00:22:10.937473Z",
     "shell.execute_reply": "2023-12-23T00:22:10.936708Z",
     "shell.execute_reply.started": "2023-12-23T00:22:10.933322Z"
    }
   },
   "outputs": [],
   "source": [
    "models_res=[]"
   ]
  },
  {
   "cell_type": "markdown",
   "id": "25de24c8",
   "metadata": {},
   "source": [
    "### Logistic Regression Model"
   ]
  },
  {
   "cell_type": "code",
   "execution_count": 69,
   "id": "47c33193",
   "metadata": {
    "execution": {
     "iopub.execute_input": "2023-12-23T00:22:10.939015Z",
     "iopub.status.busy": "2023-12-23T00:22:10.938657Z",
     "iopub.status.idle": "2023-12-23T00:22:10.947247Z",
     "shell.execute_reply": "2023-12-23T00:22:10.946494Z",
     "shell.execute_reply.started": "2023-12-23T00:22:10.938981Z"
    }
   },
   "outputs": [],
   "source": [
    "start=time.time()\n",
    "from sklearn.linear_model import LogisticRegression\n",
    "\n",
    "logreg=LogisticRegression()\n",
    "\n",
    "## Hyper_parameter optimisation using Grid Search CV\n",
    "def log_reg_gridsearch(xtrain,ytrain):\n",
    "    # Define the hyperparameter grid\n",
    "    param_grid = [\n",
    "        {'solver': ['lbfgs', 'liblinear']},\n",
    "        {'penalty': [None, 'l2']},\n",
    "        {'C': [0.001, 0.01, 0.1, 1, 10, 100]},\n",
    "        {'max_iter': [1000,10000,12000,14000]}\n",
    "    ]\n",
    "    # Perform grid search with cross-validation\n",
    "    grid_search = GridSearchCV(estimator=logreg, param_grid=param_grid, scoring='accuracy', cv=5, verbose=0)\n",
    "    grid_search.fit(xtrain,ytrain)\n",
    "    return grid_search.best_params_\n",
    "    \n",
    "def logistic_regression(xtrain,xtest,ytrain):\n",
    "    best_params = log_reg_gridsearch(xtrain,ytrain)\n",
    "    best_logreg = LogisticRegression(**best_params)\n",
    "    best_logreg.fit(xtrain, ytrain)\n",
    "    y_predict=best_logreg.predict(xtest)\n",
    "    y_predictproba=best_logreg.predict_proba(xtest)[::,1]\n",
    "    return [y_predict,y_predictproba,best_params,best_logreg]\n",
    "\n",
    "def logistic_metrices(ytest,ypredict):\n",
    "    con_matrix=confusion_matrix(ytest,ypredict)\n",
    "    accur=accuracy_score(ytest,ypredict)\n",
    "    classf_report=classification_report(ytest,ypredict)\n",
    "    f1_scr=f1_score(ytest,ypredict)\n",
    "    return [con_matrix,accur,classf_report,f1_scr]"
   ]
  },
  {
   "cell_type": "markdown",
   "id": "66dd8795",
   "metadata": {},
   "source": [
    "##### Logistic Regression Model Evaluation with Standard Scaled features "
   ]
  },
  {
   "cell_type": "code",
   "execution_count": 70,
   "id": "1ea8e341",
   "metadata": {
    "execution": {
     "iopub.execute_input": "2023-12-23T00:22:10.948335Z",
     "iopub.status.busy": "2023-12-23T00:22:10.948073Z",
     "iopub.status.idle": "2023-12-23T00:22:11.480998Z",
     "shell.execute_reply": "2023-12-23T00:22:11.480334Z",
     "shell.execute_reply.started": "2023-12-23T00:22:10.948314Z"
    }
   },
   "outputs": [
    {
     "data": {
      "image/png": "[encoded data removed]",
      "text/plain": [
       "<Figure size 600x200 with 1 Axes>"
      ]
     },
     "metadata": {},
     "output_type": "display_data"
    },
    {
     "name": "stdout",
     "output_type": "stream",
     "text": [
      "accuracy=  {0.7153652392947103} \n",
      "\n",
      "confusion_matrix=  [[279 113]\n",
      " [  0   5]] \n",
      "\n",
      "classification report= \n",
      "               precision    recall  f1-score   support\n",
      "\n",
      "           0       1.00      0.71      0.83       392\n",
      "           1       0.04      1.00      0.08         5\n",
      "\n",
      "    accuracy                           0.72       397\n",
      "   macro avg       0.52      0.86      0.46       397\n",
      "weighted avg       0.99      0.72      0.82       397\n",
      "\n",
      "f1 score =  0.0813008130081301\n"
     ]
    }
   ],
   "source": [
    "y=logistic_regression(xtrain_ss,xtest_ss,ytrain)\n",
    "logreg_metrices=logistic_metrices(ytest,y[0])\n",
    "end=time.time()\n",
    "\n",
    "best_logreg_ss=y[3]\n",
    "\n",
    "### Calculation of AUC and ROC\n",
    "fpr,tpr,_= roc_curve(ytest,y[1])\n",
    "auc_val = roc_auc_score(ytest,y[1])\n",
    "\n",
    "### Plotting ROC\n",
    "plt.figure(figsize=(6,2))\n",
    "plt.plot(fpr,tpr,label='auc='+str(auc_val))\n",
    "plt.title(\"Receiver Operating Characteristic Curve (ROC)\")\n",
    "plt.xlabel(\"FPR ---->\")\n",
    "plt.ylabel(\"TPR ---->\")\n",
    "plt.legend(loc=4)\n",
    "plt.show()\n",
    "\n",
    "### Printing evaluation metrices\n",
    "print(f'accuracy= ',{logreg_metrices[1]},'\\n')\n",
    "print(f'confusion_matrix= ',logreg_metrices[0],'\\n')\n",
    "print(f'classification report= \\n',logreg_metrices[2])\n",
    "print(f'f1 score = ',logreg_metrices[3])\n",
    "time_taken=end-start\n",
    "\n",
    "models_res.append(['Logistic regression - Standard Scaler',logreg_metrices[1],auc_val,logreg_metrices[3],time_taken,y[2]])"
   ]
  },
  {
   "cell_type": "markdown",
   "id": "26c1cb8e",
   "metadata": {},
   "source": [
    "##### Logistic Regression Model Evaluation with MinMax Scaled features"
   ]
  },
  {
   "cell_type": "code",
   "execution_count": 71,
   "id": "d6727897",
   "metadata": {
    "execution": {
     "iopub.execute_input": "2023-12-23T00:22:11.482330Z",
     "iopub.status.busy": "2023-12-23T00:22:11.482001Z",
     "iopub.status.idle": "2023-12-23T00:22:12.204311Z",
     "shell.execute_reply": "2023-12-23T00:22:12.203572Z",
     "shell.execute_reply.started": "2023-12-23T00:22:11.482305Z"
    }
   },
   "outputs": [
    {
     "data": {
      "image/png": "[encoded data removed]",
      "text/plain": [
       "<Figure size 600x200 with 1 Axes>"
      ]
     },
     "metadata": {},
     "output_type": "display_data"
    },
    {
     "name": "stdout",
     "output_type": "stream",
     "text": [
      "accuracy=  {0.7279596977329975} \n",
      "\n",
      "confusion_matrix= \n",
      " [[284 108]\n",
      " [  0   5]] \n",
      "\n",
      "classification report= \n",
      "               precision    recall  f1-score   support\n",
      "\n",
      "           0       1.00      0.72      0.84       392\n",
      "           1       0.04      1.00      0.08         5\n",
      "\n",
      "    accuracy                           0.73       397\n",
      "   macro avg       0.52      0.86      0.46       397\n",
      "weighted avg       0.99      0.73      0.83       397\n",
      "\n",
      "f1 score =  0.0847457627118644\n"
     ]
    }
   ],
   "source": [
    "y=logistic_regression(xtrain_mm,xtest_mm,ytrain)\n",
    "\n",
    "logreg_metrices=logistic_metrices(ytest,y[0])\n",
    "end=time.time()\n",
    "\n",
    "best_logreg_mm=y[3]\n",
    "\n",
    "### Calculation of AUC and ROC\n",
    "fpr,tpr,_= roc_curve(ytest,y[1])\n",
    "auc_val = roc_auc_score(ytest,y[1])\n",
    "\n",
    "### Plotting ROC\n",
    "plt.figure(figsize=(6,2))\n",
    "plt.plot(fpr,tpr,label='auc='+str(auc_val))\n",
    "plt.title(\"Receiver Operating Characteristic Curve (ROC)\")\n",
    "plt.xlabel(\"FPR ---->\")\n",
    "plt.ylabel(\"TPR ---->\")\n",
    "plt.legend(loc=4)\n",
    "plt.show()\n",
    "\n",
    "### Printing evalaution metrices\n",
    "print(f'accuracy= ',{logreg_metrices[1]},'\\n')\n",
    "print(f'confusion_matrix= \\n',logreg_metrices[0],'\\n')\n",
    "print(f'classification report= \\n',logreg_metrices[2])\n",
    "print(f'f1 score = ',logreg_metrices[3])\n",
    "time_taken=end-start\n",
    "\n",
    "models_res.append(['Logistic regression - MinMax Scaler',logreg_metrices[1],auc_val,logreg_metrices[3],time_taken,y[2]])"
   ]
  },
  {
   "cell_type": "markdown",
   "id": "97142690",
   "metadata": {},
   "source": [
    "### Decision Tree Model"
   ]
  },
  {
   "cell_type": "code",
   "execution_count": 72,
   "id": "ada05b99",
   "metadata": {
    "execution": {
     "iopub.execute_input": "2023-12-23T00:22:12.205668Z",
     "iopub.status.busy": "2023-12-23T00:22:12.205200Z",
     "iopub.status.idle": "2023-12-23T00:22:12.212253Z",
     "shell.execute_reply": "2023-12-23T00:22:12.211439Z",
     "shell.execute_reply.started": "2023-12-23T00:22:12.205642Z"
    }
   },
   "outputs": [],
   "source": [
    "start=time.time()\n",
    "\n",
    "from sklearn.tree import DecisionTreeClassifier\n",
    "\n",
    "decitree=DecisionTreeClassifier()\n",
    "\n",
    "## Hyper_parameter optimisation using Grid Search CV\n",
    "def deci_tree_gridsearch(xtrain,ytrain):\n",
    "    # Define the hyperparameter grid\n",
    "    param_grid = {\n",
    "        'criterion': ['gini', 'entropy'],\n",
    "        'max_depth': [4, 5, 6, 7, 8, 9, 10, 12],\n",
    "        'min_samples_split':np.arange(3,11),\n",
    "        'min_samples_leaf':np.arange(3,11),\n",
    "        'max_leaf_nodes':np.arange(5,21)\n",
    "        }\n",
    "    # Perform grid search with cross-validation\n",
    "    grid_search = GridSearchCV(estimator=decitree, param_grid=param_grid, cv=5, verbose=0)\n",
    "    grid_search.fit(xtrain,ytrain)\n",
    "    return grid_search.best_params_    \n",
    "\n",
    "def deci_tree(xtrain,xtest,ytrain):\n",
    "    best_params = deci_tree_gridsearch(xtrain,ytrain)\n",
    "    best_decitree = DecisionTreeClassifier(**best_params)\n",
    "    best_decitree.fit(xtrain, ytrain)\n",
    "    y_predict=best_decitree.predict(xtest)\n",
    "    y_predictproba=best_decitree.predict_proba(xtest)[::,1]\n",
    "    return [y_predict,y_predictproba,best_params,best_decitree]\n",
    "\n",
    "def deci_tree_metrices(ytest,ypredict):\n",
    "    con_matrix=confusion_matrix(ytest,ypredict)\n",
    "    accur=accuracy_score(ytest,ypredict)\n",
    "    classf_report=classification_report(ytest,ypredict)\n",
    "    f1_scr=f1_score(ytest,ypredict)\n",
    "    return [con_matrix,accur,classf_report,f1_scr]"
   ]
  },
  {
   "cell_type": "markdown",
   "id": "875cd40a",
   "metadata": {},
   "source": [
    "##### Decision Tree Model Evaluation with Standard Scaled features"
   ]
  },
  {
   "cell_type": "code",
   "execution_count": 73,
   "id": "b1454bdb",
   "metadata": {
    "execution": {
     "iopub.execute_input": "2023-12-23T00:22:12.213637Z",
     "iopub.status.busy": "2023-12-23T00:22:12.213271Z",
     "iopub.status.idle": "2023-12-23T00:29:22.382783Z",
     "shell.execute_reply": "2023-12-23T00:29:22.382035Z",
     "shell.execute_reply.started": "2023-12-23T00:22:12.213602Z"
    }
   },
   "outputs": [
    {
     "data": {
      "image/png": "[encoded data removed]",
      "text/plain": [
       "<Figure size 640x480 with 1 Axes>"
      ]
     },
     "metadata": {},
     "output_type": "display_data"
    },
    {
     "name": "stdout",
     "output_type": "stream",
     "text": [
      "accuracy=  {0.8513853904282116} \n",
      "\n",
      "confusion_matrix= \n",
      " [[336  56]\n",
      " [  3   2]] \n",
      "\n",
      "classification report= \n",
      "               precision    recall  f1-score   support\n",
      "\n",
      "           0       0.99      0.86      0.92       392\n",
      "           1       0.03      0.40      0.06         5\n",
      "\n",
      "    accuracy                           0.85       397\n",
      "   macro avg       0.51      0.63      0.49       397\n",
      "weighted avg       0.98      0.85      0.91       397\n",
      "\n",
      "f1 score =  0.0847457627118644\n"
     ]
    }
   ],
   "source": [
    "y=deci_tree(xtrain_ss,xtest_ss,ytrain)\n",
    "\n",
    "decitree_metrices=deci_tree_metrices(ytest,y[0])\n",
    "end=time.time()\n",
    "\n",
    "best_decitree_ss=y[3]\n",
    "\n",
    "### Calculation of AUC and ROC\n",
    "fpr,tpr,_= roc_curve(ytest,y[1])\n",
    "auc_val = roc_auc_score(ytest,y[1])\n",
    "roc_auc_val = auc(fpr,tpr)\n",
    "\n",
    "### Plotting ROC\n",
    "plt.figure(1)\n",
    "lw=1\n",
    "plt.plot(fpr,tpr,color='orange',lw=lw,label='Decision Tree(AUC = %0.2f)'%roc_auc_val)\n",
    "plt.plot([0,1],[0,1],color='blue',lw=lw,linestyle='--')\n",
    "\n",
    "plt.xlim([0.0,1.0])\n",
    "plt.ylim([0.0,1.05])\n",
    "plt.xlabel(\"False Positive Rate\")\n",
    "plt.ylabel(\"True Positive Rate\")\n",
    "plt.title(\"area Under the Curve\")\n",
    "plt.legend(loc=\"lower right\")\n",
    "plt.show()\n",
    "\n",
    "### Printing metrices\n",
    "print(f'accuracy= ',{decitree_metrices[1]},'\\n')\n",
    "print(f'confusion_matrix= \\n',decitree_metrices[0],'\\n')\n",
    "print(f'classification report= \\n',decitree_metrices[2])\n",
    "print(f'f1 score = ',logreg_metrices[3])\n",
    "time_taken=end-start\n",
    "\n",
    "models_res.append(['Decision Tree - Standard Scaler',decitree_metrices[1],auc_val,decitree_metrices[3],time_taken,y[2]])"
   ]
  },
  {
   "cell_type": "markdown",
   "id": "2acd8d49",
   "metadata": {},
   "source": [
    "##### Decision Tree Model Evaluation with MinMax Scaled features"
   ]
  },
  {
   "cell_type": "code",
   "execution_count": 74,
   "id": "d48aa732",
   "metadata": {
    "execution": {
     "iopub.execute_input": "2023-12-23T00:29:22.384625Z",
     "iopub.status.busy": "2023-12-23T00:29:22.383988Z",
     "iopub.status.idle": "2023-12-23T00:36:32.328260Z",
     "shell.execute_reply": "2023-12-23T00:36:32.327430Z",
     "shell.execute_reply.started": "2023-12-23T00:29:22.384587Z"
    },
    "tags": []
   },
   "outputs": [
    {
     "data": {
      "image/png": "[encoded data removed]",
      "text/plain": [
       "<Figure size 640x480 with 1 Axes>"
      ]
     },
     "metadata": {},
     "output_type": "display_data"
    },
    {
     "name": "stdout",
     "output_type": "stream",
     "text": [
      "accuracy=  {0.8513853904282116} \n",
      "\n",
      "confusion_matrix= \n",
      " [[336  56]\n",
      " [  3   2]] \n",
      "\n",
      "classification report= \n",
      "               precision    recall  f1-score   support\n",
      "\n",
      "           0       0.99      0.86      0.92       392\n",
      "           1       0.03      0.40      0.06         5\n",
      "\n",
      "    accuracy                           0.85       397\n",
      "   macro avg       0.51      0.63      0.49       397\n",
      "weighted avg       0.98      0.85      0.91       397\n",
      "\n",
      "f1 score =  0.0847457627118644\n"
     ]
    }
   ],
   "source": [
    "y=deci_tree(xtrain_mm,xtest_mm,ytrain)\n",
    "\n",
    "decitree_metrices=deci_tree_metrices(ytest,y[0])\n",
    "end=time.time()\n",
    "\n",
    "best_decitree_mm=y[3]\n",
    "\n",
    "### Calculation of AUC and ROC\n",
    "fpr,tpr,_= roc_curve(ytest,y[1])\n",
    "auc_val = roc_auc_score(ytest,y[1])\n",
    "roc_auc_val = auc(fpr,tpr)\n",
    "\n",
    "### Plotting ROC\n",
    "plt.figure(1)\n",
    "lw=1\n",
    "plt.plot(fpr,tpr,color='orange',lw=lw,label='Decision Tree(AUC = %0.2f)'%roc_auc_val)\n",
    "plt.plot([0,1],[0,1],color='blue',lw=lw,linestyle='--')\n",
    "\n",
    "plt.xlim([0.0,1.0])\n",
    "plt.ylim([0.0,1.05])\n",
    "plt.xlabel(\"False Positive Rate\")\n",
    "plt.ylabel(\"True Positive Rate\")\n",
    "plt.title(\"area Under the Curve\")\n",
    "plt.legend(loc=\"lower right\")\n",
    "plt.show()\n",
    "\n",
    "### Printing metrices\n",
    "print(f'accuracy= ',{decitree_metrices[1]},'\\n')\n",
    "print(f'confusion_matrix= \\n',decitree_metrices[0],'\\n')\n",
    "print(f'classification report= \\n',decitree_metrices[2])\n",
    "print(f'f1 score = ',logreg_metrices[3])\n",
    "time_taken=end-start\n",
    "\n",
    "models_res.append(['Decision Tree - MinMax Scaler',decitree_metrices[1],auc_val,decitree_metrices[3],time_taken,y[2]])"
   ]
  },
  {
   "cell_type": "markdown",
   "id": "13ca0fbb",
   "metadata": {},
   "source": [
    "### Random Forest Model"
   ]
  },
  {
   "cell_type": "code",
   "execution_count": 75,
   "id": "cabb3f84",
   "metadata": {
    "execution": {
     "iopub.execute_input": "2023-12-23T00:36:32.329618Z",
     "iopub.status.busy": "2023-12-23T00:36:32.329303Z",
     "iopub.status.idle": "2023-12-23T00:36:32.336920Z",
     "shell.execute_reply": "2023-12-23T00:36:32.336090Z",
     "shell.execute_reply.started": "2023-12-23T00:36:32.329595Z"
    }
   },
   "outputs": [],
   "source": [
    "start=time.time()\n",
    "\n",
    "from sklearn.ensemble import RandomForestClassifier\n",
    "\n",
    "f1 = make_scorer(f1_score, average='macro')\n",
    "\n",
    "randforest=RandomForestClassifier()\n",
    "\n",
    "## Hyper_parameter optimisation using Grid Search CV\n",
    "def rand_forest_gridsearch(xtrain,ytrain):\n",
    "    # Define the hyperparameter grid\n",
    "    param_grid={\n",
    "        'max_depth':[4,5,6,7,8,9,10,11,12,13,14],\n",
    "        'n_estimators':np.arange(50,500,100),\n",
    "        'max_features':['auto','sqrt','log2',None],\n",
    "        'criterion':['gini','entropy'],\n",
    "        'min_samples_leaf':randint(1,4)\n",
    "    }\n",
    "    # Perform grid search with cross-validation\n",
    "    grid_search = GridSearchCV(estimator=randforest, param_grid=param_grid, cv=5, scoring=f1, verbose=0)\n",
    "    grid_search.fit(xtrain,ytrain)\n",
    "    return grid_search.best_params_    \n",
    "\n",
    "def rand_forest(xtrain,xtest,ytrain):\n",
    "    best_params = deci_tree_gridsearch(xtrain,ytrain)\n",
    "    best_randforest = RandomForestClassifier(**best_params)\n",
    "    best_randforest.fit(xtrain, ytrain)\n",
    "    y_predict=best_randforest.predict(xtest)\n",
    "    y_predictproba=best_randforest.predict_proba(xtest)[::,1]\n",
    "    return [y_predict,y_predictproba,best_params,best_randforest]\n",
    "\n",
    "def rand_forest_metrices(ytest,ypredict):\n",
    "    con_matrix=confusion_matrix(ytest,ypredict)\n",
    "    accur=accuracy_score(ytest,ypredict)\n",
    "    classf_report=classification_report(ytest,ypredict)\n",
    "    f1_scr=f1_score(ytest,ypredict)\n",
    "    return [con_matrix,accur,classf_report,f1_scr]"
   ]
  },
  {
   "cell_type": "markdown",
   "id": "ae08070b",
   "metadata": {},
   "source": [
    "##### Random Forest Model Evaluation with Standard Scaled features"
   ]
  },
  {
   "cell_type": "code",
   "execution_count": 76,
   "id": "f82bc9e4",
   "metadata": {
    "execution": {
     "iopub.execute_input": "2023-12-23T00:36:32.337990Z",
     "iopub.status.busy": "2023-12-23T00:36:32.337777Z",
     "iopub.status.idle": "2023-12-23T00:43:42.010844Z",
     "shell.execute_reply": "2023-12-23T00:43:42.010072Z",
     "shell.execute_reply.started": "2023-12-23T00:36:32.337969Z"
    }
   },
   "outputs": [
    {
     "data": {
      "image/png": "[encoded data removed]",
      "text/plain": [
       "<Figure size 640x480 with 1 Axes>"
      ]
     },
     "metadata": {},
     "output_type": "display_data"
    },
    {
     "name": "stdout",
     "output_type": "stream",
     "text": [
      "accuracy=  {0.906801007556675} \n",
      "\n",
      "confusion_matrix= \n",
      " [[356  36]\n",
      " [  1   4]] \n",
      "\n",
      "classification report= \n",
      "               precision    recall  f1-score   support\n",
      "\n",
      "           0       1.00      0.91      0.95       392\n",
      "           1       0.10      0.80      0.18         5\n",
      "\n",
      "    accuracy                           0.91       397\n",
      "   macro avg       0.55      0.85      0.56       397\n",
      "weighted avg       0.99      0.91      0.94       397\n",
      "\n",
      "f1 score =  0.1777777777777778\n"
     ]
    }
   ],
   "source": [
    "y=rand_forest(xtrain_ss,xtest_ss,ytrain)\n",
    "\n",
    "randforest_metrices=rand_forest_metrices(ytest,y[0])\n",
    "end=time.time()\n",
    "\n",
    "best_randforest_ss=y[3]\n",
    "\n",
    "### Calculation of AUC and ROC\n",
    "fpr,tpr,_= roc_curve(ytest,y[1])\n",
    "auc_val = roc_auc_score(ytest,y[1])\n",
    "roc_auc_val = auc(fpr,tpr)\n",
    "\n",
    "### Plotting ROC\n",
    "plt.figure(1)\n",
    "lw=1\n",
    "plt.plot(fpr,tpr,color='orange',lw=lw,label='Random Forest (AUC = %0.2f)'%roc_auc_val)\n",
    "plt.plot([0,1],[0,1],color='blue',lw=lw,linestyle='--')\n",
    "\n",
    "plt.xlim([0.0,1.0])\n",
    "plt.ylim([0.0,1.05])\n",
    "plt.xlabel(\"False Positive Rate\")\n",
    "plt.ylabel(\"True Positive Rate\")\n",
    "plt.title(\"area Under the Curve\")\n",
    "plt.legend(loc=\"lower right\")\n",
    "plt.show()\n",
    "\n",
    "### Printing metrices\n",
    "print(f'accuracy= ',{randforest_metrices[1]},'\\n')\n",
    "print(f'confusion_matrix= \\n',randforest_metrices[0],'\\n')\n",
    "print(f'classification report= \\n',randforest_metrices[2])\n",
    "print(f'f1 score = ',randforest_metrices[3])\n",
    "time_taken=end-start\n",
    "\n",
    "models_res.append(['Random Forest - Standard Scaler',randforest_metrices[1],auc_val,randforest_metrices[3],time_taken,y[2]])"
   ]
  },
  {
   "cell_type": "markdown",
   "id": "fcc6eb49",
   "metadata": {},
   "source": [
    "##### Random Forest Model Evaluation with MinMax Scaled features"
   ]
  },
  {
   "cell_type": "code",
   "execution_count": 77,
   "id": "e317fde6",
   "metadata": {
    "execution": {
     "iopub.execute_input": "2023-12-23T00:43:42.011997Z",
     "iopub.status.busy": "2023-12-23T00:43:42.011747Z",
     "iopub.status.idle": "2023-12-23T00:50:51.116667Z",
     "shell.execute_reply": "2023-12-23T00:50:51.115900Z",
     "shell.execute_reply.started": "2023-12-23T00:43:42.011974Z"
    },
    "tags": []
   },
   "outputs": [
    {
     "data": {
      "image/png": "[encoded data removed]",
      "text/plain": [
       "<Figure size 640x480 with 1 Axes>"
      ]
     },
     "metadata": {},
     "output_type": "display_data"
    },
    {
     "name": "stdout",
     "output_type": "stream",
     "text": [
      "accuracy=  {0.9118387909319899} \n",
      "\n",
      "confusion_matrix= \n",
      " [[358  34]\n",
      " [  1   4]] \n",
      "\n",
      "classification report= \n",
      "               precision    recall  f1-score   support\n",
      "\n",
      "           0       1.00      0.91      0.95       392\n",
      "           1       0.11      0.80      0.19         5\n",
      "\n",
      "    accuracy                           0.91       397\n",
      "   macro avg       0.55      0.86      0.57       397\n",
      "weighted avg       0.99      0.91      0.94       397\n",
      "\n",
      "f1 score =  0.18604651162790697\n"
     ]
    }
   ],
   "source": [
    "y=rand_forest(xtrain_mm,xtest_mm,ytrain)\n",
    "\n",
    "randforest_metrices=rand_forest_metrices(ytest,y[0])\n",
    "end=time.time()\n",
    "\n",
    "best_randforest_mm=y[3]\n",
    "\n",
    "### Calculation of AUC and ROC\n",
    "fpr,tpr,_= roc_curve(ytest,y[1])\n",
    "auc_val = roc_auc_score(ytest,y[1])\n",
    "roc_auc_val = auc(fpr,tpr)\n",
    "\n",
    "### Plotting ROC\n",
    "plt.figure(1)\n",
    "lw=1\n",
    "plt.plot(fpr,tpr,color='orange',lw=lw,label='Random Forest (AUC = %0.2f)'%roc_auc_val)\n",
    "plt.plot([0,1],[0,1],color='blue',lw=lw,linestyle='--')\n",
    "\n",
    "plt.xlim([0.0,1.0])\n",
    "plt.ylim([0.0,1.05])\n",
    "plt.xlabel(\"False Positive Rate\")\n",
    "plt.ylabel(\"True Positive Rate\")\n",
    "plt.title(\"area Under the Curve\")\n",
    "plt.legend(loc=\"lower right\")\n",
    "plt.show()\n",
    "\n",
    "### Printing metrices\n",
    "print(f'accuracy= ',{randforest_metrices[1]},'\\n')\n",
    "print(f'confusion_matrix= \\n',randforest_metrices[0],'\\n')\n",
    "print(f'classification report= \\n',randforest_metrices[2])\n",
    "print(f'f1 score = ',randforest_metrices[3])\n",
    "time_taken=end-start\n",
    "\n",
    "models_res.append(['Random Forest - MinMax Scaler',randforest_metrices[1],auc_val,randforest_metrices[3],time_taken,y[2]])"
   ]
  },
  {
   "cell_type": "markdown",
   "id": "44309ec1",
   "metadata": {},
   "source": [
    "### ADABoost Model"
   ]
  },
  {
   "cell_type": "code",
   "execution_count": 78,
   "id": "b045ec77",
   "metadata": {
    "execution": {
     "iopub.execute_input": "2023-12-23T00:50:51.118561Z",
     "iopub.status.busy": "2023-12-23T00:50:51.117961Z",
     "iopub.status.idle": "2023-12-23T00:50:51.128239Z",
     "shell.execute_reply": "2023-12-23T00:50:51.127531Z",
     "shell.execute_reply.started": "2023-12-23T00:50:51.118522Z"
    }
   },
   "outputs": [],
   "source": [
    "start=time.time()\n",
    "\n",
    "from sklearn.ensemble import AdaBoostClassifier\n",
    "\n",
    "f1 = make_scorer(f1_score, average='macro')\n",
    "adaboost=AdaBoostClassifier()\n",
    "\n",
    "## Hyper_parameter optimisation using Grid Search CV\n",
    "def ada_boost_gridsearch(xtrain,ytrain):\n",
    "    # Define the hyperparameter grid\n",
    "    param_grid={\n",
    "        'n_estimators':np.arange(50,500,100),\n",
    "        'learning_rate':[0.01,0.05,0.1,0.05,1]                \n",
    "    }\n",
    "    # Perform grid search with cross-validation\n",
    "    grid_search = GridSearchCV(estimator=adaboost, param_grid=param_grid, scoring=f1, n_jobs=3, verbose=0,cv=5)\n",
    "    grid_search.fit(xtrain,ytrain)\n",
    "    return grid_search.best_params_    \n",
    "\n",
    "def ada_boost(xtrain,xtest,ytrain):\n",
    "    best_params = ada_boost_gridsearch(xtrain,ytrain)\n",
    "    best_adaboost = AdaBoostClassifier(**best_params)\n",
    "    #best_adaboost.set_params(base_estimator=DecisionTreeClassifier())\n",
    "    best_adaboost.fit(xtrain, ytrain)\n",
    "    y_predict=best_adaboost.predict(xtest)\n",
    "    y_predictproba=best_adaboost.predict_proba(xtest)[::,1]\n",
    "    return [y_predict,y_predictproba,best_params,best_adaboost]\n",
    "\n",
    "def ada_boost_metrices(ytest,ypredict):\n",
    "    con_matrix=confusion_matrix(ytest,ypredict)\n",
    "    accur=accuracy_score(ytest,ypredict)\n",
    "    classf_report=classification_report(ytest,ypredict)\n",
    "    f1_scr=f1_score(ytest,ypredict)\n",
    "    return [con_matrix,accur,classf_report,f1_scr]"
   ]
  },
  {
   "cell_type": "markdown",
   "id": "2f2e4ddd",
   "metadata": {},
   "source": [
    "#### ADABoost model evaluation with Standard Scaled features"
   ]
  },
  {
   "cell_type": "code",
   "execution_count": 79,
   "id": "07e980ce",
   "metadata": {
    "execution": {
     "iopub.execute_input": "2023-12-23T00:50:51.129497Z",
     "iopub.status.busy": "2023-12-23T00:50:51.129214Z",
     "iopub.status.idle": "2023-12-23T00:51:34.175015Z",
     "shell.execute_reply": "2023-12-23T00:51:34.174178Z",
     "shell.execute_reply.started": "2023-12-23T00:50:51.129475Z"
    }
   },
   "outputs": [
    {
     "data": {
      "image/png": "[encoded data removed]",
      "text/plain": [
       "<Figure size 640x480 with 1 Axes>"
      ]
     },
     "metadata": {},
     "output_type": "display_data"
    },
    {
     "name": "stdout",
     "output_type": "stream",
     "text": [
      "accuracy=  {0.9370277078085643} \n",
      "\n",
      "confusion_matrix= \n",
      " [[371  21]\n",
      " [  4   1]] \n",
      "\n",
      "classification report= \n",
      "               precision    recall  f1-score   support\n",
      "\n",
      "           0       0.99      0.95      0.97       392\n",
      "           1       0.05      0.20      0.07         5\n",
      "\n",
      "    accuracy                           0.94       397\n",
      "   macro avg       0.52      0.57      0.52       397\n",
      "weighted avg       0.98      0.94      0.96       397\n",
      "\n",
      "f1 score =  0.07407407407407407\n"
     ]
    }
   ],
   "source": [
    "y=ada_boost(xtrain_ss,xtest_ss,ytrain)\n",
    "\n",
    "adaboost_metrices=ada_boost_metrices(ytest,y[0])\n",
    "end=time.time()\n",
    "\n",
    "best_adaboost_ss=y[3]\n",
    "\n",
    "### Calculation of AUC and ROC\n",
    "fpr,tpr,_= roc_curve(ytest,y[1])\n",
    "auc_val = roc_auc_score(ytest,y[1])\n",
    "roc_auc_val = auc(fpr,tpr)\n",
    "\n",
    "### Plotting ROC\n",
    "plt.figure(1)\n",
    "lw=1\n",
    "plt.plot(fpr,tpr,color='orange',lw=lw,label='ADA Boost (AUC = %0.2f)'%roc_auc_val)\n",
    "plt.plot([0,1],[0,1],color='blue',lw=lw,linestyle='--')\n",
    "\n",
    "plt.xlim([0.0,1.0])\n",
    "plt.ylim([0.0,1.05])\n",
    "plt.xlabel(\"False Positive Rate\")\n",
    "plt.ylabel(\"True Positive Rate\")\n",
    "plt.title(\"area Under the Curve\")\n",
    "plt.legend(loc=\"lower right\")\n",
    "plt.show()\n",
    "\n",
    "### Printing metrices\n",
    "print(f'accuracy= ',{adaboost_metrices[1]},'\\n')\n",
    "print(f'confusion_matrix= \\n',adaboost_metrices[0],'\\n')\n",
    "print(f'classification report= \\n',adaboost_metrices[2])\n",
    "print(f'f1 score = ',adaboost_metrices[3])\n",
    "time_taken=end-start\n",
    "\n",
    "models_res.append(['ADA Boost - Standard Scaler',adaboost_metrices[1],auc_val,adaboost_metrices[3],time_taken,y[2]])"
   ]
  },
  {
   "cell_type": "markdown",
   "id": "7529e9cd",
   "metadata": {},
   "source": [
    "#### ADABoost model evaluation with MinMax Scaled features"
   ]
  },
  {
   "cell_type": "code",
   "execution_count": 80,
   "id": "ee4456c7",
   "metadata": {
    "execution": {
     "iopub.execute_input": "2023-12-23T00:51:34.177118Z",
     "iopub.status.busy": "2023-12-23T00:51:34.176409Z",
     "iopub.status.idle": "2023-12-23T00:52:16.629609Z",
     "shell.execute_reply": "2023-12-23T00:52:16.628954Z",
     "shell.execute_reply.started": "2023-12-23T00:51:34.177078Z"
    }
   },
   "outputs": [
    {
     "data": {
      "image/png": "[encoded data removed]",
      "text/plain": [
       "<Figure size 640x480 with 1 Axes>"
      ]
     },
     "metadata": {},
     "output_type": "display_data"
    },
    {
     "name": "stdout",
     "output_type": "stream",
     "text": [
      "accuracy=  {0.9370277078085643} \n",
      "\n",
      "confusion_matrix= \n",
      " [[371  21]\n",
      " [  4   1]] \n",
      "\n",
      "classification report= \n",
      "               precision    recall  f1-score   support\n",
      "\n",
      "           0       0.99      0.95      0.97       392\n",
      "           1       0.05      0.20      0.07         5\n",
      "\n",
      "    accuracy                           0.94       397\n",
      "   macro avg       0.52      0.57      0.52       397\n",
      "weighted avg       0.98      0.94      0.96       397\n",
      "\n",
      "f1 score =  0.07407407407407407\n"
     ]
    }
   ],
   "source": [
    "y=ada_boost(xtrain_mm,xtest_mm,ytrain)\n",
    "\n",
    "adaboost_metrices=ada_boost_metrices(ytest,y[0])\n",
    "end=time.time()\n",
    "\n",
    "best_adaboost_mm=y[3]\n",
    "\n",
    "### Calculation of AUC and ROC\n",
    "fpr,tpr,_= roc_curve(ytest,y[1])\n",
    "auc_val = roc_auc_score(ytest,y[1])\n",
    "roc_auc_val = auc(fpr,tpr)\n",
    "\n",
    "### Plotting ROC\n",
    "plt.figure(1)\n",
    "lw=1\n",
    "plt.plot(fpr,tpr,color='orange',lw=lw,label='ADA Boost (AUC = %0.2f)'%roc_auc_val)\n",
    "plt.plot([0,1],[0,1],color='blue',lw=lw,linestyle='--')\n",
    "\n",
    "plt.xlim([0.0,1.0])\n",
    "plt.ylim([0.0,1.05])\n",
    "plt.xlabel(\"False Positive Rate\")\n",
    "plt.ylabel(\"True Positive Rate\")\n",
    "plt.title(\"area Under the Curve\")\n",
    "plt.legend(loc=\"lower right\")\n",
    "plt.show()\n",
    "\n",
    "### Printing metrices\n",
    "print(f'accuracy= ',{adaboost_metrices[1]},'\\n')\n",
    "print(f'confusion_matrix= \\n',adaboost_metrices[0],'\\n')\n",
    "print(f'classification report= \\n',adaboost_metrices[2])\n",
    "print(f'f1 score = ',adaboost_metrices[3])\n",
    "time_taken=end-start\n",
    "\n",
    "models_res.append(['ADA Boost - MinMax Scaler',adaboost_metrices[1],auc_val,adaboost_metrices[3],time_taken,y[2]])"
   ]
  },
  {
   "cell_type": "markdown",
   "id": "deba3f87",
   "metadata": {},
   "source": [
    "### Gradient Boost Model"
   ]
  },
  {
   "cell_type": "code",
   "execution_count": 81,
   "id": "8e058f89",
   "metadata": {
    "execution": {
     "iopub.execute_input": "2023-12-23T00:52:16.630883Z",
     "iopub.status.busy": "2023-12-23T00:52:16.630545Z",
     "iopub.status.idle": "2023-12-23T00:52:16.637652Z",
     "shell.execute_reply": "2023-12-23T00:52:16.637049Z",
     "shell.execute_reply.started": "2023-12-23T00:52:16.630858Z"
    }
   },
   "outputs": [],
   "source": [
    "start=time.time()\n",
    "\n",
    "from sklearn.ensemble import GradientBoostingClassifier\n",
    "\n",
    "gradboost=GradientBoostingClassifier()\n",
    "f1 = make_scorer(f1_score, average='macro')\n",
    "\n",
    "## Hyper_parameter optimisation using Grid Search CV\n",
    "def grad_boost_gridsearch(xtrain,ytrain):\n",
    "    # Define the hyperparameter grid\n",
    "    param_grid = {\n",
    "        'learning_rate': [0.01, 0.05, 0.1, 1, 0.5],\n",
    "        'max_depth': [3, 4, 5],\n",
    "        'min_samples_leaf': [4, 5, 6],\n",
    "        'subsample': [0.6, 0.7, 0.8],\n",
    "        'n_estimators': [5, 10, 15, 20]\n",
    "    }\n",
    "    # Perform grid search with cross-validation\n",
    "    grid_search = GridSearchCV(estimator=gradboost, param_grid=param_grid, scoring=f1, verbose=0,cv=5)\n",
    "    grid_search.fit(xtrain,ytrain)\n",
    "    return grid_search.best_params_    \n",
    "\n",
    "def grad_boost(xtrain,xtest,ytrain):\n",
    "    best_params = grad_boost_gridsearch(xtrain,ytrain)\n",
    "    best_gradboost = GradientBoostingClassifier(**best_params)\n",
    "    best_gradboost.fit(xtrain, ytrain)\n",
    "    y_predict=best_gradboost.predict(xtest)\n",
    "    y_predictproba=best_gradboost.predict_proba(xtest)[::,1]\n",
    "    return [y_predict,y_predictproba,best_params,best_gradboost]\n",
    "\n",
    "def grad_boost_metrices(ytest,ypredict):\n",
    "    con_matrix=confusion_matrix(ytest,ypredict)\n",
    "    accur=accuracy_score(ytest,ypredict)\n",
    "    classf_report=classification_report(ytest,ypredict)\n",
    "    f1_scr=f1_score(ytest,ypredict)\n",
    "    return [con_matrix,accur,classf_report,f1_scr]"
   ]
  },
  {
   "cell_type": "markdown",
   "id": "654b00e3",
   "metadata": {},
   "source": [
    "#### Gradient Boost Model evaluation with Standard Scaled features"
   ]
  },
  {
   "cell_type": "code",
   "execution_count": 82,
   "id": "caa45ebd",
   "metadata": {
    "execution": {
     "iopub.execute_input": "2023-12-23T00:52:16.638817Z",
     "iopub.status.busy": "2023-12-23T00:52:16.638465Z",
     "iopub.status.idle": "2023-12-23T00:54:21.378937Z",
     "shell.execute_reply": "2023-12-23T00:54:21.378118Z",
     "shell.execute_reply.started": "2023-12-23T00:52:16.638793Z"
    }
   },
   "outputs": [
    {
     "data": {
      "image/png": "[encoded data removed]",
      "text/plain": [
       "<Figure size 640x480 with 1 Axes>"
      ]
     },
     "metadata": {},
     "output_type": "display_data"
    },
    {
     "name": "stdout",
     "output_type": "stream",
     "text": [
      "accuracy=  {0.9521410579345088} \n",
      "\n",
      "confusion_matrix= \n",
      " [[378  14]\n",
      " [  5   0]] \n",
      "\n",
      "classification report= \n",
      "               precision    recall  f1-score   support\n",
      "\n",
      "           0       0.99      0.96      0.98       392\n",
      "           1       0.00      0.00      0.00         5\n",
      "\n",
      "    accuracy                           0.95       397\n",
      "   macro avg       0.49      0.48      0.49       397\n",
      "weighted avg       0.97      0.95      0.96       397\n",
      "\n",
      "f1 score =  0.0\n"
     ]
    }
   ],
   "source": [
    "y=grad_boost(xtrain_ss,xtest_ss,ytrain)\n",
    "\n",
    "gradboost_metrices=grad_boost_metrices(ytest,y[0])\n",
    "end=time.time()\n",
    "\n",
    "best_gradboost_ss=y[3]\n",
    "\n",
    "### Calculation of AUC and ROC\n",
    "fpr,tpr,_= roc_curve(ytest,y[1])\n",
    "auc_val = roc_auc_score(ytest,y[1])\n",
    "roc_auc_val = auc(fpr,tpr)\n",
    "\n",
    "### Plotting ROC\n",
    "plt.figure(1)\n",
    "lw=1\n",
    "plt.plot(fpr,tpr,color='orange',lw=lw,label='Gradient Boost (AUC = %0.2f)'%roc_auc_val)\n",
    "plt.plot([0,1],[0,1],color='blue',lw=lw,linestyle='--')\n",
    "\n",
    "plt.xlim([0.0,1.0])\n",
    "plt.ylim([0.0,1.05])\n",
    "plt.xlabel(\"False Positive Rate\")\n",
    "plt.ylabel(\"True Positive Rate\")\n",
    "plt.title(\"area Under the Curve\")\n",
    "plt.legend(loc=\"lower right\")\n",
    "plt.show()\n",
    "\n",
    "### Printing metrices\n",
    "print(f'accuracy= ',{gradboost_metrices[1]},'\\n')\n",
    "print(f'confusion_matrix= \\n',gradboost_metrices[0],'\\n')\n",
    "print(f'classification report= \\n',gradboost_metrices[2])\n",
    "print(f'f1 score = ',gradboost_metrices[3])\n",
    "time_taken=end-start\n",
    "\n",
    "models_res.append(['Gradient Boost - Standard Scaler',gradboost_metrices[1],auc_val,gradboost_metrices[3],time_taken,y[2]])"
   ]
  },
  {
   "cell_type": "markdown",
   "id": "aa4749bc",
   "metadata": {},
   "source": [
    "#### Gradient Boost Model evaluation with MinMax Scaled features "
   ]
  },
  {
   "cell_type": "code",
   "execution_count": 83,
   "id": "e51d1d13",
   "metadata": {
    "execution": {
     "iopub.execute_input": "2023-12-23T00:54:21.380257Z",
     "iopub.status.busy": "2023-12-23T00:54:21.379962Z",
     "iopub.status.idle": "2023-12-23T00:56:27.724904Z",
     "shell.execute_reply": "2023-12-23T00:56:27.724098Z",
     "shell.execute_reply.started": "2023-12-23T00:54:21.380233Z"
    }
   },
   "outputs": [
    {
     "data": {
      "image/png": "[encoded data removed]",
      "text/plain": [
       "<Figure size 640x480 with 1 Axes>"
      ]
     },
     "metadata": {},
     "output_type": "display_data"
    },
    {
     "name": "stdout",
     "output_type": "stream",
     "text": [
      "accuracy=  {0.9596977329974811} \n",
      "\n",
      "confusion_matrix= \n",
      " [[380  12]\n",
      " [  4   1]] \n",
      "\n",
      "classification report= \n",
      "               precision    recall  f1-score   support\n",
      "\n",
      "           0       0.99      0.97      0.98       392\n",
      "           1       0.08      0.20      0.11         5\n",
      "\n",
      "    accuracy                           0.96       397\n",
      "   macro avg       0.53      0.58      0.55       397\n",
      "weighted avg       0.98      0.96      0.97       397\n",
      "\n",
      "f1 score =  0.1111111111111111\n"
     ]
    }
   ],
   "source": [
    "y=grad_boost(xtrain_mm,xtest_mm,ytrain)\n",
    "\n",
    "gradboost_metrices=grad_boost_metrices(ytest,y[0])\n",
    "end=time.time()\n",
    "\n",
    "best_gradboost_mm=y[3]\n",
    "\n",
    "### Calculation of AUC and ROC\n",
    "fpr,tpr,_= roc_curve(ytest,y[1])\n",
    "auc_val = roc_auc_score(ytest,y[1])\n",
    "roc_auc_val = auc(fpr,tpr)\n",
    "\n",
    "### Plotting ROC\n",
    "plt.figure(1)\n",
    "lw=1\n",
    "plt.plot(fpr,tpr,color='orange',lw=lw,label='Gradient Boost (AUC = %0.2f)'%roc_auc_val)\n",
    "plt.plot([0,1],[0,1],color='blue',lw=lw,linestyle='--')\n",
    "\n",
    "plt.xlim([0.0,1.0])\n",
    "plt.ylim([0.0,1.05])\n",
    "plt.xlabel(\"False Positive Rate\")\n",
    "plt.ylabel(\"True Positive Rate\")\n",
    "plt.title(\"area Under the Curve\")\n",
    "plt.legend(loc=\"lower right\")\n",
    "plt.show()\n",
    "\n",
    "### Printing metrices\n",
    "print(f'accuracy= ',{gradboost_metrices[1]},'\\n')\n",
    "print(f'confusion_matrix= \\n',gradboost_metrices[0],'\\n')\n",
    "print(f'classification report= \\n',gradboost_metrices[2])\n",
    "print(f'f1 score = ',gradboost_metrices[3])\n",
    "time_taken=end-start\n",
    "\n",
    "models_res.append(['Gradient Boost - MinMax Scaler',gradboost_metrices[1],auc_val,gradboost_metrices[3],time_taken,y[2]])"
   ]
  },
  {
   "cell_type": "markdown",
   "id": "e1e8dff6",
   "metadata": {},
   "source": [
    "### K-Nearest Neighbours Model"
   ]
  },
  {
   "cell_type": "code",
   "execution_count": 84,
   "id": "c8decaa7",
   "metadata": {
    "execution": {
     "iopub.execute_input": "2023-12-23T00:56:27.726247Z",
     "iopub.status.busy": "2023-12-23T00:56:27.725925Z",
     "iopub.status.idle": "2023-12-23T00:56:27.762062Z",
     "shell.execute_reply": "2023-12-23T00:56:27.761524Z",
     "shell.execute_reply.started": "2023-12-23T00:56:27.726224Z"
    }
   },
   "outputs": [],
   "source": [
    "from sklearn.neighbors import KNeighborsClassifier\n",
    "\n",
    "knn=KNeighborsClassifier(n_neighbors=3)\n",
    "knn.fit(xtrain_ss,ytrain)\n",
    "y_pred_knn=knn.predict(xtest_ss)"
   ]
  },
  {
   "cell_type": "code",
   "execution_count": 85,
   "id": "ce4904b2",
   "metadata": {
    "execution": {
     "iopub.execute_input": "2023-12-23T00:56:27.763249Z",
     "iopub.status.busy": "2023-12-23T00:56:27.762840Z",
     "iopub.status.idle": "2023-12-23T00:56:27.777121Z",
     "shell.execute_reply": "2023-12-23T00:56:27.776365Z",
     "shell.execute_reply.started": "2023-12-23T00:56:27.763225Z"
    }
   },
   "outputs": [
    {
     "name": "stdout",
     "output_type": "stream",
     "text": [
      "              precision    recall  f1-score   support\n",
      "\n",
      "           0       0.99      0.89      0.94       392\n",
      "           1       0.02      0.20      0.04         5\n",
      "\n",
      "    accuracy                           0.88       397\n",
      "   macro avg       0.51      0.55      0.49       397\n",
      "weighted avg       0.98      0.88      0.93       397\n",
      "\n"
     ]
    }
   ],
   "source": [
    "class_report=classification_report(ytest,y_pred_knn)\n",
    "print(class_report)"
   ]
  },
  {
   "cell_type": "markdown",
   "id": "08c55cf0",
   "metadata": {},
   "source": [
    "#### Choose a value of K"
   ]
  },
  {
   "cell_type": "code",
   "execution_count": 86,
   "id": "7c27a93e",
   "metadata": {
    "execution": {
     "iopub.execute_input": "2023-12-23T00:56:27.779968Z",
     "iopub.status.busy": "2023-12-23T00:56:27.777896Z",
     "iopub.status.idle": "2023-12-23T00:56:33.373723Z",
     "shell.execute_reply": "2023-12-23T00:56:33.373087Z",
     "shell.execute_reply.started": "2023-12-23T00:56:27.779944Z"
    }
   },
   "outputs": [],
   "source": [
    "acc_score=[]\n",
    "start=time.time()\n",
    "\n",
    "for i in range(1,40):\n",
    "    \n",
    "    knn = KNeighborsClassifier(n_neighbors=i)\n",
    "    score=cross_val_score(knn,x_ss,y_copy,cv=10)\n",
    "    acc_score.append(score.mean())"
   ]
  },
  {
   "cell_type": "code",
   "execution_count": 87,
   "id": "8177636b",
   "metadata": {
    "execution": {
     "iopub.execute_input": "2023-12-23T00:56:33.375467Z",
     "iopub.status.busy": "2023-12-23T00:56:33.374805Z",
     "iopub.status.idle": "2023-12-23T00:56:33.631632Z",
     "shell.execute_reply": "2023-12-23T00:56:33.630949Z",
     "shell.execute_reply.started": "2023-12-23T00:56:33.375429Z"
    }
   },
   "outputs": [
    {
     "data": {
      "image/png": "[encoded data removed]",
      "text/plain": [
       "<Figure size 1000x600 with 1 Axes>"
      ]
     },
     "metadata": {},
     "output_type": "display_data"
    }
   ],
   "source": [
    "plt.figure(figsize=(10,6))\n",
    "plt.plot(range(1,40),acc_score,color='blue', linestyle='dashed', marker='o',\n",
    "         markerfacecolor='red', markersize=10)\n",
    "plt.title('Accuracy Rate vs. K Value')\n",
    "plt.xlabel('K')\n",
    "plt.ylabel('Accuracy Rate')\n",
    "# plt.yticks(np.arange(.87,.94,.1))\n",
    "plt.show()"
   ]
  },
  {
   "cell_type": "code",
   "execution_count": 88,
   "id": "57e60618",
   "metadata": {
    "execution": {
     "iopub.execute_input": "2023-12-23T00:56:33.632994Z",
     "iopub.status.busy": "2023-12-23T00:56:33.632668Z",
     "iopub.status.idle": "2023-12-23T00:56:33.729147Z",
     "shell.execute_reply": "2023-12-23T00:56:33.728477Z",
     "shell.execute_reply.started": "2023-12-23T00:56:33.632970Z"
    }
   },
   "outputs": [
    {
     "name": "stdout",
     "output_type": "stream",
     "text": [
      "[[273 119]\n",
      " [  2   3]]\n",
      "              precision    recall  f1-score   support\n",
      "\n",
      "           0       0.99      0.70      0.82       392\n",
      "           1       0.02      0.60      0.05         5\n",
      "\n",
      "    accuracy                           0.70       397\n",
      "   macro avg       0.51      0.65      0.43       397\n",
      "weighted avg       0.98      0.70      0.81       397\n",
      "\n",
      "f1 score =  0.04724409448818897\n"
     ]
    }
   ],
   "source": [
    "# FROM THE ABOVE GRAPH THE OPTIMAL VALUE OF K CAN BE CHOSEN AS 6\n",
    "\n",
    "# CHECKING THE MODEL FOR Manhattan  DISTANCE\n",
    "\n",
    "knn_man=KNeighborsClassifier(n_neighbors=6,p=1)\n",
    "knn.fit(xtrain_ss,ytrain)\n",
    "y_pred_knn=knn.predict(xtest_ss)\n",
    "y_pred_proba_k=knn.predict_proba(xtest_ss)[::,1]\n",
    "\n",
    "\n",
    "acc_knn=accuracy_score(ytest,y_pred_knn)\n",
    "f1_score_knn=f1_score(ytest,y_pred_knn)\n",
    "\n",
    "tpr_k,fpr_k,_=roc_curve(ytest,y_pred_proba_k)\n",
    "auc_k=auc(tpr_k,fpr_k)\n",
    "print(confusion_matrix(ytest,y_pred_knn))\n",
    "\n",
    "class_report=classification_report(ytest,y_pred_knn)\n",
    "print(class_report)\n",
    "\n",
    "print(f'f1 score = ',f1_score(ytest,y_pred_knn))\n",
    "\n",
    "end=time.time()\n",
    "time_taken=end-start\n",
    "\n",
    "models_res.append(['KNN',acc_knn,auc_k,f1_score_knn,time_taken,{'Method':'Manhattan','K':6}])"
   ]
  },
  {
   "cell_type": "code",
   "execution_count": 89,
   "id": "68111022",
   "metadata": {
    "execution": {
     "iopub.execute_input": "2023-12-23T00:56:33.730530Z",
     "iopub.status.busy": "2023-12-23T00:56:33.729988Z",
     "iopub.status.idle": "2023-12-23T00:56:33.825260Z",
     "shell.execute_reply": "2023-12-23T00:56:33.824503Z",
     "shell.execute_reply.started": "2023-12-23T00:56:33.730506Z"
    }
   },
   "outputs": [
    {
     "name": "stdout",
     "output_type": "stream",
     "text": [
      "[[273 119]\n",
      " [  2   3]]\n",
      "              precision    recall  f1-score   support\n",
      "\n",
      "           0       0.99      0.70      0.82       392\n",
      "           1       0.02      0.60      0.05         5\n",
      "\n",
      "    accuracy                           0.70       397\n",
      "   macro avg       0.51      0.65      0.43       397\n",
      "weighted avg       0.98      0.70      0.81       397\n",
      "\n",
      "f1 score =  0.04724409448818897\n"
     ]
    }
   ],
   "source": [
    "# CHECKING THE MODEL FOR Euclidean DISTANCE\n",
    "from sklearn.metrics import auc\n",
    "knn_euc=KNeighborsClassifier(n_neighbors=6,p=2)\n",
    "knn.fit(xtrain_ss,ytrain)\n",
    "y_pred_knn=knn.predict(xtest_ss)\n",
    "y_pred_proba_k=knn.predict_proba(xtest_ss)[::,1]\n",
    "\n",
    "acc_knn=accuracy_score(ytest,y_pred_knn)\n",
    "f1_score_knn=f1_score(ytest,y_pred_knn)\n",
    "\n",
    "tpr_k,fpr_k,_=roc_curve(ytest,y_pred_proba_k)\n",
    "auc_k=auc(tpr_k,fpr_k)\n",
    "\n",
    "print(confusion_matrix(ytest,y_pred_knn))\n",
    "\n",
    "class_report=classification_report(ytest,y_pred_knn)\n",
    "print(class_report)\n",
    "\n",
    "f1_score_knn=f1_score(ytest,y_pred_knn)\n",
    "print(f'f1 score = ',f1_score_knn)\n",
    "\n",
    "models_res.append(['KNN',acc_knn,auc_k,f1_score_knn,time_taken,{'Method':'Eucledian','K':6}])"
   ]
  },
  {
   "cell_type": "markdown",
   "id": "862b392d",
   "metadata": {},
   "source": [
    "### SVM Model"
   ]
  },
  {
   "cell_type": "code",
   "execution_count": 90,
   "id": "f062ca64",
   "metadata": {
    "execution": {
     "iopub.execute_input": "2023-12-23T00:56:33.827000Z",
     "iopub.status.busy": "2023-12-23T00:56:33.826399Z",
     "iopub.status.idle": "2023-12-23T00:56:33.834322Z",
     "shell.execute_reply": "2023-12-23T00:56:33.833566Z",
     "shell.execute_reply.started": "2023-12-23T00:56:33.826963Z"
    }
   },
   "outputs": [],
   "source": [
    "start=time.time()\n",
    "\n",
    "from sklearn.svm import SVC\n",
    "\n",
    "svm=SVC()\n",
    "\n",
    "## Hyper_parameter optimisation using Grid Search CV\n",
    "def svm_model_gridsearch(xtrain,ytrain):\n",
    "    # Define the hyperparameter grid\n",
    "    param_grid = {'C': [0.1, 1, 10, 100, 1000], 'gamma': [1, 0.1, 0.01, 0.001, 0.0001], 'kernel': ['rbf','poly','linear']}\n",
    "    # Perform grid search with cross-validation\n",
    "    grid_search = GridSearchCV(estimator=svm, param_grid=param_grid, scoring='accuracy', verbose=0,cv=5)\n",
    "    grid_search.fit(xtrain,ytrain)\n",
    "    return grid_search.best_params_    \n",
    "\n",
    "def svm_model(xtrain,xtest,ytrain):\n",
    "    best_params = svm_model_gridsearch(xtrain,ytrain)\n",
    "    best_svm = SVC(**best_params, probability=True)\n",
    "    best_svm.fit(xtrain, ytrain)\n",
    "    y_predict=best_svm.predict(xtest)\n",
    "    y_predictproba=best_svm.predict_proba(xtest)[::,1]\n",
    "    return [y_predict,y_predictproba,best_params,best_svm]\n",
    "\n",
    "def svm_model_metrices(ytest,ypredict):\n",
    "    con_matrix=confusion_matrix(ytest,ypredict)\n",
    "    accur=accuracy_score(ytest,ypredict)\n",
    "    classf_report=classification_report(ytest,ypredict)\n",
    "    f1_scr=f1_score(ytest,ypredict)\n",
    "    return [con_matrix,accur,classf_report,f1_scr]"
   ]
  },
  {
   "cell_type": "markdown",
   "id": "60ff2edd",
   "metadata": {},
   "source": [
    "##### SVM model evaluation with Standard Scaled features"
   ]
  },
  {
   "cell_type": "code",
   "execution_count": 91,
   "id": "2719aca3",
   "metadata": {
    "execution": {
     "iopub.execute_input": "2023-12-23T00:56:33.836090Z",
     "iopub.status.busy": "2023-12-23T00:56:33.835452Z",
     "iopub.status.idle": "2023-12-23T01:26:35.303758Z",
     "shell.execute_reply": "2023-12-23T01:26:35.302930Z",
     "shell.execute_reply.started": "2023-12-23T00:56:33.836054Z"
    },
    "tags": []
   },
   "outputs": [
    {
     "data": {
      "image/png": "[encoded data removed]",
      "text/plain": [
       "<Figure size 640x480 with 1 Axes>"
      ]
     },
     "metadata": {},
     "output_type": "display_data"
    },
    {
     "name": "stdout",
     "output_type": "stream",
     "text": [
      "accuracy=  {0.7758186397984886} \n",
      "\n",
      "confusion_matrix= \n",
      " [[306  86]\n",
      " [  3   2]] \n",
      "\n",
      "classification report= \n",
      "               precision    recall  f1-score   support\n",
      "\n",
      "           0       0.99      0.78      0.87       392\n",
      "           1       0.02      0.40      0.04         5\n",
      "\n",
      "    accuracy                           0.78       397\n",
      "   macro avg       0.51      0.59      0.46       397\n",
      "weighted avg       0.98      0.78      0.86       397\n",
      "\n",
      "f1 score =  0.043010752688172046\n"
     ]
    }
   ],
   "source": [
    "y=svm_model(xtrain_ss,xtest_ss,ytrain)\n",
    "\n",
    "svm_metrices=svm_model_metrices(ytest,y[0])\n",
    "end=time.time()\n",
    "\n",
    "best_svm_ss=y[3]\n",
    "\n",
    "### Calculation of AUC and ROC\n",
    "fpr,tpr,_= roc_curve(ytest,y[1])\n",
    "auc_val = roc_auc_score(ytest,y[1])\n",
    "roc_auc_val = auc(fpr,tpr)\n",
    "\n",
    "### Plotting ROC\n",
    "plt.figure(1)\n",
    "lw=1\n",
    "plt.plot(fpr,tpr,color='orange',lw=lw,label='Random Forest (AUC = %0.2f)'%roc_auc_val)\n",
    "plt.plot([0,1],[0,1],color='blue',lw=lw,linestyle='--')\n",
    "\n",
    "plt.xlim([0.0,1.0])\n",
    "plt.ylim([0.0,1.05])\n",
    "plt.xlabel(\"False Positive Rate\")\n",
    "plt.ylabel(\"True Positive Rate\")\n",
    "plt.title(\"area Under the Curve\")\n",
    "plt.legend(loc=\"lower right\")\n",
    "plt.show()\n",
    "\n",
    "### Printing metrices\n",
    "print(f'accuracy= ',{svm_metrices[1]},'\\n')\n",
    "print(f'confusion_matrix= \\n',svm_metrices[0],'\\n')\n",
    "print(f'classification report= \\n',svm_metrices[2])\n",
    "print(f'f1 score = ',svm_metrices[3])\n",
    "time_taken=end-start\n",
    "\n",
    "models_res.append(['SVM - MinMax Scaler',svm_metrices[1],auc_val,svm_metrices[3],time_taken,y[2]])"
   ]
  },
  {
   "cell_type": "markdown",
   "id": "47d37091",
   "metadata": {},
   "source": [
    "#### SVM model evaluation with MinMax Scaled features"
   ]
  },
  {
   "cell_type": "code",
   "execution_count": 92,
   "id": "24fa0f80",
   "metadata": {
    "execution": {
     "iopub.execute_input": "2023-12-23T01:26:35.305048Z",
     "iopub.status.busy": "2023-12-23T01:26:35.304739Z",
     "iopub.status.idle": "2023-12-23T01:58:50.503759Z",
     "shell.execute_reply": "2023-12-23T01:58:50.503018Z",
     "shell.execute_reply.started": "2023-12-23T01:26:35.305024Z"
    },
    "tags": []
   },
   "outputs": [
    {
     "data": {
      "image/png": "[encoded data removed]",
      "text/plain": [
       "<Figure size 640x480 with 1 Axes>"
      ]
     },
     "metadata": {},
     "output_type": "display_data"
    },
    {
     "name": "stdout",
     "output_type": "stream",
     "text": [
      "accuracy=  {0.7329974811083123} \n",
      "\n",
      "confusion_matrix= \n",
      " [[286 106]\n",
      " [  0   5]] \n",
      "\n",
      "classification report= \n",
      "               precision    recall  f1-score   support\n",
      "\n",
      "           0       1.00      0.73      0.84       392\n",
      "           1       0.05      1.00      0.09         5\n",
      "\n",
      "    accuracy                           0.73       397\n",
      "   macro avg       0.52      0.86      0.46       397\n",
      "weighted avg       0.99      0.73      0.83       397\n",
      "\n",
      "f1 score =  0.08620689655172413\n"
     ]
    }
   ],
   "source": [
    "y=svm_model(xtrain_mm,xtest_mm,ytrain)\n",
    "\n",
    "svm_metrices=svm_model_metrices(ytest,y[0])\n",
    "end=time.time()\n",
    "\n",
    "best_svm_mm=y[3]\n",
    "\n",
    "### Calculation of AUC and ROC\n",
    "fpr,tpr,_= roc_curve(ytest,y[1])\n",
    "auc_val = roc_auc_score(ytest,y[1])\n",
    "roc_auc_val = auc(fpr,tpr)\n",
    "\n",
    "### Plotting ROC\n",
    "plt.figure(1)\n",
    "lw=1\n",
    "plt.plot(fpr,tpr,color='orange',lw=lw,label='Random Forest (AUC = %0.2f)'%roc_auc_val)\n",
    "plt.plot([0,1],[0,1],color='blue',lw=lw,linestyle='--')\n",
    "\n",
    "plt.xlim([0.0,1.0])\n",
    "plt.ylim([0.0,1.05])\n",
    "plt.xlabel(\"False Positive Rate\")\n",
    "plt.ylabel(\"True Positive Rate\")\n",
    "plt.title(\"area Under the Curve\")\n",
    "plt.legend(loc=\"lower right\")\n",
    "plt.show()\n",
    "\n",
    "### Printing metrices\n",
    "print(f'accuracy= ',{svm_metrices[1]},'\\n')\n",
    "print(f'confusion_matrix= \\n',svm_metrices[0],'\\n')\n",
    "print(f'classification report= \\n',svm_metrices[2])\n",
    "print(f'f1 score = ',svm_metrices[3])\n",
    "time_taken=end-start\n",
    "\n",
    "models_res.append(['SVM - MinMax Scaler',svm_metrices[1],auc_val,svm_metrices[3],time_taken,y[2]])"
   ]
  },
  {
   "cell_type": "markdown",
   "id": "2d80afb1",
   "metadata": {},
   "source": [
    "### Summary of all the models performed above"
   ]
  },
  {
   "cell_type": "code",
   "execution_count": 93,
   "id": "7ac09cac",
   "metadata": {
    "execution": {
     "iopub.execute_input": "2023-12-23T01:58:50.505076Z",
     "iopub.status.busy": "2023-12-23T01:58:50.504775Z",
     "iopub.status.idle": "2023-12-23T01:58:50.509802Z",
     "shell.execute_reply": "2023-12-23T01:58:50.509192Z",
     "shell.execute_reply.started": "2023-12-23T01:58:50.505052Z"
    }
   },
   "outputs": [],
   "source": [
    "models_summary=pd.DataFrame(models_res,columns=['Algorithm','Accuracy','AUC','F1 score','Time Taken(sec)','Best Hyper Parameters'])"
   ]
  },
  {
   "cell_type": "code",
   "execution_count": 94,
   "id": "9fb0569c",
   "metadata": {
    "execution": {
     "iopub.execute_input": "2023-12-23T01:58:50.511004Z",
     "iopub.status.busy": "2023-12-23T01:58:50.510625Z",
     "iopub.status.idle": "2023-12-23T01:58:50.530159Z",
     "shell.execute_reply": "2023-12-23T01:58:50.529502Z",
     "shell.execute_reply.started": "2023-12-23T01:58:50.510981Z"
    }
   },
   "outputs": [
    {
     "data": {
      "text/html": [
       "<div>\n",
       "<style scoped>\n",
       "    .dataframe tbody tr th:only-of-type {\n",
       "        vertical-align: middle;\n",
       "    }\n",
       "\n",
       "    .dataframe tbody tr th {\n",
       "        vertical-align: top;\n",
       "    }\n",
       "\n",
       "    .dataframe thead th {\n",
       "        text-align: right;\n",
       "    }\n",
       "</style>\n",
       "<table border=\"1\" class=\"dataframe\">\n",
       "  <thead>\n",
       "    <tr style=\"text-align: right;\">\n",
       "      <th></th>\n",
       "      <th>Algorithm</th>\n",
       "      <th>Accuracy</th>\n",
       "      <th>AUC</th>\n",
       "      <th>F1 score</th>\n",
       "      <th>Time Taken(sec)</th>\n",
       "      <th>Best Hyper Parameters</th>\n",
       "    </tr>\n",
       "  </thead>\n",
       "  <tbody>\n",
       "    <tr>\n",
       "      <th>0</th>\n",
       "      <td>Logistic regression - Standard Scaler</td>\n",
       "      <td>0.715365</td>\n",
       "      <td>0.980612</td>\n",
       "      <td>0.081301</td>\n",
       "      <td>0.346522</td>\n",
       "      <td>{'C': 0.001}</td>\n",
       "    </tr>\n",
       "    <tr>\n",
       "      <th>1</th>\n",
       "      <td>Logistic regression - MinMax Scaler</td>\n",
       "      <td>0.727960</td>\n",
       "      <td>0.964286</td>\n",
       "      <td>0.084746</td>\n",
       "      <td>1.071092</td>\n",
       "      <td>{'solver': 'liblinear'}</td>\n",
       "    </tr>\n",
       "    <tr>\n",
       "      <th>2</th>\n",
       "      <td>Decision Tree - Standard Scaler</td>\n",
       "      <td>0.851385</td>\n",
       "      <td>0.901276</td>\n",
       "      <td>0.063492</td>\n",
       "      <td>429.962499</td>\n",
       "      <td>{'criterion': 'gini', 'max_depth': 7, 'max_leaf_nodes': 20, 'min_samples_leaf': 3, 'min_samples_split': 4}</td>\n",
       "    </tr>\n",
       "    <tr>\n",
       "      <th>3</th>\n",
       "      <td>Decision Tree - MinMax Scaler</td>\n",
       "      <td>0.851385</td>\n",
       "      <td>0.898214</td>\n",
       "      <td>0.063492</td>\n",
       "      <td>859.909865</td>\n",
       "      <td>{'criterion': 'gini', 'max_depth': 7, 'max_leaf_nodes': 20, 'min_samples_leaf': 3, 'min_samples_split': 4}</td>\n",
       "    </tr>\n",
       "    <tr>\n",
       "      <th>4</th>\n",
       "      <td>Random Forest - Standard Scaler</td>\n",
       "      <td>0.906801</td>\n",
       "      <td>0.925510</td>\n",
       "      <td>0.177778</td>\n",
       "      <td>429.465198</td>\n",
       "      <td>{'criterion': 'gini', 'max_depth': 7, 'max_leaf_nodes': 20, 'min_samples_leaf': 3, 'min_samples_split': 3}</td>\n",
       "    </tr>\n",
       "    <tr>\n",
       "      <th>5</th>\n",
       "      <td>Random Forest - MinMax Scaler</td>\n",
       "      <td>0.911839</td>\n",
       "      <td>0.919898</td>\n",
       "      <td>0.186047</td>\n",
       "      <td>858.575135</td>\n",
       "      <td>{'criterion': 'gini', 'max_depth': 7, 'max_leaf_nodes': 20, 'min_samples_leaf': 3, 'min_samples_split': 6}</td>\n",
       "    </tr>\n",
       "    <tr>\n",
       "      <th>6</th>\n",
       "      <td>ADA Boost - Standard Scaler</td>\n",
       "      <td>0.937028</td>\n",
       "      <td>0.759184</td>\n",
       "      <td>0.074074</td>\n",
       "      <td>42.834769</td>\n",
       "      <td>{'learning_rate': 1, 'n_estimators': 350}</td>\n",
       "    </tr>\n",
       "    <tr>\n",
       "      <th>7</th>\n",
       "      <td>ADA Boost - MinMax Scaler</td>\n",
       "      <td>0.937028</td>\n",
       "      <td>0.759184</td>\n",
       "      <td>0.074074</td>\n",
       "      <td>85.294136</td>\n",
       "      <td>{'learning_rate': 1, 'n_estimators': 350}</td>\n",
       "    </tr>\n",
       "    <tr>\n",
       "      <th>8</th>\n",
       "      <td>Gradient Boost - Standard Scaler</td>\n",
       "      <td>0.952141</td>\n",
       "      <td>0.848980</td>\n",
       "      <td>0.000000</td>\n",
       "      <td>124.536513</td>\n",
       "      <td>{'learning_rate': 1, 'max_depth': 4, 'min_samples_leaf': 4, 'n_estimators': 20, 'subsample': 0.8}</td>\n",
       "    </tr>\n",
       "    <tr>\n",
       "      <th>9</th>\n",
       "      <td>Gradient Boost - MinMax Scaler</td>\n",
       "      <td>0.959698</td>\n",
       "      <td>0.744388</td>\n",
       "      <td>0.111111</td>\n",
       "      <td>250.876758</td>\n",
       "      <td>{'learning_rate': 1, 'max_depth': 5, 'min_samples_leaf': 5, 'n_estimators': 20, 'subsample': 0.8}</td>\n",
       "    </tr>\n",
       "    <tr>\n",
       "      <th>10</th>\n",
       "      <td>KNN</td>\n",
       "      <td>0.695214</td>\n",
       "      <td>0.786735</td>\n",
       "      <td>0.047244</td>\n",
       "      <td>5.944644</td>\n",
       "      <td>{'Method': 'Manhattan', 'K': 6}</td>\n",
       "    </tr>\n",
       "    <tr>\n",
       "      <th>11</th>\n",
       "      <td>KNN</td>\n",
       "      <td>0.695214</td>\n",
       "      <td>0.786735</td>\n",
       "      <td>0.047244</td>\n",
       "      <td>5.944644</td>\n",
       "      <td>{'Method': 'Eucledian', 'K': 6}</td>\n",
       "    </tr>\n",
       "    <tr>\n",
       "      <th>12</th>\n",
       "      <td>SVM - MinMax Scaler</td>\n",
       "      <td>0.775819</td>\n",
       "      <td>0.649490</td>\n",
       "      <td>0.043011</td>\n",
       "      <td>1801.260740</td>\n",
       "      <td>{'C': 0.99, 'degree': 2, 'gamma': 0.05, 'kernel': 'poly'}</td>\n",
       "    </tr>\n",
       "    <tr>\n",
       "      <th>13</th>\n",
       "      <td>SVM - MinMax Scaler</td>\n",
       "      <td>0.732997</td>\n",
       "      <td>0.986735</td>\n",
       "      <td>0.086207</td>\n",
       "      <td>3736.460127</td>\n",
       "      <td>{'C': 0.93, 'degree': 3, 'gamma': 0.05, 'kernel': 'poly'}</td>\n",
       "    </tr>\n",
       "  </tbody>\n",
       "</table>\n",
       "</div>"
      ],
      "text/plain": [
       "                                Algorithm  Accuracy       AUC  F1 score  \\\n",
       "0   Logistic regression - Standard Scaler  0.715365  0.980612  0.081301   \n",
       "1     Logistic regression - MinMax Scaler  0.727960  0.964286  0.084746   \n",
       "2         Decision Tree - Standard Scaler  0.851385  0.901276  0.063492   \n",
       "3           Decision Tree - MinMax Scaler  0.851385  0.898214  0.063492   \n",
       "4         Random Forest - Standard Scaler  0.906801  0.925510  0.177778   \n",
       "5           Random Forest - MinMax Scaler  0.911839  0.919898  0.186047   \n",
       "6             ADA Boost - Standard Scaler  0.937028  0.759184  0.074074   \n",
       "7               ADA Boost - MinMax Scaler  0.937028  0.759184  0.074074   \n",
       "8        Gradient Boost - Standard Scaler  0.952141  0.848980  0.000000   \n",
       "9          Gradient Boost - MinMax Scaler  0.959698  0.744388  0.111111   \n",
       "10                                    KNN  0.695214  0.786735  0.047244   \n",
       "11                                    KNN  0.695214  0.786735  0.047244   \n",
       "12                    SVM - MinMax Scaler  0.775819  0.649490  0.043011   \n",
       "13                    SVM - MinMax Scaler  0.732997  0.986735  0.086207   \n",
       "\n",
       "    Time Taken(sec)  \\\n",
       "0          0.346522   \n",
       "1          1.071092   \n",
       "2        429.962499   \n",
       "3        859.909865   \n",
       "4        429.465198   \n",
       "5        858.575135   \n",
       "6         42.834769   \n",
       "7         85.294136   \n",
       "8        124.536513   \n",
       "9        250.876758   \n",
       "10         5.944644   \n",
       "11         5.944644   \n",
       "12      1801.260740   \n",
       "13      3736.460127   \n",
       "\n",
       "                                                                                         Best Hyper Parameters  \n",
       "0                                                                                                 {'C': 0.001}  \n",
       "1                                                                                      {'solver': 'liblinear'}  \n",
       "2   {'criterion': 'gini', 'max_depth': 7, 'max_leaf_nodes': 20, 'min_samples_leaf': 3, 'min_samples_split': 4}  \n",
       "3   {'criterion': 'gini', 'max_depth': 7, 'max_leaf_nodes': 20, 'min_samples_leaf': 3, 'min_samples_split': 4}  \n",
       "4   {'criterion': 'gini', 'max_depth': 7, 'max_leaf_nodes': 20, 'min_samples_leaf': 3, 'min_samples_split': 3}  \n",
       "5   {'criterion': 'gini', 'max_depth': 7, 'max_leaf_nodes': 20, 'min_samples_leaf': 3, 'min_samples_split': 6}  \n",
       "6                                                                    {'learning_rate': 1, 'n_estimators': 350}  \n",
       "7                                                                    {'learning_rate': 1, 'n_estimators': 350}  \n",
       "8            {'learning_rate': 1, 'max_depth': 4, 'min_samples_leaf': 4, 'n_estimators': 20, 'subsample': 0.8}  \n",
       "9            {'learning_rate': 1, 'max_depth': 5, 'min_samples_leaf': 5, 'n_estimators': 20, 'subsample': 0.8}  \n",
       "10                                                                             {'Method': 'Manhattan', 'K': 6}  \n",
       "11                                                                             {'Method': 'Eucledian', 'K': 6}  \n",
       "12                                                   {'C': 0.99, 'degree': 2, 'gamma': 0.05, 'kernel': 'poly'}  \n",
       "13                                                   {'C': 0.93, 'degree': 3, 'gamma': 0.05, 'kernel': 'poly'}  "
      ]
     },
     "execution_count": 94,
     "metadata": {},
     "output_type": "execute_result"
    }
   ],
   "source": [
    "pd.set_option('max_colwidth', None)\n",
    "models_summary"
   ]
  },
  {
   "cell_type": "code",
   "execution_count": 95,
   "id": "e0481dc2",
   "metadata": {
    "execution": {
     "iopub.execute_input": "2023-12-23T01:58:50.531611Z",
     "iopub.status.busy": "2023-12-23T01:58:50.531220Z",
     "iopub.status.idle": "2023-12-23T01:58:50.538960Z",
     "shell.execute_reply": "2023-12-23T01:58:50.538384Z",
     "shell.execute_reply.started": "2023-12-23T01:58:50.531579Z"
    }
   },
   "outputs": [],
   "source": [
    "models_summary.to_csv('output_rand10_SMOTE_tt1.csv', index=True)"
   ]
  },
  {
   "cell_type": "markdown",
   "id": "b7027b08",
   "metadata": {},
   "source": [
    "### Summary"
   ]
  },
  {
   "cell_type": "markdown",
   "id": "e31acecf-8b93-4d08-8624-6d374c84c809",
   "metadata": {},
   "source": [
    "##### The target class has imbalanced data, which resulted 99% accuracy and 0 f1 score for all models\n",
    "##### To improve the overall performance implemented Random over sampling method\n",
    "##### Though F1 score was non-zero, almost all models were overfitting with >96% accuracy\n",
    "##### Further to improve accuracy, unimplemented Random over sampling and implemented SMOTE method."
   ]
  },
  {
   "cell_type": "markdown",
   "id": "51cff02b-f4dc-4920-9784-194fa2bc935c",
   "metadata": {},
   "source": [
    "#### From the above table, it can be concluded that ADA Boost model with standard scaled features model performs well in terms of Accuracy, AUC and time taken for the travel type 1 of the given data, with ADA Boost model and Random Forest model with MinMax scaled features as alternatives."
   ]
  },
  {
   "cell_type": "markdown",
   "id": "21130496-183b-44c8-828f-0120229716fa",
   "metadata": {},
   "source": [
    "##### ______________________________________________________________\n",
    "##### Predict the entire feature data with the best model\n",
    "##### --------------------------------------------------------------"
   ]
  },
  {
   "cell_type": "code",
   "execution_count": 100,
   "id": "3b381a9c-994f-4170-abb3-8ce8f3a683f4",
   "metadata": {
    "execution": {
     "iopub.execute_input": "2023-12-23T02:08:08.279561Z",
     "iopub.status.busy": "2023-12-23T02:08:08.279185Z",
     "iopub.status.idle": "2023-12-23T02:08:08.406002Z",
     "shell.execute_reply": "2023-12-23T02:08:08.405098Z",
     "shell.execute_reply.started": "2023-12-23T02:08:08.279534Z"
    },
    "tags": []
   },
   "outputs": [],
   "source": [
    "prections_with_best_model = best_adaboost_ss.predict(x_ss)\n"
   ]
  },
  {
   "cell_type": "code",
   "execution_count": 105,
   "id": "4b4a39d8-7035-4505-9e49-f874d5ea0856",
   "metadata": {
    "execution": {
     "iopub.execute_input": "2023-12-23T02:11:33.775322Z",
     "iopub.status.busy": "2023-12-23T02:11:33.774532Z",
     "iopub.status.idle": "2023-12-23T02:11:33.784217Z",
     "shell.execute_reply": "2023-12-23T02:11:33.783153Z",
     "shell.execute_reply.started": "2023-12-23T02:11:33.775281Z"
    },
    "tags": []
   },
   "outputs": [
    {
     "name": "stdout",
     "output_type": "stream",
     "text": [
      "[0 0 0 0 0 0 0 0 0 0 0 0 0 0 0 0 0 0 0 0 0 0 0 0 0 0 0 0 0 0 0 0 0 0 0 0 0\n",
      " 0 0 0 0 0 0 0 0 0 0 0 0 0 0 0 0 0 0 0 0 0 0 0 0 0 0 0 0 0 0 0 0 0 0 0 0 0\n",
      " 0 0 0 0 0 0 0 0 0 0 0 0 0 0 0 0 0 0 0 0 0 0 0 0 0 0 0 0 0 0 0 0 0 0 0 0 0\n",
      " 0 0 0 0 0 0 0 0 0 0 0 0 0 0 0 0 0 0 0 0 0 0 0 0 0 0 0 0 0 0 0 0 0 0 0 0 0\n",
      " 0 0 0 0 0 0 0 0 0 0 0 0 0 0 0 0 0 0 0 0 0 0 0 0 0 0 0 0 0 0 0 0 0 0 0 0 0\n",
      " 0 0 0 0 0 0 0 0 0 0 0 0 0 0 0 0 0 0 0 0 0 0 0 0 0 0 0 0 0 0 0 0 0 0 0 0 0\n",
      " 0 0 0 0 0 0 0 0 0 0 0 0 0 0 0 0 0 0 0 0 0 0 0 0 0 0 0 0 0 0 0 0 0 0 0 0 0\n",
      " 0 0 0 0 0 0 1 0 0 0 1 0 1 0 1 0 0 0 0 0 0 1 1 0 0 0 0 0 0 0 1 1 0 1 0 1 0\n",
      " 0 1 0 0 1 0 0 1 0 0 0 0 0 0 0 0 0 0 1 0 1 1 1 0 0 1 0 0 0 1 0 1 0 0 1 1 1\n",
      " 0 1 0 0 0 0 0 0 1 0 0 0 0 0 0 0 0 0 0 0 0 0 1 0 0 0 1 0 0 0 0 1 0 0 0 1 0\n",
      " 0 0 0 0 1 0 1 0 1 1 0 1 0 0 0 1 0 1 0 0 0 0 0 0 0 0 0 0 0 0 1 1 0 0 0 1 1\n",
      " 1 1 0 1 0 0 0 0 0 1 0 0 0 1 0 1 1 1 1 1 0 0 1 0 0 0 0 1 0 0 1 0 0 1 0 0 0\n",
      " 0 0 0 0 0 0 0 1 0 0 0 0 0 1 1 0 0 0 0 1 0 0 0 0 1 0 0 1 0 0 0 0 0 0 0 0 0\n",
      " 0 0 0 0 0 0 0 0 0 0 0 1 0 0 0 1 0 1 0 1 1 1 0 1 0 0 0 0 0 1 1 0 0 0 0 0 0\n",
      " 0 0 0 0 0 0 0 1 1 0 0 0 0 0 0 1 1 1 1 0 1 0 0 0 0 1 0 0 1 0 0 0 0 0 0 1 1\n",
      " 0 0 0 1 0 0 0 0 1 0 1 0 0 1 0 0 0 0 0 0 1 0 1 1 0 0 0 0 1 1 0 0 0 0 0 1 0\n",
      " 1 1 0 0 1 0 1 0 0 0 0 0 1 0 0 0 0 0 0 1 1 1 0 0 0 0 1 0 1 0 1 1 0 0 1 1 0\n",
      " 0 0 0 0 1 0 0 1 0 1 0 0 1 0 0 0 0 0 0 1 0 0 0 0 0 0 1 0 0 0 0 1 0 0 0 1 0\n",
      " 0 0 1 0 1 0 1 0 0 1 1 1 0 1 0 1 0 1 0 0 0 0 0 0 0 0 1 0 0 0 1 0 1 1 0 0 1\n",
      " 1 0 1 1 1 0 0 0 1 0 1 0 1 1 0 0 1 1 0 0 0 1 1 0 0 0 0 0 0 0 0 1 0 0 1 0 0\n",
      " 0 1 0 0 0 0 0 1 1 0 0 0 0 0 1 0 0 1 0 1 1 0 0 1 0 1 1 0 0 0 0 1 0 0 0 0 0\n",
      " 0 0 1 1 0 1 0 0 0 0 0 1 0 1 0 0 0 1 0 0 1 1 0 0 0 0 0 0 0 1 0 0 1 0 0 0 0\n",
      " 0 0 0 0 0 0 0 0 0 0 0 0 1 1 0 1 1 1 0 0 1 0 0 0 0 0 0 0 0 0 0 0 0 1 0 1 1\n",
      " 0 0 0 0 0 1 0 0 0 0 0 0 0 1 0 0 0 0 1 0 1 0 0 0 1 0 1 0 1 1 0 0 0 0 1 0 0\n",
      " 0 0 0 0 1 0 0 0 0 0 0 0 1 0 1 0 0 1 1 0 1 0 0 0 0 0 1 0 0 0 1 1 0 0 0 0 1\n",
      " 1 1 0 0 0 0 0 0 0 0 1 0 0 0 1 0 1 0 0 1 0 0 1 1 1 0 0 1 0 0 1 1 1 0 1 1 1\n",
      " 0 0 1 0 0 0 0 0 0 0 0 1 1 1 0 0 0 0 1 0 0 1 0 1 0 0 0 0 1 0 0 0 1 1 1 1 0\n",
      " 1 0 0 1 0 0 1 0 0 0 0 0 0 0 1 0 1 1 0 1 0 1 1 0 0 0 0 0 1 0 0 0 1 0 0 0 0\n",
      " 1 0 0 0 0 0 1 0 1 0 1 0 1 0 0 0 0 0 0 0 1 0 1 0 0 1 1 0 0 1 0 0 0 0 0 1 0\n",
      " 1 0 0 0 1 0 0 1 0 0 0 0 0 0 1 0 0 0 0 0 0 0 0 0 0 1 0 0 0 0 0 0 0 0 0 0 0\n",
      " 0 1 0 0 1 1 1 0 0 0 1 1 0 0 1 1 0 0 1 0 1 0 0 0 0 0 0 0 0 0 1 1 0 1 0 1 0\n",
      " 1 0 1 0 0 1 0 0 1 0 0 1 0 1 0 0 0 0 0 0 0 0 0 0 0 0 0 1 0 1 0 0 1 0 1 0 1\n",
      " 1 0 0 0 1 1 1 0 0 0 1 1 0 0 0 1 1 0 0 1 1 0 0 1 1 0 1 1 0 0 0 0 0 0 1 0 1\n",
      " 0 0 1 0 1 1 0 0 0 1 0 0 0 1 0 1 0 0 1 0 0 1 1 0 0 0 0 0 0 0 0 0 0 0 0 0 0\n",
      " 0 0 0 0 0 0 0 0 0 0 0 0 0 0 0 0 0 0 0 0 0 0 0 0 0 0 0 0 0 0 0 0 0 0 0 0 0\n",
      " 0 0 0 0 0 0 0 0 0 0 0 0 0 0 0 0 0 0 0 0 0 0 0 0 0 0 0 0 0 0 0 0 0 0 0 0 0\n",
      " 0 0 0 0 0 0 0 0 0 0 0 0 0 0 0 0 0 0 0 0 0 0 0 0 0 0 0 0 0 0 0 0 0 0 0 0 0\n",
      " 0 0 0 0 0 0 0 0 0 0 0 0 0 0 0 0 0 0 0 0 0 0 0 0 0 0 0 0 0 0 0 0 0 0 0 0 0\n",
      " 0 0 0 0 0 0 0 0 0 0 0 0 0 0 0 0 0 0 0 0 0 0 0 0 0 0 0 0 0 0 0 0 0 0 0 0 0\n",
      " 0 0 0 0 0 0 0 0 0 0 0 0 0 0 0 0 0 0 0 0 0 0 0 0 0 0 0 0 0 0 0 0 0 0 0 0 0\n",
      " 0 0 0 0 0 0 0 0 0 0 0 0 0 0 0 0 0 0 0 0 0 0 0 0 0 0 0 0 0 0 0 0 0 0 0 0 0\n",
      " 0 0 0 0 0 0 0 0 0 0 0 0 0 0 0 0 0 0 0 0 0 0 0 0 0 0 0 0 0 0 0 0 0 0 0 0 0\n",
      " 0 0 0 0 0 0 0 0 0 0 0 0 0 0 0 0 0 0 0 0 0 0 0 0 0 0 0 0 0 0 0 0]\n"
     ]
    }
   ],
   "source": [
    "np.set_printoptions(threshold=np.inf)\n",
    "print(prections_with_best_model)"
   ]
  },
  {
   "cell_type": "code",
   "execution_count": null,
   "id": "d757d86a-f625-4901-9ad9-32e60fc6fc09",
   "metadata": {},
   "outputs": [],
   "source": []
  }
 ],
 "metadata": {
  "kernelspec": {
   "display_name": "Python 3 (ipykernel)",
   "language": "python",
   "name": "python3"
  },
  "language_info": {
   "codemirror_mode": {
    "name": "ipython",
    "version": 3
   },
   "file_extension": ".py",
   "mimetype": "text/x-python",
   "name": "python",
   "nbconvert_exporter": "python",
   "pygments_lexer": "ipython3",
   "version": "3.11.3"
  }
 },
 "nbformat": 4,
 "nbformat_minor": 5
}
